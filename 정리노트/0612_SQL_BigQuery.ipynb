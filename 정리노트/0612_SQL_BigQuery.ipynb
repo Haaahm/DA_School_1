{
  "nbformat": 4,
  "nbformat_minor": 0,
  "metadata": {
    "colab": {
      "provenance": []
    },
    "kernelspec": {
      "name": "python3",
      "display_name": "Python 3"
    },
    "language_info": {
      "name": "python"
    }
  },
  "cells": [
    {
      "cell_type": "code",
      "execution_count": null,
      "metadata": {
        "id": "b5Lk6e3yQ0va"
      },
      "outputs": [],
      "source": [
        "#SQL 연습문제 1-3\n",
        "#주문정보(orders) 테이블의 모든 데이터를 조회하세요.\n",
        "select *\n",
        "FROM `thelook_ecommerce.orders`;"
      ]
    },
    {
      "cell_type": "code",
      "source": [
        "# SQL 연습문제 1-4\n",
        "# 회원(users) 테이블의 이메일(email) 정보를 조회하세요.\n",
        "SELECT email\n",
        "FROM `thelook_ecommerce.users`;"
      ],
      "metadata": {
        "id": "XzTDxrO7RElm"
      },
      "execution_count": null,
      "outputs": []
    },
    {
      "cell_type": "code",
      "source": [
        "# SQL 연습문제 1-5\n",
        "# 회원(users) 테이블의 이름(first_name), 성(lastname), 이메일(email), 국가 정보(country)를 조회하세요.\n",
        "SELECT first_name, last_name, email, country\n",
        "FROM `thelook_ecommerce.users`;"
      ],
      "metadata": {
        "id": "K4jUu-4pRMb-"
      },
      "execution_count": null,
      "outputs": []
    },
    {
      "cell_type": "code",
      "source": [
        "# SQL 연습문제 1-6\n",
        "\n",
        "# 상품정보(products) 테이블의 id, 카테고리(category), 이름(name), 판매가격(retail_price), 비용(cost)을 조회하세요.\n",
        "SELECT id, category, name, retail_price, cost\n",
        "FROM `thelook_ecommerce.products`;"
      ],
      "metadata": {
        "id": "bHv28ogWUOGk"
      },
      "execution_count": null,
      "outputs": []
    },
    {
      "cell_type": "code",
      "source": [
        "# SQL 연습문제 1-7\n",
        "\n",
        "# 상품정보(products) 테이블의 id, 카테고리(category), 이름(name), 판매가격(retail_price), 비용(cost), 판매이익(판매가격 - 비용) profit을 조회하세요.\n",
        "SELECT id, category, name, retail_price, cost, retail_price-cost as profit\n",
        "FROM `thelook_ecommerce.products`;"
      ],
      "metadata": {
        "id": "dVAgBgEFRkxj"
      },
      "execution_count": null,
      "outputs": []
    },
    {
      "cell_type": "markdown",
      "source": [
        "## 1. AS\n",
        "\n",
        "AS는 해당 컬럼의 이름을 다시 정해서(별칭을 정하여) 보여주는 기능입니다. 주로 식으로 된 컬럼의 컬럼명을 설정하거나 기존의 컬럼명을 보다 간결하게 또는 보다 가독성 있게 설정하는데 사용합니다."
      ],
      "metadata": {
        "id": "UFIPhqDFYYnT"
      }
    },
    {
      "cell_type": "code",
      "source": [
        "# 예시_컬럼명 지정\n",
        "select \n",
        "  id as product_id,\n",
        "  name as product_name,\n",
        "  retail_price as product_price,\n",
        "  cost as product_cost,\n",
        "  retail_price - cost as product_profit\n",
        "from `thelook_ecommerce.products`;"
      ],
      "metadata": {
        "id": "krED43LdYZcJ"
      },
      "execution_count": null,
      "outputs": []
    },
    {
      "cell_type": "code",
      "source": [
        "# 예시_테이블명 지정\n",
        "select \n",
        "  a.id,\n",
        "  a.name\n",
        "from `thelook_ecommerce.products` as a;"
      ],
      "metadata": {
        "id": "ccSu4SM_ZRnk"
      },
      "execution_count": null,
      "outputs": []
    },
    {
      "cell_type": "markdown",
      "source": [
        "## 2. LIMIT\n",
        "\n",
        "LIMIT는 조회할 결과의 레코드수를 제한합니다. \n",
        "\n",
        "LIMIT가 없이 조회를 하면 모든 레코드를 조회하지만 LIMIT <조회할 레코드 수> 를 이용하면 지정한 만큼의 결과 개수만 가지고 옵니다."
      ],
      "metadata": {
        "id": "GcyzUPImZTE7"
      }
    },
    {
      "cell_type": "code",
      "source": [
        "# 예시\n",
        "select * from `thelook_ecommerce.users` limit 5;"
      ],
      "metadata": {
        "id": "tLnrTyHxZUjj"
      },
      "execution_count": null,
      "outputs": []
    },
    {
      "cell_type": "markdown",
      "source": [
        "## 3. DISTINCT\n",
        "\n",
        "DISTINCT는 결과에서 중복되는 행을 제거합니다. "
      ],
      "metadata": {
        "id": "Vy3tggyPZaAW"
      }
    },
    {
      "cell_type": "code",
      "source": [
        "# 예시\n",
        "select distinct country\n",
        "from `thelook_ecommerce.users`;"
      ],
      "metadata": {
        "id": "eaEwaO6rZdbb"
      },
      "execution_count": null,
      "outputs": []
    },
    {
      "cell_type": "code",
      "source": [
        "### SQL 연습문제 2-1\n",
        "\n",
        "# 상품정보(products) 테이블에서 5개 레코드만 조회하세요.\n",
        "\n",
        "select *\n",
        "from `thelook_ecommerce.products` limit 5;\n",
        "\n",
        "### SQL 연습문제 2-2\n",
        "\n",
        "# 회원(users) 테이블에서 이메일 주소(email) 20개를 조회하세요.\n",
        "\n",
        "select email \n",
        "from `thelook_ecommerce.users` limit 20;"
      ],
      "metadata": {
        "id": "iEWjbQVfc6k8"
      },
      "execution_count": null,
      "outputs": []
    },
    {
      "cell_type": "code",
      "source": [
        "### SQL 연습문제 2-3\n",
        "\n",
        "# 주문정보(orders) 테이블에서 상태정보(status)를 중복제거하여 아래와 같이 결과가 나오도록 조회하세요.\n",
        "\n",
        "select distinct status\n",
        "from `thelook_ecommerce.orders`;"
      ],
      "metadata": {
        "id": "lP1uf6pId67T"
      },
      "execution_count": null,
      "outputs": []
    },
    {
      "cell_type": "code",
      "source": [
        "### SQL 연습문제 2-4\n",
        "\n",
        "# 상품정보(products) 테이블에서 카테고리(category)를 중복제거하여 아래와 같이 조회하세요.\n",
        "\n",
        "select distinct category\n",
        "from `thelook_ecommerce.products`;"
      ],
      "metadata": {
        "id": "XmP94rwxeR09"
      },
      "execution_count": null,
      "outputs": []
    },
    {
      "cell_type": "code",
      "source": [
        "### SQL 연습문제 2-5\n",
        "\n",
        "# 상품정보(products) 테이블에서 카테고리(category), 브랜드(brand)를 중복제거하여 30개 조회하세요.\n",
        "\n",
        "# 각 결과 컬럼의 이름은 다음과 같이 지정하세요.\n",
        "\n",
        "# - 카테고리 → product_category\n",
        "# - 브랜드 → product_brand\n",
        "\n",
        "select distinct category as product_category, brand as product_brand\n",
        "from `thelook_ecommerce.products` limit 30;"
      ],
      "metadata": {
        "id": "z03oseZAe3UW"
      },
      "execution_count": null,
      "outputs": []
    },
    {
      "cell_type": "code",
      "source": [
        "### SQL 연습문제 2-6\n",
        "\n",
        "# 상품정보(products) 테이블에서 id, 카테고리(category), 이름(name), \n",
        "# 판매가격(retail_price), 비용(cost), 판매이익(판매가격 - 비용), 수익율을 조회하세요.\n",
        "\n",
        "# 비용 1000원, 판매가 1200원 일 경우\n",
        "\n",
        "# 수익율은 (1,200-1,000)/1,000*100 = 20% 입니다.\n",
        "\n",
        "# 수익율 : (판매가 - 비용) / 비용 x 100\n",
        "\n",
        "# 각 컬럼의 이름은 다음과 같이 표현합니다.\n",
        "\n",
        "# - id → product_id\n",
        "# - 카테고리 → product_category\n",
        "# - 상품명 → product_name\n",
        "# - 판매가격 → product_price\n",
        "# - 비용 → product_cost\n",
        "# - 판매이익 → product_profit\n",
        "# - 수익율 → product_profit_rate\n",
        "\n",
        "SELECT id AS product_id, category AS product_category, name AS product_name,\n",
        "retail_price AS product_price, cost AS product_cost,\n",
        "retail_price-cost AS product_profit,\n",
        " (retail_price-cost) / cost * 100 AS product_profit_rate\n",
        "FROM `thelook_ecommerce.products`;"
      ],
      "metadata": {
        "id": "BaXf5n7Zf5pM"
      },
      "execution_count": null,
      "outputs": []
    },
    {
      "cell_type": "code",
      "source": [
        "### SQL 연습문제 3-1\n",
        "\n",
        "# 상품정보(products) 테이블에서 카테고리(category)가 ‘Swim’ 인 레코드의 모든 항목를 조회하세요.\n",
        "\n",
        "SELECT *\n",
        "FROM `thelook_ecommerce.products`;\n",
        "WHERE category = 'swim';"
      ],
      "metadata": {
        "id": "qrPzbmTE79JX"
      },
      "execution_count": null,
      "outputs": []
    },
    {
      "cell_type": "code",
      "source": [
        "### SQL 연습문제 3-2\n",
        "\n",
        "# 상품정보(products) 테이블에서 브랜드(brand)가 ‘2EROS’인 레코드의 id, 비용(cost), 브랜드(brand)를 조회하세요. \n",
        "\n",
        "SELECT id, cost, brand\n",
        "FROM `thelook_ecommerce.products`\n",
        "WHERE brand = '2EROS';"
      ],
      "metadata": {
        "id": "coHtUKJz8LJC"
      },
      "execution_count": null,
      "outputs": []
    },
    {
      "cell_type": "code",
      "source": [
        "### SQL 연습문제 3-3\n",
        "\n",
        "# 상품정보(products) 테이블에서 비용(cost)이 30이하이고 상품대상, 구분, 분야(department)이 ‘Men’인 모든 레코드를 10개를 조회하세요.\n",
        "\n",
        "SELECT *\n",
        "  FROM `thelook_ecommerce.products`\n",
        " WHERE cost <= 30\n",
        "   AND department = 'Men'\n",
        " LIMIT 10;"
      ],
      "metadata": {
        "id": "iGrekZYZ_Jvq"
      },
      "execution_count": null,
      "outputs": []
    },
    {
      "cell_type": "code",
      "source": [
        "### SQL 연습문제 3-4\n",
        "\n",
        "# 상품정보(products) 테이블에서 \n",
        "# 판매가격(retail_price)이 40이상인 레코드들의 \n",
        "# 카테고리(category) 속성값을 \n",
        "# 중복제거(distinct)하여 조회하세요.\n",
        "\n",
        "SELECT DISTINCT category\n",
        "FROM `thelook_ecommerce.products`\n",
        "WHERE retail_price >= 40;"
      ],
      "metadata": {
        "id": "ZdukVfeR_9ls"
      },
      "execution_count": null,
      "outputs": []
    },
    {
      "cell_type": "code",
      "source": [
        "### SQL 연습문제 3-5\n",
        "\n",
        "# 상품정보(products) 테이블에서 비용(cost)이 50이상이고 70이하인 모든 레코드들 조회하세요.\n",
        "\n",
        "SELECT *\n",
        "  FROM `thelook_ecommerce.products`\n",
        " WHERE cost <= 50 AND cost >= 70;"
      ],
      "metadata": {
        "id": "82qs8e-OBAWQ"
      },
      "execution_count": null,
      "outputs": []
    },
    {
      "cell_type": "code",
      "source": [
        "### SQL 연습문제 3-6\n",
        "\n",
        "# 상품정보(products) 테이블에서 상품명(name)에 ‘Men’과 ‘Sport’ 두 단어가 들어간 모든 레코드들 조회하세요.\n",
        "SELECT *, (cost / retail_price) * 100 AS sale_price\n",
        "FROM `thelook_ecommerce.products`\n",
        "WHERE name LIKE '%Men%' AND '%Sport%';"
      ],
      "metadata": {
        "id": "FyJm-2ePBPzU"
      },
      "execution_count": null,
      "outputs": []
    },
    {
      "cell_type": "code",
      "source": [
        "### SQL 연습문제 3-7\n",
        "\n",
        "# 상품정보(products) 테이블에서 \n",
        "\n",
        "# 브랜드(brand)가 ‘TYR’이 아니고 \n",
        "\n",
        "# 이름(name)에 ‘Suit’가 포함되고 \n",
        "\n",
        "# 할인율이 50이상인 \n",
        "\n",
        "# 모든 레코드와 할인율을 조회합니다.\n",
        "\n",
        "SELECT *\n",
        "FROM `thelook_ecommerce.products`\n",
        "WHERE NOT brand = 'TYR' \n",
        "AND name LIKE '%Suit%'\n",
        "AND (cost / retail_price) * 100 >= 50;"
      ],
      "metadata": {
        "id": "FTASNv9kCHYB"
      },
      "execution_count": null,
      "outputs": []
    },
    {
      "cell_type": "code",
      "source": [
        "### SQL 연습문제 4-1\n",
        "\n",
        "# 회원(users) 테이블에서 전체 유저의 평균연령을 조회하세요.\n",
        "\n",
        "SELECT avg(age) \n",
        "FROM `thelook_ecommerce.users`;"
      ],
      "metadata": {
        "id": "GEgMSF04OVmS"
      },
      "execution_count": null,
      "outputs": []
    },
    {
      "cell_type": "code",
      "source": [
        "### SQL 연습문제 4-2\n",
        "\n",
        "# 회원(users) 테이블에서 여성 유저의 평균연령을 조회하세요.\n",
        "\n",
        "SELECT avg(age) \n",
        "FROM `thelook_ecommerce.users`\n",
        "WHERE gender = 'F';"
      ],
      "metadata": {
        "id": "fOq81Y3vO6jd"
      },
      "execution_count": null,
      "outputs": []
    },
    {
      "cell_type": "code",
      "source": [
        "### SQL 연습문제 4-3\n",
        "\n",
        "# 회원(users) 테이블에서 국가별 가입자수를 조회하세요.\n",
        "\n",
        "SELECT country, count(id) AS country_user_count\n",
        "FROM `thelook_ecommerce.users`\n",
        "GROUP BY country;"
      ],
      "metadata": {
        "id": "dWT59DLEPZ5H"
      },
      "execution_count": null,
      "outputs": []
    },
    {
      "cell_type": "code",
      "source": [
        "### SQL 연습문제 4-4\n",
        "\n",
        "# 회원(users) 테이블에서 남성 유저의 국가별 가입자 수를 조회하세요.\n",
        "\n",
        "SELECT country, count(id) AS country_user_count\n",
        "FROM `thelook_ecommerce.users`\n",
        "WHERE gender = 'M'\n",
        "GROUP BY country;"
      ],
      "metadata": {
        "id": "a7Rp5E2VQe25"
      },
      "execution_count": null,
      "outputs": []
    },
    {
      "cell_type": "code",
      "source": [
        "### SQL 연습문제 4-5\n",
        "\n",
        "# 회원(users) 테이블에서 \n",
        "\n",
        "# 가입기간(created_at)이 2020년도 1월인 유저의 \n",
        "\n",
        "# 국가별 가입자 수 (country_user_count)를 조회하세요.\n",
        "\n",
        "SELECT country, count(id) AS country_user_count\n",
        "FROM `thelook_ecommerce.users`\n",
        "WHERE created_at BETWEEN '2020-01-01' AND '2020-02-01'\n",
        "GROUP BY country ;"
      ],
      "metadata": {
        "id": "T6qKVVOzRm_g"
      },
      "execution_count": null,
      "outputs": []
    },
    {
      "cell_type": "code",
      "source": [
        "### SQL 연습문제 4-6\n",
        "\n",
        "# 회원(users) 테이블에서 가입기간(created_at)이 2020년도 1월인 유저의 \n",
        "\n",
        "# 국가별 성별 가입자 수(country_gender_user_count)를 조회하세요.\n",
        "\n",
        "SELECT country, gender, count(id) AS country_gender_user_count\n",
        "FROM `thelook_ecommerce.users`\n",
        "WHERE created_at BETWEEN '2020-01-01' AND '2020-02-01'\n",
        "GROUP BY country, gender;"
      ],
      "metadata": {
        "id": "HcxzZBsRSkxz"
      },
      "execution_count": null,
      "outputs": []
    },
    {
      "cell_type": "code",
      "source": [
        "### SQL 연습문제 4-7\n",
        "\n",
        "# 주문정보(orders) 테이블에서 \n",
        "\n",
        "# 2022년도의 주문 상태가 환불(Returned)인 \n",
        "\n",
        "# 유저 아이디(user_id), 총 주문 아이템(num_of_item)의 합계를 조회하세요.\n",
        "\n",
        "SELECT user_id, SUM(num_of_item)\n",
        "FROM `thelook_ecommerce.orders`\n",
        "WHERE status = 'Returned'\n",
        "AND created_at BETWEEN '2022-01-01' AND '2023-01-01'\n",
        "GROUP BY user_id;"
      ],
      "metadata": {
        "id": "Z_efc9f5Toa0"
      },
      "execution_count": null,
      "outputs": []
    }
  ]
}