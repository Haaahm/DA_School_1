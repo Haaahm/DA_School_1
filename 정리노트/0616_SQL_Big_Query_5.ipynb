{
  "nbformat": 4,
  "nbformat_minor": 0,
  "metadata": {
    "colab": {
      "provenance": []
    },
    "kernelspec": {
      "name": "python3",
      "display_name": "Python 3"
    },
    "language_info": {
      "name": "python"
    }
  },
  "cells": [
    {
      "cell_type": "code",
      "execution_count": null,
      "metadata": {
        "id": "Ujbt0652f3Nj"
      },
      "outputs": [],
      "source": [
        "### SQL 연습문제 11-4\n",
        "\n",
        "# dataflix_covid_dataset 데이터 세트, world_covid 테이블에서\n",
        "\n",
        "# 2020년 6월 1일 데이터 중에서 사망자수가 높은 지역(combined_key)과 순위를 조회하세요.\n",
        "\n",
        "# 이때, 동일 값인 경우 동일 순위가 부여되고, 다음 순위는 건너뛰지 않고 순차 번호로 부여합니다.\n",
        "\n",
        "# - 조회 항목 : 발생날짜(refresh_date), 지역명(combined_key), deaths(사망자 수), 사망자 수 순위(deaths_rank)\n",
        "# - 정렬 조건 : 사망자 수(deaths)가 높은 순\n",
        "\n",
        "SELECT\n",
        "  refresh_date,\n",
        "  combined_key,\n",
        "  deaths,\n",
        "  DENSE_RANK() OVER ( ORDER BY deaths DESC ) AS deaths_rank\n",
        "FROM `dataflix_covid_dataset.world_covid`\n",
        "WHERE refresh_date = '2020-06-01'\n",
        "ORDER BY deaths DESC;"
      ]
    },
    {
      "cell_type": "code",
      "source": [
        "# 예제 타이핑\n",
        "SELECT\n",
        "  id,\n",
        "  first_name,\n",
        "  last_name,\n",
        "  lag(id) over(order by id) as id_prev,\n",
        "  lag(first_name) over(order by id) as first_name_prev,\n",
        "  lead(id) over(order by id) as id_next,\n",
        "  lead(first_name) over(order by id) as first_name_next,\n",
        "FROM `thelook_ecommerce.users`\n",
        "WHERE id in (1,2,3,4,5)\n",
        "order by id;"
      ],
      "metadata": {
        "id": "_b34ePg-2wxB"
      },
      "execution_count": null,
      "outputs": []
    },
    {
      "cell_type": "code",
      "source": [
        "### SQL 연습문제 11-3\n",
        "\n",
        "# dataflix_covid_dataset 데이터 세트, world_covid 테이블에서\n",
        "# 전날 대비 확진자 수(confirmed_prior_day), 전날 대비 사망자 수(deaths_prior_day)를 조회하시오.\n",
        "\n",
        "# - 조회 항목 : 국가명(country_name), 시도명(state_name), 발생날짜(refresh_date),\n",
        "#               confirmed(확진자 수), 전날 대비 확진자 수(diff_confirmed_prior_day),\n",
        "#               deaths(사망자 수), 전날 대비 사망자 수(diff_deaths_prior_day)\n",
        "# - 정렬 조건 : 국가명(country_name)오름차순,\n",
        "#               시도명(state_name) 순으로 오름차순, 발생날짜(refresh_date) 오름차순\n",
        "\n",
        "SELECT\n",
        "  country_name,\n",
        "  state_name,\n",
        "  refresh_date,\n",
        "  confirmed,\n",
        "  confirmed - LAG(confirmed) OVER (\n",
        "    PARTITION BY country_name, state_name\n",
        "    ORDER BY refresh_date ) AS diff_confirmed_prior_day,\n",
        "  deaths,\n",
        "  deaths - LAG(deaths) OVER (\n",
        "    PARTITION BY country_name, state_name\n",
        "    ORDER BY refresh_date ) AS diff_deaths_prior_day\n",
        "FROM `dataflix_covid_dataset.world_covid`\n",
        "ORDER BY country_name, state_name, refresh_date;"
      ],
      "metadata": {
        "id": "kkFEM1LJoG0z"
      },
      "execution_count": null,
      "outputs": []
    },
    {
      "cell_type": "code",
      "source": [
        "### SQL 연습문제 11-5\n",
        "\n",
        "# dataflix_covid_dataset 데이터 세트, world_covid 테이블에서\n",
        "\n",
        "# 2022년 9월 3일의 지역별 사망자 순위에 따른 누적 분포 비율을 조회하시오.\n",
        "\n",
        "# - 조회 항목 : 지역명(combined_key), 확진자 수(confirmed),  사망자수(deaths),\n",
        "#               사망자 순위에 따른 누적 분포 비율(cume_dist)\n",
        "# - 정렬 조건 : 사망자 수(deaths)가 높은 순\n",
        "\n",
        "SELECT\n",
        "  combined_key,\n",
        "  confirmed,\n",
        "  deaths,\n",
        "  CUME_DIST() OVER (ORDER BY deaths DESC) AS cume_dist\n",
        "FROM `dataflix_covid_dataset.world_covid`\n",
        "WHERE refresh_date = '2022-09-03'\n",
        "ORDER BY deaths DESC"
      ],
      "metadata": {
        "id": "DI_LEHyl210X"
      },
      "execution_count": null,
      "outputs": []
    },
    {
      "cell_type": "code",
      "source": [
        "### SQL 연습문제 11-6\n",
        "\n",
        "# dataflix_covid_dataset 데이터 세트, world_covid 테이블에서\n",
        "\n",
        "# 2022년 9월 3일의 확진자 수를 5개의 영역으로 구분하여 조회하시오.\n",
        "\n",
        "# - 조회 항목 : 지역명(combined_key), 확진자 수(confirmed), 영역(1,2,3,4,5 중 하나) - 확진자수 높은순 기준\n",
        "# - 정렬 조건 : 확진자 수(confirmed)가 높은 순\n",
        "\n",
        "SELECT\n",
        "  combined_key,\n",
        "  confirmed,\n",
        "  NTILE(5) OVER ( ORDER BY confirmed desc),\n",
        "FROM `dataflix_covid_dataset.world_covid`\n",
        "WHERE refresh_date = '2022-09-03'\n",
        "ORDER BY confirmed DESC"
      ],
      "metadata": {
        "id": "bCCgXgoxGf2c"
      },
      "execution_count": null,
      "outputs": []
    },
    {
      "cell_type": "code",
      "source": [
        "SELECT\n",
        "  id,\n",
        "  order_id,\n",
        "  user_id,\n",
        "  product_id,\n",
        "  ROUND(sale_price,2) AS sale_price,\n",
        "  ROUND(SUM(sale_price)\n",
        "    OVER(\n",
        "      PARTITION BY user_id\n",
        "      ORDER BY created_at\n",
        "      ROWS BETWEEN UNBOUNDED PRECEDING AND CURRENT ROW)\n",
        "    ,2) AS cumulative_sum_amout\n",
        "FROM `thelook_ecommerce.order_items`\n",
        "ORDER BY user_id, created_at"
      ],
      "metadata": {
        "id": "g0rGIFEbXWXr"
      },
      "execution_count": null,
      "outputs": []
    },
    {
      "cell_type": "code",
      "source": [
        "## 2.1 2022년 전체 주문건, 총 매출, 평균 매출\n",
        "\n",
        "# order_items 테이블에서 2022년도의 전체 주문건수, 총 매출, 평균 매출을 조회해보세요.\n",
        "\n",
        "# **조회 항목**\n",
        "\n",
        "# - 전체 주문 건수 (total_order_count)\n",
        "# - 판매 금액 합계_(total_sale_price)\n",
        "# - 평균 판매 금액 (avg_sale_price)\n",
        "\n",
        "SELECT\n",
        "  COUNT(DISTINCT order_id) AS total_order_count,\n",
        "  ROUND(SUM(sale_price), 2) AS total_sale_price,\n",
        "  ROUND(AVG(sale_price), 2) AS avg_sale_price,\n",
        "FROM `thelook_ecommerce.order_items`\n",
        "WHERE EXTRACT(YEAR FROM created_at) = 2022"
      ],
      "metadata": {
        "id": "zAVM-l6LcPK_"
      },
      "execution_count": null,
      "outputs": []
    },
    {
      "cell_type": "code",
      "source": [
        "### **2.2.1 2022년 월별 주문건, 총 매출, 평균 매출**\n",
        "\n",
        "# order_items 테이블에서 2022년도의 월별 주문건수, 총 판매금액, 평균 판매금액을 조회해보세요.\n",
        "\n",
        "# **조회 항목**\n",
        "\n",
        "# - 월(month)\n",
        "# - 주문 건수 (total_order_count)\n",
        "# - 판매 금액 합계 (total_sale_price)\n",
        "# - 평균 판매금액 (avg_sale_price)\n",
        "\n",
        "# **정렬 순서**\n",
        "\n",
        "# - 월(month) 오름차순\n",
        "\n",
        "SELECT\n",
        "  EXTRACT(MONTH FROM created_at) AS month,\n",
        "  COUNT(DISTINCT order_id) AS total_order_count,\n",
        "  ROUND(SUM(sale_price), 2) AS total_sale_price,\n",
        "  ROUND(AVG(sale_price), 2) AS avg_sale_price,\n",
        "FROM `thelook_ecommerce.order_items`\n",
        "WHERE EXTRACT(YEAR FROM created_at) = 2022\n",
        "GROUP BY month\n",
        "ORDER BY month"
      ],
      "metadata": {
        "id": "A_63F8BO4lrk"
      },
      "execution_count": null,
      "outputs": []
    },
    {
      "cell_type": "code",
      "source": [
        "### **2.2.2 모든 연도의 월별 주문건, 총 매출, 평균 매출**\n",
        "\n",
        "# order_items 테이블에서 2022연도까지의 모든연도의 주문문건수, 총 판매금액, 평균 판매금액을 조회해보세요.\n",
        "\n",
        "# **조회 항목**\n",
        "\n",
        "# - 월(month)\n",
        "# - 주문 건수 (total_order_count)\n",
        "# - 판매 금액 합계 (total_sale_price)\n",
        "# - 평균 판매금액 (avg_sale_price)\n",
        "\n",
        "# **정렬 순서**\n",
        "\n",
        "# - 월(month) 오름차순\n",
        "\n",
        "SELECT\n",
        "  EXTRACT(MONTH FROM created_at) AS month,\n",
        "  COUNT(DISTINCT order_id) AS total_order_count,\n",
        "  ROUND(SUM(sale_price), 2) AS total_sale_price,\n",
        "  ROUND(AVG(sale_price), 2) AS avg_sale_price,\n",
        "FROM `thelook_ecommerce.order_items`\n",
        "WHERE EXTRACT(YEAR FROM created_at) <= 2022\n",
        "GROUP BY month\n",
        "ORDER BY month"
      ],
      "metadata": {
        "id": "VDtQc2cf53mr"
      },
      "execution_count": null,
      "outputs": []
    },
    {
      "cell_type": "code",
      "source": [
        "### **2.2.3 2022년도와** 2022년도 이하 모든연도의 **월별 주문건수, 판매금액합계, 평균판매금액**\n",
        "\n",
        "# order_items 테이블에서 월별 주문건수, 판매금액합계, 평균 판매금액을 조회해보세요.\n",
        "\n",
        "# **조회 항목**\n",
        "\n",
        "# - 월(month)\n",
        "# - 2022년도의 월 주문건수 (order_count_2022)\n",
        "# - 모든 연도의 월 주문건수 (order_count_total)\n",
        "# - 2022년도의 월 판매금액 합계 (sum_sale_price_2022)\n",
        "# - 모든 연도의 월 판매금액 합계 (sum_sale_price_total)\n",
        "# - 2022년도의 월 평균판매금액 (avg_sale_price_2022)\n",
        "# - 모든 연도의 월 평균 판매금액 (avg_sale_price_total)\n",
        "\n",
        "# **정렬 순서**\n",
        "\n",
        "# - 월(month) 오름차순\n",
        "\n",
        "WITH sale_2022 AS\n",
        "(\n",
        "  SELECT\n",
        "    EXTRACT(MONTH FROM created_at) AS month,\n",
        "    COUNT(DISTINCT order_id) AS total_order_count,\n",
        "    ROUND(SUM(sale_price), 2) AS total_sale_price,\n",
        "    ROUND(AVG(sale_price), 2) AS avg_sale_price,\n",
        "  FROM `thelook_ecommerce.order_items`\n",
        "  WHERE EXTRACT(YEAR FROM created_at) = 2022\n",
        "  GROUP BY month\n",
        "  ORDER BY month\n",
        "),\n",
        "sale_total AS (\n",
        "  SELECT\n",
        "    EXTRACT(MONTH FROM created_at) AS month,\n",
        "    COUNT(DISTINCT order_id) AS total_order_count,\n",
        "    ROUND(SUM(sale_price), 2) AS total_sale_price,\n",
        "    ROUND(AVG(sale_price), 2) AS avg_sale_price,\n",
        "  FROM `thelook_ecommerce.order_items`\n",
        "  WHERE EXTRACT(YEAR FROM created_at) <= 2022\n",
        "  GROUP BY month\n",
        "  ORDER BY month\n",
        "  )\n",
        "SELECT\n",
        "  t1.month,\n",
        "  t1.total_order_count AS order_count_2022,\n",
        "  t2.total_order_count AS order_count_total,\n",
        "  t1.total_sale_price AS sum_sale_price_2022,\n",
        "  t2.total_sale_price AS sum_sale_price_total,\n",
        "  t1.avg_sale_price AS avg_sale_price_2022,\n",
        "  t2.avg_sale_price AS avg_sale_price_total\n",
        "FROM sale_2022 t1\n",
        "JOIN sale_total t2 ON t1.month = t2.month\n",
        "ORDER BY month\n"
      ],
      "metadata": {
        "id": "lzDlJaZ16Rzw"
      },
      "execution_count": null,
      "outputs": []
    }
  ]
}