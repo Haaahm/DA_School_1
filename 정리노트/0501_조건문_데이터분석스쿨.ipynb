{
  "nbformat": 4,
  "nbformat_minor": 0,
  "metadata": {
    "colab": {
      "provenance": []
    },
    "kernelspec": {
      "name": "python3",
      "display_name": "Python 3"
    },
    "language_info": {
      "name": "python"
    }
  },
  "cells": [
    {
      "cell_type": "code",
      "execution_count": null,
      "metadata": {
        "id": "mDq5xXil6uOE"
      },
      "outputs": [],
      "source": [
        "# 1000만원 이상 10번 이상 방문시 VIP\n",
        "# 200만원 이상 5번이상 방문시 Gold\n",
        "# 50만원 3번 이상 방문시 Silver\n",
        "# 10만원 이상 normal"
      ]
    },
    {
      "cell_type": "code",
      "source": [
        "if 금액 >= 1000만원 and 방문횟수 >= 10번:\n",
        "  print(\"VIP입니다\")\n",
        "elif 금액 >= 200만원 and 방문횟수 >= 5번:\n",
        "  print(\"Gold\")\n",
        "elif 금액 >= 50만원 and 방문횟수 >= 3번:\n",
        "  print(\"Sliver\")\n",
        "elif 금액 >= 10만원:\n",
        "  print(\"normal\")\n",
        "else:\n",
        "  print(\"기타\")"
      ],
      "metadata": {
        "id": "hJ0eZoNN7uiv",
        "colab": {
          "base_uri": "https://localhost:8080/",
          "height": 137
        },
        "outputId": "94c59a00-8377-4d7c-d1fc-6cf7063eaecb"
      },
      "execution_count": null,
      "outputs": [
        {
          "output_type": "error",
          "ename": "SyntaxError",
          "evalue": "ignored",
          "traceback": [
            "\u001b[0;36m  File \u001b[0;32m\"<ipython-input-34-58b5db46ead8>\"\u001b[0;36m, line \u001b[0;32m1\u001b[0m\n\u001b[0;31m    if 금액 >= 1000만원 and 방문횟수 >= 10번:\u001b[0m\n\u001b[0m                ^\u001b[0m\n\u001b[0;31mSyntaxError\u001b[0m\u001b[0;31m:\u001b[0m invalid decimal literal\n"
          ]
        }
      ]
    },
    {
      "cell_type": "markdown",
      "source": [
        "* and 구문을 사용할때는 생각을 먼저 한 번 해볼 것\n",
        "* 조건이 2가지 이상일 경우에는 좀더 조심스러운 접근이 필요하다."
      ],
      "metadata": {
        "id": "fdVIZn2T9jBu"
      }
    },
    {
      "cell_type": "markdown",
      "source": [
        "#1.1 조건문을 만들때 주의사항\n",
        "\n",
        "* 어떤 조건을 설정할것인가?\n",
        "* 어떤 예외가 발생할것인가?(테스트, 검증)\n",
        "* (조건문이 작성된 뒤에는) 최소 5~10번정도는 테스트 해봐라\n"
      ],
      "metadata": {
        "id": "wmKyC_bB-lBO"
      }
    },
    {
      "cell_type": "markdown",
      "source": [
        "#1.2 조건문 복습\n",
        "\n",
        "조건문은 다음과 같이 복습하려고 합니다.\n",
        "\n",
        "1. 단일 조건문\n",
        "2. If - else 조건문\n",
        "3. If - elif - else 조건문\n",
        "4. 다중 중첩 조건문\n",
        "5. input과 함께 사용하는 조건문\n",
        "\n",
        "[기억해야할것]\n",
        "\n",
        "1. if 뒤에는 참과 거짓을 판단하는 조건이 와야함\n",
        "2. 조건문이 끝나면 반드시 콜론으로 끝나야함\n",
        "3. if 다음 문장은 들여쓰기를 사용해야함\n",
        "4. if 조건에 부합하지 않으면 elif나 else를 사용한다. 보통 조건에 모두 부합하지 않을때 else를 사용한다.\n",
        "\n",
        "[연산자]\n",
        "\n",
        "* x < x가 작다\n",
        "* x > x가 크다\n",
        "* x == y 같다\n",
        "* x != y 다르다\n",
        "* x >= y 크거나 같다\n",
        "* x <= y 작거나 같다\n",
        "\n",
        "[논리연산자]\n",
        "2개이상의 조건을 사용하고 싶을때 사용\n",
        "\n",
        "* and\n",
        "* or\n",
        "* not"
      ],
      "metadata": {
        "id": "gHe1gyN7-1qB"
      }
    },
    {
      "cell_type": "code",
      "source": [
        "# if문 예제\n",
        "\n",
        "x = 2\n",
        "if x > 1 and x < 10:  # 2가지 조건이 모두 충족할 경우\n",
        "  print('True')"
      ],
      "metadata": {
        "colab": {
          "base_uri": "https://localhost:8080/"
        },
        "id": "Hu3nGQkQ-wB_",
        "outputId": "02ddb091-cb18-4cb8-f680-7ea9356c3c4c"
      },
      "execution_count": null,
      "outputs": [
        {
          "output_type": "stream",
          "name": "stdout",
          "text": [
            "True\n"
          ]
        }
      ]
    },
    {
      "cell_type": "code",
      "source": [
        "if True:\n",
        "  print('True')"
      ],
      "metadata": {
        "id": "iUWDmHQz_aJ2",
        "colab": {
          "base_uri": "https://localhost:8080/"
        },
        "outputId": "a6dead71-dfe8-4097-de63-38563f6c6d7f"
      },
      "execution_count": null,
      "outputs": [
        {
          "output_type": "stream",
          "name": "stdout",
          "text": [
            "True\n"
          ]
        }
      ]
    },
    {
      "cell_type": "code",
      "source": [
        "if True:\n",
        "    print('hello') \n",
        "print('one')\n",
        "\n",
        "if False:\n",
        "    print('world')\n",
        "print('two')"
      ],
      "metadata": {
        "id": "vySdVAj5_qTi",
        "colab": {
          "base_uri": "https://localhost:8080/"
        },
        "outputId": "253632a5-a89d-44ee-b601-3f4716c1cd2b"
      },
      "execution_count": null,
      "outputs": [
        {
          "output_type": "stream",
          "name": "stdout",
          "text": [
            "hello\n",
            "one\n",
            "two\n"
          ]
        }
      ]
    },
    {
      "cell_type": "code",
      "source": [
        "# 1) if는 참이기 때문에 Hello가 출력\n",
        "if True:\n",
        "  print('hello') \n",
        "\n",
        "# if문과 상관 없음\n",
        "print('one')\n",
        "\n",
        "# if는 거짓이기 때문에 아무것도 출력되지 않음\n",
        "if False:\n",
        "  print('world')\n",
        "\n",
        "# if문과 상관 없음\n",
        "print('two')"
      ],
      "metadata": {
        "colab": {
          "base_uri": "https://localhost:8080/"
        },
        "id": "CKcCJKJZBbF3",
        "outputId": "8de91336-2ff9-46d9-ced4-0e4cdbc51da2"
      },
      "execution_count": null,
      "outputs": [
        {
          "output_type": "stream",
          "name": "stdout",
          "text": [
            "hello\n",
            "one\n",
            "two\n"
          ]
        }
      ]
    },
    {
      "cell_type": "code",
      "source": [
        "if True:\n",
        "  print('hello') "
      ],
      "metadata": {
        "id": "0_bwgF9tBL6r",
        "colab": {
          "base_uri": "https://localhost:8080/"
        },
        "outputId": "8374a461-c48b-4ffc-c6ef-31ff02f0de3a"
      },
      "execution_count": null,
      "outputs": [
        {
          "output_type": "stream",
          "name": "stdout",
          "text": [
            "hello\n"
          ]
        }
      ]
    },
    {
      "cell_type": "code",
      "source": [
        "print('one')"
      ],
      "metadata": {
        "id": "GqoxHPLXBL3o",
        "colab": {
          "base_uri": "https://localhost:8080/"
        },
        "outputId": "63b6b472-ac90-49cf-d15c-bff4351adc8c"
      },
      "execution_count": null,
      "outputs": [
        {
          "output_type": "stream",
          "name": "stdout",
          "text": [
            "one\n"
          ]
        }
      ]
    },
    {
      "cell_type": "code",
      "source": [
        "if False:\n",
        "  print('world')"
      ],
      "metadata": {
        "id": "N-5bStNtBL00"
      },
      "execution_count": null,
      "outputs": []
    },
    {
      "cell_type": "code",
      "source": [
        "print('two')"
      ],
      "metadata": {
        "colab": {
          "base_uri": "https://localhost:8080/"
        },
        "id": "H5URwrktBHLZ",
        "outputId": "0d618efb-3a64-4770-ad1c-603d60701ed9"
      },
      "execution_count": null,
      "outputs": [
        {
          "output_type": "stream",
          "name": "stdout",
          "text": [
            "two\n"
          ]
        }
      ]
    },
    {
      "cell_type": "code",
      "source": [
        "x = 10\n",
        "\n",
        "if x > 5:\n",
        "  print('hello')\n",
        "print('end')\n",
        "\n",
        "if x != 5:\n",
        "  print('hello')"
      ],
      "metadata": {
        "colab": {
          "base_uri": "https://localhost:8080/"
        },
        "id": "ZTnDOT25BY0w",
        "outputId": "5e24a4ec-5608-4a5b-f6fc-ddadaac1431a"
      },
      "execution_count": null,
      "outputs": [
        {
          "output_type": "stream",
          "name": "stdout",
          "text": [
            "hello\n",
            "end\n",
            "hello\n"
          ]
        }
      ]
    },
    {
      "cell_type": "code",
      "source": [
        "if 1: # 1 = True\n",
        "  print('hello')\n",
        "print('end')"
      ],
      "metadata": {
        "colab": {
          "base_uri": "https://localhost:8080/"
        },
        "id": "7UkyvPKVB_gq",
        "outputId": "f59fe397-f2be-4c21-91bb-3e5dea3f16c8"
      },
      "execution_count": null,
      "outputs": [
        {
          "output_type": "stream",
          "name": "stdout",
          "text": [
            "hello\n",
            "end\n"
          ]
        }
      ]
    },
    {
      "cell_type": "code",
      "source": [
        "if 0:\n",
        "  print('hello')\n",
        "print('end')"
      ],
      "metadata": {
        "colab": {
          "base_uri": "https://localhost:8080/"
        },
        "id": "ZhqRUMAkCEHT",
        "outputId": "0f008d59-95a6-47c4-881c-9b8c1b45cf9a"
      },
      "execution_count": null,
      "outputs": [
        {
          "output_type": "stream",
          "name": "stdout",
          "text": [
            "end\n"
          ]
        }
      ]
    },
    {
      "cell_type": "code",
      "source": [
        "if -1:\n",
        "  print('hello')\n",
        "print('end')"
      ],
      "metadata": {
        "id": "TaRZQ4NKCJs9",
        "outputId": "294a5a31-5fad-48d9-eead-631c27abc7ca",
        "colab": {
          "base_uri": "https://localhost:8080/"
        }
      },
      "execution_count": null,
      "outputs": [
        {
          "output_type": "stream",
          "name": "stdout",
          "text": [
            "hello\n",
            "end\n"
          ]
        }
      ]
    },
    {
      "cell_type": "code",
      "source": [
        "#공백이 있는 문자열\n",
        "if  ' ':\n",
        "    print('hello')\n",
        "print('end')"
      ],
      "metadata": {
        "colab": {
          "base_uri": "https://localhost:8080/"
        },
        "id": "hLfuYXhmCmHu",
        "outputId": "750ace65-2e03-4300-c4c2-be60183bd2c7"
      },
      "execution_count": null,
      "outputs": [
        {
          "output_type": "stream",
          "name": "stdout",
          "text": [
            "hello\n",
            "end\n"
          ]
        }
      ]
    },
    {
      "cell_type": "code",
      "source": [
        "#공백이 없는 문자열\n",
        "if '':\n",
        "    print('hello')\n",
        "print('end')"
      ],
      "metadata": {
        "colab": {
          "base_uri": "https://localhost:8080/"
        },
        "id": "4rVKg_2sCnx0",
        "outputId": "94aaabbd-399d-46cf-cc92-208dc8800b45"
      },
      "execution_count": null,
      "outputs": [
        {
          "output_type": "stream",
          "name": "stdout",
          "text": [
            "end\n"
          ]
        }
      ]
    },
    {
      "cell_type": "code",
      "source": [
        "if not '':\n",
        "    print('hello')\n",
        "print('end')"
      ],
      "metadata": {
        "colab": {
          "base_uri": "https://localhost:8080/"
        },
        "id": "f5GIC9XtCqAR",
        "outputId": "b0d83fc2-ff70-436f-cc22-055b51d4faee"
      },
      "execution_count": null,
      "outputs": [
        {
          "output_type": "stream",
          "name": "stdout",
          "text": [
            "hello\n",
            "end\n"
          ]
        }
      ]
    },
    {
      "cell_type": "code",
      "source": [
        "if not None: #None은 False와 같은의미라고 생각하시면 됩니다.\n",
        "    print('hello')\n",
        "print('end')"
      ],
      "metadata": {
        "colab": {
          "base_uri": "https://localhost:8080/"
        },
        "id": "ZosO6hiSCsK_",
        "outputId": "8986a9ba-0a70-4c9d-c172-1bff22d4cc78"
      },
      "execution_count": null,
      "outputs": [
        {
          "output_type": "stream",
          "name": "stdout",
          "text": [
            "hello\n",
            "end\n"
          ]
        }
      ]
    },
    {
      "cell_type": "code",
      "source": [
        "if None: \n",
        "    print('hello')\n",
        "print('end')"
      ],
      "metadata": {
        "colab": {
          "base_uri": "https://localhost:8080/"
        },
        "id": "SkfebW2uCsnV",
        "outputId": "b5cc573b-f90b-448f-da8b-04be89f860df"
      },
      "execution_count": null,
      "outputs": [
        {
          "output_type": "stream",
          "name": "stdout",
          "text": [
            "end\n"
          ]
        }
      ]
    },
    {
      "cell_type": "code",
      "source": [
        "# if, else 문\n",
        "\n",
        "x = int(input('비교할 수를 입력하세요 : '))\n",
        "y = int(input('비교할 수를 입력하세요 : '))\n",
        "\n",
        "if x > y: # False\n",
        "  print(\"x가 y보다 큽니다\")\n",
        "else: # True\n",
        "  print(\"x가 y보다 작거나 같습니다 \")"
      ],
      "metadata": {
        "colab": {
          "base_uri": "https://localhost:8080/"
        },
        "id": "UOPAq6peCjc1",
        "outputId": "bfe8abd9-ccd5-40d7-efa5-2e3777ee89b9"
      },
      "execution_count": null,
      "outputs": [
        {
          "output_type": "stream",
          "name": "stdout",
          "text": [
            "비교할 수를 입력하세요 : 4\n",
            "비교할 수를 입력하세요 : 15\n",
            "x가 y보다 작거나 같습니다 \n"
          ]
        }
      ]
    },
    {
      "cell_type": "code",
      "source": [
        "# if, elif, else \n",
        "if 조건문:\n",
        "  수행문장1\n",
        "else 조건문:\n",
        "  수행문장2\n",
        "else:\n",
        "  수행문장3\n"
      ],
      "metadata": {
        "id": "eYGnDagsDJiZ"
      },
      "execution_count": null,
      "outputs": []
    },
    {
      "cell_type": "code",
      "source": [
        "if x > y: # False\n",
        "  print(\"x가 y보다 큽니다\")\n",
        "elif x < y: #True\n",
        "  print(\"x가 y보다 작습니다.\")\n",
        "else: # 실행 x\n",
        "  print(\"같습니다\") "
      ],
      "metadata": {
        "colab": {
          "base_uri": "https://localhost:8080/"
        },
        "id": "Z4VsbbRZDqwo",
        "outputId": "3f8a4fc4-3670-48f9-ba05-28b01d4608ed"
      },
      "execution_count": null,
      "outputs": [
        {
          "output_type": "stream",
          "name": "stdout",
          "text": [
            "x가 y보다 작습니다.\n"
          ]
        }
      ]
    },
    {
      "cell_type": "code",
      "source": [
        "score = 81\n",
        "money = 0\n",
        "\n",
        "if score >= 90:\n",
        "    print('mom : i\\'m so happy!')\n",
        "    money += 1000000\n",
        "elif score >= 80:\n",
        "    print('mom : i\\'m happy!')\n",
        "    money += 100000\n",
        "elif score >= 70 and score < 80:\n",
        "    print('mom : i\\'m so...!')\n",
        "    money += 10000\n",
        "elif score >= 60 and score < 70:\n",
        "    print('mom : i\\'m so...!')\n",
        "    money += 1000\n",
        "else:\n",
        "    print('mom : i\\'m...!')\n",
        "print(money)"
      ],
      "metadata": {
        "colab": {
          "base_uri": "https://localhost:8080/"
        },
        "id": "OpbBSQfIEIQ-",
        "outputId": "e96b700b-6752-406d-c62d-2cee8ca425d2"
      },
      "execution_count": null,
      "outputs": [
        {
          "output_type": "stream",
          "name": "stdout",
          "text": [
            "mom : i'm happy!\n",
            "100000\n"
          ]
        }
      ]
    },
    {
      "cell_type": "code",
      "source": [
        "# 중첩 조건문\n",
        "\n",
        "#if를 중첩해서 사용하기\n",
        "score = 98\n",
        "\n",
        "if score >= 90:\n",
        "    print('mom : i\\'m so happy!')\n",
        "    money += 1000000\n",
        "    \n",
        "    if score > 95:\n",
        "        print('hello world')\n",
        "\n",
        "        if score > 97:\n",
        "            print('hello!!!')\n",
        "            \n",
        "elif score >= 80:\n",
        "     print('mom : i\\'m happy!')\n",
        "     money += 100000\n",
        "print(money)"
      ],
      "metadata": {
        "colab": {
          "base_uri": "https://localhost:8080/"
        },
        "id": "6FjCaQQvEQNS",
        "outputId": "753ea760-2aff-4518-e0d6-21774a042bc5"
      },
      "execution_count": null,
      "outputs": [
        {
          "output_type": "stream",
          "name": "stdout",
          "text": [
            "mom : i'm so happy!\n",
            "hello world\n",
            "hello!!!\n",
            "4100000\n"
          ]
        }
      ]
    },
    {
      "cell_type": "markdown",
      "source": [
        "# 조건문"
      ],
      "metadata": {
        "id": "IBCFdUAyspl4"
      }
    },
    {
      "cell_type": "markdown",
      "source": [
        "## 1.0 조건문을 만들때 고려사항\n",
        "\n",
        "* 어떤 조건을 설정할것인가?\n",
        "* 어떤 예외가 발생하는가?\n",
        "* (조건문을 작성한 후에) 최소 5번정도 테스트를 해봐라\n",
        "\n",
        "이 조건을 미리 생각하지 않으면 길을 잃을수도 있다."
      ],
      "metadata": {
        "id": "CaC9Rquxz_q3"
      }
    },
    {
      "cell_type": "markdown",
      "source": [
        "#1.1 조건문 복습\n",
        "\n",
        "조건문은 다음과 같이 복습하려고 합니다.\n",
        "\n",
        "1. 단일 조건문\n",
        "2. If - else 조건문\n",
        "3. If - elif - else 조건문\n",
        "4. 다중 중첩 조건문\n",
        "5. input과 함께 사용하는 조건문\n",
        "\n",
        "[기억해야할것]\n",
        "\n",
        "1. if 뒤에는 참과 거짓을 판단하는 조건이 와야함\n",
        "2. 조건문이 끝나면 반드시 콜론으로 끝나야함\n",
        "3. if 다음 문장은 들여쓰기를 사용해야함\n",
        "4. if 조건에 부합하지 않으면 elif나 else를 사용한다. 보통 조건에 모두 부합하지 않을때 else를 사용한다.\n",
        "\n",
        "[연산자]\n",
        "\n",
        "* x < x가 작다\n",
        "* x > x가 크다\n",
        "* x == y 같다\n",
        "* x != y 다르다\n",
        "* x >= y 크거나 같다\n",
        "* x <= y 작거나 같다\n",
        "\n",
        "[논리연산자]\n",
        "2개이상의 조건을 사용하고 싶을때 사용\n",
        "\n",
        "* and\n",
        "* or\n",
        "* not"
      ],
      "metadata": {
        "id": "aYD5EsKo0FWG"
      }
    },
    {
      "cell_type": "markdown",
      "source": [
        "#1.1.1 단일 조건문\n",
        "\n",
        "* 조건이 하나일때 사용하는 조건문"
      ],
      "metadata": {
        "id": "qC9xMkwB0UtI"
      }
    },
    {
      "cell_type": "code",
      "source": [
        "# 1.1.1 단일 조건문 예시\n",
        "# if 조건:\n",
        "#   실행할 명령\n",
        "\n",
        "# 예제1. 숫자열 입력할 경우\n",
        "\n",
        "total = 5\n",
        "\n",
        "if total > 0:\n",
        "    print(f'{total} 인이 입장하였습니다.')"
      ],
      "metadata": {
        "id": "DGAMNtvXEppO",
        "colab": {
          "base_uri": "https://localhost:8080/"
        },
        "outputId": "2d573840-fa24-4f3c-cac0-dd7baca2d7c8"
      },
      "execution_count": null,
      "outputs": [
        {
          "output_type": "stream",
          "name": "stdout",
          "text": [
            "5 인이 입장하였습니다.\n"
          ]
        }
      ]
    },
    {
      "cell_type": "code",
      "source": [
        "# 예제2. 숫자열 입력시 오류\n",
        "\n",
        "total = input('몇명이 들어왔나요?')\n",
        "\n",
        "if total > 0:\n",
        "  print(f'{total} 인이 입장하였습니다.')"
      ],
      "metadata": {
        "id": "8ZtkcLFW0v0O",
        "colab": {
          "base_uri": "https://localhost:8080/",
          "height": 248
        },
        "outputId": "adc2858a-0e1d-481f-9c3f-98cf8cc6ff67"
      },
      "execution_count": null,
      "outputs": [
        {
          "name": "stdout",
          "output_type": "stream",
          "text": [
            "몇명이 들어왔나요?5\n"
          ]
        },
        {
          "output_type": "error",
          "ename": "TypeError",
          "evalue": "ignored",
          "traceback": [
            "\u001b[0;31m---------------------------------------------------------------------------\u001b[0m",
            "\u001b[0;31mTypeError\u001b[0m                                 Traceback (most recent call last)",
            "\u001b[0;32m<ipython-input-2-63f9c7915e62>\u001b[0m in \u001b[0;36m<cell line: 5>\u001b[0;34m()\u001b[0m\n\u001b[1;32m      3\u001b[0m \u001b[0mtotal\u001b[0m \u001b[0;34m=\u001b[0m \u001b[0minput\u001b[0m\u001b[0;34m(\u001b[0m\u001b[0;34m'몇명이 들어왔나요?'\u001b[0m\u001b[0;34m)\u001b[0m\u001b[0;34m\u001b[0m\u001b[0;34m\u001b[0m\u001b[0m\n\u001b[1;32m      4\u001b[0m \u001b[0;34m\u001b[0m\u001b[0m\n\u001b[0;32m----> 5\u001b[0;31m \u001b[0;32mif\u001b[0m \u001b[0mtotal\u001b[0m \u001b[0;34m>\u001b[0m \u001b[0;36m0\u001b[0m\u001b[0;34m:\u001b[0m\u001b[0;34m\u001b[0m\u001b[0;34m\u001b[0m\u001b[0m\n\u001b[0m\u001b[1;32m      6\u001b[0m   \u001b[0mprint\u001b[0m\u001b[0;34m(\u001b[0m\u001b[0;34mf'{total} 인이 입장하였습니다.'\u001b[0m\u001b[0;34m)\u001b[0m\u001b[0;34m\u001b[0m\u001b[0;34m\u001b[0m\u001b[0m\n",
            "\u001b[0;31mTypeError\u001b[0m: '>' not supported between instances of 'str' and 'int'"
          ]
        }
      ]
    },
    {
      "cell_type": "code",
      "source": [
        "# 예제3. 문자열 입력할때\n",
        "\n",
        "whether = input(\"오늘 날씨는 어떤가요?\")\n",
        "\n",
        "if whether != \"\":\n",
        "  print(f\"오늘 날씨는 {whether}입니다.\")"
      ],
      "metadata": {
        "colab": {
          "base_uri": "https://localhost:8080/"
        },
        "id": "mvKek39M1BPK",
        "outputId": "bc7b212a-d039-4471-a366-d8d6c11a6d38"
      },
      "execution_count": null,
      "outputs": [
        {
          "output_type": "stream",
          "name": "stdout",
          "text": [
            "오늘 날씨는 어떤가요?맑음\n",
            "오늘 날씨는 맑음입니다.\n"
          ]
        }
      ]
    },
    {
      "cell_type": "code",
      "source": [
        "# 예제4. 2개 이상 조건일때? and\n",
        "\n",
        "# if 조건1 and 조건2\n",
        "\n",
        "# 1. 오늘 날씨가 어떤가요? \"\"이 아닐때\n",
        "# 2. 오늘 기온이 어떤가요? 0도 이상일때 따뜻합니다.\n",
        "\n",
        "whether = input(\"오늘 날씨가 어떤가요?\")\n",
        "temper = int(input(\"오늘 기온이 어떤가요?\"))\n",
        "\n",
        "if whether != \"\" and temper > 0:\n",
        "  print(f\"오늘 날씨는 {whether}입니다. \\n 오늘 기온은 {temper}입니다.\")\n"
      ],
      "metadata": {
        "id": "NsBgWSv_1fkP",
        "colab": {
          "base_uri": "https://localhost:8080/"
        },
        "outputId": "aaec0dee-4dac-42c8-ee9f-164cd5f649af"
      },
      "execution_count": null,
      "outputs": [
        {
          "output_type": "stream",
          "name": "stdout",
          "text": [
            "오늘 날씨가 어떤가요?맑음\n",
            "오늘 기온이 어떤가요?22\n",
            "오늘 날씨는 맑음입니다. \n",
            " 오늘 기온은 22입니다.\n"
          ]
        }
      ]
    },
    {
      "cell_type": "code",
      "source": [
        "# 예제5. if문을 쓸때 헷갈리는 것\n",
        "\n",
        "job = input(\"직업이 있나요?\")\n",
        "\n",
        "if job == '예':\n",
        "    print(\"직업이 있습니다.\")"
      ],
      "metadata": {
        "id": "LZWqyeqYHAA3",
        "colab": {
          "base_uri": "https://localhost:8080/"
        },
        "outputId": "eac8eb34-953f-4b50-f0f1-84b4f716dd44"
      },
      "execution_count": null,
      "outputs": [
        {
          "output_type": "stream",
          "name": "stdout",
          "text": [
            "직업이 있나요?예\n",
            "직업이 있습니다.\n"
          ]
        }
      ]
    },
    {
      "cell_type": "code",
      "source": [
        "# 연습문제 1\n",
        "# 몇번이 답일까요?\n",
        "\n",
        "1) if (x == 10)\n",
        "    print('10입니다.')\n",
        "2) if x == 10\n",
        "    print('10입니다.')\n",
        "3) if x == 10:\n",
        "    print('10입니다.')\n",
        "4) if x == 10:\n",
        "print('10입니다')\n",
        "5) if x = 10:\n",
        "    print('10입니다')"
      ],
      "metadata": {
        "id": "K1DoTM7w3rCZ"
      },
      "execution_count": null,
      "outputs": []
    },
    {
      "cell_type": "markdown",
      "source": [
        "답은 3번"
      ],
      "metadata": {
        "id": "DK8NV92C38A-"
      }
    },
    {
      "cell_type": "markdown",
      "source": [
        "### 1.1.3 다중 조건문 - if elif else문\n",
        "\n",
        "조건이 3개 이상인 경우 사용이 되고, else대신에 elif 마무리는 else하는 것을 추천"
      ],
      "metadata": {
        "id": "py2qhhAE5Uf3"
      }
    },
    {
      "cell_type": "code",
      "source": [
        "# if 조건1:\n",
        "#   실행 문장 1\n",
        "#   문장\n",
        "# elif 조건2:\n",
        "#   실행 문장 2\n",
        "#   문장\n",
        "# else:\n",
        "#   실행 문장 3\n",
        "\n",
        "total = int(input(\"몇명이 들어왔나요?\"))\n",
        "\n",
        "if total > 5:\n",
        "    print(f'{total} 명이 들어왔습니다. 많이 들어왔네요')\n",
        "elif total > 0 and total <= 5:\n",
        "    print(f'{total} 명이 들어왔습니다. 적게 들어왔네요')\n",
        "else:\n",
        "    print(\"잘못된 정보를 입력하였습니다.\")"
      ],
      "metadata": {
        "id": "Gl7O0y5B5PoU",
        "colab": {
          "base_uri": "https://localhost:8080/"
        },
        "outputId": "5293b9eb-748f-4269-d873-66f5ffea4007"
      },
      "execution_count": null,
      "outputs": [
        {
          "output_type": "stream",
          "name": "stdout",
          "text": [
            "몇명이 들어왔나요?4\n",
            "4 명이 들어왔습니다. 적게 들어왔네요\n"
          ]
        }
      ]
    },
    {
      "cell_type": "code",
      "source": [
        "# 예제2. 문자열 입력 시\n",
        "\n",
        "whether = input('오늘 날씨는 어떤가요?')\n",
        "\n",
        "if whether == '맑음':\n",
        "    print(f'오늘 날씨는 {whether}입니다. 옷을 얇게 입고 가시는 건 어떨까요?')\n",
        "elif whether == '미세먼지':\n",
        "    print(f'오늘 날씨는 {whether}입니다. 마스크를 쓰고 가시는 건 어떨까요?')\n",
        "else:\n",
        "    print('날씨가 입력되지 않았습니다.')"
      ],
      "metadata": {
        "colab": {
          "base_uri": "https://localhost:8080/"
        },
        "id": "DtlRr1ps5Plr",
        "outputId": "ef8b9df5-f7b5-4fb7-d77b-0609627d2eb6"
      },
      "execution_count": null,
      "outputs": [
        {
          "output_type": "stream",
          "name": "stdout",
          "text": [
            "오늘 날씨는 어떤가요?미세먼지\n",
            "오늘 날씨는 미세먼지입니다. 마스크를 쓰고 가시는 건 어떨까요?\n"
          ]
        }
      ]
    },
    {
      "cell_type": "code",
      "source": [
        "#예제3. 코드를 짜다가 생각이 나지 않아서.. \n",
        "\n",
        "# 코드\n",
        "\n",
        "# 역할 무언가있다 \n",
        "number = 0\n",
        "\n",
        "if number > 0:\n",
        "  pass\n",
        "else:\n",
        "  pass\n",
        "\n",
        "# 코드"
      ],
      "metadata": {
        "id": "QkK07KvL6f99"
      },
      "execution_count": null,
      "outputs": []
    },
    {
      "cell_type": "code",
      "source": [
        "number = 0\n",
        "\n",
        "if number > 0:\n",
        "  raise NotImplementedError\n",
        "else:\n",
        "  raise NotImplementedError"
      ],
      "metadata": {
        "colab": {
          "base_uri": "https://localhost:8080/",
          "height": 211
        },
        "id": "vT3IrBJX7Mkx",
        "outputId": "85b54a5b-0b81-4df6-f862-efdf3ac7cf16"
      },
      "execution_count": null,
      "outputs": [
        {
          "output_type": "error",
          "ename": "NotImplementedError",
          "evalue": "ignored",
          "traceback": [
            "\u001b[0;31m---------------------------------------------------------------------------\u001b[0m",
            "\u001b[0;31mNotImplementedError\u001b[0m                       Traceback (most recent call last)",
            "\u001b[0;32m<ipython-input-14-172a24a31f9d>\u001b[0m in \u001b[0;36m<cell line: 3>\u001b[0;34m()\u001b[0m\n\u001b[1;32m      4\u001b[0m   \u001b[0;32mraise\u001b[0m \u001b[0mNotImplementedError\u001b[0m\u001b[0;34m\u001b[0m\u001b[0;34m\u001b[0m\u001b[0m\n\u001b[1;32m      5\u001b[0m \u001b[0;32melse\u001b[0m\u001b[0;34m:\u001b[0m\u001b[0;34m\u001b[0m\u001b[0;34m\u001b[0m\u001b[0m\n\u001b[0;32m----> 6\u001b[0;31m   \u001b[0;32mraise\u001b[0m \u001b[0mNotImplementedError\u001b[0m\u001b[0;34m\u001b[0m\u001b[0;34m\u001b[0m\u001b[0m\n\u001b[0m",
            "\u001b[0;31mNotImplementedError\u001b[0m: "
          ]
        }
      ]
    },
    {
      "cell_type": "markdown",
      "source": [
        "### 1.1.4 삼항 연산자\n",
        "\n",
        "[사용방법]\n",
        "* 참일때의 값 / if / 조건식 / else / 거짓일때 값\n",
        "* 변수로 바로 할당할 수 있음"
      ],
      "metadata": {
        "id": "DrD9kUGxAeWG"
      }
    },
    {
      "cell_type": "code",
      "source": [
        "# 삼항 연산자 예시\n",
        "\n",
        "age = 21\n",
        "\n",
        "# 참일때의 값 / if / 조건식 / else / 거짓일때 값\n",
        "is_adult = \"성인입니다.\" if age > 20 else \"미성년자입니다.\"\n",
        "\n",
        "print(is_adult)"
      ],
      "metadata": {
        "colab": {
          "base_uri": "https://localhost:8080/"
        },
        "id": "dq8besKT7sdX",
        "outputId": "d02bb3c7-304d-49d7-d368-70f31b472f77"
      },
      "execution_count": null,
      "outputs": [
        {
          "output_type": "stream",
          "name": "stdout",
          "text": [
            "성인입니다.\n"
          ]
        }
      ]
    },
    {
      "cell_type": "markdown",
      "source": [
        "#1.1.5 중첩 조건문\n",
        "\n",
        "* if안에 또 다른 if를 넣어서 다양한 Case를 만족 시키는 방법"
      ],
      "metadata": {
        "id": "B8uHPyNZBJUT"
      }
    },
    {
      "cell_type": "code",
      "source": [
        "# 중첩 조건문 예시\n",
        "\n",
        "apple = input(\"사과의 상태를 입력하세요(좋음, 나쁨)\")\n",
        "\n",
        "if apple == \"좋음\":\n",
        "  appleprice = int(input(\"사과 한개당 가격 입력\"))\n",
        "  if appleprice < 1000:\n",
        "    print(\"10개를 산다.\")\n",
        "    print(f\"사과 가격은 {appleprice * 10} 원 입니다.\")"
      ],
      "metadata": {
        "id": "mt285HpdBI0a"
      },
      "execution_count": null,
      "outputs": []
    },
    {
      "cell_type": "code",
      "source": [
        "# 중첩 조건문 예시\n",
        "\n",
        "apple = input(\"사과의 상태를 입력하세요(좋음, 나쁨)\")\n",
        "\n",
        "if apple == \"좋음\":\n",
        "  appleprice = int(input(\"사과 한개당 가격 입력\"))\n",
        "  if appleprice < 1000:\n",
        "    print(\"10개를 산다.\")\n",
        "    print(f\"사과 가격은 {appleprice * 10} 원 입니다.\")\n",
        "  else:\n",
        "    print(\"5개를 산다\")\n",
        "    print(f\"사과 가격은 {appleprice * 5}원 입니다.\")\n",
        "else:\n",
        "  print(\"사과를 안산다\")"
      ],
      "metadata": {
        "colab": {
          "base_uri": "https://localhost:8080/"
        },
        "outputId": "950bed34-6bf4-4d14-dac2-96365874cbf1",
        "id": "AI7STbzvCh6F"
      },
      "execution_count": null,
      "outputs": [
        {
          "output_type": "stream",
          "name": "stdout",
          "text": [
            "사과의 상태를 입력하세요(좋음, 나쁨)나쁨\n",
            "사과를 안산다\n"
          ]
        }
      ]
    },
    {
      "cell_type": "code",
      "source": [
        "# (True False)\n",
        "# True = 1 False 0\n",
        "\n",
        "if 0:\n",
        "  print(\"0은 True로 변환합니다.\")\n",
        "else:\n",
        "  print(\"0은 False로 변환합니다.\")"
      ],
      "metadata": {
        "colab": {
          "base_uri": "https://localhost:8080/"
        },
        "id": "dre-wk0NBBTb",
        "outputId": "23f1fedc-64fd-49f9-bff4-469f75ab58bd"
      },
      "execution_count": null,
      "outputs": [
        {
          "output_type": "stream",
          "name": "stdout",
          "text": [
            "0은 False로 변환합니다.\n"
          ]
        }
      ]
    },
    {
      "cell_type": "code",
      "source": [
        "if \"\":\n",
        "  print(\"0은 True로 변환합니다.\")\n",
        "else:\n",
        "  print(\"0은 False로 변환합니다.\")"
      ],
      "metadata": {
        "colab": {
          "base_uri": "https://localhost:8080/"
        },
        "id": "ChDQvidtC9bR",
        "outputId": "757dfa7c-e29a-4b55-f838-9adbe0e76870"
      },
      "execution_count": null,
      "outputs": [
        {
          "output_type": "stream",
          "name": "stdout",
          "text": [
            "0은 False로 변환합니다.\n"
          ]
        }
      ]
    },
    {
      "cell_type": "code",
      "source": [
        "# 조건문 문제 1. 맞는 것을 선택해주세요\n",
        "\n",
        "# 1. 하나의 조건문에서 if는 한번만 사용할 수 있다.\n",
        "# 2. 하나의 조건문에서 elif는 여러번 사용할 수 있다.\n",
        "# 3. else문은 모든 조건을 만족하지 않을때 사용된다.\n",
        "# 4. else문은 생략할 수 없다.\n",
        "\n",
        "# 답은 2번, 3번"
      ],
      "metadata": {
        "id": "HJocUZaNDCWd"
      },
      "execution_count": null,
      "outputs": []
    },
    {
      "cell_type": "code",
      "source": [
        "# 조건문 문제 2. 어떤게 답일지 적어주세요.\n",
        "if 4 == '4':\n",
        "  print(True)\n",
        "else:\n",
        "  print(False)\n",
        "\n",
        "# A. True\n",
        "# B. False\n",
        "# C. SyntaxError\n",
        "# D. ValueError\n",
        "# E. None"
      ],
      "metadata": {
        "colab": {
          "base_uri": "https://localhost:8080/"
        },
        "id": "JvFlGLtND0Zv",
        "outputId": "ed13b302-4056-43af-c087-c61a551e16d4"
      },
      "execution_count": null,
      "outputs": [
        {
          "output_type": "stream",
          "name": "stdout",
          "text": [
            "False\n"
          ]
        }
      ]
    },
    {
      "cell_type": "code",
      "source": [
        "#  테킷 숙소에는 객실당 4인에 10만원을 내야하고,\n",
        "# 1인이 추가 될때마다 추가비용이 발생되는데 실행결과로 올바른것은?\n",
        "\n",
        "total = 2 # 총인원\n",
        "if total <= 4:\n",
        "  print(\"숙소비용 10만원\")\n",
        "else:\n",
        "  print(\"추가 비용 발생\")\n",
        "print(\"이용해 주셔서 감사합니다.\")\n",
        "\n",
        "# 1. 숙소비용 10만원\n",
        "#    추가비용 발생\n",
        "#    이용해 주셔서 감사합니다.\n",
        "\n",
        "# 2. 추가 비용 발생\n",
        "#    이용해주셔서 감사합니다. \n",
        "\n",
        "# 3. 추가 비용 발생\n",
        "#     \n",
        "\n",
        "# 4. 숙소비용 10만원\n",
        "#    이용해주셔서 감사합니다. "
      ],
      "metadata": {
        "colab": {
          "base_uri": "https://localhost:8080/"
        },
        "id": "umfvmFuLEp6Y",
        "outputId": "c7a23981-7039-420f-9035-8689d19a37dd"
      },
      "execution_count": null,
      "outputs": [
        {
          "output_type": "stream",
          "name": "stdout",
          "text": [
            "숙소비용 10만원\n",
            "이용해 주셔서 감사합니다.\n"
          ]
        }
      ]
    },
    {
      "cell_type": "code",
      "source": [
        "#문제 4. 다음 코드의 실행결과로 맞는 것은?\n",
        "# 입력된 나이에 따라 학교를 구분하는 조건문\n",
        "# 나이로 7을 입력했을때의 결과는?\n",
        "\n",
        "year = int(input('나이를 입력하세요'))\n",
        "\n",
        "# year = int(input('나이를 입력하세요'))   int() 를 안넣으면 오류가 난다.\n",
        "\n",
        "if 1 <= year <= 7:\n",
        "  print(\"미취학 아동입니다.\")\n",
        "elif 8 <= year <= 13:\n",
        "  print(\"초등학생입니다.\")\n",
        "elif 14 <= year <= 16:\n",
        "  print(\"중학생입니다.\")\n",
        "elif 17 <= year <= 19:\n",
        "  print(\"고등학생입니다.\")\n",
        "elif 20 <= year <= 26:\n",
        "  print(\"대학생입니다.\")\n",
        "else:\n",
        "  print(\"정수를 입력해주세요\")\n",
        "\n",
        "# 1. 정수를 입력해주세요\n",
        "# 2. 대학생입니다.\n",
        "# 3. 중학생입니다.\n",
        "# 4. 미취학 아동입니다.\n",
        "# 5. error 발생"
      ],
      "metadata": {
        "colab": {
          "base_uri": "https://localhost:8080/"
        },
        "id": "_RyXkM7hFJer",
        "outputId": "29d55acc-d400-4343-ae22-29ee177f49dd"
      },
      "execution_count": null,
      "outputs": [
        {
          "output_type": "stream",
          "name": "stdout",
          "text": [
            "나이를 입력하세요7\n",
            "미취학 아동입니다.\n"
          ]
        }
      ]
    },
    {
      "cell_type": "code",
      "source": [
        "# 문제 5번. 문자열로 ABC\n",
        "\n",
        "year = int(input('나이를 입력하세요'))\n",
        "\n",
        "if 1 <= year <= 7:\n",
        "  print(\"미취학 아동입니다.\")\n",
        "elif 8 <= year <= 13:\n",
        "  print(\"초등학생입니다.\")\n",
        "elif 14 <= year <= 16:\n",
        "  print(\"중학생입니다.\")\n",
        "elif 17 <= year <= 19:\n",
        "  print(\"고등학생입니다.\")\n",
        "elif 20 <= year <= 26:\n",
        "  print(\"대학생입니다.\")\n",
        "else:\n",
        "  print(\"정수를 입력해주세요\")\n",
        "\n",
        "# 1. 정수를 입력해주세요\n",
        "# 2. 대학생입니다.\n",
        "# 3. 중학생입니다.\n",
        "# 4. 미취학 아동입니다.\n",
        "# 5. error 발생\n",
        "\n",
        "# 답은 5번"
      ],
      "metadata": {
        "id": "rdrZ39r8FN57"
      },
      "execution_count": null,
      "outputs": []
    },
    {
      "cell_type": "code",
      "source": [
        "# 문제 6번. 입력값과 결과값이 동일하게 나오려면 어떤 값을 입력해야 할까요?\n",
        "\n",
        "x = int(input())\n",
        "if 15 < x < 20:\n",
        "  print(x + 3)\n",
        "elif 21 < x < 30:\n",
        "  print(x - 5)\n",
        "else:\n",
        "  print(f'{x}입니다.')\n",
        "\n",
        "# 1. 26\n",
        "# 2. 17\n",
        "# 3. 10\n",
        "# 4. 20\n",
        "# 5. 30\n",
        "\n",
        "# 답은 3,4,5"
      ],
      "metadata": {
        "id": "f2o1pgLsGFoC"
      },
      "execution_count": null,
      "outputs": []
    },
    {
      "cell_type": "code",
      "source": [
        "# 문제 7번. 다음과 같이 코드를 작성했을때, 실행결과로 알맞은 것은?\n",
        "\n",
        "my_list = ['i','like','to','study','python']\n",
        "new_list = []\n",
        "\n",
        "i = len(my_list)\n",
        "if i == 5:\n",
        "  new_list.append(my_list[::2])\n",
        "print(new_list)\n",
        "\n",
        "# 1. [['i','to','python']]\n",
        "# 2. [['like','study']]\n",
        "# 3. ['i','to','python']\n",
        "# 4. ['like','study']\n",
        "# 5. ['i','like']\n",
        "# 6. [['i', 'like']]\n",
        "# 7. None\n",
        "\n",
        "# append를 사용하게 되면 리스트를 가져오게되어 2차원 리스트가 작성된다\n",
        "# 답은 1번"
      ],
      "metadata": {
        "id": "d1XCbRRvHFG1",
        "colab": {
          "base_uri": "https://localhost:8080/"
        },
        "outputId": "8c8537c7-40f7-4342-f1c9-150945e9b86d"
      },
      "execution_count": null,
      "outputs": [
        {
          "output_type": "stream",
          "name": "stdout",
          "text": [
            "[['i', 'to', 'python']]\n"
          ]
        }
      ]
    },
    {
      "cell_type": "code",
      "source": [
        "# 문제 8번. 다음과 같이 코드를 작성했을때, 실행결과로 알맞은 것은?\n",
        "\n",
        "my_list = ['i','like','to','study','python']\n",
        "new_list = []\n",
        "\n",
        "i = len(my_list)\n",
        "if i == 5:\n",
        "  new_list.append(my_list[0:2])\n",
        "print(new_list)\n",
        "\n",
        "# 1. [['i','to','python']]\n",
        "# 2. [['like','study']]\n",
        "# 3. ['i','to','python']\n",
        "# 4. ['like','study']\n",
        "# 5. ['i','like']\n",
        "# 6. [['i', 'like']]\n",
        "# 7. None"
      ],
      "metadata": {
        "colab": {
          "base_uri": "https://localhost:8080/"
        },
        "id": "YVvz4QhUIpvg",
        "outputId": "158e520e-4b68-495f-b6e5-74282398982d"
      },
      "execution_count": null,
      "outputs": [
        {
          "output_type": "stream",
          "name": "stdout",
          "text": [
            "[['i', 'like']]\n"
          ]
        }
      ]
    },
    {
      "cell_type": "code",
      "source": [
        "# 문제 9번. 다음과 같이 코드를 작성하였을때, 실행결과로 알맞은 것은?\n",
        "my_list = ['i','like','to','study','python']\n",
        "new_list = []\n",
        "\n",
        "i = len(my_list)\n",
        "if i == 5:\n",
        "  new_list.extend(my_list[::2])\n",
        "print(new_list)\n",
        "\n",
        "# 1. [['i','to','python']]\n",
        "# 2. [['like','study']]\n",
        "# 3. ['i','to','python']\n",
        "# 4. ['like','study']\n",
        "# 5. ['i','like']\n",
        "# 6. [['i', 'like']]\n",
        "# 7. None\n",
        "\n",
        "# extend를 사용하게 되면 리스트안에서 뽑아오게되어 1차원 리스트가 작성된다\n",
        "# 답은 3번"
      ],
      "metadata": {
        "colab": {
          "base_uri": "https://localhost:8080/"
        },
        "id": "c-79PXUjJJB6",
        "outputId": "ec960c4c-4c6e-4ee9-ac6a-f1a64ed2cdd1"
      },
      "execution_count": null,
      "outputs": [
        {
          "output_type": "stream",
          "name": "stdout",
          "text": [
            "['i', 'to', 'python']\n"
          ]
        }
      ]
    },
    {
      "cell_type": "markdown",
      "source": [
        "# 실습 문제 풀어보기"
      ],
      "metadata": {
        "id": "9KPobWZdL1nj"
      }
    },
    {
      "cell_type": "markdown",
      "source": [
        "문제 1. 대학교 학점은 다음과 같이 되어있음\n",
        "\n",
        "* A - 90점 이상 \n",
        "* B - 80점 이상\n",
        "* C - 60점 이상\n",
        "* D - 40점 이상\n",
        "* F - 40점 이하 \n",
        "* 결석이 3번인 경우 무조건 F\n",
        "\n",
        "중첩 조건문 또는 연산자를 활용하여 if문을 작성해보세요"
      ],
      "metadata": {
        "id": "2FxW-M6YJJEe"
      }
    },
    {
      "cell_type": "code",
      "source": [
        "# 1) 학점을 조건으로 어떻게 나눌까?\n",
        "# 2) else에는 어떤것을 할당할까?\n",
        "# 3) 값을 어떻게 받을까? \n",
        "\n",
        "score = int(input('점수를 입력하세요'))\n",
        "nc = int(input('결석횟수를 입력하세요'))\n",
        "\n",
        "if nc <= 2:\n",
        "    if score < 40:\n",
        "        print(\"F학점 입니다.\")\n",
        "    elif 40 <= score <= 59:\n",
        "        print(\"D학점 입니다.\")\n",
        "    elif 60 <= score <= 79:\n",
        "        print(\"C학점 입니다.\")\n",
        "    elif 80 <= score <= 89:\n",
        "        print(\"B학점 입니다.\")\n",
        "    elif 90 <= score <= 100:\n",
        "        print(\"A학점 입니다.\")\n",
        "else:\n",
        "    print(\"F학점 입니다.\")"
      ],
      "metadata": {
        "colab": {
          "base_uri": "https://localhost:8080/"
        },
        "id": "8zHxHXeaNKp8",
        "outputId": "4689232e-d80f-4e0d-cf0b-e148a7312772"
      },
      "execution_count": null,
      "outputs": [
        {
          "output_type": "stream",
          "name": "stdout",
          "text": [
            "점수를 입력하세요50\n",
            "결석횟수를 입력하세요1\n",
            "D학점 입니다.\n"
          ]
        }
      ]
    },
    {
      "cell_type": "markdown",
      "source": [
        "문제 2. 숫자를 입력했을때 짝수와 홀수를 구분하는 if문을 작성해주세요"
      ],
      "metadata": {
        "id": "tUb372PGOY1l"
      }
    },
    {
      "cell_type": "code",
      "source": [
        "# 1) 짝수와 홀수를 어떻게 구분할것인가?\n",
        "# 2) 숫자로 input을 받아야한다.\n",
        "# 3) 출력은 어떻게 할것인가?"
      ],
      "metadata": {
        "id": "CzQ7WH-FOetW"
      },
      "execution_count": null,
      "outputs": []
    },
    {
      "cell_type": "code",
      "source": [
        "num = int(input(\"숫자를 입력하세요: \"))\n",
        "\n",
        "if num % 2 == 0:\n",
        "  print(f\"입력한 숫자 {num}는 짝수입니다.\")\n",
        "else:\n",
        "  print(f\"입력한 숫자 {num}는 홀수입니다.\")"
      ],
      "metadata": {
        "colab": {
          "base_uri": "https://localhost:8080/"
        },
        "id": "CSXyj8IfPTvO",
        "outputId": "96a62ad4-ac9a-4bc4-abef-3ec736b3454b"
      },
      "execution_count": null,
      "outputs": [
        {
          "output_type": "stream",
          "name": "stdout",
          "text": [
            "숫자를 입력하세요: 15\n",
            "입력한 숫자 15는 홀수입니다.\n"
          ]
        }
      ]
    },
    {
      "cell_type": "code",
      "source": [
        "# 1) 짝수와 홀수를 어떻게 구분할것인가?\n",
        "# 2) 숫자로 input을 받아야한다.\n",
        "# 3) 출력은 어떻게 할것인가?\n",
        "\n",
        "# 문자열\n",
        "number = input('정수 입력')\n",
        "\n",
        "# 문자열에서 뒤에서 1개를 가져와서\n",
        "last_character = number[-1]\n",
        "\n",
        "# 정수화 시킨다.\n",
        "last_number = int(last_character)\n",
        "\n",
        "# 0 ~ 9 숫자만이 last_number\n",
        "\n",
        "# 짝수 확인\n",
        "if last_number == 0 or last_number == 2 or last_number == 4 or last_number == 6 or last_number == 8:\n",
        "  print(\"짝수입니다.\")\n",
        "\n",
        "if last_number == 1 or last_number == 3 or last_number == 5 or last_number == 7 or last_number == 9:\n",
        "  print(\"홀수입니다.\")"
      ],
      "metadata": {
        "colab": {
          "base_uri": "https://localhost:8080/"
        },
        "outputId": "2f5b05ba-e1d4-43e3-c0eb-91cb9b61135d",
        "id": "qJRukEmcSrCy"
      },
      "execution_count": null,
      "outputs": [
        {
          "output_type": "stream",
          "name": "stdout",
          "text": [
            "정수 입력22\n",
            "짝수입니다.\n"
          ]
        }
      ]
    },
    {
      "cell_type": "code",
      "source": [
        "number = input(\"정수 입력 > \")\n",
        "last_character = number[-1]\n",
        "\n",
        "# 짝수 조건\n",
        "if last_character in \"02468\":\n",
        "    print(\"짝수입니다\")\n",
        "    \n",
        "# 홀수 조건\n",
        "if last_character in \"13579\":\n",
        "    print(\"홀수입니다.\")"
      ],
      "metadata": {
        "id": "EX-HwJScSF3U"
      },
      "execution_count": null,
      "outputs": []
    },
    {
      "cell_type": "code",
      "source": [
        "number = input(\"정수 입력 > \")\n",
        "number = int(number)\n",
        "\n",
        "# 짝수 조건\n",
        "if number % 2 == 0 :\n",
        "    print(\"짝수입니다\")\n",
        "    \n",
        "# 홀수 조건\n",
        "if number % 2 == 1 :\n",
        "    print(\"홀수입니다\")"
      ],
      "metadata": {
        "id": "9AIFKxruSXuV"
      },
      "execution_count": null,
      "outputs": []
    },
    {
      "cell_type": "markdown",
      "source": [
        "# 문제 3.\n",
        "\n",
        "* money에는 현재 돈이 얼마 있는지 input으로 받고\n",
        "* 커피는 600원 1000원 1500원 세가지가 있습니다.\n",
        "* 돈이 있어서 커피를 샀으면 거스름돈을 계산하고 만약에 돈이 부족하면 메세지를 띄워주세요"
      ],
      "metadata": {
        "id": "pOanbWdZSnpu"
      }
    },
    {
      "cell_type": "code",
      "source": [
        "print(\"My coffee에 오신것을 환영합니다.\")\n",
        "\n",
        "money = int(input(\"현재 지갑에는 얼마가 있나요?\"))\n",
        "\n",
        "print(\"커피를 고르세요\")\n",
        "\n",
        "choice = int(input('[1] 에스프레스 600원, [2] 아메리카노 1000원, [3] 라떼 1500원'))\n",
        "\n",
        "if choice == 1:\n",
        "  price = 600\n",
        "elif choice == 2:\n",
        "  price = 1000\n",
        "elif choice == 3:\n",
        "  price = 1500\n",
        "else:\n",
        "  price = 0\n",
        "\n",
        "if money >= price:\n",
        "  print(f\"거스름돈은 {money - price} 입니다.\")\n",
        "else:\n",
        "  print('돈이 부족합니다.')"
      ],
      "metadata": {
        "colab": {
          "base_uri": "https://localhost:8080/"
        },
        "id": "-R55SUo6SpHO",
        "outputId": "eab896db-2238-46e7-e748-68a70a0594ea"
      },
      "execution_count": null,
      "outputs": [
        {
          "output_type": "stream",
          "name": "stdout",
          "text": [
            "My coffee에 오신것을 환영합니다.\n",
            "현재 지갑에는 얼마가 있나요?500\n",
            "커피를 고르세요\n",
            "[1] 에스프레스 600원, [2] 아메리카노 1000원, [3] 라떼 1500원3\n",
            "돈이 부족합니다.\n"
          ]
        }
      ]
    },
    {
      "cell_type": "code",
      "source": [
        "money = int(input(\"지갑 속 잔액을 입력해주세요: \"))\n",
        "coffee_choice = [600, 1000, 1500]\n",
        "choice = int(input('먹고 싶은 커피의 금액을 입력해주세요: '))\n",
        "\n",
        "if money - choice >= 0:\n",
        "    print(f'거스름돈은 {money - choice}원 입니다.')\n",
        "else:\n",
        "    print(f'잔액이 {choice - money}원 부족합니다.')\n",
        "    print(f'{choice - money}원을 보충하시거나')\n",
        "    print('가격이 더 저렴한 커피를 골라주세요.')"
      ],
      "metadata": {
        "colab": {
          "base_uri": "https://localhost:8080/"
        },
        "id": "wLlMc4RgV_ZO",
        "outputId": "755511fc-5b3d-4e6b-8da7-f97fb2123ab4"
      },
      "execution_count": null,
      "outputs": [
        {
          "output_type": "stream",
          "name": "stdout",
          "text": [
            "지갑 속 잔액을 입력해주세요: 900\n",
            "먹고 싶은 커피의 금액을 입력해주세요: 600\n",
            "거스름돈은 300원 입니다.\n"
          ]
        }
      ]
    },
    {
      "cell_type": "code",
      "source": [
        "money = int(input(\"현재 돈을 입력하세요: \"))\n",
        "price_list = [600, 1000, 1500]\n",
        "\n",
        "for price in price_list:\n",
        "    if money >= price:\n",
        "        change = money - price\n",
        "        print(f\"{price}원 커피를 구매하였습니다. 거스름돈은 {change}원 입니다.\")\n",
        "        break\n",
        "else:\n",
        "    print(\"돈이 부족합니다.\")"
      ],
      "metadata": {
        "colab": {
          "base_uri": "https://localhost:8080/"
        },
        "id": "e_yOoq9aSuXP",
        "outputId": "3b3ff865-f905-4407-a4c9-cb69aeeea634"
      },
      "execution_count": null,
      "outputs": [
        {
          "output_type": "stream",
          "name": "stdout",
          "text": [
            "현재 돈을 입력하세요: 60\n",
            "돈이 부족합니다.\n"
          ]
        }
      ]
    },
    {
      "cell_type": "code",
      "source": [
        "#교통카드 시스템 만들기\n",
        "\n",
        "if 7 <= age <= 12:\n",
        "  print('학생입니다.')\n",
        "  balance -= 650\n",
        "  if balance < 0:\n",
        "    balance += 650\n",
        "    print('잔액이 부족합니다.')\n",
        "\n",
        "else:\n",
        "  print(\"미성년자는 무료탑승입니다.\")"
      ],
      "metadata": {
        "id": "Kb-vBEKUVd9t",
        "colab": {
          "base_uri": "https://localhost:8080/",
          "height": 248
        },
        "outputId": "0aeda75e-76a0-4d6d-9b73-a64edf994796"
      },
      "execution_count": null,
      "outputs": [
        {
          "output_type": "error",
          "ename": "NameError",
          "evalue": "ignored",
          "traceback": [
            "\u001b[0;31m---------------------------------------------------------------------------\u001b[0m",
            "\u001b[0;31mNameError\u001b[0m                                 Traceback (most recent call last)",
            "\u001b[0;32m<ipython-input-43-dd715a922552>\u001b[0m in \u001b[0;36m<cell line: 3>\u001b[0;34m()\u001b[0m\n\u001b[1;32m      1\u001b[0m \u001b[0;31m#교통카드 시스템 만들기\u001b[0m\u001b[0;34m\u001b[0m\u001b[0;34m\u001b[0m\u001b[0m\n\u001b[1;32m      2\u001b[0m \u001b[0;34m\u001b[0m\u001b[0m\n\u001b[0;32m----> 3\u001b[0;31m \u001b[0;32mif\u001b[0m \u001b[0;36m7\u001b[0m \u001b[0;34m<=\u001b[0m \u001b[0mage\u001b[0m \u001b[0;34m<=\u001b[0m \u001b[0;36m12\u001b[0m\u001b[0;34m:\u001b[0m\u001b[0;34m\u001b[0m\u001b[0;34m\u001b[0m\u001b[0m\n\u001b[0m\u001b[1;32m      4\u001b[0m   \u001b[0mprint\u001b[0m\u001b[0;34m(\u001b[0m\u001b[0;34m'학생입니다.'\u001b[0m\u001b[0;34m)\u001b[0m\u001b[0;34m\u001b[0m\u001b[0;34m\u001b[0m\u001b[0m\n\u001b[1;32m      5\u001b[0m   \u001b[0mbalance\u001b[0m \u001b[0;34m-=\u001b[0m \u001b[0;36m650\u001b[0m\u001b[0;34m\u001b[0m\u001b[0;34m\u001b[0m\u001b[0m\n",
            "\u001b[0;31mNameError\u001b[0m: name 'age' is not defined"
          ]
        }
      ]
    },
    {
      "cell_type": "markdown",
      "source": [
        "문제 5. 태어난 연도를 입력받아 생애주기 받기\n",
        "2023년 6월 28일 부터 만나이로 변경이 되면서 나이에 혼선이 생기고 있는 가운데\n",
        "정부 연령기준에 맞춰 자신이 어떤 나이대 인지 찾아보자\n",
        "\n",
        "https://www.gosims.go.kr/hh/hh001/retrieveLfcySearch.do\n",
        "\n",
        "* 정부기준으로 영유아는 0~5 / 아동은 6~12 / 청소년 13~18 / 청년 19~29 / 중년 30~49 / 장년 50~64 / 노년 65세 이상 / 연령대 무관으로 나눈다.\n",
        "* 태어난 연도를 입력 받는다.\n",
        "* 만나이 적용 날짜를 산출한다.\n",
        "* if문을 통해 어떤 종류의 생애주기 인지를 출력한다.\n",
        "* 만나이를 계산하고, 만나이 기준 생애주기를 출력하세요"
      ],
      "metadata": {
        "id": "4rkTUXHwWGqA"
      }
    },
    {
      "cell_type": "code",
      "source": [
        "import datetime\n",
        "from datetime import timedelta, timezone\n",
        "import pytz\n",
        "\n",
        "year = int(input(\"태어난 연도를 입력하세요\"))\n",
        "month = int(input(\"태어난 월을 입력하세요\"))\n",
        "day = int(input(\"태어난 일을 입력하세요\"))\n",
        "\n",
        "birthday = datetime.date(year, month, day)\n",
        "\n",
        "# 현재 날짜\n",
        "# today = datetime.date.today()\n",
        "\n",
        "# 만 나이 적용일자\n",
        "#datetime.date(2023, 6, 28)\n",
        "d_day = datetime.date(2023, 6, 28)\n",
        "\n",
        "# 만나이 계산\n",
        "\n",
        "age = d_day.year - birthday.year -((d_day.month, d_day.day) < (birthday.month, birthday.day))\n",
        "\n",
        "print(f'2023년 6월 28일부터 당신의 만나이는 {age} 입니다.')\n",
        "if age < 5:\n",
        "    life_cycle = '영유아층'\n",
        "    print(f'당신은 현재 {life_cycle}입니다.')\n",
        "elif 6 <= age <= 12:\n",
        "    life_cycle = '아동층'\n",
        "    print(f'당신은 현재 {life_cycle}입니다.')\n",
        "elif 13 <= age <= 18:\n",
        "    life_cycle = '청소년층'\n",
        "    print(f'당신은 현재 {life_cycle}입니다.')\n",
        "elif 19 <= age <= 29:\n",
        "    life_cycle = '청년층'\n",
        "    print(f'당신은 현재 {life_cycle}입니다.')\n",
        "elif 30 <= age <= 49:\n",
        "    life_cycle = '중년층'\n",
        "    print(f'당신은 현재 {life_cycle}입니다.')\n",
        "elif 50 <= age <= 64:\n",
        "    life_cycle = '장년층'\n",
        "    print(f'당신은 현재 {life_cycle}입니다.')\n",
        "elif 32 <= age:\n",
        "    life_cycle = '노년층'\n",
        "    print(f'당신은 현재 {life_cycle}입니다.')\n",
        "else:\n",
        "    life_cycle = '연령대 무관'\n",
        "    print(f'{life_cycle}로 나와 당신의 현재 생애주기를 알 수 없습니다.') "
      ],
      "metadata": {
        "colab": {
          "base_uri": "https://localhost:8080/"
        },
        "id": "kv84xfcPn3tX",
        "outputId": "56d3f4a3-7c6a-43e9-ce4a-0e1acfe0b995"
      },
      "execution_count": null,
      "outputs": [
        {
          "output_type": "stream",
          "name": "stdout",
          "text": [
            "태어난 연도를 입력하세요1993\n",
            "태어난 월을 입력하세요6\n",
            "태어난 일을 입력하세요22\n",
            "2023년 6월 28일부터 당신의 만나이는 30 입니다.\n",
            "당신은 현재 중년층입니다.\n"
          ]
        }
      ]
    },
    {
      "cell_type": "code",
      "source": [
        "import datetime\n",
        "from datetime import timedelta, timezone\n",
        "\n",
        "year = int(input(\"태어난 연도를 입력하세요\"))\n",
        "month = int(input(\"태어난 월을 입력하세요\"))\n",
        "day = int(input(\"태어난 일을 입력하세요\"))\n",
        "\n",
        "birthday = datetime.date(year, month, day)\n",
        "\n",
        "# 현재 날짜\n",
        "# today = datetime.date.today()\n",
        "\n",
        "# 만 나이 적용일자\n",
        "#datetime.date(2023, 6, 28)\n",
        "d_day = datetime.date(2023, 6, 28)\n",
        "\n",
        "# 만나이 계산\n",
        "\n",
        "age = d_day.year - birthday.year -((d_day.month, d_day.day) < (birthday.month, birthday.day))\n",
        "\n",
        "# 결과 출력\n",
        "print(\"당신의 만 나이는\", age, \"살입니다.\")\n",
        "\n",
        "if age >= 0 and age <= 5:\n",
        "  print(f\"2023년 6월 28일 기준 만 나이는 {age} 살 이므로 영유아 입니다.\")\n",
        "elif age >= 6 and age <= 12:\n",
        "  print(f\"2023년 6월 28일 기준 만 나이는 {age} 살 이므로 아동 입니다.\")\n",
        "elif age >= 13 and age <= 18:\n",
        "  print(f\"2023년 6월 28일 기준 만 나이는 {age} 살 이므로 청소년 입니다.\")\n",
        "elif age >= 19 and age <= 29:\n",
        "  print(f\"2023년 6월 28일 기준 만 나이는 {age} 살 이므로 청년 입니다.\")\n",
        "elif age >= 30 and age <= 49:\n",
        "  print(f\"2023년 6월 28일 기준 만 나이는 {age} 살 이므로 중년 입니다.\")\n",
        "elif age >= 50 and age <= 64:\n",
        "  print(f\"2023년 6월 28일 기준 만 나이는 {age} 살 이므로 장년 입니다.\")\n",
        "elif age >= 65:\n",
        "  print(f\"2023년 6월 28일 기준 만 나이는 {age} 살 이므로 노년 입니다.\")  \n",
        "else:\n",
        "  print(f\"연령대가 제대로 입력이 되지 않아 연령대 무관으로 분류됩니다.\")  \n"
      ],
      "metadata": {
        "colab": {
          "base_uri": "https://localhost:8080/"
        },
        "id": "9rgAVtbdWVb_",
        "outputId": "560046fa-67cf-4e5d-8e69-950b14d4d0dd"
      },
      "execution_count": null,
      "outputs": [
        {
          "output_type": "stream",
          "name": "stdout",
          "text": [
            "태어난 연도를 입력하세요2020\n",
            "태어난 월을 입력하세요9\n",
            "태어난 일을 입력하세요29\n",
            "당신의 만 나이는 2 살입니다.\n",
            "2023년 6월 28일 기준 만 나이는 2 살 이므로 영유아 입니다.\n"
          ]
        }
      ]
    },
    {
      "cell_type": "code",
      "source": [
        "# 현재 날짜\n",
        "today = datetime.date.today()\n",
        "print(today)"
      ],
      "metadata": {
        "colab": {
          "base_uri": "https://localhost:8080/"
        },
        "id": "H4hJcvpsqPBB",
        "outputId": "cabade9d-4250-4f93-89b8-8760486ca89b"
      },
      "execution_count": null,
      "outputs": [
        {
          "output_type": "stream",
          "name": "stdout",
          "text": [
            "2023-05-02\n"
          ]
        }
      ]
    }
  ]
}