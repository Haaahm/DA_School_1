{
  "nbformat": 4,
  "nbformat_minor": 0,
  "metadata": {
    "colab": {
      "provenance": []
    },
    "kernelspec": {
      "name": "python3",
      "display_name": "Python 3"
    },
    "language_info": {
      "name": "python"
    }
  },
  "cells": [
    {
      "cell_type": "code",
      "execution_count": 4,
      "metadata": {
        "id": "42mMryKoeSwY"
      },
      "outputs": [],
      "source": [
        "class Point2D:\n",
        "    def __init__(self, x, y):\n",
        "        self.x = x\n",
        "        self.y = y"
      ]
    },
    {
      "cell_type": "code",
      "source": [
        "p1 = Point2D(x=30, y=20)\n",
        "p2 = Point2D(x=60, y=50)\n",
        "\n",
        "print(f'p1 : {p1.x, p1.y}')\n",
        "print(f'p2 : {p2.x, p2.y}')"
      ],
      "metadata": {
        "colab": {
          "base_uri": "https://localhost:8080/"
        },
        "id": "tC8yIT2GfBTJ",
        "outputId": "a189968f-e130-4064-b45d-3c257b7fa5c7"
      },
      "execution_count": 6,
      "outputs": [
        {
          "output_type": "stream",
          "name": "stdout",
          "text": [
            "p1 : (30, 20)\n",
            "p2 : (60, 50)\n"
          ]
        }
      ]
    },
    {
      "cell_type": "code",
      "source": [
        "import math\n",
        "\n",
        "class Point2D:\n",
        "    def __init__(self, x, y):\n",
        "        self.x = x\n",
        "        self.y = y\n",
        "\n",
        "    def distance_point(x1, y1, x2, y2):\n",
        "        dx = x1 - x2\n",
        "        dy = y1 - y2\n",
        "        distance = math.sqrt(dx**2 + dy**2)\n",
        "        return distance\n",
        "    \n",
        "p1 = Point2D(x=30, y=20)\n",
        "p2 = Point2D(x=60, y=50)\n",
        "\n",
        "distance = Point2D.distance_point(p1.x, p1.y, p2.x, p2.y)\n",
        "distance"
      ],
      "metadata": {
        "colab": {
          "base_uri": "https://localhost:8080/"
        },
        "id": "EsAe7IuAfat1",
        "outputId": "5c1c15dc-6fd6-4184-a5ec-51895681f042"
      },
      "execution_count": 8,
      "outputs": [
        {
          "output_type": "execute_result",
          "data": {
            "text/plain": [
              "42.42640687119285"
            ]
          },
          "metadata": {},
          "execution_count": 8
        }
      ]
    },
    {
      "cell_type": "code",
      "source": [
        "class Musician:\n",
        "    def __init__(self, name):\n",
        "        self.name = name\n",
        "\n",
        "    def explanation(self):\n",
        "        print(f\"I am a {self.name}!\")\n",
        "\n",
        "drummer = Musician('Rockstar')\n",
        "drummer.explanation()"
      ],
      "metadata": {
        "colab": {
          "base_uri": "https://localhost:8080/"
        },
        "id": "R8E8uZF3g3Ax",
        "outputId": "fa3d538c-f559-464c-db6c-2d3ee77a7a16"
      },
      "execution_count": 9,
      "outputs": [
        {
          "output_type": "stream",
          "name": "stdout",
          "text": [
            "I am a Rockstar!\n"
          ]
        }
      ]
    },
    {
      "cell_type": "code",
      "source": [
        "class Member:\n",
        "    def __init__(self, name, address, email, student_number, major):\n",
        "        self.name = name\n",
        "        self.address = address\n",
        "        self.email = email\n",
        "        self.student_number = student_number\n",
        "        self.major = major\n",
        "        self.info_list = [self.name, self.address, self.email, self.student_number, self.major]\n",
        "        \n",
        "    def print_info(self):\n",
        "        print(self.info_list)\n",
        "\n",
        "\n",
        "student_list = Member(\"Song\", \"Seoul\", \"-\", \"-\", \"mathmatics\")\n",
        "student_list.print_info()"
      ],
      "metadata": {
        "colab": {
          "base_uri": "https://localhost:8080/"
        },
        "id": "SE5KwAnXizOF",
        "outputId": "fba5642a-c813-4512-afc3-abd598674777"
      },
      "execution_count": 10,
      "outputs": [
        {
          "output_type": "stream",
          "name": "stdout",
          "text": [
            "['Song', 'Seoul', '-', '-', 'mathmatics']\n"
          ]
        }
      ]
    }
  ]
}