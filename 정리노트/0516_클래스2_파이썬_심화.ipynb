{
  "nbformat": 4,
  "nbformat_minor": 0,
  "metadata": {
    "colab": {
      "provenance": []
    },
    "kernelspec": {
      "name": "python3",
      "display_name": "Python 3"
    },
    "language_info": {
      "name": "python"
    }
  },
  "cells": [
    {
      "cell_type": "markdown",
      "source": [
        "# 클래스 복습"
      ],
      "metadata": {
        "id": "ls36lmWDKb81"
      }
    },
    {
      "cell_type": "markdown",
      "source": [
        "- 우리의 모든 것을 객체화 시킬수 있음\n",
        "- 코드 재사용(개선, 사용, 유지보수가 용이) - 경제적이고, 역량 최소화\n",
        "\n",
        "붕어빵 기계 → 클래스"
      ],
      "metadata": {
        "id": "-Gq1AU0MKlbr"
      }
    },
    {
      "cell_type": "markdown",
      "source": [
        "## 1.1 객체와 인스턴스\n",
        "\n",
        "* 애견샵 클래스 운영 → 진돗개, 리트리버 등\n",
        "* 진돗개 =\n",
        "* 리트리버 = \n",
        "* 이렇게 반복이 계속되면 쉽지 않음\n",
        "* 클래스를 이용하면 애완견의 실체를 클래스화 하면 좋음"
      ],
      "metadata": {
        "id": "sQC3-rebKuYL"
      }
    },
    {
      "cell_type": "code",
      "source": [
        "# class Dog(object): \n",
        "class Dog:\n",
        "pass"
      ],
      "metadata": {
        "id": "D26nssfWKjQd"
      },
      "execution_count": null,
      "outputs": []
    },
    {
      "cell_type": "code",
      "source": [
        "#예제 1 - 틀을 만들자!!\n",
        "\n",
        "class Dog:\n",
        "  species = 'firstdog'\n",
        "\n",
        "  #초기화/인스턴스 속성\n",
        "\n",
        "  #메서드 = 함수\n",
        "  def __init__(self, name, age):\n",
        "    self.name = name\n",
        "    self.age = age\n",
        "\n",
        "# 클래스 정보\n",
        "print(Dog) \n",
        "\n",
        "# 인스턴스화 - 설계화가 된것 생성\n",
        "a = Dog(\"mikky\", 2)\n",
        "b = Dog(\"baby\", 3)"
      ],
      "metadata": {
        "colab": {
          "base_uri": "https://localhost:8080/"
        },
        "id": "Q7LOvDr_LBKs",
        "outputId": "5ce3330c-d10f-487d-d54d-c081ebef888b"
      },
      "execution_count": null,
      "outputs": [
        {
          "output_type": "stream",
          "name": "stdout",
          "text": [
            "<class '__main__.Dog'>\n"
          ]
        }
      ]
    },
    {
      "cell_type": "code",
      "source": [
        "# 클래스 변수 - 직접 접근 가능 / 공용으로 사용하는 것\n",
        "# 인스턴스 변수 - 객체마다 별도 존재\n",
        "\n",
        "# 인스턴스 속성 확인\n",
        "print(f'{a.name} is {a.age} and {b.name} is {b.age}')"
      ],
      "metadata": {
        "colab": {
          "base_uri": "https://localhost:8080/"
        },
        "id": "NjbykLWYLp7B",
        "outputId": "237049ea-d18a-413d-e902-cbf622dab1e5"
      },
      "execution_count": null,
      "outputs": [
        {
          "output_type": "stream",
          "name": "stdout",
          "text": [
            "mikky is 2 and baby is 3\n"
          ]
        }
      ]
    },
    {
      "cell_type": "code",
      "source": [
        "# 클래스 변수 - 직접 접근 가능\n",
        "if a.species == \"firstdog\":\n",
        "  print(f'{a.name} is a {a.species}')\n"
      ],
      "metadata": {
        "colab": {
          "base_uri": "https://localhost:8080/"
        },
        "id": "6SCmd_tGL_Nv",
        "outputId": "dac7d7c8-aefa-4c1b-b015-8ae2147a2f1f"
      },
      "execution_count": null,
      "outputs": [
        {
          "output_type": "stream",
          "name": "stdout",
          "text": [
            "mikky is a firstdog\n"
          ]
        }
      ]
    },
    {
      "cell_type": "code",
      "source": [
        "# 클래스 변수 - 직접 접근 가능\n",
        "if b.species == \"firstdog\":\n",
        "  print(f'{b.name} is a {b.species}')\n"
      ],
      "metadata": {
        "colab": {
          "base_uri": "https://localhost:8080/"
        },
        "id": "jNli7xemMLPE",
        "outputId": "be168c68-6156-483f-e3b3-f398abd13eea"
      },
      "execution_count": null,
      "outputs": [
        {
          "output_type": "stream",
          "name": "stdout",
          "text": [
            "baby is a firstdog\n"
          ]
        }
      ]
    },
    {
      "cell_type": "code",
      "source": [
        "# 이런 형태로도 접근 가능하다. 클래스로도 접근 / 인스턴스화로도 접근가능\n",
        "\n",
        "print(Dog.species)\n",
        "print(a.species)\n",
        "print(b.species)\n",
        "\n",
        "# 사실 이부분이 이해가 되면 클래스가 이해가 된것\n",
        "# 나만의 공간, 나만의 속성, 공유하는 공간, 공유하는 속성에 대해 이해가 되었기를.."
      ],
      "metadata": {
        "colab": {
          "base_uri": "https://localhost:8080/"
        },
        "id": "BzwbvVCQLWWZ",
        "outputId": "23b9a444-a226-444b-eed5-7faa3f7cdb2d"
      },
      "execution_count": null,
      "outputs": [
        {
          "output_type": "stream",
          "name": "stdout",
          "text": [
            "firstdog\n",
            "firstdog\n",
            "firstdog\n"
          ]
        }
      ]
    },
    {
      "cell_type": "code",
      "source": [
        "# 클래스 변수, 인스턴스 변수\n",
        "\n",
        "# Warehouse 클래스\n",
        "class Warehouse:\n",
        "  # 클래스 변수\n",
        "  stock_num = 0 #재고\n",
        "\n",
        "  # 클래스가 실행되면 자동으로 실행 \n",
        "  def __init__(self, name):\n",
        "    #인스턴스 변수 # 추가\n",
        "    self.name = name\n",
        "    Warehouse.stock_num += 1\n",
        "\n",
        "  def __del__(self): #소멸\n",
        "    Warehouse.stock_num -= 1\n",
        "\n",
        "user1 = Warehouse('Lee')\n",
        "user2 = Warehouse('Kim')"
      ],
      "metadata": {
        "id": "JWnQWRvLMZcv"
      },
      "execution_count": null,
      "outputs": []
    },
    {
      "cell_type": "code",
      "source": [
        "print(user1.name)"
      ],
      "metadata": {
        "colab": {
          "base_uri": "https://localhost:8080/"
        },
        "id": "jm-hbv1oNZkE",
        "outputId": "9da1001d-a674-433b-d430-af3d87fb0e8d"
      },
      "execution_count": null,
      "outputs": [
        {
          "output_type": "stream",
          "name": "stdout",
          "text": [
            "Lee\n"
          ]
        }
      ]
    },
    {
      "cell_type": "code",
      "source": [
        "print(user2.name)"
      ],
      "metadata": {
        "colab": {
          "base_uri": "https://localhost:8080/"
        },
        "id": "A_gLWQ4cNaSz",
        "outputId": "08183c4c-535b-41b6-9fa5-3605afbf7262"
      },
      "execution_count": null,
      "outputs": [
        {
          "output_type": "stream",
          "name": "stdout",
          "text": [
            "Kim\n"
          ]
        }
      ]
    },
    {
      "cell_type": "code",
      "source": [
        "print(Warehouse.__dict__)"
      ],
      "metadata": {
        "colab": {
          "base_uri": "https://localhost:8080/"
        },
        "id": "m4F2tmxENilL",
        "outputId": "d8016400-0ecc-4408-f908-a7830ac2fc49"
      },
      "execution_count": null,
      "outputs": [
        {
          "output_type": "stream",
          "name": "stdout",
          "text": [
            "{'__module__': '__main__', 'stock_num': 2, '__init__': <function Warehouse.__init__ at 0x7f97fddcfeb0>, '__del__': <function Warehouse.__del__ at 0x7f97fddcfb50>, '__dict__': <attribute '__dict__' of 'Warehouse' objects>, '__weakref__': <attribute '__weakref__' of 'Warehouse' objects>, '__doc__': None, '__annotations__': {}}\n"
          ]
        }
      ]
    },
    {
      "cell_type": "code",
      "source": [
        "print(Warehouse.stock_num)"
      ],
      "metadata": {
        "colab": {
          "base_uri": "https://localhost:8080/"
        },
        "id": "itcKifO2NP7K",
        "outputId": "439d2b87-792c-4582-b20e-3eeae015ce67"
      },
      "execution_count": null,
      "outputs": [
        {
          "output_type": "stream",
          "name": "stdout",
          "text": [
            "2\n"
          ]
        }
      ]
    },
    {
      "cell_type": "code",
      "source": [
        "del user1"
      ],
      "metadata": {
        "id": "1mnlwoS8Nvqt"
      },
      "execution_count": null,
      "outputs": []
    },
    {
      "cell_type": "code",
      "source": [
        "print(Warehouse.__dict__)"
      ],
      "metadata": {
        "colab": {
          "base_uri": "https://localhost:8080/"
        },
        "id": "mzllsoACNwFw",
        "outputId": "d0365011-3203-4529-ea6b-f635aaf36fc6"
      },
      "execution_count": null,
      "outputs": [
        {
          "output_type": "stream",
          "name": "stdout",
          "text": [
            "{'__module__': '__main__', 'stock_num': 1, '__init__': <function Warehouse.__init__ at 0x7f5ab99aa7a0>, '__del__': <function Warehouse.__del__ at 0x7f5ab99aa710>, '__dict__': <attribute '__dict__' of 'Warehouse' objects>, '__weakref__': <attribute '__weakref__' of 'Warehouse' objects>, '__doc__': None}\n"
          ]
        }
      ]
    },
    {
      "cell_type": "code",
      "source": [
        "print(Warehouse.stock_num)"
      ],
      "metadata": {
        "colab": {
          "base_uri": "https://localhost:8080/"
        },
        "id": "hxJ4Rpg0Nxeq",
        "outputId": "56f1791e-19af-42e9-a4d2-e9592f1e6a16"
      },
      "execution_count": null,
      "outputs": [
        {
          "output_type": "stream",
          "name": "stdout",
          "text": [
            "1\n"
          ]
        }
      ]
    },
    {
      "cell_type": "code",
      "source": [
        "#예제 3 - return의 사용과 self가 아닌 변수\n",
        "\n",
        "class Dog:\n",
        "  species = 'firstdog'\n",
        "\n",
        "  #초기화/인스턴스 속성\n",
        "\n",
        "  def __init__(self, name, age):\n",
        "    self.name = name\n",
        "    self.age = age\n",
        "\n",
        "  def info(self):\n",
        "    return f'{self.name}는 {self.age}살 이에요'\n",
        "\n",
        "  def speak(self, sound):\n",
        "    return f\"{self.name}는 {sound} 소리를 내요\""
      ],
      "metadata": {
        "id": "JjDxqBLFNzJn"
      },
      "execution_count": null,
      "outputs": []
    },
    {
      "cell_type": "code",
      "source": [
        "#인스턴스 생성\n",
        "c = Dog('July', 4)\n",
        "d = Dog('Dorri', 10)"
      ],
      "metadata": {
        "id": "IjOMt0vRORJi"
      },
      "execution_count": null,
      "outputs": []
    },
    {
      "cell_type": "code",
      "source": [
        "print(c.info())"
      ],
      "metadata": {
        "colab": {
          "base_uri": "https://localhost:8080/"
        },
        "id": "nSHoC3QqOUbR",
        "outputId": "2f26661a-aba4-4d8f-ad46-f3d0b6d9d3de"
      },
      "execution_count": null,
      "outputs": [
        {
          "output_type": "stream",
          "name": "stdout",
          "text": [
            "July는 4살 이에요\n"
          ]
        }
      ]
    },
    {
      "cell_type": "code",
      "source": [
        "#메서드 호출\n",
        "print(c.info())\n",
        "print(d.info())\n",
        "\n",
        "#메서드 호출\n",
        "print(c.speak('왈왈'))\n",
        "print(d.speak('멍멍'))"
      ],
      "metadata": {
        "id": "I1UCGKN2OJ7L",
        "colab": {
          "base_uri": "https://localhost:8080/"
        },
        "outputId": "ef1d89c5-9071-4fc3-9e0d-8f888327e1f8"
      },
      "execution_count": null,
      "outputs": [
        {
          "output_type": "stream",
          "name": "stdout",
          "text": [
            "July는 4살 이에요\n",
            "Dorri는 10살 이에요\n",
            "July는 왈왈 소리를 내요\n",
            "Dorri는 멍멍 소리를 내요\n"
          ]
        }
      ]
    },
    {
      "cell_type": "code",
      "source": [
        "# 예제 1.\n",
        "\n",
        "class FishCakeMaker:\n",
        "  def __init__(self, param): #클래스가 최초 생성될때 호출함\n",
        "    pass #self는 FishCakeMaker에 속한것\n",
        "\n",
        "fish = FishCakeMaker(\"붕어빵\") # 이렇게 선언한 순간에 생성자 __init__이 실행"
      ],
      "metadata": {
        "id": "FeJk29LHTUHr"
      },
      "execution_count": null,
      "outputs": []
    },
    {
      "cell_type": "code",
      "source": [
        "# 예제 2. 추가적인 정보\n",
        "\n",
        "class FishCakeMaker:\n",
        "\n",
        "  def __init__(self, param): #클래스가 최초 생성될때 호출됨\n",
        "    pass #self는 FishCakeMaker에 속한 것\n",
        "\n",
        "  def show_name(self): # 만약 self가 없으면 파이썬은 구별 할 수 없음\n",
        "    print('A')\n",
        "\n",
        "# 이러한 구문이 있을 경우\n",
        "def show_name():\n",
        "  print('A')\n",
        "\n",
        "# 바깥의 함수와 안에 있는 클래스 안에 메서드를 구별하기 힘들기 때문에 \n",
        "# 꼭 self를 붙여야 FishCakeMaker안에 있는 \n",
        "# show_name()이라는 것을 인식한다."
      ],
      "metadata": {
        "id": "uOLd8Pl1TbXN"
      },
      "execution_count": null,
      "outputs": []
    },
    {
      "cell_type": "code",
      "source": [
        "# 예제 3\n",
        "class FishCakeMaker:\n",
        "  def __init__(self, **kwargs):\n",
        "    self.size = 10\n",
        "    self.flavor = \"팥\"\n",
        "    self.price = 1000\n",
        "    if \"size\" in kwargs:\n",
        "      self.size = kwargs.get(\"size\")\n",
        "    if \"flavor\" in kwargs:\n",
        "      self.flavor = kwargs.get(\"flavor\")\n",
        "    if \"price\" in kwargs:\n",
        "      self.price = kwargs.get(\"price\")\n",
        "\n",
        "  def show(self):\n",
        "    print(f\"붕어빵 종류 {self.flavor}\")\n",
        "    print(f\"붕어빵 크기 {self.size}\")\n",
        "    print(f\"붕어빵 가격 {self.price}\")\n",
        "\n",
        "fish1 = FishCakeMaker()\n",
        "fish2 = FishCakeMaker(size = 20, price = 2000)\n",
        "fish3 = FishCakeMaker(size = 20, price = 3000, flavor = \"피자\")\n",
        "\n",
        "fish1.show()\n",
        "fish2.show()\n",
        "fish3.show()"
      ],
      "metadata": {
        "colab": {
          "base_uri": "https://localhost:8080/"
        },
        "id": "xJY8OZELTuyP",
        "outputId": "3b59f336-22e3-4b57-97a0-d094ad54e4d4"
      },
      "execution_count": null,
      "outputs": [
        {
          "output_type": "stream",
          "name": "stdout",
          "text": [
            "붕어빵 종류 팥\n",
            "붕어빵 크기 10\n",
            "붕어빵 가격 1000\n",
            "붕어빵 종류 팥\n",
            "붕어빵 크기 20\n",
            "붕어빵 가격 2000\n",
            "붕어빵 종류 피자\n",
            "붕어빵 크기 20\n",
            "붕어빵 가격 3000\n"
          ]
        }
      ]
    },
    {
      "cell_type": "code",
      "source": [
        "# 함수와 클래스의 코드 차이점"
      ],
      "metadata": {
        "id": "s7Av9Y2oUVaH"
      },
      "execution_count": null,
      "outputs": []
    },
    {
      "cell_type": "code",
      "source": [
        "def add(num1, num2):\n",
        "    return num1 + num2\n",
        "\n",
        "def subtract(num1, num2):\n",
        "    return num1 - num2\n",
        "\n",
        "def multiply(num1, num2):\n",
        "    return num1 * num2\n",
        "\n",
        "def divide(num1, num2):\n",
        "    if num2 != 0:\n",
        "        return num1 / num2\n",
        "    else:\n",
        "        print(\"0으로 나눌 수 없습니다.\")\n",
        "\n",
        "# 사용자로부터 두 개의 숫자 입력 받기\n",
        "number1 = float(input(\"첫 번째 숫자를 입력하세요: \"))\n",
        "number2 = float(input(\"두 번째 숫자를 입력하세요: \"))\n",
        "\n",
        "# 덧셈\n",
        "result = add(number1, number2)\n",
        "print(\"덧셈 결과:\", result)\n",
        "\n",
        "# 뺄셈\n",
        "result = subtract(number1, number2)\n",
        "print(\"뺄셈 결과:\", result)\n",
        "\n",
        "# 곱셈\n",
        "result = multiply(number1, number2)\n",
        "print(\"곱셈 결과:\", result)\n",
        "\n",
        "# 나눗셈\n",
        "divide(number1, number2)"
      ],
      "metadata": {
        "id": "TfqV-DnNT4gk"
      },
      "execution_count": null,
      "outputs": []
    },
    {
      "cell_type": "code",
      "source": [
        "#아래에 요구사항에 맞는 파이썬 클래스 예제를 제시합니다:\n",
        "\n",
        "class Operation:\n",
        "    def __init__(self, num1, num2):\n",
        "        self.num1 = num1\n",
        "        self.num2 = num2\n",
        "\n",
        "    def add(self):\n",
        "        return self.num1 + self.num2\n",
        "\n",
        "    def subtract(self):\n",
        "        return self.num1 - self.num2\n",
        "\n",
        "    def multiply(self):\n",
        "        return self.num1 * self.num2\n",
        "\n",
        "    def divide(self):\n",
        "        if self.num2 != 0:\n",
        "            return self.num1 / self.num2\n",
        "        else:\n",
        "            print(\"0으로 나눌 수 없습니다.\")\n",
        "\n",
        "# 사용자로부터 두 개의 숫자 입력 받기\n",
        "number1 = float(input(\"첫 번째 숫자를 입력하세요: \"))\n",
        "number2 = float(input(\"두 번째 숫자를 입력하세요: \"))\n",
        "\n",
        "# Operation 클래스의 인스턴스 생성\n",
        "operation = Operation(number1, number2)\n",
        "\n",
        "# 덧셈 결과 출력\n",
        "add_result = operation.add()\n",
        "print(\"덧셈 결과:\", add_result)\n",
        "\n",
        "# 뺄셈 결과 출력\n",
        "subtract_result = operation.subtract()\n",
        "print(\"뺄셈 결과:\", subtract_result)\n",
        "\n",
        "# 곱셈 결과 출력\n",
        "multiply_result = operation.multiply()\n",
        "print(\"곱셈 결과:\", multiply_result)\n",
        "\n",
        "# 나눗셈 결과 출력\n",
        "operation.divide()\n"
      ],
      "metadata": {
        "id": "m6fEaUBsUgOV"
      },
      "execution_count": null,
      "outputs": []
    },
    {
      "cell_type": "markdown",
      "source": [
        "## 함수 VS 클래스"
      ],
      "metadata": {
        "id": "mh8M9bkaWodr"
      }
    },
    {
      "cell_type": "markdown",
      "source": [
        "파이썬에서 함수와 클래스는 모두 코드를 구성하는 데 사용될 수 있습니다. 각각의 사용 사례와 장단점을 살펴보겠습니다.\n",
        "\n",
        "\n",
        "### 함수를 사용하는 경우:\n",
        "\n",
        "1. 작은 작업 단위: 함수는 작은 작업 단위를 캡슐화하는 데 유용합니다. 예를 들어, 수학적 계산, 문자열 조작, 데이터 변환 등과 같은 작업은 각각의 함수로 정의될 수 있습니다."
      ],
      "metadata": {
        "id": "d-xbZ32tVv3n"
      }
    },
    {
      "cell_type": "code",
      "source": [
        "def add_numbers(a, b):\n",
        "    return a + b\n",
        "\n",
        "def multiply_numbers(a, b):\n",
        "    return a * b"
      ],
      "metadata": {
        "id": "xPz-RQlmV0Lz"
      },
      "execution_count": null,
      "outputs": []
    },
    {
      "cell_type": "code",
      "source": [],
      "metadata": {
        "id": "V4p-RUmKWaod"
      },
      "execution_count": null,
      "outputs": []
    },
    {
      "cell_type": "markdown",
      "source": [
        "2. 반복적인 코드: 반복되는 코드 블록이 있는 경우 함수를 사용하여 코드 중복을 피할 수 있습니다. 여러 곳에서 동일한 코드를 사용하는 경우 함수를 작성하고 필요할 때마다 호출할 수 있습니다."
      ],
      "metadata": {
        "id": "to-Ig-tjV2a1"
      }
    },
    {
      "cell_type": "code",
      "source": [
        "def calculate_discount(price, discount_rate):\n",
        "    return price - (price * discount_rate)\n",
        "\n",
        "total_price = calculate_discount(100, 0.2)"
      ],
      "metadata": {
        "id": "V8hg4_doV47D"
      },
      "execution_count": null,
      "outputs": []
    },
    {
      "cell_type": "markdown",
      "source": [
        "3. 모듈화: 함수는 코드를 모듈화하는 데 사용될 수 있습니다. 여러 함수를 하나의 모듈로 그룹화하여 코드의 가독성과 유지 관리성을 향상시킬 수 있습니다."
      ],
      "metadata": {
        "id": "Bo-goyPuV6Tj"
      }
    },
    {
      "cell_type": "markdown",
      "source": [
        "### 클래스를 사용하는 경우:\n",
        "\n",
        "1. 객체 지향 프로그래밍: 클래스는 객체 지향 프로그래밍(OOP)의 기본 요소입니다. 클래스는 데이터와 해당 데이터를 조작하는 메서드를 함께 묶는 데 사용됩니다. 객체 지향 프로그래밍의 주요 장점은 코드의 구조화, 재사용성 및 유지 보수성을 향상시킬 수 있다는 점입니다."
      ],
      "metadata": {
        "id": "bSB-SbdBV90c"
      }
    },
    {
      "cell_type": "code",
      "source": [
        "class Rectangle:\n",
        "    def __init__(self, width, height):\n",
        "        self.width = width\n",
        "        self.height = height\n",
        "    \n",
        "    def calculate_area(self):\n",
        "        return self.width * self.height\n",
        "\n",
        "rect = Rectangle(5, 3)\n",
        "area = rect.calculate_area()"
      ],
      "metadata": {
        "id": "39TI3jQcV9bO"
      },
      "execution_count": null,
      "outputs": []
    },
    {
      "cell_type": "markdown",
      "source": [
        "2. 상태 유지: 클래스는 객체의 상태를 유지하는 데 유용합니다. 객체의 상태는 클래스의 인스턴스 변수로 표현될 수 있으며, 해당 변수는 객체의 메서드에서 사용될 수 있습니다."
      ],
      "metadata": {
        "id": "UCIBiGD8WCui"
      }
    },
    {
      "cell_type": "code",
      "source": [
        "class Counter:\n",
        "    def __init__(self):\n",
        "        self.count = 0\n",
        "    \n",
        "    def increment(self):\n",
        "        self.count += 1\n",
        "    \n",
        "    def get_count(self):\n",
        "        return self.count\n",
        "\n",
        "counter = Counter()\n",
        "counter.increment()\n",
        "counter.increment()\n",
        "count = counter.get_count()  # count는 2"
      ],
      "metadata": {
        "id": "pmYUbDRzWGfT"
      },
      "execution_count": null,
      "outputs": []
    },
    {
      "cell_type": "markdown",
      "source": [
        "3. 상속: 클래스를 사용하면 상속을 통해 코드를 재사용할 수 있습니다. 기존 클래스를 확장하여 새로운 클래스를 정의하고, 부모 클래스의 속성과 메서드를 상속받을 수 있습니다."
      ],
      "metadata": {
        "id": "KqkKsjAzWIkc"
      }
    },
    {
      "cell_type": "markdown",
      "source": [
        "요약하자면, 함수는 작은 작업 단위를 캡슐화하고 반복적인 코드를 피하기 위해 사용됩니다. 또한, 모듈화를 통해 코드를 구조화하고 가독성을 높일 수 있습니다.\n",
        "\n",
        "반면에 클래스는 객체 지향 프로그래밍의 핵심이며, 데이터와 해당 데이터를 조작하는 메서드를 함께 묶어 사용합니다. 클래스는 객체의 상태를 유지하고 상속을 통해 코드를 재사용하는 데 유용합니다.\n",
        "\n",
        "함수와 클래스는 각각의 상황에 맞게 사용되며, 작업의 크기, 코드의 구조화 수준, 재사용 가능성 등을 고려하여 선택해야 합니다."
      ],
      "metadata": {
        "id": "5gmxfYlWWK3E"
      }
    }
  ]
}