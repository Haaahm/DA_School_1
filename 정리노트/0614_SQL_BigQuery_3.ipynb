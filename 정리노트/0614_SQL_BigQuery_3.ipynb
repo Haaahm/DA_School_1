{
  "nbformat": 4,
  "nbformat_minor": 0,
  "metadata": {
    "colab": {
      "provenance": []
    },
    "kernelspec": {
      "name": "python3",
      "display_name": "Python 3"
    },
    "language_info": {
      "name": "python"
    }
  },
  "cells": [
    {
      "cell_type": "code",
      "execution_count": null,
      "metadata": {
        "id": "V181mBh6Ova3"
      },
      "outputs": [],
      "source": [
        "### SQL 연습문제 7-3\n",
        "\n",
        "# 회원(users) 테이블에서 가입연도별 이용경로(traffic_source)별 가입자수를 조회하세요.\n",
        "\n",
        "# 조회 항목\n",
        "\n",
        "# - year\n",
        "# - Search\n",
        "# - Organic\n",
        "# - Email\n",
        "# - Display\n",
        "# - Facebook\n",
        "# - Total\n",
        "\n",
        "# 정렬순서\n",
        "\n",
        "# - year 오름차순\n",
        "\n",
        "SELECT\n",
        "  EXTRACT(YEAR FROM created_at) AS year,\n",
        "  COUNT(CASE WHEN traffic_source = 'Search' THEN traffic_source END) AS Search,\n",
        "  COUNT(CASE WHEN traffic_source = 'Organic' THEN traffic_source END) AS Organic,\n",
        "  COUNT(CASE WHEN traffic_source = 'Email' THEN traffic_source END) AS Email,\n",
        "  COUNT(CASE WHEN traffic_source = 'Display' THEN traffic_source END) AS Display,\n",
        "  COUNT(CASE WHEN traffic_source = 'Facebook' THEN traffic_source END) AS Facebook,\n",
        "  COUNT(traffic_source) AS Total\n",
        "FROM `thelook_ecommerce.users`\n",
        "GROUP BY year\n",
        "ORDER BY year;"
      ]
    },
    {
      "cell_type": "code",
      "source": [
        "# 3번문제를 풀면서 먼저 쿼리를 파악하기 쉽게 아래와 같이 작업해가며 쿼리를 짜보면서 실행을 반복해본다.\n",
        "\n",
        "SELECT\n",
        "  id,\n",
        "  traffic_source,\n",
        "  CASE WHEN traffic_source = 'Search' THEN 1 END AS is_search,\n",
        "  CASE WHEN traffic_source = 'Display' THEN 1 END AS is_display,\n",
        "  CASE WHEN traffic_source = 'Organic' THEN 1 END AS is_organic\n",
        "FROM `thelook_ecommerce.users`\n",
        "LIMIT 100;"
      ],
      "metadata": {
        "id": "xFoOiJNlUJZ0"
      },
      "execution_count": null,
      "outputs": []
    },
    {
      "cell_type": "code",
      "source": [
        "### SQL 연습문제 7-4\n",
        "\n",
        "# 주문정보(orders) 테이블에서 주문을 3번 이상 구매한 사람의 등급을 ‘Gold’,\n",
        "# 4번 이상 구매한 사람의 등급은 ‘VIP’, 그 외에는 'Silver'라고 등급을 지정해 줍니다.\n",
        "\n",
        "SELECT\n",
        "  user_id,\n",
        "  COUNT(user_id) AS order_count,\n",
        "  CASE\n",
        "    WHEN COUNT(user_id)>=4 THEN 'VIP'\n",
        "    WHEN COUNT(user_id)>=3 THEN 'Gold'\n",
        "  ELSE 'Silver'\n",
        "  END AS Grade\n",
        "FROM `thelook_ecommerce.orders`\n",
        "GROUP BY user_id\n",
        "ORDER BY user_id;"
      ],
      "metadata": {
        "id": "MYP20TIhSbGc"
      },
      "execution_count": null,
      "outputs": []
    },
    {
      "cell_type": "code",
      "source": [
        "### SQL 연습문제 7-5\n",
        "\n",
        "# 상품정보(products) 테이블에서 상품의 id, 상품명(name), 사이즈(size)라는 컬럼을\n",
        "# 하나 만들도록 하겠습니다.\n",
        "\n",
        "# 상품명 맨 끝에 ‘XS’, ‘S’, ‘M’, ‘L’, ‘XL’, ‘XXL’ 라고 적혀져 있습니다.\n",
        "# 사이즈 컬럼에 맞는 값을 저장하고 조건에 부합하지 않는 경우에는 NULL 값을 넣어줍니다.\n",
        "\n",
        "# - 정렬순서 : size 내림차순\n",
        "SELECT\n",
        "  name,\n",
        "  CASE\n",
        "    WHEN name LIKE '%XS' THEN 'XS'\n",
        "    WHEN name LIKE '%S' THEN 'S'\n",
        "    WHEN name LIKE '%M' THEN 'M'\n",
        "    WHEN name LIKE '%XXL' THEN 'XXL'\n",
        "    WHEN name LIKE '%XL' THEN 'XL'\n",
        "    WHEN name LIKE '%L' THEN 'L'\n",
        "  END AS size\n",
        "FROM `thelook_ecommerce.products`\n",
        "ORDER BY size DESC;"
      ],
      "metadata": {
        "id": "445hSf4SW941"
      },
      "execution_count": null,
      "outputs": []
    },
    {
      "cell_type": "code",
      "source": [
        "### SQL 연습문제 7-6\n",
        "\n",
        "# **각 연도의 분기별 매출 합계**\n",
        "\n",
        "# order_items 테이블에서 각 연도의 분기별 매출합계을 표시하세요.\n",
        "\n",
        "# order_items의 status가 `Complete` 인 항목만 포함합니다.\n",
        "\n",
        "# 표시항목\n",
        "\n",
        "# - year\n",
        "# - quarter\n",
        "# - sum_sale_price - 소수점 2자리 반올림\n",
        "\n",
        "# 정렬 순서\n",
        "\n",
        "# - year 오름차순\n",
        "# - quarter 오름차순\n",
        "\n",
        "SELECT\n",
        "  EXTRACT(year FROM created_at) AS year,\n",
        "  EXTRACT(quarter FROM created_at) AS quarter,\n",
        "  ROUND(SUM(sale_price), 2) AS sum_sale_price\n",
        "FROM `thelook_ecommerce.order_items`\n",
        "WHERE status = 'Complete'\n",
        "GROUP BY year, quarter\n",
        "ORDER BY year, quarter;"
      ],
      "metadata": {
        "id": "P2KIaxUodS33"
      },
      "execution_count": null,
      "outputs": []
    },
    {
      "cell_type": "code",
      "source": [
        "### SQL 연습문제 7-7\n",
        "\n",
        "# order_items 테이블에서 각 연도의 분기별 매출을 가로로 펼쳐서 표시하세요.\n",
        "\n",
        "# order_items의 status가 `Complete` 인 항목만 포함합니다.\n",
        "\n",
        "# 각 쿼터별 매출합계는 소수점 2자리까지 반올림하여 표시합니다.\n",
        "\n",
        "# 표시 항목\n",
        "\n",
        "# - YEAR\n",
        "# - Q1\n",
        "# - Q2\n",
        "# - Q3\n",
        "# - Q4\n",
        "# - TOTAL\n",
        "\n",
        "# 정렬순서\n",
        "\n",
        "# - YEAR\n",
        "\n",
        "SELECT\n",
        "  EXTRACT(year FROM created_at) AS year,\n",
        "  ROUND(SUM(CASE WHEN EXTRACT(quarter FROM created_at) = 1 THEN sale_price END), 2) AS Q1,\n",
        "  ROUND(SUM(CASE WHEN EXTRACT(quarter FROM created_at) = 2 THEN sale_price END), 2) AS Q2,\n",
        "  ROUND(SUM(CASE WHEN EXTRACT(quarter FROM created_at) = 3 THEN sale_price END), 2) AS Q3,\n",
        "  ROUND(SUM(CASE WHEN EXTRACT(quarter FROM created_at) = 4 THEN sale_price END), 2) AS Q4,\n",
        "  ROUND(SUM(sale_price), 2) AS TOTAL\n",
        "FROM `thelook_ecommerce.order_items`\n",
        "WHERE status = 'Complete'\n",
        "GROUP BY year\n",
        "ORDER BY year;"
      ],
      "metadata": {
        "id": "ANYkxjXwefny"
      },
      "execution_count": null,
      "outputs": []
    },
    {
      "cell_type": "markdown",
      "source": [
        "JOIN"
      ],
      "metadata": {
        "id": "XvylJwRRs_8D"
      }
    },
    {
      "cell_type": "code",
      "source": [
        "# 1) weniv_order 테이블과 weniv_user테이블의 JOIN후 조회\n",
        "SELECT\n",
        "  a.order_id,\n",
        "  b.name,\n",
        "  a.created_at\n",
        "FROM `weniv.weniv_order` a\n",
        "JOIN `weniv.weniv_user` b ON a.user_id = b.id"
      ],
      "metadata": {
        "id": "j8eRyOoVtBgf"
      },
      "execution_count": null,
      "outputs": []
    },
    {
      "cell_type": "code",
      "source": [
        "# 2) weniv_order 테이블과 weniv_product 테이블의 JOIN 후 조회\n",
        "SELECT\n",
        "  a.order_id,\n",
        "  b.id as product_id,\n",
        "  b.name,\n",
        "  a.created_at as ordered_at\n",
        "FROM `weniv.weniv_order` a\n",
        "  JOIN `weniv.weniv_product` b ON a.product_id = b.id"
      ],
      "metadata": {
        "id": "nT35OlaltCPB"
      },
      "execution_count": null,
      "outputs": []
    },
    {
      "cell_type": "code",
      "source": [
        "# 3) weniv_order 테이블과 weniv_user 테이블과 weniv_product 테이블의 조회\n",
        "SELECT\n",
        "  o.*,\n",
        "  u.name as user_name,\n",
        "  p.name as product_name,\n",
        "  p.cost as product_cost\n",
        "FROM `weniv.weniv_order` o\n",
        "  JOIN `weniv.weniv_product` p on o.product_id = p.id\n",
        "    JOIN `weniv.weniv_user` u on o.user_id = u.id"
      ],
      "metadata": {
        "id": "xW-SsRATuH4A"
      },
      "execution_count": null,
      "outputs": []
    },
    {
      "cell_type": "code",
      "source": [
        "SELECT\n",
        "  t1.id AS order_item_id,\n",
        "  t1.user_id AS user_id,\n",
        "  t2.first_name AS user_name,\n",
        "  t1.product_id AS product_id,\n",
        "  t3.name AS product_name\n",
        "FROM `thelook_ecommerce.order_items` t1\n",
        "JOIN `thelook_ecommerce.users` t2 on t1.user_id = t2.id\n",
        "JOIN `thelook_ecommerce.products` t3 on t1.product_id = t3.id"
      ],
      "metadata": {
        "id": "fRK3BK7QG7yH"
      },
      "execution_count": null,
      "outputs": []
    },
    {
      "cell_type": "code",
      "source": [
        "SELECT\n",
        "  t2.city,\n",
        "  count(t1.id) AS order_count\n",
        "FROM `thelook_ecommerce.order_items` t1\n",
        "JOIN `thelook_ecommerce.users` t2 on t1.user_id = t2.id\n",
        "JOIN `thelook_ecommerce.products` t3 on t1.product_id = t3.id\n",
        "WHERE t2.country = 'Brasil'\n",
        "AND t3.category = 'Swim'\n",
        "GROUP BY t2.city\n",
        "HAVING order_count >= 40"
      ],
      "metadata": {
        "id": "PDW7M5dWH2FE"
      },
      "execution_count": null,
      "outputs": []
    },
    {
      "cell_type": "code",
      "source": [
        "### SQL 연습문제 8-1\n",
        "\n",
        "# 회원(users) 테이블과 주문정보(orders) 테이블을 이용하여 모든 주문내역에 회원정보를 표시하세요.\n",
        "\n",
        "# - 조회 항목 :\n",
        "#     - 주문ID(order_id)\n",
        "#     - 주문한 상품 수량(num_of_item)\n",
        "#     - 회원 이름(first_name, last_name)\n",
        "#     - 주소(street_address)\n",
        "#     - 우편번호(postal_code)\n",
        "#     - 도시(city)\n",
        "#     - 국가(country)\n",
        "\n",
        "SELECT\n",
        "  order_id,\n",
        "  num_of_item,\n",
        "  first_name,\n",
        "  last_name,\n",
        "  street_address,\n",
        "  postal_code,\n",
        "  city,\n",
        "  country\n",
        "FROM `thelook_ecommerce.orders` t1\n",
        "LEFT JOIN `thelook_ecommerce.users` t2\n",
        "ON t1.user_id = t2.id\n",
        "ORDER BY order_id;\n"
      ],
      "metadata": {
        "id": "UXXFj2wjH2rw"
      },
      "execution_count": null,
      "outputs": []
    },
    {
      "cell_type": "code",
      "source": [
        "### SQL 연습문제 8-2\n",
        "\n",
        "# 회원(users) 테이블과 주문정보(orders) 테이블을 이용하여 상품을 주문한 회원의 국가가 ‘United States’이면서 주문 상태가 처리중(Processing)인 정보를 조회하시오.\n",
        "\n",
        "# - 조회 항목 : 회원 이름(first_name, last_name), 주소(street_address), 우편번호(postal_code), 도시(city), 국가(country), 주문한 상품 수량(num_of_item)\n",
        "# - 조건 : 국가가 ‘United States’이면서 주문 상태가 처리중(Processing)\n",
        "\n",
        "SELECT\n",
        "  first_name,\n",
        "  street_address,\n",
        "  postal_code,\n",
        "  city,\n",
        "  country,\n",
        "  num_of_item\n",
        "FROM `thelook_ecommerce.orders` t1\n",
        "LEFT JOIN `thelook_ecommerce.users` t2\n",
        "ON t1.user_id = t2.id\n",
        "WHERE t2.country = 'United States' AND t1.status = 'Processing'"
      ],
      "metadata": {
        "id": "mgUOvMJxKehc"
      },
      "execution_count": null,
      "outputs": []
    },
    {
      "cell_type": "code",
      "source": [
        "### SQL 연습문제 8-3\n",
        "\n",
        "# 회원(users) 테이블과 주문정보(orders) 테이블을 이용하여 국가별 총 상품 주문주(total_order_count)을 조회하시오.\n",
        "\n",
        "# - 조회 항목 : 국가명(country), 국가별 총 상품 주문주(total_order_count)\n",
        "# - 정렬 : 국가별 총 상품 주문주(total_order_count)이 많은 순으로 정렬\n",
        "\n",
        "SELECT\n",
        "  country,\n",
        "  count(order_id) AS total_order_count\n",
        "FROM `thelook_ecommerce.orders` t1\n",
        "LEFT JOIN `thelook_ecommerce.users` t2\n",
        "ON t1.user_id = t2.id\n",
        "GROUP BY country\n",
        "ORDER BY total_order_count DESC;"
      ],
      "metadata": {
        "id": "cRP2_XCCMch5"
      },
      "execution_count": null,
      "outputs": []
    },
    {
      "cell_type": "code",
      "source": [
        "### SQL 연습문제 8-4\n",
        "\n",
        "# 주문상품(order_items) 테이블과 상품정보(products) 테이블을 이용하여 필요한 정보를 조회하시오.\n",
        "\n",
        "# - 조회 항목 : 가격(cost), 카테고리(category), 상품명(name), 브랜드(brand),\n",
        "#               판매가격(retail_price), 주문상태(status), 주문일시(created_at),\n",
        "#               배송일시(shipped_at), 배송완료일시(delivered_at)\n",
        "# - 조건 : 카테고리(category)가 'Outerwear & Coats'\n",
        "# - 정렬 : 주문일시(created_at) 기준으로 최신순으로 정렬\n",
        "\n",
        "SELECT\n",
        "  t2.cost,\n",
        "  t2.category,\n",
        "  t2.name,\n",
        "  t2.brand,\n",
        "  t2.retail_price,\n",
        "  t1.status,\n",
        "  t1.created_at,\n",
        "  t1.shipped_at,\n",
        "  t1.delivered_at\n",
        "FROM `thelook_ecommerce.order_items` t1\n",
        "JOIN `thelook_ecommerce.products` t2\n",
        "  ON t1.product_id = t2.id\n",
        "WHERE t2.category = 'Outerwear & Coats'\n",
        "ORDER BY created_at DESC;"
      ],
      "metadata": {
        "id": "5UJCOL25OAqk"
      },
      "execution_count": null,
      "outputs": []
    },
    {
      "cell_type": "code",
      "source": [
        "### SQL 연습문제 8-5\n",
        "\n",
        "# 주문상품(order_items) 테이블과 상품정보(products) 테이블을 이용하여\n",
        "# 2022년 한해 주문한 상품들의 정보를 조회하시오.\n",
        "\n",
        "# - 조회 항목 : 주문일(order_date), 상품명(name), 주문상태(status),\n",
        "#               원가(cost), 판매가격(retail_price), 카테고리(category), 브랜드(brand)\n",
        "# - 주문일은 `2022-01-01` 와 같은 `%Y-%m-%d` 포맷으로 표시해주세요.\n",
        "# FORMAT_DATE 함수 이용합니다.\n",
        "# order_items의 created_at을 데이터를 사용하여 조회하면 됩니다.\n",
        "# - 조회 조건\n",
        "#     - 주문일시 : 2022-01-01 ~ 2022-12-31\n",
        "# - 정렬 조건 : 주문일시(created_at) 오름차순\n",
        "\n",
        "SELECT\n",
        "  FORMAT_DATE('%Y-%m-%d',t1.created_at) AS order_date,\n",
        "  t2.name,\n",
        "  t1.status,\n",
        "  t2.cost,\n",
        "  t2.retail_price,\n",
        "  t2.category,\n",
        "  t2.brand\n",
        "FROM `thelook_ecommerce.order_items` t1\n",
        "JOIN `thelook_ecommerce.products` t2\n",
        "  ON t1.product_id = t2.id\n",
        "WHERE FORMAT_DATE('%Y-%m-%d',t1.created_at) between '2022-01-01' and '2022-12-31'\n",
        "# WHERE EXTRACT(YEAR FROM t1.created_at) = 2022        도 사용 가능하다.\n",
        "ORDER BY created_at;"
      ],
      "metadata": {
        "id": "6JyfvyW-UJVc"
      },
      "execution_count": null,
      "outputs": []
    },
    {
      "cell_type": "code",
      "source": [
        "### SQL 연습문제 8-6\n",
        "\n",
        "# 주문상품(order_items) 테이블과 상품정보(products) 테이블을 이용하여\n",
        "# 주문한 상품의 브랜드 별 평균판매가격(brand_avg_sale_price)을 조회하시오.\n",
        "\n",
        "# - 조회 항목\n",
        "#     - 브랜드(brand)\n",
        "#     - 브랜드 별 평균판매가격(brand_avg_sale_price)\n",
        "#         - 소수점 2자리까지 표시, 반올림 처리\n",
        "# - 정렬 : 브랜드명 오름차순 정렬\n",
        "\n",
        "SELECT\n",
        "  t2.brand,\n",
        "  ROUND(AVG(t1.sale_price), 2) AS brand_avg_sale_price\n",
        "FROM `thelook_ecommerce.order_items` t1\n",
        "JOIN `thelook_ecommerce.products` t2\n",
        "  ON t1.product_id = t2.id\n",
        "GROUP BY brand\n",
        "ORDER BY brand;"
      ],
      "metadata": {
        "id": "-FCKNVQjXOPm"
      },
      "execution_count": null,
      "outputs": []
    },
    {
      "cell_type": "code",
      "source": [
        "### SQL 연습문제 8-7\n",
        "\n",
        "# 주문상품(order_items) 테이블과 상품정보(products) 테이블을 이용하여\n",
        "\n",
        "# 여성파트 주문완료상품의 날짜별 상품별 매출합계과 평균매출을 구하세요.\n",
        "\n",
        "# 단 주문건수가 2개이상인 데이터만 표시하세요.\n",
        "\n",
        "# 조회항목\n",
        "\n",
        "# - 주문일 (order_date)\n",
        "#     - 표시 형식 : 2022-01-01\n",
        "# - 상품명 (product_name)\n",
        "# - 주문건수 (order_count)\n",
        "# - 매출합계 (sum_sale_price) - 소수점 2자리까지 표시, 반올림\n",
        "# - 평균매출(avg_sale_price) - 소수점 2자리까지 표시, 반올림\n",
        "\n",
        "# 필터 조건\n",
        "\n",
        "# - 상품의 department가 Women 입니다.\n",
        "# - 주문의 상태가 `Complete` 인 주문만 포함합니다.\n",
        "# - 주문건수가 2개 이상 데이터만 표시\n",
        "\n",
        "# 정렬조건\n",
        "\n",
        "# - 주문일 오름차순\n",
        "# - 상품명 오름차순\n",
        "\n",
        "SELECT\n",
        "  FORMAT_DATE('%Y-%m-%d',t1.created_at) AS order_date,\n",
        "  t2.name AS product_name,\n",
        "  count(t1.id) AS order_count,\n",
        "  ROUND(SUM(t1.sale_price), 2) AS sum_sale_price,\n",
        "  ROUND(AVG(t1.sale_price), 2) AS avg_sale_price\n",
        "FROM `thelook_ecommerce.order_items` t1\n",
        "JOIN `thelook_ecommerce.products` t2\n",
        "  ON t1.product_id = t2.id\n",
        "WHERE t2.department = 'Women'\n",
        "AND t1.status = 'Complete'\n",
        "GROUP BY order_date, product_name\n",
        "HAVING order_count >= 2\n",
        "ORDER BY order_date, product_name;"
      ],
      "metadata": {
        "id": "PqhWGvW2XRxV"
      },
      "execution_count": null,
      "outputs": []
    },
    {
      "cell_type": "code",
      "source": [
        "### SQL 연습문제 8-8\n",
        "\n",
        "# 주문상품(order_items) 테이블과 상품정보(products) 테이블을 이용하여 주문id 당 매출 합계 정보를 구하세요.\n",
        "\n",
        "# group by order_id를 이용하세요.\n",
        "\n",
        "# - 조회 항목 :\n",
        "#     - 주문 id(order_id)\n",
        "#     - 비용 합계(sum_cost)\n",
        "#     - 판매가격 합계(sum_retail_price)\n",
        "#     - 총 이익(sum_profit)\n",
        "\n",
        "SELECT\n",
        "  t1.order_id,\n",
        "  ROUND(SUM(t2.cost), 2) AS sum_cost,\n",
        "  ROUND(SUM(t2.retail_price), 2) AS sum_retail_price,\n",
        "  ROUND(SUM(t2.retail_price - t2.cost), 2) AS sum_profit\n",
        "FROM `thelook_ecommerce.order_items` t1\n",
        "JOIN `thelook_ecommerce.products` t2\n",
        "  ON t1.product_id = t2.id\n",
        "GROUP BY t1.order_id\n",
        "ORDER BY t1.order_id\n"
      ],
      "metadata": {
        "id": "gpqW5rpYXRh9"
      },
      "execution_count": null,
      "outputs": []
    },
    {
      "cell_type": "code",
      "source": [
        "### SQL 연습문제 8-9\n",
        "\n",
        "# 사용자 이벤트(events) 테이블에서 일별 이벤트타입별 이벤트 발생 횟수를 조회해보세요.\n",
        "\n",
        "# 조회항목\n",
        "\n",
        "# - 이벤트 발생일(date)\n",
        "# - home 이벤트 횟수 (home)\n",
        "# - department 이벤트 횟수 (department)\n",
        "# - product 이벤트 횟수 (product)\n",
        "# - cart 이벤트 횟수 (cart)\n",
        "# - purchase 이벤트 횟수 (purchase)\n",
        "# - cancel 이벤트 횟수 (cancel)\n",
        "\n",
        "# 정렬순서\n",
        "\n",
        "# - 이벤트 발생인 오름차순\n",
        "\n",
        "SELECT\n",
        "  FORMAT_DATE('%Y-%m-%d', created_at) AS date,\n",
        "  count(CASE WHEN event_type = 'home' THEN 1 END) AS home,\n",
        "  count(CASE WHEN event_type = 'department' THEN 1 END) AS department,\n",
        "  count(CASE WHEN event_type = 'product' THEN 1 END) AS product,\n",
        "  count(CASE WHEN event_type = 'cart' THEN 1 END) AS cart,\n",
        "  count(CASE WHEN event_type = 'purchase' THEN 1 END) AS purchase,\n",
        "  count(CASE WHEN event_type = 'cancel' THEN 1 END) AS cancel\n",
        "FROM `thelook_ecommerce.events`\n",
        "GROUP BY date\n",
        "ORDER BY date;"
      ],
      "metadata": {
        "id": "3rhkxx3UjkNr"
      },
      "execution_count": null,
      "outputs": []
    },
    {
      "cell_type": "code",
      "source": [
        "SELECT\n",
        "      DATE(created_at) as date\n",
        "     ,SUM(if(event_type = \"home\", 1, 0)) as home\n",
        "     ,SUM(if(event_type = \"department\", 1, 0)) as department\n",
        "     ,SUM(if(event_type = \"product\", 1, 0)) as product\n",
        "     ,SUM(if(event_type = \"cart\", 1, 0)) as cart\n",
        "     ,SUM(if(event_type = \"purchase\", 1, 0)) as purchase\n",
        "     ,SUM(if(event_type = \"cancel\", 1, 0)) as cancel\n",
        "FROM `thelook_ecommerce.events`\n",
        "GROUP BY date\n",
        "ORDER BY date;"
      ],
      "metadata": {
        "id": "N3Un4fmbmTCY"
      },
      "execution_count": null,
      "outputs": []
    }
  ]
}