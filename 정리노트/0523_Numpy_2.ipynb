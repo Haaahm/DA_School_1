{
  "nbformat": 4,
  "nbformat_minor": 0,
  "metadata": {
    "colab": {
      "provenance": []
    },
    "kernelspec": {
      "name": "python3",
      "display_name": "Python 3"
    },
    "language_info": {
      "name": "python"
    }
  },
  "cells": [
    {
      "cell_type": "markdown",
      "source": [
        "브로드 캐스팅\n",
        "- 두 배열 간 차원의 크기가 같다 -> 그냥 계산\n",
        "- 두 배열 간 차원의 크기가 다르고, 한 배열의 차원이 1차원(벡터)\n",
        "- **차원을 늘렸을 때 계산이 가능한 경우!**"
      ],
      "metadata": {
        "id": "ilBHnTgIAZ1o"
      }
    },
    {
      "cell_type": "markdown",
      "source": [
        "### 난수 생성 함수\n",
        "\n",
        "Random\n",
        "* 랜덤한 값을 뽑아줄 때 사용.\n",
        "* 가짜값을 이용해 예제를 생성해 실습해볼 때 사용한다."
      ],
      "metadata": {
        "id": "FiLKHvIFBtse"
      }
    },
    {
      "cell_type": "code",
      "execution_count": null,
      "metadata": {
        "id": "sUb7mIRO7h8E"
      },
      "outputs": [],
      "source": [
        "import numpy as np"
      ]
    },
    {
      "cell_type": "code",
      "source": [
        "a = np.random.rand(2, 2) # rand는 0과 1사이의 랜덤값 생성\n",
        "print(a)"
      ],
      "metadata": {
        "colab": {
          "base_uri": "https://localhost:8080/"
        },
        "id": "GLgNbCNRCE1x",
        "outputId": "d07e6379-0e2d-4f04-de0a-68fd993771e5"
      },
      "execution_count": null,
      "outputs": [
        {
          "output_type": "stream",
          "name": "stdout",
          "text": [
            "[[0.28707913 0.15323905]\n",
            " [0.04306072 0.02312007]]\n"
          ]
        }
      ]
    },
    {
      "cell_type": "code",
      "source": [
        "b = np.random.randn(2, 2) # randn는 평균이 0, 분산이 1: 표준 정규분포 값 이내에서 랜덤값 생성\n",
        "print(b)"
      ],
      "metadata": {
        "colab": {
          "base_uri": "https://localhost:8080/"
        },
        "id": "PIM_97asCkpI",
        "outputId": "fa56f572-fb9f-441e-d65a-26c7a37e90fc"
      },
      "execution_count": null,
      "outputs": [
        {
          "output_type": "stream",
          "name": "stdout",
          "text": [
            "[[ 1.29491662 -0.360521  ]\n",
            " [-0.66408915 -0.55765453]]\n"
          ]
        }
      ]
    },
    {
      "cell_type": "code",
      "source": [
        "c = np.random.randint(0, 10, size=5) # 랜덤한 정수값 생성\n",
        "print(c)"
      ],
      "metadata": {
        "colab": {
          "base_uri": "https://localhost:8080/"
        },
        "id": "gSFVup7hDOVu",
        "outputId": "5d13817e-7849-47cc-ca2a-e63d11779772"
      },
      "execution_count": null,
      "outputs": [
        {
          "output_type": "stream",
          "name": "stdout",
          "text": [
            "[6 9 3 4 9]\n"
          ]
        }
      ]
    },
    {
      "cell_type": "code",
      "source": [
        "c2 = np.random.randint(0, 10, size=(2, 2)) # 랜덤한 정수값 생성\n",
        "print(c2)"
      ],
      "metadata": {
        "colab": {
          "base_uri": "https://localhost:8080/"
        },
        "id": "JrdMaSJgDlzW",
        "outputId": "a7594e22-dcf9-4a97-ccaf-f02d1add2f46"
      },
      "execution_count": null,
      "outputs": [
        {
          "output_type": "stream",
          "name": "stdout",
          "text": [
            "[[0 1]\n",
            " [5 4]]\n"
          ]
        }
      ]
    },
    {
      "cell_type": "code",
      "source": [
        "d = np.arange(10) # 0 ~ 9 까지 값을 생성\n",
        "np.random.shuffle(d) #복사본 생성이 안된다. 원본 값이 변한다.\n",
        "print(d)"
      ],
      "metadata": {
        "colab": {
          "base_uri": "https://localhost:8080/"
        },
        "id": "aCU_m3mfFVvX",
        "outputId": "dc1f6bdb-54a3-4771-f3f6-ffe493c08038"
      },
      "execution_count": null,
      "outputs": [
        {
          "output_type": "stream",
          "name": "stdout",
          "text": [
            "[2 1 0 7 3 8 6 4 9 5]\n"
          ]
        }
      ]
    },
    {
      "cell_type": "code",
      "source": [
        "choice = np.random.choice(d, 5) # 중복을 허용한다.\n",
        "print(choice)"
      ],
      "metadata": {
        "colab": {
          "base_uri": "https://localhost:8080/"
        },
        "id": "Pwczr67PD0Bu",
        "outputId": "37b66b7a-51b4-4e8c-e2e4-3a3a7246b32b"
      },
      "execution_count": null,
      "outputs": [
        {
          "output_type": "stream",
          "name": "stdout",
          "text": [
            "[3 8 2 4 2]\n"
          ]
        }
      ]
    },
    {
      "cell_type": "code",
      "source": [
        "choice = np.random.choice(d, 5, replace=False) # 중복을 허용하지 않는다.\n",
        "print(choice)"
      ],
      "metadata": {
        "colab": {
          "base_uri": "https://localhost:8080/"
        },
        "id": "r6DJTnw5I6lS",
        "outputId": "8207ca14-012c-4611-f036-9284d96b9c2d"
      },
      "execution_count": null,
      "outputs": [
        {
          "output_type": "stream",
          "name": "stdout",
          "text": [
            "[8 1 7 6 5]\n"
          ]
        }
      ]
    },
    {
      "cell_type": "code",
      "source": [
        "choice = np.random.choice(d, 5, p=[0.1, 0, 0.3, 0.2, 0.1, 0, 0.1, 0.1, 0.1, 0]) # 지정확률 랜덤함수\n",
        "# p가 100%(1)가 되어야한다\n",
        "print(choice)"
      ],
      "metadata": {
        "colab": {
          "base_uri": "https://localhost:8080/"
        },
        "id": "xHo6leTiJi8Y",
        "outputId": "36dc2201-b464-4468-b06b-add4def5c1e3"
      },
      "execution_count": null,
      "outputs": [
        {
          "output_type": "stream",
          "name": "stdout",
          "text": [
            "[0 6 4 2 7]\n"
          ]
        }
      ]
    },
    {
      "cell_type": "code",
      "source": [
        "# permutation 순열\n",
        "a = np.arange(10)\n",
        "a_p = np.random.permutation(a) \n",
        "print(a_p)\n",
        "print(a) # 원본 바뀌지 않는다"
      ],
      "metadata": {
        "colab": {
          "base_uri": "https://localhost:8080/"
        },
        "id": "z88jrzp4KVXM",
        "outputId": "10e5a02b-c74f-411d-87ff-55ac672cde52"
      },
      "execution_count": null,
      "outputs": [
        {
          "output_type": "stream",
          "name": "stdout",
          "text": [
            "[4 6 8 0 2 1 5 7 3 9]\n",
            "[0 1 2 3 4 5 6 7 8 9]\n"
          ]
        }
      ]
    },
    {
      "cell_type": "code",
      "source": [
        "# 정규분포를 따르는 난수 생성\n",
        "# a = np.random.normal('평균', '표준편차', '갯수')\n",
        "a = np.random.normal(0, 1, 3)\n",
        "print(a)"
      ],
      "metadata": {
        "colab": {
          "base_uri": "https://localhost:8080/"
        },
        "id": "3mCYwOJTLf8I",
        "outputId": "e00f9969-d76f-4e97-8114-1726e64cf638"
      },
      "execution_count": null,
      "outputs": [
        {
          "output_type": "stream",
          "name": "stdout",
          "text": [
            "[-0.21807856  1.63469429  0.42947503]\n"
          ]
        }
      ]
    }
  ]
}