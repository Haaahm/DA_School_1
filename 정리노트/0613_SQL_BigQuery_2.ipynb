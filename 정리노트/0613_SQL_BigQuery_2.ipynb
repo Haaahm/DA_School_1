{
  "nbformat": 4,
  "nbformat_minor": 0,
  "metadata": {
    "colab": {
      "provenance": []
    },
    "kernelspec": {
      "name": "python3",
      "display_name": "Python 3"
    },
    "language_info": {
      "name": "python"
    }
  },
  "cells": [
    {
      "cell_type": "code",
      "source": [
        "https://console.cloud.google.com/bigquery"
      ],
      "metadata": {
        "id": "tnYB_8LaI8qV"
      },
      "execution_count": null,
      "outputs": []
    },
    {
      "cell_type": "code",
      "execution_count": null,
      "metadata": {
        "id": "6akoZrUuMqo0"
      },
      "outputs": [],
      "source": [
        "### 국가별 20세 이하 유저수가 500명 이상인 유저수 국가 TOP 5를 조회하는 과정입니다.\n",
        "# 어디에서 : 유저테이블\n",
        "# 조건 : 20세 이하\n",
        "# 그룹조건 : 유저수 500명이상\n",
        "# 그룹  : 국가별\n",
        "# 조회항목 : 국가명, 유저수\n",
        "# TOP5\n",
        "# 내림차순 정렬\n",
        "SELECT country, count(id) AS user_count   # 조회항목 : 국가명, 유저수\n",
        "FROM `thelook_ecommerce.users`            # 어디에서 : 유저테이블\n",
        "WHERE age <= 20                           # 조건 : 20세 이하\n",
        "GROUP BY country                          # 그룹  : 국가별\n",
        "HAVING count(id) >= 500                   # 그룹조건 : 유저수 500명이상\n",
        "ORDER BY user_count DESC                  # 내림차순 정렬\n",
        "LIMIT 5;                                  # TOP5"
      ]
    },
    {
      "cell_type": "code",
      "source": [
        "### SQL 연습문제 5-1\n",
        "\n",
        "# 회원 테이블(users)에서 국가별 유저수를 조회하세요.\n",
        "\n",
        "# - 조회 항목 : 국가명(country), 국가별 유저수(user_count)\n",
        "# - 조건 : 국가의 유저수가 3000명 이상인 국가\n",
        "# - 정렬 : 국가별 유저수 많은순으로 정렬\n",
        "\n",
        "SELECT country, count(id) AS user_count\n",
        "FROM `thelook_ecommerce.users`\n",
        "GROUP BY country\n",
        "HAVING count(id) >= 3000\n",
        "ORDER BY user_count DESC;"
      ],
      "metadata": {
        "id": "cvfC1ln4O-PQ"
      },
      "execution_count": null,
      "outputs": []
    },
    {
      "cell_type": "code",
      "source": [
        "### SQL 연습문제 5-2\n",
        "\n",
        "# 상품정보(products) 테이블에서 여성 스웨터중 판매가격이 제일 저렴한 5개를 조회하세요.\n",
        "\n",
        "# - 조건\n",
        "#     - category : Sweaters\n",
        "#     - department : Women\n",
        "# - 정렬 : 판매가격(retail_price)이 낮은 순\n",
        "# - 갯수제한 : 5개\n",
        "\n",
        "SELECT *\n",
        "FROM `thelook_ecommerce.products`\n",
        "WHERE category = 'Sweaters'\n",
        "AND department = 'Women'\n",
        "ORDER BY retail_price ASC # 기본 값이 오름차 순이라 ASC는 생락 가능하다.\n",
        "LIMIT 5;"
      ],
      "metadata": {
        "id": "wxgc5WJKPDet"
      },
      "execution_count": null,
      "outputs": []
    },
    {
      "cell_type": "code",
      "source": [
        "### SQL 연습문제 5-3\n",
        "\n",
        "# 상품정보(products) 테이블에서 여성 스웨터의 브랜드별 평균 판매가격이 100이하인 브랜드의 브랜드 이름과 여성스웨터 평균판매가격을 조회하세요.\n",
        "\n",
        "# - 조건\n",
        "#     - category : Sweaters\n",
        "#     - department : Women\n",
        "# - 그룹조건 : 평균 판매가격이 100 이하\n",
        "# - 정렬순서 : 평균 판매가격이 높은 순\n",
        "\n",
        "SELECT brand, AVG(retail_price) AS retail_price_avg\n",
        "FROM `thelook_ecommerce.products`\n",
        "WHERE category = 'Sweaters'\n",
        "AND department = 'Women'\n",
        "GROUP BY brand\n",
        "HAVING retail_price_avg <=100\n",
        "ORDER BY retail_price_avg DESC;"
      ],
      "metadata": {
        "id": "T1i3HcOSTGih"
      },
      "execution_count": null,
      "outputs": []
    },
    {
      "cell_type": "code",
      "source": [
        "### SQL 연습문제 5-4\n",
        "\n",
        "# 상품정보(products) 테이블에서 각 제품의 id, 이름, 카테고리, 브랜드, 비용(cost), 판매가(retail_price), 이익금액(profit), 이익율(profit_rate)을 조회하세요.\n",
        "\n",
        "# - 이익금액(profit) : 판매가(retail_price) - 비용(cost)\n",
        "# - 이익율(profit_rate) : (판매가(retail_price) - 비용(cost)) / 판매가(retail_price) * 100\n",
        "SELECT id,\n",
        "  name,\n",
        "  category,\n",
        "  brand,\n",
        "  cost,\n",
        "  retail_price,\n",
        "  (retail_price - cost) AS profit,\n",
        "  (retail_price - cost) / retail_price * 100 AS profit_rate\n",
        "FROM `thelook_ecommerce.products`"
      ],
      "metadata": {
        "id": "JU0ymDeYVR47"
      },
      "execution_count": null,
      "outputs": []
    },
    {
      "cell_type": "code",
      "source": [
        "### SQL 연습문제 5-5\n",
        "\n",
        "# 상품정보(products) 테이블에서 수영카테고리 제품의 각 브랜드별 최소이익율, 최대 이익율, 평균 이익율을 조회하세요.\n",
        "\n",
        "# - 조건\n",
        "#     - category : Swim\n",
        "# - 이익율(profit_rate) : (판매가(retail_price) - 비용(cost)) / 판매가(retail_price) * 100\n",
        "\n",
        "SELECT\n",
        "brand,\n",
        "MIN((retail_price - cost) / retail_price * 100) AS min_profit_rate,\n",
        "MAX((retail_price - cost) / retail_price * 100) AS max_profit_rate,\n",
        "AVG((retail_price - cost) / retail_price * 100) AS avg_profit_rate\n",
        "FROM `thelook_ecommerce.products`\n",
        "WHERE category = 'Swim'\n",
        "GROUP BY brand"
      ],
      "metadata": {
        "id": "vD6oCQqLVkL_"
      },
      "execution_count": null,
      "outputs": []
    },
    {
      "cell_type": "code",
      "source": [
        "### SQL 연습문제 5-6\n",
        "\n",
        "# 연습문제 5-5 데이터에서 평균이익율이 높은 TOP 5 브랜드와 평균이익율을 조회하세요.\n",
        "\n",
        "SELECT\n",
        "brand,\n",
        "AVG((retail_price - cost) / retail_price * 100) AS avg_profit_rate\n",
        "FROM `thelook_ecommerce.products`\n",
        "WHERE category = 'Swim'\n",
        "GROUP BY brand\n",
        "ORDER BY avg_profit_rate DESC\n",
        "LIMIT 5;"
      ],
      "metadata": {
        "id": "99QSgjxDX2JR"
      },
      "execution_count": null,
      "outputs": []
    },
    {
      "cell_type": "code",
      "source": [
        "### SQL 연습문제 5-7\n",
        "\n",
        "# 상품정보(products) 테이블에서 카테고리 별 남성 제품의 수를 조회하세요.\n",
        "# 단, 카테고리 중 ‘Sport’가 들어가지 않은 카테고리만 조회하시오.\n",
        "\n",
        "SELECT\n",
        "category,\n",
        "count(id)\n",
        "FROM `thelook_ecommerce.products`\n"
      ],
      "metadata": {
        "id": "-4BMu97eZDkr"
      },
      "execution_count": null,
      "outputs": []
    },
    {
      "cell_type": "code",
      "source": [
        "### SQL 연습문제 6-1\n",
        "\n",
        "# 상품정보(products) 테이블에서 상품의 id, 상품명(name), 판매가격(retail_price)를 조회합니다.\n",
        "\n",
        "# 판매가격은 소수점 2자리에서 반올림 합니다.\n",
        "\n",
        "SELECT\n",
        "    id,\n",
        "    name,\n",
        "    round(retail_price,2) AS retail_price\n",
        "FROM `thelook_ecommerce.products`"
      ],
      "metadata": {
        "id": "F8LYlB5tp-Tn"
      },
      "execution_count": null,
      "outputs": []
    },
    {
      "cell_type": "code",
      "source": [
        "### SQL 연습문제 6-2\n",
        "\n",
        "# 회원(users) 테이블에서 나이가 홀수인 회원만 조회하세요.\n",
        "\n",
        "# 조회 항목은 id, first_name, last_name, age 입니다.\n",
        "\n",
        "SELECT\n",
        "    id,\n",
        "    first_name,\n",
        "    last_name,\n",
        "    age\n",
        "FROM `thelook_ecommerce.users`\n",
        "WHERE MOD(age,2) = 1;"
      ],
      "metadata": {
        "id": "ZktjE5r06r_G"
      },
      "execution_count": null,
      "outputs": []
    },
    {
      "cell_type": "code",
      "source": [
        "### SQL 연습문제 6-3\n",
        "\n",
        "# 회원(users) 테이블에서 전체이름(full_name)을 조회하세요.\n",
        "\n",
        "# 성(first_name)과 이름(last_name)을 합쳐서 결과 예시와 같이 조회합니다.\n",
        "\n",
        "# 이름(last_name)은 모두 대문자로 표시합니다.\n",
        "\n",
        "select (first_name||','||upper(last_name)) as full_name\n",
        "from `thelook_ecommerce.users`\n",
        "\n",
        "# 또는\n",
        "\n",
        "select concat(first_name,', ',upper(last_name)) as full_name\n",
        "from `thelook_ecommerce.users`"
      ],
      "metadata": {
        "id": "Q2pd5a4U8FSX"
      },
      "execution_count": null,
      "outputs": []
    },
    {
      "cell_type": "code",
      "source": [
        "### SQL 연습문제 6-4\n",
        "\n",
        "# 회원(users) 테이블에서 회원아이디(id), 이메일(email), 가입연도(signup_year)을 조회하세요.\n",
        "\n",
        "SELECT\n",
        "    id,\n",
        "    email,\n",
        "    EXTRACT(YEAR FROM created_at) AS signup_year\n",
        "FROM `thelook_ecommerce.users`"
      ],
      "metadata": {
        "id": "SbTFXEWfALYJ"
      },
      "execution_count": null,
      "outputs": []
    },
    {
      "cell_type": "code",
      "source": [
        "### SQL 연습문제 6-5\n",
        "\n",
        "# 회원(users) 테이블에서 2020년 7월 1일 부터 2020년 7월 10일까지 가입한 회원정보를 조회하세요.\n",
        "\n",
        "# 가입일시는 created_at 입니다.\n",
        "\n",
        "SELECT *\n",
        "FROM `thelook_ecommerce.users`\n",
        "WHERE DATE(created_at) >= '2020-07-01'\n",
        "  AND DATE(created_at) < '2020-07-11';\n",
        "\n",
        "# 또는\n",
        "\n",
        "SELECT *\n",
        "  FROM `thelook_ecommerce.users`\n",
        " WHERE DATE(created_at) BETWEEN '2020-07-01' AND '2020-07-10';\n"
      ],
      "metadata": {
        "id": "jqowJ-vcBGY-"
      },
      "execution_count": null,
      "outputs": []
    },
    {
      "cell_type": "code",
      "source": [
        "### SQL 연습문제 6-6\n",
        "\n",
        "# 주문정보(orders) 테이블에서 현재로부터 1년전에서 오늘까지 주문한 데이터를 조회하세요.\n",
        "\n",
        "# - 현재일시 : current_datetime()\n",
        "# - 주문일시 : created_at\n",
        "\n",
        "SELECT *\n",
        "FROM `thelook_ecommerce.orders`\n",
        "WHERE DATE(created_at) >= DATE_SUB(CURRENT_DATETIME(), INTERVAL 12 MONTH)\n",
        "ORDER BY created_at DESC;"
      ],
      "metadata": {
        "id": "tipaNeJIDK51"
      },
      "execution_count": null,
      "outputs": []
    },
    {
      "cell_type": "code",
      "source": [
        "### SQL 연습문제 6-7\n",
        "\n",
        "# 회원(users) 테이블에서 가입연도(signup_year), 연도별 가입자 수(user_count)를 조회하세요.\n",
        "\n",
        "SELECT\n",
        "    EXTRACT(YEAR FROM created_at) AS signup_year,\n",
        "    count(id) AS user_count\n",
        "FROM `thelook_ecommerce.users`\n",
        "GROUP BY signup_year\n",
        "ORDER BY signup_year;"
      ],
      "metadata": {
        "id": "3GP0L6vAFKcW"
      },
      "execution_count": null,
      "outputs": []
    },
    {
      "cell_type": "code",
      "source": [
        "### SQL 연습문제 6-8\n",
        "\n",
        "# 가입회원들이 시간대별 가입자수를 확인하려고 합니다.\n",
        "\n",
        "# 회원(users) 테이블에서 0~23으로 표시되는 시간대(hour), 시간대별 가입자 수(user_count)를 조회하세요.\n",
        "\n",
        "# 정렬 순서는 시간대(hour)순입니다.\n",
        "\n",
        "SELECT\n",
        "  EXTRACT(HOUR FROM created_at) AS hour,\n",
        "  count(id) AS user_count\n",
        "FROM `thelook_ecommerce.users`\n",
        "GROUP BY hour\n",
        "ORDER BY hour"
      ],
      "metadata": {
        "id": "oqUXE1BaI4sj"
      },
      "execution_count": null,
      "outputs": []
    },
    {
      "cell_type": "code",
      "source": [
        "### SQL 연습문제 6-9\n",
        "\n",
        "# 특정 연도의 월별 주문건수\n",
        "\n",
        "# 주문정보(orders) 테이블에서 2020년도의 월별 주문건수를 조회하세요.\n",
        "\n",
        "# 조회항목은 연도, 월, 주문건수 입니다.\n",
        "\n",
        "SELECT\n",
        "  EXTRACT(YEAR FROM created_at) AS year,\n",
        "  EXTRACT(MONTH FROM created_at)AS month,\n",
        "  count(order_id)AS order_count\n",
        "FROM `thelook_ecommerce.orders`\n",
        "WHERE EXTRACT(YEAR FROM created_at) = 2020\n",
        "GROUP BY year, month # GROUP BY 1, 2 도 가능\n",
        "ORDER BY month; # ORDER BY 2 도 가능"
      ],
      "metadata": {
        "id": "uIGJSVCVKgYs"
      },
      "execution_count": null,
      "outputs": []
    },
    {
      "cell_type": "code",
      "source": [
        "### SQL 연습문제 6-10\n",
        "\n",
        "# 회원(users) 테이블에서 다음 내역을 조회하세요.\n",
        "\n",
        "# - id\n",
        "# - 이름(first_name)\n",
        "# - 이름의 길이(name_length)\n",
        "# - 이름(first_name)의 앞 3글자(part_name)\n",
        "# - 이름의 앞 3글자를 별표 처리한 이름(name_with_asterisk)\n",
        "\n",
        "SELECT\n",
        "    id,\n",
        "    first_name,\n",
        "    LENGTH(first_name) AS name_length,\n",
        "    SUBSTR(first_name, 0, 3) AS part_name,\n",
        "    REPLACE(first_name, SUBSTR(first_name, 0, 3), '***') AS name_with_asterisk,\n",
        "\n",
        "#   replace(first_name, substr(first_name, 1, 3), '***') AS name_with_asterisk2,\n",
        "#   '***' || substr(first_name, 4) as name_with_asterisk3,\n",
        "\n",
        "FROM `thelook_ecommerce.users`\n"
      ],
      "metadata": {
        "id": "ZL4A9w-iMeWZ"
      },
      "execution_count": null,
      "outputs": []
    },
    {
      "cell_type": "code",
      "source": [
        "### SQL 연습문제 6-11\n",
        "\n",
        "# 회원(users) 테이블에서 전체 유저의 가입연도별 데이터를 조회하려고 합니다.\n",
        "\n",
        "# 가입연도(signup_year), 연도별 가입자수(user_count), 최고나이(max_age), 최저나이(min_age), 평균나이(avg_age)를 조회하세요.\n",
        "\n",
        "# 평균나이는 소수점 둘째자리까지 표시해주세요. 이하 소수점은 반올림처리하여 표시해주세요.\n",
        "\n",
        "# 정렬 순서는 가입연도 순(signup_year)입니다.\n",
        "\n",
        "SELECT\n",
        "  EXTRACT(YEAR FROM created_at) AS signup_year,\n",
        "  COUNT(id) AS user_count,\n",
        "  MAX(age) AS max_age,\n",
        "  MIN(age) AS min_age,\n",
        "  ROUND(AVG(age), 2) AS avg_age\n",
        "FROM `thelook_ecommerce.users`\n",
        "GROUP BY signup_year\n",
        "ORDER BY signup_year;\n"
      ],
      "metadata": {
        "id": "M7XcKC5AOTJo"
      },
      "execution_count": null,
      "outputs": []
    },
    {
      "cell_type": "code",
      "source": [
        "### SQL 연습문제 6-12\n",
        "\n",
        "# 회원(users) 테이블에서 브라질 여성 유저의 시간대별 유저 가입자수를 조회하세요.\n",
        "\n",
        "# 조회 항목은 다음과 같습니다.\n",
        "\n",
        "# - 시간대(hour)\n",
        "# - 가입자수(user_count)\n",
        "\n",
        "SELECT\n",
        "  EXTRACT(hour FROM created_at) AS hour,\n",
        "  count(id) AS user_count\n",
        "FROM `thelook_ecommerce.users`\n",
        "WHERE country = 'Brasil'\n",
        "AND gender = 'F'\n",
        "GROUP BY hour\n",
        "ORDER BY hour"
      ],
      "metadata": {
        "id": "Hm-jVCxWPv9o"
      },
      "execution_count": null,
      "outputs": []
    },
    {
      "cell_type": "code",
      "source": [
        "### SQL 연습문제 6-13\n",
        "\n",
        "# 회원(users) 테이블에서 남성유저의 가입연도별 국가별 데이터를 조회하려고 합니다.\n",
        "\n",
        "# 조회 항목은 다음과 같습니다.\n",
        "\n",
        "# - 가입 연도(signup_year)\n",
        "# - 국가명(country)\n",
        "# - 가입자수(user_count)\n",
        "# - 최고나이(max_age)\n",
        "# - 최저나이(min_age)\n",
        "# - 평균나이(avg_age)\n",
        "\n",
        "# 정렬순서는 가입연도 내림차순, 가입자수 내림차순 입니다.\n",
        "\n",
        "# 그룹핑 결과에서 가입자수가 100명 이상인 데이터만 표시해주세요.\n",
        "\n",
        "SELECT\n",
        "  EXTRACT(year FROM created_at) AS signup_year,\n",
        "  country,\n",
        "  COUNT(id) AS user_count,\n",
        "  MAX(age) AS max_age,\n",
        "  MIN(age) AS min_age,\n",
        "  ROUND(AVG(age), 2) AS avg_age,\n",
        "FROM `thelook_ecommerce.users`\n",
        "WHERE gender = 'M'\n",
        "GROUP BY signup_year, country\n",
        "HAVING user_count >= 100\n",
        "ORDER BY signup_year DESC, user_count DESC;"
      ],
      "metadata": {
        "id": "2DSat-lRPv2h"
      },
      "execution_count": null,
      "outputs": []
    },
    {
      "cell_type": "code",
      "source": [
        "### SQL 연습문제 6-14\n",
        "\n",
        "# 다음은 회원(users) 테이블에서의 이메일의 아이디부분만 조회하는 쿼리입니다.\n",
        "\n",
        "# select left(email,INSTR(email,'@')-1)\n",
        "# from `thelook_ecommerce.users`;\n",
        "\n",
        "# 위 쿼리를 수정하여 이메일의 아이디부분의 4번째글자부터 뒤의 글자를 별표 5개로 변경처리하여 조회하세요.\n",
        "\n",
        "SELECT\n",
        "    REPLACE(email, SUBSTR (left (email, INSTR(email, '@') - 1), 4), '*****') AS bulr_email\n",
        "FROM `thelook_ecommerce.users`;"
      ],
      "metadata": {
        "id": "JlNbn7sCTVyG"
      },
      "execution_count": null,
      "outputs": []
    },
    {
      "cell_type": "code",
      "source": [
        "### SQL 연습문제 7-1\n",
        "\n",
        "# 주문정보(orders) 테이블에서 order_id, gender, gender_label(gender의 값에 따른 성별을 한글로 표시)을 해주세요.\n",
        "\n",
        "# - 필드명 : gender_label\n",
        "#     - gender가 F 이면 '여성'\n",
        "#     - gender가 M 이면 '남성'\n",
        "# - 결과로 표시할 필드\n",
        "#     - order_id\n",
        "#     - gender\n",
        "#     - gender_label\n",
        "# - 정렬순서 : order_id 오름차순\n",
        "\n",
        "SELECT\n",
        "  order_id,\n",
        "  gender,\n",
        "  CASE\n",
        "    WHEN gender = 'F' THEN '여성'\n",
        "    WHEN gender = 'M' THEN '남성' # ELSE '남성'  으로 해도 된다.\n",
        "  END AS gender_label\n",
        "FROM `thelook_ecommerce.orders`\n",
        "ORDER BY order_id;"
      ],
      "metadata": {
        "id": "tksXU3Skdj6l"
      },
      "execution_count": null,
      "outputs": []
    },
    {
      "cell_type": "code",
      "source": [
        "### SQL 연습문제 7-2\n",
        "\n",
        "# 회원(users) 테이블에서 다음 정보를 조회하세요.\n",
        "\n",
        "# 1) 조회 항목\n",
        "\n",
        "# - 유저아이디 - id,\n",
        "# - 가입연도 - year\n",
        "# - 가입월 - month\n",
        "# - 가입일 - day\n",
        "# - 이용경로(traffic_source) 한글 텍스트 -  traffic_source_label\n",
        "#     - Search → 검색엔진\n",
        "#     - Organic → 검색결과\n",
        "#     - Email → 이메일\n",
        "#     - Display → 디스플레이 광고\n",
        "#     - Facebook → 페이스북\n",
        "\n",
        "# 2) 정렬순서\n",
        "\n",
        "# - id 오름차순\n",
        "\n",
        "SELECT\n",
        "  id,\n",
        "  EXTRACT(YEAR FROM created_at) AS year,\n",
        "  EXTRACT(MONTH FROM created_at) AS month,\n",
        "  EXTRACT(DAY FROM created_at) AS day,\n",
        "  CASE\n",
        "    WHEN traffic_source = 'Search' THEN '검색엔진'\n",
        "    WHEN traffic_source = 'Organic' THEN '검색결과'\n",
        "    WHEN traffic_source = 'Email' THEN '이메일'\n",
        "    WHEN traffic_source = 'Display' THEN '디스플레이 광고'\n",
        "    WHEN traffic_source = 'Facebook' THEN '페이스북'\n",
        "  END AS traffic_source_label\n",
        "FROM `thelook_ecommerce.users`\n",
        "ORDER BY id;"
      ],
      "metadata": {
        "id": "CtU1KyeWey-2"
      },
      "execution_count": null,
      "outputs": []
    },
    {
      "cell_type": "code",
      "source": [
        "SELECT\n",
        "  id,\n",
        "  EXTRACT(YEAR FROM created_at) AS year,\n",
        "  EXTRACT(MONTH FROM created_at) AS month,\n",
        "  EXTRACT(DAY FROM created_at) AS day,\n",
        "# 차이점. 단순 비교할땐 이게 더 좋은 코드.\n",
        " CASE traffic_source\n",
        "    WHEN 'Search' THEN '검색엔진'\n",
        "    WHEN 'Organic' THEN '검색결과'\n",
        "    WHEN 'Email' THEN '이메일'\n",
        "    WHEN 'Display' THEN '디스플레이 광고'\n",
        "    WHEN 'Facebook' THEN '페이스북'\n",
        "  END AS traffic_source_label\n",
        "FROM `thelook_ecommerce.users`\n",
        "ORDER BY id;"
      ],
      "metadata": {
        "id": "_KeMjpqZgWly"
      },
      "execution_count": null,
      "outputs": []
    }
  ]
}