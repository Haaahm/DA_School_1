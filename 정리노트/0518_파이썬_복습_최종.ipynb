{
  "nbformat": 4,
  "nbformat_minor": 0,
  "metadata": {
    "colab": {
      "provenance": []
    },
    "kernelspec": {
      "name": "python3",
      "display_name": "Python 3"
    },
    "language_info": {
      "name": "python"
    }
  },
  "cells": [
    {
      "cell_type": "markdown",
      "source": [
        "#1. 함수_복습"
      ],
      "metadata": {
        "id": "h7wrSNOJMwbb"
      }
    },
    {
      "cell_type": "code",
      "source": [
        "# 함수 정의\n",
        "\n",
        "def add(x, y):\n",
        "\tvalue = x + y\n",
        "\treturn value\n",
        "\n",
        "add(3,4)"
      ],
      "metadata": {
        "colab": {
          "base_uri": "https://localhost:8080/"
        },
        "id": "0fG32qeaMy3F",
        "outputId": "552c0853-6560-4117-9b6f-dcd932608842"
      },
      "execution_count": null,
      "outputs": [
        {
          "output_type": "execute_result",
          "data": {
            "text/plain": [
              "7"
            ]
          },
          "metadata": {},
          "execution_count": 1
        }
      ]
    },
    {
      "cell_type": "code",
      "source": [
        "# 가장 선호\n",
        "x = add(3,4)\n",
        "print(x)"
      ],
      "metadata": {
        "colab": {
          "base_uri": "https://localhost:8080/"
        },
        "id": "4UJTflOXNfBk",
        "outputId": "8b4e6f66-7393-4172-f631-e0ebd175cd79"
      },
      "execution_count": null,
      "outputs": [
        {
          "output_type": "stream",
          "name": "stdout",
          "text": [
            "7\n"
          ]
        }
      ]
    },
    {
      "cell_type": "code",
      "source": [
        "print(add(3,4))"
      ],
      "metadata": {
        "colab": {
          "base_uri": "https://localhost:8080/"
        },
        "id": "HZvAGwwbNnzH",
        "outputId": "be94778f-5f11-47db-ff3b-a15f23a89e11"
      },
      "execution_count": null,
      "outputs": [
        {
          "output_type": "stream",
          "name": "stdout",
          "text": [
            "7\n"
          ]
        }
      ]
    },
    {
      "cell_type": "code",
      "source": [
        "# 위치 인수의 예시\n",
        "\n",
        "def sum_tax(price, unit, fee, tax_rate):\n",
        "  return price * unit + fee + tax_rate\n",
        "\n",
        "x = sum_tax(1000,2000,3000,4000)\n",
        "\n",
        "print(x)"
      ],
      "metadata": {
        "colab": {
          "base_uri": "https://localhost:8080/"
        },
        "id": "W2Pu7XtKNowx",
        "outputId": "ea0c871b-fe2f-43b9-887d-d772b654d4d0"
      },
      "execution_count": null,
      "outputs": [
        {
          "output_type": "stream",
          "name": "stdout",
          "text": [
            "2007000\n"
          ]
        }
      ]
    },
    {
      "cell_type": "code",
      "source": [
        "def sum_tax(price, unit, fee, tax_rate):\n",
        "  return price * unit + fee + tax_rate\n",
        "\n",
        "x = sum_tax(3000,1000,2000,4000)\n",
        "\n",
        "print(x)"
      ],
      "metadata": {
        "colab": {
          "base_uri": "https://localhost:8080/"
        },
        "id": "hKQtZSq8OkOP",
        "outputId": "021a731e-2e2c-4db5-850b-1e76201b6932"
      },
      "execution_count": null,
      "outputs": [
        {
          "output_type": "stream",
          "name": "stdout",
          "text": [
            "3006000\n"
          ]
        }
      ]
    },
    {
      "cell_type": "code",
      "source": [
        "# 키워드 인수 예제 \n",
        "x = sum_tax(price = 1000, unit = 2000,fee = 3000,tax_rate = 4000)\n",
        "\n",
        "print(x)"
      ],
      "metadata": {
        "colab": {
          "base_uri": "https://localhost:8080/"
        },
        "id": "HWQ3GEOfOoK4",
        "outputId": "f18727b5-9b10-402d-e68d-3598a39c76b1"
      },
      "execution_count": null,
      "outputs": [
        {
          "output_type": "stream",
          "name": "stdout",
          "text": [
            "2007000\n"
          ]
        }
      ]
    },
    {
      "cell_type": "code",
      "source": [
        "# 키워드 인수 + 위치 인수 예제 \n",
        "x = sum_tax(1000, 200, fee = 3000, 4000)\n",
        "\n",
        "print(x)"
      ],
      "metadata": {
        "colab": {
          "base_uri": "https://localhost:8080/",
          "height": 134
        },
        "id": "AQpWjl3_OvpX",
        "outputId": "5e22e3f8-5fcc-4f91-ed30-755e26906b48"
      },
      "execution_count": null,
      "outputs": [
        {
          "output_type": "error",
          "ename": "SyntaxError",
          "evalue": "ignored",
          "traceback": [
            "\u001b[0;36m  File \u001b[0;32m\"<ipython-input-9-18683a94770c>\"\u001b[0;36m, line \u001b[0;32m2\u001b[0m\n\u001b[0;31m    x = sum_tax(1000, 200, fee = 3000, 4000)\u001b[0m\n\u001b[0m                                           ^\u001b[0m\n\u001b[0;31mSyntaxError\u001b[0m\u001b[0;31m:\u001b[0m positional argument follows keyword argument\n"
          ]
        }
      ]
    },
    {
      "cell_type": "code",
      "source": [
        "# * arg의 예시\n",
        "\n",
        "def func(x, y , *args):\n",
        "  print(x)\n",
        "  print(y)\n",
        "  if args:\n",
        "    print(args)\n",
        "\n",
        "func(1, 2)\n",
        "\n",
        "# *args를 사용하면 3,4,5에 대해서 패킹한다.\n",
        "func(1,2,3,4,5)"
      ],
      "metadata": {
        "colab": {
          "base_uri": "https://localhost:8080/"
        },
        "id": "R62_i2XgOyTd",
        "outputId": "b6df0787-a198-464d-b0cb-e15f6c7cd899"
      },
      "execution_count": null,
      "outputs": [
        {
          "output_type": "stream",
          "name": "stdout",
          "text": [
            "1\n",
            "2\n"
          ]
        }
      ]
    },
    {
      "cell_type": "code",
      "source": [
        "## **kwargs 예제 \n",
        "\n",
        "def func(x, y , **kwargs):\n",
        "  print(x)\n",
        "  print(y)\n",
        "  if kwargs:\n",
        "    print(kwargs)\n",
        "\n",
        "func(x = 1, y = 2, z = 3)\n",
        "print()\n",
        "func(x = 1, y = 2, z = 3, w = 4, r = 5)"
      ],
      "metadata": {
        "id": "8v7N1o8pQBMp",
        "colab": {
          "base_uri": "https://localhost:8080/"
        },
        "outputId": "90f8e524-28be-410e-d889-c902d6093951"
      },
      "execution_count": null,
      "outputs": [
        {
          "output_type": "stream",
          "name": "stdout",
          "text": [
            "1\n",
            "2\n",
            "{'z': 3}\n",
            "\n",
            "1\n",
            "2\n",
            "{'z': 3, 'w': 4, 'r': 5}\n"
          ]
        }
      ]
    },
    {
      "cell_type": "code",
      "source": [
        "# *과 **의 조합\n",
        "\n",
        "def func(a, *args, **kwargs):\n",
        "  print(a)\n",
        "  print(args)\n",
        "  print(kwargs)\n",
        "\n",
        "func(1, 100, 200 ,x = 1, y = 2)\n",
        "print()\n",
        "func(1, 100, 200, x = 1,y = 2,z = 3,w = 4,r = 5)"
      ],
      "metadata": {
        "colab": {
          "base_uri": "https://localhost:8080/"
        },
        "id": "HDve8Eh7Q4dj",
        "outputId": "328e4f51-f3ca-44b8-8772-05fb6c4d453d"
      },
      "execution_count": null,
      "outputs": [
        {
          "output_type": "stream",
          "name": "stdout",
          "text": [
            "1\n",
            "(100, 200)\n",
            "{'x': 1, 'y': 2}\n",
            "\n",
            "1\n",
            "(100, 200)\n",
            "{'x': 1, 'y': 2, 'z': 3, 'w': 4, 'r': 5}\n"
          ]
        }
      ]
    },
    {
      "cell_type": "code",
      "source": [
        "# 함수 바깥에서의 *와 **는 언패킹이 된다.\n",
        "\n",
        "# [리스트, 튜플 언패킹]\n",
        "\n",
        "def func(x, y, z):\n",
        "  print(x, y, z)\n",
        "  return x + y + z\n",
        "\n",
        "params = [1,2,3]\n",
        "w = func(*params)\n",
        "print(w)"
      ],
      "metadata": {
        "id": "5wVq_hqHR1aV",
        "colab": {
          "base_uri": "https://localhost:8080/"
        },
        "outputId": "617dc1fa-f0d5-422d-c203-4256c1f2f81a"
      },
      "execution_count": null,
      "outputs": [
        {
          "output_type": "stream",
          "name": "stdout",
          "text": [
            "1 2 3\n",
            "6\n"
          ]
        }
      ]
    },
    {
      "cell_type": "code",
      "source": [
        "# 딕셔너리 언패킹\n",
        "\n",
        "def func(x,y,z):\n",
        "  print(x,y,z)\n",
        "  return x + y+ z\n",
        "\n",
        "params = {\"x\" : 1, \"y\" : 2, \"z\" : 3} # -> func(1,2,3)\n",
        "w = func(**params)\n",
        "print(w)"
      ],
      "metadata": {
        "colab": {
          "base_uri": "https://localhost:8080/"
        },
        "id": "VuVIAynjSnP3",
        "outputId": "23bcbf5d-f606-4c45-ca2c-4169f124ac99"
      },
      "execution_count": null,
      "outputs": [
        {
          "output_type": "stream",
          "name": "stdout",
          "text": [
            "1 2 3\n",
            "6\n"
          ]
        }
      ]
    },
    {
      "cell_type": "code",
      "source": [
        "# 언패킹 결합\n",
        "\n",
        "def func(x,y,z,a,b):\n",
        "  print(x,y,z,a,b)\n",
        "  return x+y+z+a+b\n",
        "\n",
        "params1 = [1,2,3]\n",
        "params2 = {\"a\" : 4, \"b\" : 5}\n",
        "w = func(*params1, **params2)\n",
        "print(w)"
      ],
      "metadata": {
        "colab": {
          "base_uri": "https://localhost:8080/"
        },
        "id": "U4O47URhTRhc",
        "outputId": "ab1241b9-b355-464e-e33e-361298108c36"
      },
      "execution_count": null,
      "outputs": [
        {
          "output_type": "stream",
          "name": "stdout",
          "text": [
            "1 2 3 4 5\n",
            "15\n"
          ]
        }
      ]
    },
    {
      "cell_type": "code",
      "source": [
        "# 함수의 변수화\n",
        "\n",
        "def add_num(x, y):\n",
        "  return x + y\n",
        "\n",
        "f = add_num\n",
        "\n",
        "y = add_num(100,200)\n",
        "print(y)\n",
        "\n",
        "x = f(100, 200)\n",
        "print(x)"
      ],
      "metadata": {
        "colab": {
          "base_uri": "https://localhost:8080/"
        },
        "id": "GKe9pNMHUWiq",
        "outputId": "d3c811d5-c8fa-4b5a-ebfd-ec13b818ff68"
      },
      "execution_count": null,
      "outputs": [
        {
          "output_type": "stream",
          "name": "stdout",
          "text": [
            "300\n",
            "300\n"
          ]
        }
      ]
    },
    {
      "cell_type": "code",
      "source": [
        "# 데코레이터\n",
        "def uppercase_decorator(func):\n",
        "    def wrapper():\n",
        "        result = func().upper()\n",
        "        return result\n",
        "    return wrapper\n",
        "\n",
        "def say_hello():\n",
        "    return \"hello\"\n",
        "\n",
        "print(say_hello())  # 출력: HELLO"
      ],
      "metadata": {
        "colab": {
          "base_uri": "https://localhost:8080/"
        },
        "id": "zPg3-WbQTnU3",
        "outputId": "fcd1e181-68f1-4144-c335-4e526a433377"
      },
      "execution_count": null,
      "outputs": [
        {
          "output_type": "stream",
          "name": "stdout",
          "text": [
            "hello\n"
          ]
        }
      ]
    },
    {
      "cell_type": "code",
      "source": [
        "def uppercase_decorator(func):\n",
        "    def wrapper():\n",
        "        result = func().upper()\n",
        "        return result\n",
        "    return wrapper\n",
        "\n",
        "@uppercase_decorator\n",
        "def say_hello():\n",
        "    return \"hello\"\n",
        "\n",
        "print(say_hello())  # 출력: HELLO"
      ],
      "metadata": {
        "colab": {
          "base_uri": "https://localhost:8080/"
        },
        "id": "KdN-0nkLVdOt",
        "outputId": "cb86e905-6871-463d-d9b2-d169e6516ef4"
      },
      "execution_count": null,
      "outputs": [
        {
          "output_type": "stream",
          "name": "stdout",
          "text": [
            "HELLO\n"
          ]
        }
      ]
    },
    {
      "cell_type": "code",
      "source": [
        "# 제너레이터 예시\n",
        "\n",
        "# 파이썬에서는 제너레이터라는 기능도 제공합니다. \n",
        "# 제너레이터를 사용하면 함수를 처리하는 도중에 잠시 중단하고, \n",
        "# 값을 반환할 수 있으며, 이를 yield라고도 부릅니다. \n",
        "# 이후 필요에 따라 처리를 할 수도 있습니다.\n",
        "\n",
        "# 제너레이터 함수의 반환값은 generator 타입 변수입니다. \n",
        "# 제너레이터 객체는 next함수를 이용해 다음 값을 반환할 수 있습니다."
      ],
      "metadata": {
        "id": "7mjEBWgmYqwD"
      },
      "execution_count": null,
      "outputs": []
    },
    {
      "cell_type": "code",
      "source": [
        "def sample_generator():\n",
        "  \"\"\"제너레이터 함수\"\"\"\n",
        "  print(\"처리 시작\")\n",
        "  print(\"처리 재개\")\n",
        "  print(\"처리 재개\")\n",
        "\n",
        "gen_obj = sample_generator() #제너레이터 객체 생성"
      ],
      "metadata": {
        "colab": {
          "base_uri": "https://localhost:8080/"
        },
        "id": "M2mORpPgZqwf",
        "outputId": "8cdec820-646d-4f15-b5df-3437ac35050b"
      },
      "execution_count": null,
      "outputs": [
        {
          "output_type": "stream",
          "name": "stdout",
          "text": [
            "처리 시작\n",
            "처리 재개\n",
            "처리 재개\n"
          ]
        }
      ]
    },
    {
      "cell_type": "code",
      "source": [
        "def sample_generator():\n",
        "  \"\"\"제너레이터 함수\"\"\"\n",
        "  print(\"처리 시작\")\n",
        "  yield \"아침 먹자\"\n",
        "  print(\"처리 재개\")\n",
        "  yield \"점심 먹자\"\n",
        "  print(\"처리 재개\")\n",
        "  yield \"저녁 먹자\"\n",
        "\n",
        "gen_obj = sample_generator() #제너레이터 객체 생성\n",
        "print(next(gen_obj))"
      ],
      "metadata": {
        "colab": {
          "base_uri": "https://localhost:8080/"
        },
        "id": "XmlBTX3cZjPC",
        "outputId": "b7720a39-8460-47fd-f8a9-b69e333a7e36"
      },
      "execution_count": null,
      "outputs": [
        {
          "output_type": "stream",
          "name": "stdout",
          "text": [
            "처리 시작\n",
            "아침 먹자\n"
          ]
        }
      ]
    },
    {
      "cell_type": "code",
      "source": [
        "print(next(gen_obj))"
      ],
      "metadata": {
        "colab": {
          "base_uri": "https://localhost:8080/"
        },
        "id": "Hla0g4fnZx6e",
        "outputId": "8f847bbc-6022-4ff8-f360-f70e9db498aa"
      },
      "execution_count": null,
      "outputs": [
        {
          "output_type": "stream",
          "name": "stdout",
          "text": [
            "처리 재개\n",
            "점심 먹자\n"
          ]
        }
      ]
    },
    {
      "cell_type": "code",
      "source": [
        "print(next(gen_obj))"
      ],
      "metadata": {
        "colab": {
          "base_uri": "https://localhost:8080/"
        },
        "id": "gh1CxTN0Z0Km",
        "outputId": "adfb2750-71bd-4a51-81a2-de090eec8dfa"
      },
      "execution_count": null,
      "outputs": [
        {
          "output_type": "stream",
          "name": "stdout",
          "text": [
            "처리 재개\n",
            "저녁 먹자\n"
          ]
        }
      ]
    },
    {
      "cell_type": "code",
      "source": [
        "# next로 호출될때까지 실행이 중단되는것을 볼 수 있습니다. \n",
        "# 그리고 다시 next로 실행하면 yield가 실행되는것까지 재개되는것을 볼 수 있습니다. "
      ],
      "metadata": {
        "id": "5ZetWtwQZ1aX"
      },
      "execution_count": null,
      "outputs": []
    },
    {
      "cell_type": "markdown",
      "source": [
        "# 2. 클래스_복습"
      ],
      "metadata": {
        "id": "NaMKXdWaapzR"
      }
    },
    {
      "cell_type": "code",
      "source": [
        "class 클래스명:\n",
        "  def __init__(self, 인수):\n",
        "    self.인수 = 인수\n",
        "    self.인수1 = 인수1\n",
        "\n",
        "  def 메서드명(self,인수):\n",
        "    메서드 행동"
      ],
      "metadata": {
        "id": "pKQREiMSargs"
      },
      "execution_count": null,
      "outputs": []
    },
    {
      "cell_type": "code",
      "source": [
        "# 객체 = 클래스명(인수) - 객체 생성\n",
        "# 객체.인스턴스변수 인스턴스변수에 접근\n",
        "# 객체.메서드명(인수) 메서드 호출"
      ],
      "metadata": {
        "id": "OHVkX_5Jb3sW"
      },
      "execution_count": null,
      "outputs": []
    },
    {
      "cell_type": "code",
      "source": [
        "# 클래스 예시\n",
        "class User:\n",
        "\n",
        "  def __init__(self, name, mail):\n",
        "    \"\"\" 초기화 처리\"\"\"\n",
        "    self.name = name\n",
        "    self.mail = mail\n",
        "\n",
        "  def print_user_info(self):\n",
        "    \"\"\" 사용자 정보를 Print로 출력\"\"\"\n",
        "    print(self.name) \n",
        "    print(self.mail)"
      ],
      "metadata": {
        "id": "Iqo0tAg5cDfY"
      },
      "execution_count": null,
      "outputs": []
    },
    {
      "cell_type": "code",
      "source": [
        "# 객체 생성\n",
        "# 객체 = 클래스명(인수) - 객체 생성\n",
        "user = User(\"User1\", \"222@naver.com\")"
      ],
      "metadata": {
        "id": "7raieCHIcgcl"
      },
      "execution_count": null,
      "outputs": []
    },
    {
      "cell_type": "code",
      "source": [
        "# 인스턴스 변수 호출\n",
        "user.mail"
      ],
      "metadata": {
        "colab": {
          "base_uri": "https://localhost:8080/",
          "height": 35
        },
        "id": "Up7svtXXcy0-",
        "outputId": "3c448d3b-2b24-4499-f121-a594603a742f"
      },
      "execution_count": null,
      "outputs": [
        {
          "output_type": "execute_result",
          "data": {
            "text/plain": [
              "'222@naver.com'"
            ],
            "application/vnd.google.colaboratory.intrinsic+json": {
              "type": "string"
            }
          },
          "metadata": {},
          "execution_count": 10
        }
      ]
    },
    {
      "cell_type": "code",
      "source": [
        "#메서드 호출\n",
        "user.print_user_info()"
      ],
      "metadata": {
        "colab": {
          "base_uri": "https://localhost:8080/"
        },
        "id": "fYAa7Z3zc5td",
        "outputId": "3aa000e0-2154-40bd-bd2a-cc01cd04996e"
      },
      "execution_count": null,
      "outputs": [
        {
          "output_type": "stream",
          "name": "stdout",
          "text": [
            "User1\n",
            "222@naver.com\n"
          ]
        }
      ]
    },
    {
      "cell_type": "code",
      "source": [
        "#인스턴스 변수 갱신\n",
        "user.name = \"User2\"\n",
        "#메서드 재호출 - 갱신 확인\n",
        "user.print_user_info()"
      ],
      "metadata": {
        "id": "hoScNp9bdQ-Y",
        "colab": {
          "base_uri": "https://localhost:8080/"
        },
        "outputId": "970f0a59-3b23-453d-c587-7b58b1fd7990"
      },
      "execution_count": null,
      "outputs": [
        {
          "output_type": "stream",
          "name": "stdout",
          "text": [
            "User2\n",
            "222@naver.com\n"
          ]
        }
      ]
    },
    {
      "cell_type": "code",
      "source": [
        "# 클래스 예시\n",
        "class User:\n",
        "\n",
        "  def __init__(self, name, mail):\n",
        "    \"\"\" 초기화 처리\"\"\"\n",
        "    self.name = name\n",
        "    self.mail = mail\n",
        "\n",
        "  def print_user_info(self, address):\n",
        "    \"\"\" 사용자 정보를 Print로 출력\"\"\"\n",
        "    print(self.name) \n",
        "    print(self.mail)\n",
        "    print(address)"
      ],
      "metadata": {
        "id": "RmBb-kZ6dVA3"
      },
      "execution_count": null,
      "outputs": []
    },
    {
      "cell_type": "code",
      "source": [
        "# 객체 생성\n",
        "# 객체 = 클래스명(인수) - 객체 생성\n",
        "user = User(\"User1\", \"222@naver.com\")"
      ],
      "metadata": {
        "id": "wCc9vTgEdZyh"
      },
      "execution_count": null,
      "outputs": []
    },
    {
      "cell_type": "code",
      "source": [
        "user.print_user_info('서울특별시')"
      ],
      "metadata": {
        "id": "bXCGmhAxdbNs",
        "colab": {
          "base_uri": "https://localhost:8080/"
        },
        "outputId": "fa604b2b-fbe9-48c1-e67b-b5044e428d4c"
      },
      "execution_count": null,
      "outputs": [
        {
          "output_type": "stream",
          "name": "stdout",
          "text": [
            "User1\n",
            "222@naver.com\n",
            "서울특별시\n"
          ]
        }
      ]
    },
    {
      "cell_type": "code",
      "source": [
        "# 클래스 상속\n",
        "\n",
        "class 클래스명(상속할 클래스)\n",
        "  def __init__(self, 인수):\n",
        "    super().__init__(인수)\n",
        "    상속받은 클래스에서의 초기화처리"
      ],
      "metadata": {
        "id": "9mHNZjvWhCOz"
      },
      "execution_count": null,
      "outputs": []
    },
    {
      "cell_type": "code",
      "source": [
        "# 부모 클래스\n",
        "class User:\n",
        "\n",
        "  def __init__(self, name, mail):\n",
        "    \"\"\" 초기화 처리\"\"\"\n",
        "    self.name = name\n",
        "    self.mail = mail\n",
        "\n",
        "  def print_user_info(self):\n",
        "    \"\"\" 사용자 정보를 Print로 출력\"\"\"\n",
        "    print(self.name)\n",
        "    print(self.mail)"
      ],
      "metadata": {
        "id": "N6vWB0LteVTJ"
      },
      "execution_count": null,
      "outputs": []
    },
    {
      "cell_type": "code",
      "source": [
        "# 상속 받을 자녀 클래스\n",
        "class StudentUser(User): # StudentUser가 상속 받음\n",
        "\n",
        "  def __init__(self, name, mail, grade):\n",
        "    # 자녀클래스에서도 __init__을 통해서 초기화 메서드를 생성하려면\n",
        "    # super().__init__(인자)\n",
        "    super().__init__(name, mail)\n",
        "    self.grade = grade\n",
        "\n",
        "  def answer_question(self):\n",
        "    print(\"문제에 대답합니다.\")\n",
        "\n",
        "  def print_grade(self):\n",
        "    print(self.grade, self.name, self.mail)"
      ],
      "metadata": {
        "id": "f8gFqhuFecIg"
      },
      "execution_count": null,
      "outputs": []
    },
    {
      "cell_type": "code",
      "source": [
        "student = StudentUser(\"Student1\", \"Student1@1.1\", 3)"
      ],
      "metadata": {
        "id": "WMOPhQ8ffOlT"
      },
      "execution_count": null,
      "outputs": []
    },
    {
      "cell_type": "code",
      "source": [
        "student.grade"
      ],
      "metadata": {
        "colab": {
          "base_uri": "https://localhost:8080/"
        },
        "id": "IMYQqUzZfQ8K",
        "outputId": "cee8fd35-b028-404b-e3f4-04c903306ec0"
      },
      "execution_count": null,
      "outputs": [
        {
          "output_type": "execute_result",
          "data": {
            "text/plain": [
              "3"
            ]
          },
          "metadata": {},
          "execution_count": 21
        }
      ]
    },
    {
      "cell_type": "code",
      "source": [
        "#상속받은 User메서드 실행\n",
        "student.print_user_info()"
      ],
      "metadata": {
        "colab": {
          "base_uri": "https://localhost:8080/"
        },
        "outputId": "a87cbea6-7434-49f5-dd93-50f41f65955a",
        "id": "C0bEusZifsKW"
      },
      "execution_count": null,
      "outputs": [
        {
          "output_type": "stream",
          "name": "stdout",
          "text": [
            "Student1\n",
            "Student1@1.1\n"
          ]
        }
      ]
    },
    {
      "cell_type": "code",
      "source": [
        "#StudentUser메서드 실행\n",
        "student.answer_question()\n",
        "student.print_grade()"
      ],
      "metadata": {
        "id": "6YmS-m_4fU-7",
        "colab": {
          "base_uri": "https://localhost:8080/"
        },
        "outputId": "d5743377-61f6-4fdc-c99a-189cebddb2dc"
      },
      "execution_count": null,
      "outputs": [
        {
          "output_type": "stream",
          "name": "stdout",
          "text": [
            "문제에 대답합니다.\n",
            "3 Student1 Student1@1.1\n"
          ]
        }
      ]
    },
    {
      "cell_type": "code",
      "source": [
        "# 메서드 종류"
      ],
      "metadata": {
        "id": "hf1ZX77XfjVX"
      },
      "execution_count": null,
      "outputs": []
    },
    {
      "cell_type": "markdown",
      "source": [
        "인스턴스 메서드 - self로 설정한 클래스 기본 메서드 인스턴스 변수와 클래스변수에 접근가능\n",
        "\n",
        "클래스 메서드 - 인스턴스를 생성하지 않고 접근할 수 있는 메서드로 클래스 변수에 접근할 수 있지만 인스턴스 변수에는 접근할 수 없다. \n",
        "\n",
        "클래스 메서드를 정의할때는 @classmethod 데커레이터를 추가합니다. 그리고 첫번째 인수에 클래스 객체가 자동으로 설정됩니다.\n",
        "\n",
        "정적 메서드 - 클래스 메서드와 동일하게 인스턴스를 생성하지 않고 접근할 수 있지만 인스턴스 변수와 클래스변수 모두에 접근할 수 없습니다. @staticmethod 데커레이터를 추가하며, 실질적으로 함수와 같은것이라고 보면되는데, 함수를 적절한 클래스에 포함시키는 편이 설계상으로 바람직할때 사용합니다."
      ],
      "metadata": {
        "id": "ePIeKEILf3io"
      }
    },
    {
      "cell_type": "code",
      "source": [
        "# 비공개 메서드\n",
        "\n",
        "# 팀 단위의 개발에서 객체 지향 방식으로 구현할때는 \n",
        "# 변수 및 메서드를 외부에서 조작하지 못하도록 해야할때가 있다. \n",
        "# 변수나 메서드 앞에 __를 2개 사용해서 접근을 막을 수 있다.\n",
        "\n",
        "class Sample():\n",
        "  def __init__(self, val1):\n",
        "    self.__instance_val1 = val1\n",
        "\n",
        "  def __private_method(self):\n",
        "    print(self.__instance_val1)\n",
        "\n",
        "s = Sample(10)"
      ],
      "metadata": {
        "id": "5fTedJjDf3C6"
      },
      "execution_count": null,
      "outputs": []
    },
    {
      "cell_type": "code",
      "source": [
        "print(s.__instance_val1)"
      ],
      "metadata": {
        "id": "MUuc1Q58hkP8",
        "colab": {
          "base_uri": "https://localhost:8080/",
          "height": 174
        },
        "outputId": "e90b3b50-bb13-4174-fddd-42e0d5c8f0d5"
      },
      "execution_count": null,
      "outputs": [
        {
          "output_type": "error",
          "ename": "AttributeError",
          "evalue": "ignored",
          "traceback": [
            "\u001b[0;31m---------------------------------------------------------------------------\u001b[0m",
            "\u001b[0;31mAttributeError\u001b[0m                            Traceback (most recent call last)",
            "\u001b[0;32m<ipython-input-25-4b0e49d4a46f>\u001b[0m in \u001b[0;36m<cell line: 1>\u001b[0;34m()\u001b[0m\n\u001b[0;32m----> 1\u001b[0;31m \u001b[0mprint\u001b[0m\u001b[0;34m(\u001b[0m\u001b[0ms\u001b[0m\u001b[0;34m.\u001b[0m\u001b[0m__instance_val1\u001b[0m\u001b[0;34m)\u001b[0m\u001b[0;34m\u001b[0m\u001b[0;34m\u001b[0m\u001b[0m\n\u001b[0m",
            "\u001b[0;31mAttributeError\u001b[0m: 'Sample' object has no attribute '__instance_val1'"
          ]
        }
      ]
    },
    {
      "cell_type": "code",
      "source": [
        "s.__private_method()"
      ],
      "metadata": {
        "id": "zFN8bSGEhP7j",
        "colab": {
          "base_uri": "https://localhost:8080/",
          "height": 174
        },
        "outputId": "583c6a02-99d7-4240-acf6-d551386344d1"
      },
      "execution_count": null,
      "outputs": [
        {
          "output_type": "error",
          "ename": "AttributeError",
          "evalue": "ignored",
          "traceback": [
            "\u001b[0;31m---------------------------------------------------------------------------\u001b[0m",
            "\u001b[0;31mAttributeError\u001b[0m                            Traceback (most recent call last)",
            "\u001b[0;32m<ipython-input-26-09d7bf400a54>\u001b[0m in \u001b[0;36m<cell line: 1>\u001b[0;34m()\u001b[0m\n\u001b[0;32m----> 1\u001b[0;31m \u001b[0ms\u001b[0m\u001b[0;34m.\u001b[0m\u001b[0m__private_method\u001b[0m\u001b[0;34m(\u001b[0m\u001b[0;34m)\u001b[0m\u001b[0;34m\u001b[0m\u001b[0;34m\u001b[0m\u001b[0m\n\u001b[0m",
            "\u001b[0;31mAttributeError\u001b[0m: 'Sample' object has no attribute '__private_method'"
          ]
        }
      ]
    },
    {
      "cell_type": "code",
      "source": [
        "# 특수 메서드"
      ],
      "metadata": {
        "id": "oVWnLlavh2Sl"
      },
      "execution_count": null,
      "outputs": []
    },
    {
      "cell_type": "code",
      "source": [
        "# str 메서드 - 객체 표시용 문자열\n",
        "# repr 메서드 - 객체 정보를 나타내는 문자열"
      ],
      "metadata": {
        "id": "AjNn4uYniFRq"
      },
      "execution_count": null,
      "outputs": []
    },
    {
      "cell_type": "code",
      "source": [
        "class User:\n",
        "  def __init__(self, name, mail):\n",
        "    self.name = name\n",
        "    self.mail = mail\n",
        "\n",
        "  def __str__(self):\n",
        "    return self.name + self.mail\n",
        "\n",
        "  def __repr__(self):\n",
        "    return str({'name' : self.name, 'mail' : self.mail})\n",
        "\n",
        "user = User(\"홍길동\", \"happy@naever.com\")\n",
        "print(user)\n",
        "print(repr(user))"
      ],
      "metadata": {
        "id": "4GKCZQKEiIvl",
        "colab": {
          "base_uri": "https://localhost:8080/"
        },
        "outputId": "23ae0f44-cce7-4dda-8de8-1059a509ce27"
      },
      "execution_count": null,
      "outputs": [
        {
          "output_type": "stream",
          "name": "stdout",
          "text": [
            "홍길동happy@naever.com\n",
            "{'name': '홍길동', 'mail': 'happy@naever.com'}\n"
          ]
        }
      ]
    },
    {
      "cell_type": "markdown",
      "source": [
        "# 정규표현식"
      ],
      "metadata": {
        "id": "P81i4lrzpCDF"
      }
    },
    {
      "cell_type": "code",
      "source": [
        "# 정규표현식 기본\n",
        "\n",
        "# re -> 모듈을 불러와야 수행가능\n",
        "import re\n",
        "\n",
        "# [raw 문자열 사용]\n",
        "\n",
        "# 파이썬에서는 정규표현식 문자열을 사용할때 이스케이프가 필요한 메타문자가 있다. \n",
        "# 그래서 raw문자 사용을 권한다.\n",
        "\n",
        "# 만약 \\my-host\\라는 문자가 있는 경우\\\n",
        "# raw문자열이 없으면 \\\\\\\\my-host\\\\\\\\가 되지만\n",
        "# raw문자열을 사용하면 \\\\my-host\\\\가 된다.  앞에 r을 붙이면 된다."
      ],
      "metadata": {
        "id": "BIy6ONIXiRFj"
      },
      "execution_count": null,
      "outputs": []
    },
    {
      "cell_type": "code",
      "source": [
        "# findall\n",
        "\n",
        "# 지정한 정규표현식에 일치하는 문자열을 리스트로 반환\n",
        "# findall 함수를 사용하면 지정한 조건에 일치하는 문자열을 리스트로 얻을 수 있습니다."
      ],
      "metadata": {
        "id": "eXZhVCmVoK5R"
      },
      "execution_count": null,
      "outputs": []
    },
    {
      "cell_type": "code",
      "source": [
        "import re\n",
        "\n",
        "text1 = \"In the face of ambiguity, refuse the temptation to guess\"\n",
        "match_list = re.findall(r\"t.\", text1)\n",
        "#2글자를 찾되 첫글자가 t\n",
        "\n",
        "print(match_list)"
      ],
      "metadata": {
        "colab": {
          "base_uri": "https://localhost:8080/"
        },
        "id": "3vJ5QbETopsV",
        "outputId": "11b02fae-1491-4c04-dbd9-7e613896d152"
      },
      "execution_count": null,
      "outputs": [
        {
          "output_type": "stream",
          "name": "stdout",
          "text": [
            "['th', 'ty', 'th', 'te', 'ta', 'ti', 'to']\n"
          ]
        }
      ]
    },
    {
      "cell_type": "code",
      "source": [
        "# sub\n",
        "\n",
        "# 정규표현식으로 치환한 값을 반영하여 문자열을 반환\n",
        "\n",
        "import re\n",
        "\n",
        "text = \"Beautiful is better than ugly\"\n",
        "#sub(대체 해야할 문자 / 대체 할 문자 / 데이터)\n",
        "replaced = re.sub(r\" \", \"_\", text) #공백문자는 \\s로도 쓰입니다.\n",
        "print(replaced)"
      ],
      "metadata": {
        "colab": {
          "base_uri": "https://localhost:8080/"
        },
        "id": "PH0diX0Koz6n",
        "outputId": "e31e0cc0-e67e-4ad9-ad66-5d7735ab30f3"
      },
      "execution_count": null,
      "outputs": [
        {
          "output_type": "stream",
          "name": "stdout",
          "text": [
            "Beautiful_is_better_than_ugly\n"
          ]
        }
      ]
    },
    {
      "cell_type": "markdown",
      "source": [
        "## split\n",
        "\n",
        "정규 표현식에 일치한 위치에서 분할한 문자열 리스트를 반환"
      ],
      "metadata": {
        "id": "XMwKXrsGpZ7Q"
      }
    },
    {
      "cell_type": "code",
      "source": [
        "# 정규표현식으로 텍스트 분할하기\n",
        "\n",
        "# split함수를 사용하면 정규 표현식에 일치한 위치에서 분할한 문자열 리스트를 얻을 수 있습니다.\n",
        "\n",
        "text = 'Simple is Best'\n",
        "# ^ -> 문자의 시작 \n",
        "# + 직전 정규표현식을 1회이상 반복\n",
        "replaced = re.split((r\"[^a-zA-Z]+\"), text)\n",
        "print(replaced)\n",
        "\n",
        "#[^a-zA-Z0-9]+는 정규 표현식(regular expression)에서 사용되는 특수한 패턴으로, \n",
        "#알파벳 대소문자와 숫자가 아닌 문자들이 하나 이상 연속해서 나타나는 경우를 의미합니다.\n",
        "# 결국 공백을 구분자로 해서 분리"
      ],
      "metadata": {
        "colab": {
          "base_uri": "https://localhost:8080/"
        },
        "id": "2NkUqC_kpw6W",
        "outputId": "5a7ca2d8-09ff-4aad-9f12-285575cf2219"
      },
      "execution_count": null,
      "outputs": [
        {
          "output_type": "stream",
          "name": "stdout",
          "text": [
            "['Simple', 'is', 'Best']\n"
          ]
        }
      ]
    },
    {
      "cell_type": "code",
      "source": [
        "# 정규표현식으로 텍스트 분할하기\n",
        "\n",
        "# split함수를 사용하면 정규 표현식에 일치한 위치에서 분할한 문자열 리스트를 얻을 수 있습니다.\n",
        "\n",
        "text = 'Simple is Best'\n",
        "# ^ -> 문자의 시작 \n",
        "# + 직전 정규표현식을 1회이상 반복\n",
        "replaced = re.split((r\"[^a-zA-Z]+\"), text)\n",
        "print(replaced)\n",
        "\n",
        "#[^a-zA-Z0-9]+는 정규 표현식(regular expression)에서 사용되는 특수한 패턴으로, \n",
        "#알파벳 대소문자와 숫자가 아닌 문자들이 하나 이상 연속해서 나타나는 경우를 의미합니다.\n",
        "# 결국 공백을 구분자로 해서 분리"
      ],
      "metadata": {
        "id": "qEm71cC_qLrO"
      },
      "execution_count": null,
      "outputs": []
    },
    {
      "cell_type": "code",
      "source": [
        "# 정규표현식의 그룹은 데이터 분석 할때 자주 사용하는 기능으로\n",
        "# 원하는 객체를 그루핑할 수 있다라는 장점이 있습니다.\n",
        "\n",
        "# 제품 -> [0-9]+\n",
        "# 카탈로그 코드 [0-9A-Z]+\n",
        "# 제품명 .*\n",
        "# 구분 문자 공백\n",
        "\n",
        "# ([0-9]+) +([ 0-9 A-Z]+) +(.*)\n",
        "\n",
        "#홈쇼핑#\n",
        "text = \"\"\"\n",
        "101 CF001 커피 \n",
        "102 CF002 커피(대용량)\n",
        "201 TE01 홍차\n",
        "202 TE02 홍차(대용량)\n",
        "\"\"\"\n",
        "#group 1 \n",
        "#group 2\n",
        "#group 3\n",
        "items = re.findall(r'([0-9]+) +([ 0-9 A-Z]+) +(.*)', text)\n",
        "print(items)"
      ],
      "metadata": {
        "colab": {
          "base_uri": "https://localhost:8080/"
        },
        "id": "ucruCV4tsHnh",
        "outputId": "ac21192a-79ad-404e-b7a6-8785ed63ab52"
      },
      "execution_count": null,
      "outputs": [
        {
          "output_type": "stream",
          "name": "stdout",
          "text": [
            "[('101', 'CF001', '커피 '), ('102', 'CF002', '커피(대용량)'), ('201', 'TE01', '홍차'), ('202', 'TE02', '홍차(대용량)')]\n"
          ]
        }
      ]
    },
    {
      "cell_type": "code",
      "source": [
        "# 정규표현식 일치하는 부분 확인\n",
        "\n",
        "# search함수 - 정규표현식과 일치하는 첫번째 위치정보가 저장된 Match객체를 반환"
      ],
      "metadata": {
        "id": "8NXGgaLksnkG"
      },
      "execution_count": null,
      "outputs": []
    },
    {
      "cell_type": "code",
      "source": [
        "# 정규표현식과 일치하는 부분 확인\n",
        "\n",
        "# re 모듈의 serach함수는 정규표현식과 일치하는 첫 번째 위치 정보가 저장된 Match 객체를 반환\n",
        "# Match 객체를 사용하면 일치하는 위치의 문자열과 함께 시작 및 종료 위치 정보 확보 가능\n",
        "\n",
        "# match객체\n",
        "# start , end , group, groups 튜플 그룹\n",
        "\n",
        "import re\n",
        "\n",
        "text = 'Error should never pass silently'\n",
        "\n",
        "m_obj = re.search(r\"p...\", text)\n",
        "\n",
        "print(m_obj.group()) # 일치 문자열 ()로 묶인 것인 없음\n",
        "print(m_obj.start()) # 시작 인덱스\n",
        "print(m_obj.end()) # 끝 인덱스"
      ],
      "metadata": {
        "colab": {
          "base_uri": "https://localhost:8080/"
        },
        "id": "OJ1qo2yxs3n5",
        "outputId": "0bb0feb9-1ffe-4bf9-fd82-60a077987ae2"
      },
      "execution_count": null,
      "outputs": [
        {
          "output_type": "stream",
          "name": "stdout",
          "text": [
            "pass\n",
            "19\n",
            "23\n"
          ]
        }
      ]
    },
    {
      "cell_type": "code",
      "source": [
        "import re\n",
        "\n",
        "text = 'Errors should never pass silently'\n",
        "# 1번 그룹 - n.... n다음에 4글자가 아무거나\n",
        "# 2번 그룹 - P... n다음에 3글자가 아무거나\n",
        "\n",
        "m_obj = re.search(r\"(n....) (p...)\", text)\n",
        "print(m_obj.group())\n",
        "print(m_obj.groups())\n",
        "\n",
        "print(m_obj.start()) # 시작 인덱스\n",
        "print(m_obj.end()) # 끝 인덱스"
      ],
      "metadata": {
        "id": "JegKZ5iztEv7",
        "colab": {
          "base_uri": "https://localhost:8080/"
        },
        "outputId": "5ef4bfd3-8ea4-4083-8356-cfd909bf8189"
      },
      "execution_count": null,
      "outputs": [
        {
          "output_type": "stream",
          "name": "stdout",
          "text": [
            "never pass\n",
            "('never', 'pass')\n",
            "14\n",
            "24\n"
          ]
        }
      ]
    },
    {
      "cell_type": "markdown",
      "source": [
        "## Greedy Lazy"
      ],
      "metadata": {
        "id": "G1wGoDWztZbn"
      }
    },
    {
      "cell_type": "code",
      "source": [
        "# Greedy, Lazy 사용하기\n",
        "# 정규표현식이 패턴에 일치하는 문자열을 추출할때\n",
        "# 일치하는 최대한의 범위를 추출하는 상태를 greedy(탐욕)이라고 한다.\n",
        "\n",
        "# 최소한은  Lazy라고 하는데 파이썬은 기본적으로 greedy하지만\n",
        "# ?를 붙이는 순간 Lazy해진다. \n",
        "\n",
        "import re\n",
        "\n",
        "text = 'In the face of ambiguity, refuse the temptation to guess'\n",
        "\n",
        "match_list = re.findall(r\"t.*\\s\", text) # t에서 아무문자나 해서 직전까지 0번 반복되어 공백까지\n",
        "print(match_list)\n",
        "\n",
        "# ?를 붙이면 t에서 가장 가까운 공백까지만 일치하는 것을 찾는 것을 볼 수 있음"
      ],
      "metadata": {
        "colab": {
          "base_uri": "https://localhost:8080/"
        },
        "id": "ViMuk6_mtm-K",
        "outputId": "fa68aa67-41f4-4647-9a09-0109803c8d93"
      },
      "execution_count": null,
      "outputs": [
        {
          "output_type": "stream",
          "name": "stdout",
          "text": [
            "['the face of ambiguity, refuse the temptation to ']\n"
          ]
        }
      ]
    },
    {
      "cell_type": "code",
      "source": [
        "import re\n",
        "\n",
        "text = 'In the face of ambiguity, refuse the temptation to guess'\n",
        "\n",
        "match_list = re.findall(r\"t.*?\\s\", text) # t에서 아무문자나 해서 직전까지 0번 반복되어 공백까지\n",
        "print(match_list)"
      ],
      "metadata": {
        "colab": {
          "base_uri": "https://localhost:8080/"
        },
        "id": "Ohqkfl67t1y8",
        "outputId": "228d74c1-9b5a-453b-fa04-1bc276e7ee49"
      },
      "execution_count": null,
      "outputs": [
        {
          "output_type": "stream",
          "name": "stdout",
          "text": [
            "['the ', 'ty, ', 'the ', 'temptation ', 'to ']\n"
          ]
        }
      ]
    }
  ]
}