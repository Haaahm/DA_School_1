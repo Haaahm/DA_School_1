{
  "nbformat": 4,
  "nbformat_minor": 0,
  "metadata": {
    "colab": {
      "provenance": []
    },
    "kernelspec": {
      "name": "python3",
      "display_name": "Python 3"
    },
    "language_info": {
      "name": "python"
    }
  },
  "cells": [
    {
      "cell_type": "code",
      "execution_count": null,
      "metadata": {
        "id": "fPqoD-kkeKdM"
      },
      "outputs": [],
      "source": [
        "### SQL 연습문제 9-1\n",
        "\n",
        "# 위니브 상품정보1(weniv_product) 테이블과 위니브 상품정보2(weniv_product2)\n",
        "# 테이블 간 모든 정보를 조회하시오.(단, 중복 제거하여 조회하시오.)\n",
        "\n",
        "SELECT *\n",
        "FROM `weniv.weniv_product` AS p1\n",
        "UNION DISTINCT\n",
        "SELECT *\n",
        "FROM `weniv.weniv_product2` AS p2"
      ]
    },
    {
      "cell_type": "code",
      "source": [
        "### SQL 연습문제 9-2\n",
        "\n",
        "# 위니브 회원(weniv_user) 테이블에서 주문 이력(weniv_order)이 있는 사람의 id을 조회하세요.\n",
        "\n",
        "SELECT id\n",
        "FROM `weniv.weniv_user` AS t1\n",
        "INTERSECT DISTINCT\n",
        "SELECT user_id\n",
        "FROM `weniv.weniv_order` AS t2"
      ],
      "metadata": {
        "id": "Fcf868Mtf0n3"
      },
      "execution_count": null,
      "outputs": []
    },
    {
      "cell_type": "code",
      "source": [
        "### SQL 연습문제 9-3\n",
        "\n",
        "# 위니브 상품정보1(weniv_product) 테이블에서 위니브 상품정보2(weniv_product2)\n",
        "# 테이블에 있는 정보를 뺀 나머지의 정보를 조회하시오.\n",
        "\n",
        "SELECT *\n",
        "FROM `weniv.weniv_product`\n",
        "EXCEPT DISTINCT\n",
        "SELECT *\n",
        "FROM `weniv.weniv_product2`"
      ],
      "metadata": {
        "id": "-Bs8Qpr8gvKW"
      },
      "execution_count": null,
      "outputs": []
    },
    {
      "cell_type": "code",
      "source": [
        "### SQL 연습문제 9-4\n",
        "\n",
        "# 상품정보(products) 테이블에서 카테고리가 ‘Clothing Sets’\n",
        "# 인 정보와 'Jumpsuits & Rompers' 인 정보를 각각 조회후 합쳐서 조회하세요.\n",
        "\n",
        "SELECT *\n",
        "FROM `thelook_ecommerce.products` where category='Clothing Sets'\n",
        "UNION ALL\n",
        "SELECT *\n",
        "FROM `thelook_ecommerce.products` where category='Jumpsuits & Rompers'"
      ],
      "metadata": {
        "id": "nM_c5S6LleqT"
      },
      "execution_count": null,
      "outputs": []
    },
    {
      "cell_type": "code",
      "source": [
        "### SQL 연습문제 9-5\n",
        "\n",
        "# 회원(users) 테이블에서 국가가 'South Korea' 인 회원정보에서\n",
        "# 나이가 20세~40세인 회원을 뺀 나머지 회원의 정보를 조회하시오.\n",
        "\n",
        "SELECT *\n",
        "FROM `thelook_ecommerce.users`\n",
        "WHERE country = 'South Korea'\n",
        "UNION ALL\n",
        "SELECT *\n",
        "FROM `thelook_ecommerce.users`\n",
        "WHERE age >= 20\n",
        "AND age <=40;       # 또는 WHERE age BETWEEN 20 AND 40;"
      ],
      "metadata": {
        "id": "44Rk6iEfnSyJ"
      },
      "execution_count": null,
      "outputs": []
    },
    {
      "cell_type": "code",
      "source": [
        "### SQL 연습문제 9-6\n",
        "\n",
        "# 주문아이템(order_items) 테이블과 상품(products)테이블을 이용하여\n",
        "# 2019 ~ 2022연도의 연도별로 매출총액이 1위인 상품의 상품명과 매출합계를 표시하세요.\n",
        "\n",
        "# 각 연도의 매출총액 1위 상품의 상품명과 매출합계를 구한뒤\n",
        "# 합쳐서 조회하세요.\n",
        "\n",
        "# 조회 항목\n",
        "\n",
        "# - 연도(year)\n",
        "# - 상품명(product_name)\n",
        "# - 매출합계금액(sum_sale_price)\n",
        "\n",
        "# 정렬조건\n",
        "\n",
        "# - 연도(year)\n",
        "\n",
        "(SELECT\n",
        "  2019 AS year,\n",
        "  t2.name as product_name,\n",
        "  ROUND(SUM(t1.sale_price), 2) AS sum_sale_price\n",
        "FROM `thelook_ecommerce.order_items` t1\n",
        "JOIN `thelook_ecommerce.products` t2 on t1.product_id = t2.id\n",
        "WHERE EXTRACT(YEAR FROM t1.created_at) = 2019\n",
        "GROUP BY year, product_name\n",
        "ORDER BY sum_sale_price DESC\n",
        "LIMIT 1)\n",
        "\n",
        "UNION ALL\n",
        "\n",
        "(SELECT\n",
        "  2020 AS year,\n",
        "  t2.name as product_name,\n",
        "  ROUND(SUM(t1.sale_price), 2) AS sum_sale_price\n",
        "FROM `thelook_ecommerce.order_items` t1\n",
        "JOIN `thelook_ecommerce.products` t2 on t1.product_id = t2.id\n",
        "WHERE EXTRACT(YEAR FROM t1.created_at) = 2020\n",
        "GROUP BY year, product_name\n",
        "ORDER BY sum_sale_price DESC\n",
        "LIMIT 1)\n",
        "\n",
        "UNION ALL\n",
        "\n",
        "(SELECT\n",
        "  2021 AS year,\n",
        "  t2.name as product_name,\n",
        "  ROUND(SUM(t1.sale_price), 2) AS sum_sale_price\n",
        "FROM `thelook_ecommerce.order_items` t1\n",
        "JOIN `thelook_ecommerce.products` t2 on t1.product_id = t2.id\n",
        "WHERE EXTRACT(YEAR FROM t1.created_at) = 2021\n",
        "GROUP BY year, product_name\n",
        "ORDER BY sum_sale_price DESC\n",
        "LIMIT 1)\n",
        "\n",
        "UNION ALL\n",
        "\n",
        "(SELECT\n",
        "  2021 AS year,\n",
        "  t2.name as product_name,\n",
        "  ROUND(SUM(t1.sale_price), 2) AS sum_sale_price\n",
        "FROM `thelook_ecommerce.order_items` t1\n",
        "JOIN `thelook_ecommerce.products` t2 on t1.product_id = t2.id\n",
        "WHERE EXTRACT(YEAR FROM t1.created_at) = 2021\n",
        "GROUP BY year, product_name\n",
        "ORDER BY sum_sale_price DESC\n",
        "LIMIT 1)\n",
        "ORDER BY year;"
      ],
      "metadata": {
        "id": "7qKwMniInX1v"
      },
      "execution_count": null,
      "outputs": []
    },
    {
      "cell_type": "markdown",
      "source": [
        "## 서브쿼리"
      ],
      "metadata": {
        "id": "0yooyrQnticO"
      }
    },
    {
      "cell_type": "code",
      "source": [
        "select id,\n",
        "  first_name,\n",
        "  last_name,\n",
        "  (select count(order_id) from `thelook_ecommerce.orders` where user_id = a.id) as order_count\n",
        "from `thelook_ecommerce.users` a\n",
        "order by a.id\n",
        "limit 10;"
      ],
      "metadata": {
        "id": "1rds7weqthvq"
      },
      "execution_count": null,
      "outputs": []
    },
    {
      "cell_type": "code",
      "source": [
        "WITH user_order_counts AS (\n",
        "  SELECT\n",
        "    user_id,\n",
        "    count(order_id) AS order_count\n",
        "  FROM `thelook_ecommerce.orders`\n",
        "  GROUP BY user_id\n",
        "), user_event_counts AS (\n",
        "  SELECT\n",
        "    user_id,\n",
        "    count(id) AS event_count\n",
        "  FROM `thelook_ecommerce.events`\n",
        "  GROUP BY user_id\n",
        ")\n",
        "SELECT\n",
        "  id,\n",
        "  first_name,\n",
        "  last_name,\n",
        "  t2.order_count,\n",
        "  t3.event_count\n",
        "FROM `thelook_ecommerce.users` t1\n",
        "LEFT JOIN user_order_counts t2 on t1.id = t2.user_id\n",
        "LEFT JOIN user_event_counts t3 on t1.id = t3.user_id\n",
        "ORDER BY t1.id"
      ],
      "metadata": {
        "id": "a_2DG8bf38L4"
      },
      "execution_count": null,
      "outputs": []
    },
    {
      "cell_type": "code",
      "source": [
        "### SQL 연습문제 10-1\n",
        "\n",
        "# thelook_ecommerce 데이터 세트, events 테이블에는 유저의 웹 사이트 접속기록 데이터가 기록되어있습니다.\n",
        "\n",
        "# 이벤트 기록에서 이벤트 타입이 purchase인 이벤트가 10번 이상 등록된 사람을 \"실 고객\"라고 부릅니다.\n",
        "\n",
        "# 실고객에 해당하는 회원의 **이벤트 정보(events)**들을 유저 아이디 순으로 조회하세요.\n",
        "\n",
        "# 실고객에 해당하는 user_id들을 먼저 구한뒤에\n",
        "# 해당 user_id들을 이용해서 이벤트 정보를 조회하세요.\n",
        "\n",
        "# - 조회 항목 : 이벤트id(id), 유저ID(user_id), 도시(city), 주(state),\n",
        "# 우편번호(postal_code), 브라우저 종류(browser), 유입경로(traffic_source), 이벤트 타입(event_type)\n",
        "# - 정렬 : 유저ID 오름차순\n",
        "\n",
        "SELECT\n",
        "  id,\n",
        "  user_id,\n",
        "  city,\n",
        "  state,\n",
        "  postal_code,\n",
        "  browser,\n",
        "  traffic_source,\n",
        "  event_type\n",
        "FROM `thelook_ecommerce.events`\n",
        "WHERE user_id in (\n",
        "  SELECT user_id\n",
        "  FROM `thelook_ecommerce.events`\n",
        "  where event_type = 'purchase'\n",
        "  GROUP BY user_id\n",
        "  HAVING count(user_id) >= 10\n",
        ")\n",
        "ORDER BY user_id ASC"
      ],
      "metadata": {
        "id": "1zl36VHNtlBC"
      },
      "execution_count": null,
      "outputs": []
    },
    {
      "cell_type": "code",
      "source": [
        "### SQL 연습문제 10-2\n",
        "\n",
        "# thelook_ecommerce 데이터 세트 - 회원(users) 테이블과 주문(orders) 테이블에서\n",
        "# 연령대별(user_count) 회원수와 주문횟수합계(order_count)를 조회하세요.\n",
        "\n",
        "# 조회 항목\n",
        "\n",
        "# - 연령대 (age_group)\n",
        "#     - 예 : 10대, 20대, 30대, 40대 ~~ 70대\n",
        "#     - 참고 함수 trunc : 소수점 버리기\n",
        "#         - select trunc(78, -1) || '대'  -->  70대\n",
        "#         - select trunc(32, -1) || '대'  --> 30대\n",
        "# - 회원수(user_count)\n",
        "# - 주문횟수합계 (order_count)\n",
        "\n",
        "# 정렬순서\n",
        "\n",
        "# - 연령대 오름차순\n",
        "\n",
        "SELECT\n",
        "  a.age_group,\n",
        "  a.user_count,\n",
        "  b.order_count\n",
        "FROM\n",
        "(\n",
        "  SELECT\n",
        "    TRUNC(age, -1) || '대' AS age_group,\n",
        "    COUNT(id) AS user_count\n",
        "  FROM `thelook_ecommerce.users`\n",
        "  GROUP BY age_group\n",
        ") a\n",
        "JOIN\n",
        "(\n",
        "  SELECT\n",
        "    TRUNC(age, -1) || '대' AS age_group,\n",
        "    COUNT(id) AS order_count\n",
        "  FROM `thelook_ecommerce.orders` t1\n",
        "  LEFT JOIN `thelook_ecommerce.users`t2\n",
        "  ON t1.user_id = t2.id\n",
        "  GROUP BY age_group\n",
        ") b\n",
        "ON a.age_group = b.age_group\n",
        "ORDER BY age_group;"
      ],
      "metadata": {
        "id": "QuGV8o1H9jnV"
      },
      "execution_count": null,
      "outputs": []
    },
    {
      "cell_type": "code",
      "source": [
        "# 다른 방법\n",
        "SELECT age_group\n",
        "      ,COUNT(DISTINCT u.id) AS user_count\n",
        "      ,COUNT(o.order_id) AS order_count\n",
        "FROM (\n",
        "    SELECT CONCAT(TRUNC(age, -1), '대') AS age_group\n",
        "          ,id\n",
        "    FROM `thelook_ecommerce.users`\n",
        ") AS u\n",
        "LEFT JOIN `thelook_ecommerce.orders` o\n",
        "ON u.id = o.user_id\n",
        "GROUP BY 1\n",
        "ORDER BY 1;"
      ],
      "metadata": {
        "id": "PRBfqgsVQXxP"
      },
      "execution_count": null,
      "outputs": []
    },
    {
      "cell_type": "code",
      "source": [
        "### SQL 연습문제 10-3\n",
        "\n",
        "# thelook_ecommerce 데이터 세트, 회원(users) 테이블에서\n",
        "\n",
        "# 1) 가장 많은 회원 나이를 구하고\n",
        "\n",
        "# 2) 그 나이의 회원들의 정보를 조회하세요.\n",
        "\n",
        "# 조회 항목\n",
        "\n",
        "# - 이름(first_name, last_name)\n",
        "# - 주소 정보(state, street_address, city, country)\n",
        "# - 우편 번호(postal_code)\n",
        "\n",
        "SELECT\n",
        "  first_name,\n",
        "  last_name,\n",
        "  state,\n",
        "  street_address,\n",
        "  city,\n",
        "  country,\n",
        "  postal_code\n",
        "FROM `thelook_ecommerce.users`\n",
        "WHERE age = (\n",
        "  SELECT MAX(age)\n",
        "  FROM `thelook_ecommerce.users`\n",
        ")"
      ],
      "metadata": {
        "id": "AuIlrcRjQwvy"
      },
      "execution_count": null,
      "outputs": []
    },
    {
      "cell_type": "code",
      "source": [
        "### SQL 연습문제 10-4\n",
        "\n",
        "# weniv 데이터 세트에서 모니터를 구입한 회원(user)의 이름(name)과\n",
        "# 우편번호(postal_code)를 서브쿼리만 이용하여 조회하시오. (join을 사용하지 않습니다.)\n",
        "\n",
        "select name, postal_code\n",
        "from `weniv.weniv_user`\n",
        "where id in (\n",
        "  select user_id\n",
        "  from `weniv.weniv_order`\n",
        "  where product_id = (\n",
        "    select id\n",
        "    from `weniv.weniv_product`\n",
        "    where name='monitor'\n",
        "  )\n",
        ");\n",
        "\n",
        "# join을 사용\n",
        "\n",
        "SELECT\n",
        "  t1.name,\n",
        "  t1.postal_code\n",
        "FROM `weniv.weniv_user` t1\n",
        "JOIN `weniv.weniv_order` t2\n",
        "ON t1.id = t2.user_id\n",
        "JOIN `weniv.weniv_product` t3\n",
        "ON t2.product_id = t3.id\n",
        "WHERE t3.name = 'monitor';"
      ],
      "metadata": {
        "id": "JAc4XHGpTLLU"
      },
      "execution_count": null,
      "outputs": []
    },
    {
      "cell_type": "code",
      "source": [
        "### SQL 연습문제 10-5\n",
        "\n",
        "# weniv 데이터 세트에서 소울곰(Soulgom)이라는 이름의 회원이\n",
        "# 구입한 상품의 데이터를  모두 조회하세요.\n",
        "\n",
        "# JOIN을 이용하지 않고 서브쿼리만 써서 해보세요.\n",
        "\n",
        "SELECT *\n",
        "FROM `weniv.weniv_product`\n",
        "WHERE id IN (\n",
        "  SELECT product_id\n",
        "  FROM `weniv.weniv_order`\n",
        "  WHERE User_id = (\n",
        "    SELECT id\n",
        "    FROM `weniv.weniv_user`\n",
        "    WHERE name = 'Soulgom'\n",
        "    )\n",
        ")\n",
        "\n",
        "# join을 사용\n",
        "\n",
        "SELECT\n",
        "  p.*\n",
        "FROM `weniv.weniv_product` p\n",
        "JOIN `weniv.weniv_order` o\n",
        "  ON p.id = o.product_id\n",
        "JOIN `weniv.weniv_user` u\n",
        "  ON u.id = o.user_id\n",
        "WHERE u.name = 'Soulgom'"
      ],
      "metadata": {
        "id": "kgehG0pHW08D"
      },
      "execution_count": null,
      "outputs": []
    },
    {
      "cell_type": "code",
      "source": [
        "### SQL 연습문제 10-6\n",
        "\n",
        "# thelook_ecommerce 데이터 세트에서 WITH절을 이용하여 상품ID, 상품명,\n",
        "# 상품별 총 매출, 평균 매출, 총 주문횟수를 조회하세요.\n",
        "\n",
        "# 1) order_items에서 상품별 총 매출, 평균매출, 주문횟수을 조회합니다. → product_sales\n",
        "\n",
        "# - 판매금액은 sale_price 항목을 이용하여 계산하세요.\n",
        "\n",
        "# 2) product_sales와 product를 이용하여 아래 항목을 조회하세요.\n",
        "\n",
        "# 출력 항목\n",
        "\n",
        "# - 상품 ID : product_id\n",
        "# - 상품 명 : product_name\n",
        "# - 상품 총매출 : product_total_sale_price\n",
        "# - 상품 평균매출 : product_avg_sale_price\n",
        "# - 상품 주문횟수 : product_order_count\n",
        "\n",
        "WITH product_sales AS(\n",
        "  SELECT\n",
        "    product_id,\n",
        "    SUM(sale_price) AS product_total_sale_price,\n",
        "    AVG(sale_price) AS product_avg_sale_price,\n",
        "    COUNT(sale_price) AS product_order_count\n",
        "  FROM `thelook_ecommerce.order_items`\n",
        "  GROUP BY product_id\n",
        ")\n",
        "SELECT\n",
        "  t1.product_id,\n",
        "  t2.name AS product_name,\n",
        "  t1.product_total_sale_price,\n",
        "  t1.product_avg_sale_price,\n",
        "  t1.product_order_count\n",
        "FROM product_sales t1\n",
        "JOIN `weniv.weniv_product` t2\n",
        "ON t1.product_id = t2.id"
      ],
      "metadata": {
        "id": "tCA2WRQreY-B"
      },
      "execution_count": null,
      "outputs": []
    },
    {
      "cell_type": "code",
      "source": [
        "### SQL 연습문제 11-1\n",
        "\n",
        "# thelook_ecommerce 데이터 세트, 회원(users) 테이블에서 연령대 별 성별의 소계 및 합계를 조회하시오.\n",
        "\n",
        "SELECT\n",
        "  CONCAT(TRUNC(age, -1),'대') AS age_group, # ===  select trunc(age, -1) || '대' as age_group\n",
        "  gender,\n",
        "  COUNT(id) AS count_user\n",
        "FROM `thelook_ecommerce.users`\n",
        "GROUP BY ROLLUP(age_group, gender)\n",
        "ORDER BY age_group, gender;"
      ],
      "metadata": {
        "id": "bm9q-nv7j7VE"
      },
      "execution_count": null,
      "outputs": []
    },
    {
      "cell_type": "code",
      "source": [
        "select\n",
        "  id,\n",
        "  first_name,\n",
        "  last_name,\n",
        "  country,\n",
        "  age,\n",
        "  RANK() OVER ( ORDER BY age ) AS rank_number_in_all,\n",
        "from thelook_ecommerce.users\n",
        "where id between 1 and 20\n",
        "order by age"
      ],
      "metadata": {
        "id": "_3IoZV-xwm5W"
      },
      "execution_count": null,
      "outputs": []
    },
    {
      "cell_type": "code",
      "source": [
        "SELECT\n",
        "  id,\n",
        "  first_name,\n",
        "  last_name,\n",
        "  country,\n",
        "  DENSE_RANK() OVER ( PARTITION BY country ORDER BY age ) AS dense_rank_number_in_country,\n",
        "FROM `thelook_ecommerce.users`\n",
        "WHERE id BETWEEN 1 AND 20\n",
        "ORDER BY country, age"
      ],
      "metadata": {
        "id": "YXd-yFegwnkr"
      },
      "execution_count": null,
      "outputs": []
    },
    {
      "cell_type": "code",
      "source": [
        "### SQL 연습문제 11-2\n",
        "\n",
        "# thelook_ecommerce 데이터 세트, 상품정보(products) 테이블에서 각 브랜드 내에서\n",
        "# 상품 가격별 순위(brand_rank)를 조회하시오.\n",
        "\n",
        "# - 조회 항목 : id, 브랜드(brand), 상품가격(cost), 각 브랜드 내 상품 가격이 높은 순위(brand_rank)\n",
        "# - 정렬 조건 : 브랜드 오름차순, 상품가격(cost) 내림차순\n",
        "# - RANK 함수를 이용해서\n",
        "\n",
        "SELECT\n",
        "  id,\n",
        "  brand,\n",
        "  cost,\n",
        "  RANK() OVER ( PARTITION BY brand ORDER BY cost DESC ) AS brand_rank\n",
        "FROM `thelook_ecommerce.products`\n",
        "ORDER BY brand, cost DESC"
      ],
      "metadata": {
        "id": "krpIQxn8uG_K"
      },
      "execution_count": null,
      "outputs": []
    }
  ]
}