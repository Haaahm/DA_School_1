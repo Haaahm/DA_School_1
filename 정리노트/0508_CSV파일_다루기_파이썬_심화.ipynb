{
  "nbformat": 4,
  "nbformat_minor": 0,
  "metadata": {
    "colab": {
      "provenance": []
    },
    "kernelspec": {
      "name": "python3",
      "display_name": "Python 3"
    },
    "language_info": {
      "name": "python"
    }
  },
  "cells": [
    {
      "cell_type": "markdown",
      "source": [
        "#1. 파일\n",
        "\n",
        "* 파일은 컴퓨터를 실행할때 가장 기본이 되는 단위.\n",
        "* 보통 프로그램실행할때 파일 실행한다.\n",
        "* 그 중의 우리는 CSV, Excel, Txt, .py 파일"
      ],
      "metadata": {
        "id": "aMXguOBNw6I2"
      }
    },
    {
      "cell_type": "code",
      "source": [
        "# 1. 파일 읽기 예제\n",
        "\n",
        "#f = open(\"파일명\" , \"파일 열기 모드\")\n",
        "#f.close()\n",
        "\n",
        "# 파일 여는 모드는 읽기, 쓰기, 추가 등등이 있음\n",
        "# 읽기모드 -> r / 쓰기 w / 추가 a\n",
        "\n",
        "f = open('song.txt', 'w')\n",
        "f.write('''\n",
        "이윽고 내가 한눈에 너를 알아봤을 때\n",
        "모든 건 분명 달라지고 있었어\n",
        "내 세상은 널 알기 전과 후로 나뉘어\n",
        "니가 숨 쉬면 따스한 바람이 불어와\n",
        "니가 웃으면 눈부신 햇살이 비춰\n",
        "거기 있어줘서 그게 너라서\n",
        "가끔 내 어깨에 가만히 기대주어서\n",
        "나는 있잖아 정말 빈틈없이 행복해\n",
        "너를 따라서 시간은 흐르고 멈춰\n",
        "물끄러미 너를 들여다 보곤 해\n",
        "그것 말고는 아무것도 할 수 없어서\n",
        "너의 모든 순간 그게 나였으면 좋겠다\n",
        "생각만 해도 가슴이 차올라 나는 온통 너로\n",
        "보고 있으면 왠지 꿈처럼 아득한 것\n",
        "몇 광년 동안 날 향해 날아온 별빛 또 지금의 너\n",
        "*거기 있어줘서 그게 너라서\n",
        "가끔 나에게 조용하게 안겨주어서\n",
        "나는 있잖아 정말 남김없이 고마워\n",
        "너를 따라서 시간은 흐르고 멈춰\n",
        "물끄러미 너를 들여다보곤 해\n",
        "너를 보는 게 나에게는 사랑이니까\n",
        "너의 모든 순간 그게 나였으면 좋겠다...\n",
        "''')"
      ],
      "metadata": {
        "colab": {
          "base_uri": "https://localhost:8080/"
        },
        "id": "WafbLrGPxA0d",
        "outputId": "5c7b92f2-b164-407b-d622-8269ee9cc89d"
      },
      "execution_count": 4,
      "outputs": [
        {
          "output_type": "execute_result",
          "data": {
            "text/plain": [
              "429"
            ]
          },
          "metadata": {},
          "execution_count": 4
        }
      ]
    },
    {
      "cell_type": "code",
      "source": [
        "f.close()"
      ],
      "metadata": {
        "id": "q7soeOfdyfXd"
      },
      "execution_count": 5,
      "outputs": []
    },
    {
      "cell_type": "code",
      "source": [
        "f = open('song.txt', 'r')\n",
        "contents = f.read()\n",
        "print(contents)\n",
        "f.close()\n",
        "\n",
        "# 1행에서 open()함수 다음에 파일명 다음에 읽기 모드 r을 입력해서 파일에 대한 값을 f에 저장\n",
        "# 2행에서 f를 이용해서 Read()함수를 실행하면 해당 파일의 텍스트들이 contents에 할당이 되고\n",
        "# Print()"
      ],
      "metadata": {
        "colab": {
          "base_uri": "https://localhost:8080/"
        },
        "id": "6YDwBJ0WzHIz",
        "outputId": "8bdfdec9-726a-4918-ff86-2abbe01b354b"
      },
      "execution_count": 11,
      "outputs": [
        {
          "output_type": "stream",
          "name": "stdout",
          "text": [
            "\n",
            "이윽고 내가 한눈에 너를 알아봤을 때\n",
            "모든 건 분명 달라지고 있었어\n",
            "내 세상은 널 알기 전과 후로 나뉘어\n",
            "니가 숨 쉬면 따스한 바람이 불어와\n",
            "니가 웃으면 눈부신 햇살이 비춰\n",
            "거기 있어줘서 그게 너라서\n",
            "가끔 내 어깨에 가만히 기대주어서\n",
            "나는 있잖아 정말 빈틈없이 행복해\n",
            "너를 따라서 시간은 흐르고 멈춰\n",
            "물끄러미 너를 들여다 보곤 해\n",
            "그것 말고는 아무것도 할 수 없어서\n",
            "너의 모든 순간 그게 나였으면 좋겠다\n",
            "생각만 해도 가슴이 차올라 나는 온통 너로\n",
            "보고 있으면 왠지 꿈처럼 아득한 것\n",
            "몇 광년 동안 날 향해 날아온 별빛 또 지금의 너\n",
            "*거기 있어줘서 그게 너라서\n",
            "가끔 나에게 조용하게 안겨주어서\n",
            "나는 있잖아 정말 남김없이 고마워\n",
            "너를 따라서 시간은 흐르고 멈춰\n",
            "물끄러미 너를 들여다보곤 해\n",
            "너를 보는 게 나에게는 사랑이니까\n",
            "너의 모든 순간 그게 나였으면 좋겠다...\n",
            "\n"
          ]
        }
      ]
    },
    {
      "cell_type": "code",
      "source": [
        "# with문\n",
        "\n",
        "# with을 활용해서 Open()함수를 대체할 수 있다.\n",
        "## with문은 들여쓰기를 잘해야한다. 함수 if\n",
        "# 결론적으로 close()문을 안쓰는 편리함이 있고,\n",
        "\n",
        "with open('song.txt', 'r') as my_song_list:\n",
        "  content = my_song_list.read()\n",
        "  print(content)"
      ],
      "metadata": {
        "colab": {
          "base_uri": "https://localhost:8080/"
        },
        "id": "A4kht2xVzUX2",
        "outputId": "09a0aaf4-6384-418e-a435-d44a3bb1eb22"
      },
      "execution_count": 12,
      "outputs": [
        {
          "output_type": "stream",
          "name": "stdout",
          "text": [
            "\n",
            "이윽고 내가 한눈에 너를 알아봤을 때\n",
            "모든 건 분명 달라지고 있었어\n",
            "내 세상은 널 알기 전과 후로 나뉘어\n",
            "니가 숨 쉬면 따스한 바람이 불어와\n",
            "니가 웃으면 눈부신 햇살이 비춰\n",
            "거기 있어줘서 그게 너라서\n",
            "가끔 내 어깨에 가만히 기대주어서\n",
            "나는 있잖아 정말 빈틈없이 행복해\n",
            "너를 따라서 시간은 흐르고 멈춰\n",
            "물끄러미 너를 들여다 보곤 해\n",
            "그것 말고는 아무것도 할 수 없어서\n",
            "너의 모든 순간 그게 나였으면 좋겠다\n",
            "생각만 해도 가슴이 차올라 나는 온통 너로\n",
            "보고 있으면 왠지 꿈처럼 아득한 것\n",
            "몇 광년 동안 날 향해 날아온 별빛 또 지금의 너\n",
            "*거기 있어줘서 그게 너라서\n",
            "가끔 나에게 조용하게 안겨주어서\n",
            "나는 있잖아 정말 남김없이 고마워\n",
            "너를 따라서 시간은 흐르고 멈춰\n",
            "물끄러미 너를 들여다보곤 해\n",
            "너를 보는 게 나에게는 사랑이니까\n",
            "너의 모든 순간 그게 나였으면 좋겠다...\n",
            "\n"
          ]
        }
      ]
    },
    {
      "cell_type": "code",
      "source": [
        "# 한줄로 읽어오는 방법\n",
        "# 파일 전체의 텍스트를 문자열로 반환하는 read()대신에 readlines()함수를 사용하면 \n",
        "# 한줄의 기준은 \\n\n",
        "\n",
        "with open('song.txt', 'r') as my_song_list:\n",
        "  content_list = my_song_list.readlines()\n",
        "  print(content_list)"
      ],
      "metadata": {
        "colab": {
          "base_uri": "https://localhost:8080/"
        },
        "id": "-BYMVRJ30BiB",
        "outputId": "94447f0a-f13e-4939-d47e-e11a179b2cc3"
      },
      "execution_count": null,
      "outputs": [
        {
          "output_type": "stream",
          "name": "stdout",
          "text": [
            "['\\n', '이윽고 내가 한눈에 너를 알아봤을 때\\n', '모든 건 분명 달라지고 있었어\\n', '내 세상은 널 알기 전과 후로 나뉘어\\n', '니가 숨 쉬면 따스한 바람이 불어와\\n', '니가 웃으면 눈부신 햇살이 비춰\\n', '거기 있어줘서 그게 너라서\\n', '가끔 내 어깨에 가만히 기대주어서\\n', '나는 있잖아 정말 빈틈없이 행복해\\n', '너를 따라서 시간은 흐르고 멈춰\\n', '물끄러미 너를 들여다 보곤 해\\n', '그것 말고는 아무것도 할 수 없어서\\n', '너의 모든 순간 그게 나였으면 좋겠다\\n', '생각만 해도 가슴이 차올라 나는 온통 너로\\n', '보고 있으면 왠지 꿈처럼 아득한 것\\n', '몇 광년 동안 날 향해 날아온 별빛 또 지금의 너\\n', '*거기 있어줘서 그게 너라서\\n', '가끔 나에게 조용하게 안겨주어서\\n', '나는 있잖아 정말 남김없이 고마워\\n', '너를 따라서 시간은 흐르고 멈춰\\n', '물끄러미 너를 들여다보곤 해\\n', '너를 보는 게 나에게는 사랑이니까\\n', '너의 모든 순간 그게 나였으면 좋겠다... 펼쳐보기\\n']\n"
          ]
        }
      ]
    },
    {
      "cell_type": "code",
      "source": [
        "content_list[2]"
      ],
      "metadata": {
        "colab": {
          "base_uri": "https://localhost:8080/",
          "height": 36
        },
        "id": "UkcdfCaA0nvV",
        "outputId": "8d15fbce-fde3-40cd-d995-4a5d7d342427"
      },
      "execution_count": null,
      "outputs": [
        {
          "output_type": "execute_result",
          "data": {
            "text/plain": [
              "'모든 건 분명 달라지고 있었어\\n'"
            ],
            "application/vnd.google.colaboratory.intrinsic+json": {
              "type": "string"
            }
          },
          "metadata": {},
          "execution_count": 17
        }
      ]
    },
    {
      "cell_type": "code",
      "source": [
        "with open('song.txt', 'r') as my_song_list:\n",
        "  i = 0\n",
        "  while True:\n",
        "    line = my_song_list.readline()\n",
        "    if not line:\n",
        "      break\n",
        "    print(line.replace(\"\\n\", \"\"))\n",
        "    i = i + 1"
      ],
      "metadata": {
        "colab": {
          "base_uri": "https://localhost:8080/"
        },
        "id": "D8NpnnHu0wrc",
        "outputId": "7554d452-c3a6-4f75-9ebc-4c1d7009bbf9"
      },
      "execution_count": null,
      "outputs": [
        {
          "output_type": "stream",
          "name": "stdout",
          "text": [
            "\n",
            "이윽고 내가 한눈에 너를 알아봤을 때\n",
            "모든 건 분명 달라지고 있었어\n",
            "내 세상은 널 알기 전과 후로 나뉘어\n",
            "니가 숨 쉬면 따스한 바람이 불어와\n",
            "니가 웃으면 눈부신 햇살이 비춰\n",
            "거기 있어줘서 그게 너라서\n",
            "가끔 내 어깨에 가만히 기대주어서\n",
            "나는 있잖아 정말 빈틈없이 행복해\n",
            "너를 따라서 시간은 흐르고 멈춰\n",
            "물끄러미 너를 들여다 보곤 해\n",
            "그것 말고는 아무것도 할 수 없어서\n",
            "너의 모든 순간 그게 나였으면 좋겠다\n",
            "생각만 해도 가슴이 차올라 나는 온통 너로\n",
            "보고 있으면 왠지 꿈처럼 아득한 것\n",
            "몇 광년 동안 날 향해 날아온 별빛 또 지금의 너\n",
            "*거기 있어줘서 그게 너라서\n",
            "가끔 나에게 조용하게 안겨주어서\n",
            "나는 있잖아 정말 남김없이 고마워\n",
            "너를 따라서 시간은 흐르고 멈춰\n",
            "물끄러미 너를 들여다보곤 해\n",
            "너를 보는 게 나에게는 사랑이니까\n",
            "너의 모든 순간 그게 나였으면 좋겠다... 펼쳐보기\n"
          ]
        }
      ]
    },
    {
      "cell_type": "code",
      "source": [
        "song_list_new = []\n",
        "\n",
        "with open('song.txt', 'r') as my_song_list:\n",
        "  i = 0\n",
        "  while True:\n",
        "    line = my_song_list.readline()\n",
        "    if not line:\n",
        "      break\n",
        "    song_list_new.append(line.replace(\"\\n\", \"\"))\n",
        "    i = i + 1"
      ],
      "metadata": {
        "id": "EWjMlpw11KKA"
      },
      "execution_count": 14,
      "outputs": []
    },
    {
      "cell_type": "code",
      "source": [
        "song_list_new"
      ],
      "metadata": {
        "colab": {
          "base_uri": "https://localhost:8080/"
        },
        "id": "UxvvYqKN1Z83",
        "outputId": "94fa788d-3d9e-4ee1-d790-3a071239495c"
      },
      "execution_count": 15,
      "outputs": [
        {
          "output_type": "execute_result",
          "data": {
            "text/plain": [
              "['',\n",
              " '이윽고 내가 한눈에 너를 알아봤을 때',\n",
              " '모든 건 분명 달라지고 있었어',\n",
              " '내 세상은 널 알기 전과 후로 나뉘어',\n",
              " '니가 숨 쉬면 따스한 바람이 불어와',\n",
              " '니가 웃으면 눈부신 햇살이 비춰',\n",
              " '거기 있어줘서 그게 너라서',\n",
              " '가끔 내 어깨에 가만히 기대주어서',\n",
              " '나는 있잖아 정말 빈틈없이 행복해',\n",
              " '너를 따라서 시간은 흐르고 멈춰',\n",
              " '물끄러미 너를 들여다 보곤 해',\n",
              " '그것 말고는 아무것도 할 수 없어서',\n",
              " '너의 모든 순간 그게 나였으면 좋겠다',\n",
              " '생각만 해도 가슴이 차올라 나는 온통 너로',\n",
              " '보고 있으면 왠지 꿈처럼 아득한 것',\n",
              " '몇 광년 동안 날 향해 날아온 별빛 또 지금의 너',\n",
              " '*거기 있어줘서 그게 너라서',\n",
              " '가끔 나에게 조용하게 안겨주어서',\n",
              " '나는 있잖아 정말 남김없이 고마워',\n",
              " '너를 따라서 시간은 흐르고 멈춰',\n",
              " '물끄러미 너를 들여다보곤 해',\n",
              " '너를 보는 게 나에게는 사랑이니까',\n",
              " '너의 모든 순간 그게 나였으면 좋겠다...']"
            ]
          },
          "metadata": {},
          "execution_count": 15
        }
      ]
    },
    {
      "cell_type": "code",
      "source": [
        "with open('song.txt','r') as my_song_list:\n",
        "  contents = my_song_list.read()\n",
        "  word_list = contents.split(\" \")\n",
        "  line_list = contents.split(\"\\n\")\n",
        "\n",
        "print(f\"총 글자수는 {len(contents)}입니다.\")\n",
        "print(f\"총 단어수는 {len(word_list)}입니다.\")\n",
        "print(f\"총 줄수는 {len(line_list)}입니다.\")"
      ],
      "metadata": {
        "colab": {
          "base_uri": "https://localhost:8080/"
        },
        "id": "hNVecos91a4T",
        "outputId": "4707ed24-d4a6-442d-c77d-935ded8d6550"
      },
      "execution_count": 16,
      "outputs": [
        {
          "output_type": "stream",
          "name": "stdout",
          "text": [
            "총 글자수는 429입니다.\n",
            "총 단어수는 100입니다.\n",
            "총 줄수는 24입니다.\n"
          ]
        }
      ]
    },
    {
      "cell_type": "code",
      "source": [
        "### 파일쓰기\n",
        "\n",
        "# 앞서 파일쓰기 중에서 인코딩 utf-8 / cp949 / euc-kr \n",
        "\n",
        "# 인코딩 실습\n",
        "\n",
        "f = open(\"count_list.txt\", 'w', encoding = 'utf8')"
      ],
      "metadata": {
        "id": "Jf6ye0XK2DqU"
      },
      "execution_count": null,
      "outputs": []
    },
    {
      "cell_type": "code",
      "source": [
        "for i in range(1, 11):\n",
        "  data = f'{i}번째입니다.'\n",
        "  f.write(data)\n",
        "f.close()\n"
      ],
      "metadata": {
        "id": "33ovjeOv2-wp"
      },
      "execution_count": null,
      "outputs": []
    },
    {
      "cell_type": "code",
      "source": [
        "with open('count_list_new.txt', 'w', encoding = 'utf8') as f:\n",
        "  for i in range(1,11):\n",
        "    data = f'{i}번째입니다.'\n",
        "    f.write(data)"
      ],
      "metadata": {
        "id": "-SSz8hIY3Ivv"
      },
      "execution_count": null,
      "outputs": []
    },
    {
      "cell_type": "code",
      "source": [
        "# Pickle 모듈\n",
        "\n",
        "파이썬 프로그램을 실행할때마다 변수 객체를 메모리에 저장하고, \n",
        "컴퓨터를 껐다가 켜면 모두 날라가죠\n",
        "\n",
        "파이썬은 pickle모듈을 제공합니다.\n",
        "\n",
        "메모리에 로딩된 객체들을 연속적으로 사용할 수 있게 \n",
        "\n",
        "예를 들어 데이터, 클래스, 함수, 프로그램 \n",
        "향후 대기업, 관련 빅데이터 플랫폼 활용 "
      ],
      "metadata": {
        "id": "h9_YVB6c3e47"
      },
      "execution_count": null,
      "outputs": []
    },
    {
      "cell_type": "code",
      "source": [
        "# pickle 모듈을 사용하려면 import 저장하고자하는 객체를 넘기면됩니다.\n",
        "\n",
        "# 파일 열때 r 파일쓸때 w\n",
        "# pickle에서는 파일을 열때 rb 파일을 쓸때 wb \n",
        "\n",
        "import pickle "
      ],
      "metadata": {
        "id": "7AbmCHaE4v7y"
      },
      "execution_count": null,
      "outputs": []
    },
    {
      "cell_type": "code",
      "source": [
        "f = open('list.pickle' , 'wb')\n",
        "test = [1,2,3,4,5]\n",
        "pickle.dump(test, f)\n",
        "f.close()"
      ],
      "metadata": {
        "id": "UR8LzsF25BVQ"
      },
      "execution_count": null,
      "outputs": []
    },
    {
      "cell_type": "code",
      "source": [
        "f = open('list.pickle', 'rb')\n",
        "test_pickle = pickle.load(f)\n",
        "print(test_pickle)"
      ],
      "metadata": {
        "colab": {
          "base_uri": "https://localhost:8080/"
        },
        "id": "5QXTRIYR5NBa",
        "outputId": "8c1d0581-48cd-4206-a5fe-d29e8cf81177"
      },
      "execution_count": null,
      "outputs": [
        {
          "output_type": "stream",
          "name": "stdout",
          "text": [
            "[1, 2, 3, 4, 5]\n"
          ]
        }
      ]
    },
    {
      "cell_type": "code",
      "source": [
        "# pickle은 클래스도 저장가능하다.\n",
        "\n",
        "class Multiply(object):\n",
        "  def __init__(self, multi):\n",
        "    self.multi = multi\n",
        "  def multiply(self, number):\n",
        "    return number * self.multi\n",
        "\n",
        "multi_test = Multiply(5)\n",
        "multi_test.multiply(10)"
      ],
      "metadata": {
        "colab": {
          "base_uri": "https://localhost:8080/"
        },
        "id": "6GkhhLxW-ouT",
        "outputId": "76add02b-dabe-4ec4-ccfb-5aaa75459356"
      },
      "execution_count": 17,
      "outputs": [
        {
          "output_type": "execute_result",
          "data": {
            "text/plain": [
              "50"
            ]
          },
          "metadata": {},
          "execution_count": 17
        }
      ]
    },
    {
      "cell_type": "code",
      "source": [
        "f = open('multiply_object.pickle', 'wb')\n",
        "pickle.dump(multi_test, f)\n",
        "f.close()"
      ],
      "metadata": {
        "id": "lKJnNaN7-oPC"
      },
      "execution_count": null,
      "outputs": []
    },
    {
      "cell_type": "code",
      "source": [
        "f = open('multiply_object.pickle', 'rb')\n",
        "multi_test = pickle.load(f)"
      ],
      "metadata": {
        "id": "QNPpUT3m_DQD"
      },
      "execution_count": null,
      "outputs": []
    },
    {
      "cell_type": "code",
      "source": [
        "multi_test.multiply(10)"
      ],
      "metadata": {
        "id": "4sGZaxSY_QDN",
        "outputId": "c69c5ce6-81c7-4cf9-ca29-3cd1170b53ca",
        "colab": {
          "base_uri": "https://localhost:8080/"
        }
      },
      "execution_count": null,
      "outputs": [
        {
          "output_type": "execute_result",
          "data": {
            "text/plain": [
              "50"
            ]
          },
          "metadata": {},
          "execution_count": 32
        }
      ]
    },
    {
      "cell_type": "markdown",
      "source": [
        "# CSV 데이터\n",
        "\n",
        "* 데이터 분석의 대부분은 통계프로그램이 아니라 엑셀 작업을 주로 해요\n",
        "* 그만큼 우리는 스트레드시트 데이터를 많이보게되고\n",
        "* Excel 잘 다뤄도 -> 데이터분석 잘한다."
      ],
      "metadata": {
        "id": "6ooQezj9_ZAY"
      }
    },
    {
      "cell_type": "markdown",
      "source": [
        "* CSV 쉼표로 나누진 데이터인데\n",
        "* 1,2,3,4,5 -> test.csv / txt\n",
        "* .xlsx -> .csv\n",
        "* 읽기에도 좋고, 용량도 excel파일보다 작고, 콤마로 구분되어서 사용하기 편하거나 전처리하기 좋다.\n",
        "* Python -> excel -> python"
      ],
      "metadata": {
        "id": "jWoWFX7oAIoW"
      }
    },
    {
      "cell_type": "code",
      "source": [
        "import csv\n",
        "import os #경로 지정"
      ],
      "metadata": {
        "id": "oWIu7dis_Q95"
      },
      "execution_count": 1,
      "outputs": []
    },
    {
      "cell_type": "code",
      "source": [
        "# 경로 지정\n",
        "\n",
        "os.chdir('/content/')\n",
        "\n",
        "f = open('song_new.txt', 'w')"
      ],
      "metadata": {
        "id": "XEpGq6pGBYH0"
      },
      "execution_count": 2,
      "outputs": []
    },
    {
      "cell_type": "code",
      "source": [
        "f = open('song_new.txt', 'w')\n",
        "f.write('''\n",
        "이윽고 내가 한눈에 너를 알아봤을 때\n",
        "모든 건 분명 달라지고 있었어\n",
        "내 세상은 널 알기 전과 후로 나뉘어\n",
        "니가 숨 쉬면 따스한 바람이 불어와\n",
        "니가 웃으면 눈부신 햇살이 비춰\n",
        "거기 있어줘서 그게 너라서\n",
        "가끔 내 어깨에 가만히 기대주어서\n",
        "나는 있잖아 정말 빈틈없이 행복해\n",
        "너를 따라서 시간은 흐르고 멈춰\n",
        "물끄러미 너를 들여다 보곤 해\n",
        "그것 말고는 아무것도 할 수 없어서\n",
        "너의 모든 순간 그게 나였으면 좋겠다\n",
        "생각만 해도 가슴이 차올라 나는 온통 너로\n",
        "보고 있으면 왠지 꿈처럼 아득한 것\n",
        "몇 광년 동안 날 향해 날아온 별빛 또 지금의 너\n",
        "*거기 있어줘서 그게 너라서\n",
        "가끔 나에게 조용하게 안겨주어서\n",
        "나는 있잖아 정말 남김없이 고마워\n",
        "너를 따라서 시간은 흐르고 멈춰\n",
        "물끄러미 너를 들여다보곤 해\n",
        "너를 보는 게 나에게는 사랑이니까\n",
        "너의 모든 순간 그게 나였으면 좋겠다...\n",
        "''')\n",
        "f.close()"
      ],
      "metadata": {
        "id": "GCCXvgu5Aw6G"
      },
      "execution_count": 3,
      "outputs": []
    },
    {
      "cell_type": "code",
      "source": [
        "from google.colab import drive\n",
        "drive.mount('/content/drive')"
      ],
      "metadata": {
        "id": "ZYHHdKCeAuOH",
        "colab": {
          "base_uri": "https://localhost:8080/"
        },
        "outputId": "e23c8fb8-f9ed-4112-8b45-9ecebc4a7497"
      },
      "execution_count": 4,
      "outputs": [
        {
          "output_type": "stream",
          "name": "stdout",
          "text": [
            "Drive already mounted at /content/drive; to attempt to forcibly remount, call drive.mount(\"/content/drive\", force_remount=True).\n"
          ]
        }
      ]
    },
    {
      "cell_type": "code",
      "source": [
        "# open\n",
        "\n",
        "f = open('test.csv', 'r', encoding = 'utf-8')"
      ],
      "metadata": {
        "id": "j5y3u-b3C98C"
      },
      "execution_count": 4,
      "outputs": []
    },
    {
      "cell_type": "code",
      "source": [
        "new = csv.reader(f)\n",
        "new"
      ],
      "metadata": {
        "colab": {
          "base_uri": "https://localhost:8080/"
        },
        "id": "F8POwRCdC4nb",
        "outputId": "1a2dc05b-0507-4a1b-f6f0-36e82a57e7d6"
      },
      "execution_count": 5,
      "outputs": [
        {
          "output_type": "execute_result",
          "data": {
            "text/plain": [
              "<_csv.reader at 0x7fc4b9fd4eb0>"
            ]
          },
          "metadata": {},
          "execution_count": 5
        }
      ]
    },
    {
      "cell_type": "code",
      "source": [
        "# csv 파일 출력하기\n",
        "\n",
        "a_list = []\n",
        "for i in new:\n",
        "    # if i != '':\n",
        "        print(i)\n",
        "        a_list.append(i)"
      ],
      "metadata": {
        "colab": {
          "base_uri": "https://localhost:8080/"
        },
        "id": "2iFnY_K_DW1T",
        "outputId": "fb5cf9f8-5451-4a7a-b6e3-215a349b5f0d"
      },
      "execution_count": 6,
      "outputs": [
        {
          "output_type": "stream",
          "name": "stdout",
          "text": [
            "['국어', '영어', '수학', '', '', '', '']\n",
            "['50', '80', '90', '', '', '', '']\n"
          ]
        }
      ]
    },
    {
      "cell_type": "code",
      "source": [
        "# 함수화 하기\n",
        "\n",
        "def opencsv(filename):\n",
        "    f = open(filename, 'r')\n",
        "    reader = csv.reader(f)\n",
        "    output = []\n",
        "    for i in reader:\n",
        "        output.append(i)\n",
        "    return output"
      ],
      "metadata": {
        "id": "lUYB9QjBDozj"
      },
      "execution_count": 7,
      "outputs": []
    },
    {
      "cell_type": "code",
      "source": [
        "opencsv('test.csv')"
      ],
      "metadata": {
        "colab": {
          "base_uri": "https://localhost:8080/"
        },
        "id": "RPf8m9GdE-Fb",
        "outputId": "470e3def-87b4-48ae-92c8-b0ab85bf0a9a"
      },
      "execution_count": 8,
      "outputs": [
        {
          "output_type": "execute_result",
          "data": {
            "text/plain": [
              "[['국어', '영어', '수학', '', '', '', ''], ['50', '80', '90', '', '', '', '']]"
            ]
          },
          "metadata": {},
          "execution_count": 8
        }
      ]
    },
    {
      "cell_type": "code",
      "source": [
        "#새로운 데이타 읽기 예제\n",
        "\n",
        "a = [['구', '전체', '내국인', '외국인'], \n",
        "     ['관악구','519864','502089','17775'], \n",
        "     ['강남구','547602','542498','5104'], \n",
        "     ['송파구','686181', '679247', '6934'], \n",
        "     ['강동구','428547','424235','4312']]"
      ],
      "metadata": {
        "id": "B6uksHEyFCY9"
      },
      "execution_count": 9,
      "outputs": []
    },
    {
      "cell_type": "code",
      "source": [
        "a"
      ],
      "metadata": {
        "colab": {
          "base_uri": "https://localhost:8080/"
        },
        "id": "oO-hX61XFTST",
        "outputId": "58a15274-a0b7-4369-a8ef-ab98924e0c33"
      },
      "execution_count": 10,
      "outputs": [
        {
          "output_type": "execute_result",
          "data": {
            "text/plain": [
              "[['구', '전체', '내국인', '외국인'],\n",
              " ['관악구', '519864', '502089', '17775'],\n",
              " ['강남구', '547602', '542498', '5104'],\n",
              " ['송파구', '686181', '679247', '6934'],\n",
              " ['강동구', '428547', '424235', '4312']]"
            ]
          },
          "metadata": {},
          "execution_count": 10
        }
      ]
    },
    {
      "cell_type": "code",
      "source": [
        "f = open('abc.csv', 'w', newline = '')"
      ],
      "metadata": {
        "id": "iHssrRItFUqL"
      },
      "execution_count": 11,
      "outputs": []
    },
    {
      "cell_type": "code",
      "source": [
        "new_csv = csv.writer(f, delimiter = ',')"
      ],
      "metadata": {
        "id": "eRxOjsDtFcCj"
      },
      "execution_count": 12,
      "outputs": []
    },
    {
      "cell_type": "code",
      "source": [
        "new_csv.writerows(a) #a자료를 csv파일에 넣기\n",
        "f.close()"
      ],
      "metadata": {
        "id": "n0Cfi7SrFlLr"
      },
      "execution_count": 14,
      "outputs": []
    },
    {
      "cell_type": "code",
      "source": [
        "#새로운 데이타 쓰기 예제\n",
        "\n",
        "b = [['구', '전체', '내국인', '외국인'], \n",
        "     ['관악구','519864','502089','17775'], \n",
        "     ['강남구','547602','542498','5104'], \n",
        "     ['송파구','686181', '679247', '6934'], \n",
        "     ['강동구','428547','424235','4312']]"
      ],
      "metadata": {
        "id": "zBfBOly3FrWT"
      },
      "execution_count": 15,
      "outputs": []
    },
    {
      "cell_type": "code",
      "source": [
        "# 함수화 하기\n",
        "\n",
        "def writecsv(filename, list):\n",
        "    with open(filename, 'w', newline = '') as f:\n",
        "        a = csv.writer(f, delimiter = ',')\n",
        "        a.writerows(list)"
      ],
      "metadata": {
        "id": "6dTUlFt_GGaL"
      },
      "execution_count": 20,
      "outputs": []
    },
    {
      "cell_type": "code",
      "source": [
        "writecsv('new_abc.csv', b)"
      ],
      "metadata": {
        "id": "-XYISXI4GkCU"
      },
      "execution_count": 21,
      "outputs": []
    }
  ]
}