{
  "nbformat": 4,
  "nbformat_minor": 0,
  "metadata": {
    "colab": {
      "provenance": []
    },
    "kernelspec": {
      "name": "python3",
      "display_name": "Python 3"
    },
    "language_info": {
      "name": "python"
    }
  },
  "cells": [
    {
      "cell_type": "markdown",
      "source": [
        "[모듈이란?]\n",
        "\n",
        "파이썬에서 이미 작성된 프로그램을 모듈이라고 생각하면 쉬움\n",
        "그 프로그램의 묶음은 패키지이다.\n",
        "\n",
        "쉬운 예로 레고블럭 하나하나가 모듈이라고 생각하면 되고 그것이 모여 하나의 큰 모듈 및 패키지 완성품을 만들 수 있고, \n",
        "이러한 개념은 스마트폰이나 자동차등 생활 곳곳에서 볼 수 있음\n",
        "\n",
        "그러면 프로그래밍에서의 모듈은 무엇일까? -> 작은 프로그램의 조각을 뜻한다. 각 모듈은 저마다의 역할이 있다.\n",
        "\n",
        "우리는 이미 많은 모듈을 사용했었다. random 모듈 time 모듈 등 import를 해서 사용이 가능하고 기본적으로 파이썬에 내장되어있는 모듈을 위주로 사용했었다."
      ],
      "metadata": {
        "id": "vRM3rxPgv5Aj"
      }
    },
    {
      "cell_type": "markdown",
      "source": [
        "[패키지란?]\n",
        "\n",
        "패키지는 쉽게 모듈의 묶음이다. from을 통해 모듈을 호출하는 경우가 있었는데\n",
        "이는 패키지는 출력하기 위한 수단이다.\n",
        "\n",
        "하나의 패키지 안에는 보통 여러 모듈이 있다.\n",
        "\n",
        "여러분들도 좋은 패키지가 많이 구현이 되어있기 때문에 앞으로 그런 패키지를 공부할것이고 데이터 분석에 활용할것임\n",
        "\n",
        "여러분들도 그러한 패키지를 만들어서 사회에 공헌했으면 하는 바램도 있음\n",
        "\n",
        "그러면 일단 우리가 사용했던 모듈과 더 살펴봐야할 모듈을 배워보고, 모듈을 직접 만들어 보자!!"
      ],
      "metadata": {
        "id": "DLLJYR-LDqIl"
      }
    },
    {
      "cell_type": "markdown",
      "source": [
        "## 1.1 모듈과 패키지 사용하는 법\n",
        "\n",
        "지금까지 파이썬 코드를 작성하면서 input, print 등의 내장 함수(built-in function)를 주로 사용했는데, 내장 함수만으로는 할 수 있는게 별로 없습니다. 그래서 좀 더 복잡한 프로그램을 만들려면 파이썬의 모듈과 패키지를 사용해야 합니다. 우리가 책 중간 중간에 사용했던 random, turtle, pickle 등이 바로 모듈과 패키지입니다.\n",
        "\n",
        "모듈(module)은 각종 변수, 함수, 클래스를 담고 있는 파일이고, 패키지(package)는 여러 모듈을 묶은 것입니다. 파이썬을 설치할 때 다양한 모듈과 패키지가 기본으로 설치됩니다. 만약 기본 모듈과 패키지로 부족하다면 다른 사람이 만든 유명 모듈과 패키지를 설치해서 쓸 수도 있습니다."
      ],
      "metadata": {
        "id": "1SJvCKkaD6Jv"
      }
    },
    {
      "cell_type": "code",
      "source": [
        "# 모듈 예시 - 1\n",
        "import math\n",
        "\n",
        "math.pi"
      ],
      "metadata": {
        "colab": {
          "base_uri": "https://localhost:8080/"
        },
        "id": "6B8tzcyjD6oT",
        "outputId": "7d9f4154-ce4c-4695-dae7-eebfddbe32b6"
      },
      "execution_count": null,
      "outputs": [
        {
          "output_type": "execute_result",
          "data": {
            "text/plain": [
              "3.141592653589793"
            ]
          },
          "metadata": {},
          "execution_count": 1
        }
      ]
    },
    {
      "cell_type": "code",
      "source": [
        "math.sqrt(4)"
      ],
      "metadata": {
        "colab": {
          "base_uri": "https://localhost:8080/"
        },
        "id": "Q-Kb4xPzEZQM",
        "outputId": "41851b1e-42b1-494e-b1cb-b5b77dbd3326"
      },
      "execution_count": null,
      "outputs": [
        {
          "output_type": "execute_result",
          "data": {
            "text/plain": [
              "2.0"
            ]
          },
          "metadata": {},
          "execution_count": 3
        }
      ]
    },
    {
      "cell_type": "code",
      "source": [
        "# 모듈의 에러\n",
        "\n",
        "ModuleNotFoundError: No module named ...: \n",
        "모듈의 이름이 잘못되었을 때 발생하는 에러입니다. 모듈 이름이 맞는지 확인해주세요.\n",
        "\n",
        "AttributeError: module ... has no attribute ...: \n",
        "모듈의 변수나 함수의 이름을 잘못되었을 때 발생하는 에러입니다. 변수, 함수의 이름이 맞는지 확인해주세요."
      ],
      "metadata": {
        "id": "cEhgTyUpEhgn"
      },
      "execution_count": null,
      "outputs": []
    },
    {
      "cell_type": "code",
      "source": [
        "# Import as로 모듈 이름을 정할 수 있다.\n",
        "\n",
        "import 모듈 as 이름"
      ],
      "metadata": {
        "id": "tANaWL_jE5jn"
      },
      "execution_count": null,
      "outputs": []
    },
    {
      "cell_type": "code",
      "source": [
        "import math as ma"
      ],
      "metadata": {
        "id": "SH_vWzugE5eb"
      },
      "execution_count": null,
      "outputs": []
    },
    {
      "cell_type": "code",
      "source": [
        "ma.sqrt(4.0)"
      ],
      "metadata": {
        "id": "2wV5joXfFE1S",
        "colab": {
          "base_uri": "https://localhost:8080/"
        },
        "outputId": "7db33881-c7ac-42cb-ce44-c8bf6bb054f6"
      },
      "execution_count": null,
      "outputs": [
        {
          "output_type": "execute_result",
          "data": {
            "text/plain": [
              "2.0"
            ]
          },
          "metadata": {},
          "execution_count": 3
        }
      ]
    },
    {
      "cell_type": "code",
      "source": [
        "# 모듈의 일부만 가져오는 \n",
        "\n",
        "from 모듈 import 함수\n",
        "from 모듈 import 클래스"
      ],
      "metadata": {
        "id": "RxeDmGnZFGhr"
      },
      "execution_count": null,
      "outputs": []
    },
    {
      "cell_type": "code",
      "source": [
        "from math import sqrt"
      ],
      "metadata": {
        "id": "CSlH3tYMFWX8"
      },
      "execution_count": null,
      "outputs": []
    },
    {
      "cell_type": "code",
      "source": [
        "sqrt(4.0)"
      ],
      "metadata": {
        "colab": {
          "base_uri": "https://localhost:8080/"
        },
        "id": "U5fzQDSrFYH7",
        "outputId": "104f4af2-566a-4144-d33d-142de9c9a333"
      },
      "execution_count": null,
      "outputs": [
        {
          "output_type": "execute_result",
          "data": {
            "text/plain": [
              "2.0"
            ]
          },
          "metadata": {},
          "execution_count": 7
        }
      ]
    },
    {
      "cell_type": "code",
      "source": [
        "# 이름을 지정할 수 있다.\n",
        "from math import sqrt "
      ],
      "metadata": {
        "id": "Bnd53DkFFaXl"
      },
      "execution_count": null,
      "outputs": []
    },
    {
      "cell_type": "markdown",
      "source": [
        "#1.2 패키지 가져오기"
      ],
      "metadata": {
        "id": "tfKRf9h_JBPm"
      }
    },
    {
      "cell_type": "code",
      "source": [
        "import urllib.request"
      ],
      "metadata": {
        "id": "AkSYd09dJCXM"
      },
      "execution_count": null,
      "outputs": []
    },
    {
      "cell_type": "code",
      "source": [
        "response = urllib.request.urlopen('http://www.google.co.kr')"
      ],
      "metadata": {
        "id": "Pf6rVpj2JGmz"
      },
      "execution_count": null,
      "outputs": []
    },
    {
      "cell_type": "code",
      "source": [
        "response.status"
      ],
      "metadata": {
        "id": "WNBqolG_JICv",
        "outputId": "61685dbe-b8f3-48d4-ed81-7b82201860d9",
        "colab": {
          "base_uri": "https://localhost:8080/"
        }
      },
      "execution_count": null,
      "outputs": [
        {
          "output_type": "execute_result",
          "data": {
            "text/plain": [
              "200"
            ]
          },
          "metadata": {},
          "execution_count": 10
        }
      ]
    },
    {
      "cell_type": "code",
      "source": [
        "import urllib.request as r"
      ],
      "metadata": {
        "id": "OAJ9l7ZaJLLJ"
      },
      "execution_count": null,
      "outputs": []
    },
    {
      "cell_type": "code",
      "source": [
        "from urllib.request import Request, urlopen"
      ],
      "metadata": {
        "id": "1U-IKnkKJTuo"
      },
      "execution_count": null,
      "outputs": []
    },
    {
      "cell_type": "code",
      "source": [
        "from urllib.request import *"
      ],
      "metadata": {
        "id": "93Z_rBG7JVLU"
      },
      "execution_count": null,
      "outputs": []
    },
    {
      "cell_type": "code",
      "source": [
        "!pip install Faker"
      ],
      "metadata": {
        "colab": {
          "base_uri": "https://localhost:8080/"
        },
        "id": "3lYaHgR2Jp3I",
        "outputId": "f68eae74-b93d-477f-e833-1522eacef597"
      },
      "execution_count": null,
      "outputs": [
        {
          "output_type": "stream",
          "name": "stdout",
          "text": [
            "Looking in indexes: https://pypi.org/simple, https://us-python.pkg.dev/colab-wheels/public/simple/\n",
            "Collecting Faker\n",
            "  Downloading Faker-18.9.0-py3-none-any.whl (1.7 MB)\n",
            "\u001b[2K     \u001b[90m━━━━━━━━━━━━━━━━━━━━━━━━━━━━━━━━━━━━━━━━\u001b[0m \u001b[32m1.7/1.7 MB\u001b[0m \u001b[31m16.4 MB/s\u001b[0m eta \u001b[36m0:00:00\u001b[0m\n",
            "\u001b[?25hRequirement already satisfied: python-dateutil>=2.4 in /usr/local/lib/python3.10/dist-packages (from Faker) (2.8.2)\n",
            "Requirement already satisfied: six>=1.5 in /usr/local/lib/python3.10/dist-packages (from python-dateutil>=2.4->Faker) (1.16.0)\n",
            "Installing collected packages: Faker\n",
            "Successfully installed Faker-18.9.0\n"
          ]
        }
      ]
    },
    {
      "cell_type": "code",
      "source": [
        "# 이번에는 pip을 사용하여 유용한 외부 라이브러리중 하나인 faker를 설치하고 사용해 보자. \n",
        "# faker는 테스트용 가짜 데이터를 생성할 때 사용하는 라이브러리이다.\n",
        "\n",
        "# 만약 다음과 같은 형식의 테스트 데이터 30건이 필요하다고 가정해 보자. \n",
        "# 직접 데이터를 작성하지 말고 좀 더 편리한 방법으로 테스트 데이터를 만들려면 어떻게 해야 할까?"
      ],
      "metadata": {
        "id": "dznNrYGeJrP1"
      },
      "execution_count": null,
      "outputs": []
    },
    {
      "cell_type": "code",
      "source": [
        "[(이름1, 주소1), (이름2, 주소2), ..., (이름30, 주소30)]"
      ],
      "metadata": {
        "id": "WzYOxzQ9KA_9"
      },
      "execution_count": null,
      "outputs": []
    },
    {
      "cell_type": "code",
      "source": [
        "from faker import Faker\n",
        "fake = Faker()\n",
        "fake.name()"
      ],
      "metadata": {
        "colab": {
          "base_uri": "https://localhost:8080/",
          "height": 35
        },
        "id": "45x0qMLCKJsg",
        "outputId": "e17b9aca-3a80-4374-b837-4dc768778cf6"
      },
      "execution_count": null,
      "outputs": [
        {
          "output_type": "execute_result",
          "data": {
            "text/plain": [
              "'Brett Parker'"
            ],
            "application/vnd.google.colaboratory.intrinsic+json": {
              "type": "string"
            }
          },
          "metadata": {},
          "execution_count": 6
        }
      ]
    },
    {
      "cell_type": "code",
      "source": [
        "fake = Faker('ko-KR')\n",
        "fake.name()"
      ],
      "metadata": {
        "colab": {
          "base_uri": "https://localhost:8080/",
          "height": 35
        },
        "id": "Zl2GXfAlKRCC",
        "outputId": "03de1ad0-9034-44d3-ef47-adba91569851"
      },
      "execution_count": null,
      "outputs": [
        {
          "output_type": "execute_result",
          "data": {
            "text/plain": [
              "'김상철'"
            ],
            "application/vnd.google.colaboratory.intrinsic+json": {
              "type": "string"
            }
          },
          "metadata": {},
          "execution_count": 7
        }
      ]
    },
    {
      "cell_type": "code",
      "source": [
        "fake.address()"
      ],
      "metadata": {
        "colab": {
          "base_uri": "https://localhost:8080/",
          "height": 35
        },
        "id": "G9p6_f1IKdU3",
        "outputId": "00a8754e-bd3b-4a2e-eafb-25eb65367b35"
      },
      "execution_count": null,
      "outputs": [
        {
          "output_type": "execute_result",
          "data": {
            "text/plain": [
              "'경상북도 용인시 기흥구 서초대가 (영자김강리)'"
            ],
            "application/vnd.google.colaboratory.intrinsic+json": {
              "type": "string"
            }
          },
          "metadata": {},
          "execution_count": 8
        }
      ]
    },
    {
      "cell_type": "code",
      "source": [
        "test_data = [(fake.name(), fake.address())for i in range(30)]"
      ],
      "metadata": {
        "id": "7yTZteBEKf6F"
      },
      "execution_count": null,
      "outputs": []
    },
    {
      "cell_type": "code",
      "source": [
        "test_data"
      ],
      "metadata": {
        "colab": {
          "base_uri": "https://localhost:8080/"
        },
        "id": "PZLSjEQSK3R2",
        "outputId": "b2461faa-eb37-415d-9c93-0cb38a117408"
      },
      "execution_count": null,
      "outputs": [
        {
          "output_type": "execute_result",
          "data": {
            "text/plain": [
              "[('김영순', '세종특별자치시 성동구 양재천거리 (서준박읍)'),\n",
              " ('이준영', '대전광역시 송파구 잠실9길'),\n",
              " ('오정호', '광주광역시 서구 삼성848가 (준영이면)'),\n",
              " ('조민수', '서울특별시 성북구 반포대4가'),\n",
              " ('김중수', '경상북도 태백시 반포대로'),\n",
              " ('송정수', '대구광역시 금천구 오금가'),\n",
              " ('권하은', '경상남도 양양군 언주4거리 (성현안리)'),\n",
              " ('박재현', '전라북도 철원군 개포770가'),\n",
              " ('박승민', '강원도 하남시 언주가 (영수안면)'),\n",
              " ('김영호', '인천광역시 강동구 테헤란로 (혜진박마을)'),\n",
              " ('이정자', '울산광역시 서구 서초중앙거리'),\n",
              " ('김정훈', '광주광역시 구로구 학동길'),\n",
              " ('김정훈', '전라북도 용인시 수지구 서초대로'),\n",
              " ('김상호', '전라북도 시흥시 영동대595길 (옥자곽박동)'),\n",
              " ('이옥자', '부산광역시 동작구 서초중앙거리 (은영김이면)'),\n",
              " ('나민준', '충청남도 제천시 논현거리 (경자김동)'),\n",
              " ('허정웅', '전라남도 횡성군 가락2가 (성현이면)'),\n",
              " ('진서연', '경기도 광명시 개포380로'),\n",
              " ('송정자', '경상북도 음성군 선릉길 (숙자이마을)'),\n",
              " ('배수진', '제주특별자치도 평창군 서초중앙가 (재현우허면)'),\n",
              " ('강성훈', '경상북도 화성시 테헤란가'),\n",
              " ('이경수', '경기도 청양군 반포대거리 (미정김김읍)'),\n",
              " ('송지연', '충청북도 성남시 중원구 석촌호수47거리'),\n",
              " ('김재현', '광주광역시 노원구 논현로'),\n",
              " ('양주원', '울산광역시 강남구 백제고분51거리 (도현김동)'),\n",
              " ('양지원', '제주특별자치도 춘천시 백제고분0로'),\n",
              " ('이영길', '울산광역시 동작구 학동길 (지원손오리)'),\n",
              " ('윤정호', '서울특별시 서초구 압구정09거리 (은지이서읍)'),\n",
              " ('차영식', '강원도 구리시 강남대거리 (정식이김읍)'),\n",
              " ('한재현', '강원도 정선군 언주길 (영식김동)')]"
            ]
          },
          "metadata": {},
          "execution_count": 10
        }
      ]
    },
    {
      "cell_type": "code",
      "source": [
        "항목\t설명\n",
        "fake.name()\t이름\n",
        "fake.address()\t주소\n",
        "fake.postcode()\t우편 번호\n",
        "fake.country()\t국가명\n",
        "fake.company()\t회사명\n",
        "fake.job()\t직업명\n",
        "fake.phone_number()\t휴대 전화 번호\n",
        "fake.email()\t이메일 주소\n",
        "fake.user_name()\t사용자명\n",
        "fake.pyint(min_value=0, max_value=100)\t0부터 100 사이의 임의의 숫자\n",
        "fake.ipv4_private()\tIP 주소\n",
        "fake.text()\t임의의 문장 (한글 임의의 문장은 fake.catch_phrase() 사용)\n",
        "fake.color_name()\t색상명"
      ],
      "metadata": {
        "id": "sH0IjkY-LurV"
      },
      "execution_count": null,
      "outputs": []
    },
    {
      "cell_type": "code",
      "source": [
        "test_data = [(fake.country(), fake.company(), fake.user_name())for i in range(30)]"
      ],
      "metadata": {
        "id": "SVQp8vCTL3z1"
      },
      "execution_count": null,
      "outputs": []
    },
    {
      "cell_type": "code",
      "source": [
        "test_data"
      ],
      "metadata": {
        "id": "bT0Kb8yBMEeN",
        "outputId": "54308ad4-e792-436b-92ed-99487e0a7ac0",
        "colab": {
          "base_uri": "https://localhost:8080/"
        }
      },
      "execution_count": null,
      "outputs": [
        {
          "output_type": "execute_result",
          "data": {
            "text/plain": [
              "[('파라과이', '홍김', 'hyeonju06'),\n",
              " ('미국', '윤김', 'yeongsug26'),\n",
              " ('브라질', '이심', 'bagminsu'),\n",
              " ('통가', '최윤', 'songyejin'),\n",
              " ('우즈베키스탄', '강유성', 'yeeunseo'),\n",
              " ('타지키스탄', '박하', 'qyang'),\n",
              " ('리투아니아', '양박이', 'jiu57'),\n",
              " ('니카라과', '유한회사 홍', 'san'),\n",
              " ('시에라리온 공화국', '(주) 이', 'ijunseo'),\n",
              " ('아이티', '고손김', 'hyeonji28'),\n",
              " ('노르웨이', '이송', 'bcoe'),\n",
              " ('아일랜드', '김박', 'eunjigim'),\n",
              " ('세이셸', '(주) 김', 'jeonghyi58'),\n",
              " ('그리스', '김윤', 'seoyungim'),\n",
              " ('몰디브', '이장임', 'songminsu'),\n",
              " ('볼리비아', '이신김', 'qgim'),\n",
              " ('벨기에', '김이', 'jaehyeongim'),\n",
              " ('리히텐슈타인', '강허안', 'sgim'),\n",
              " ('말레이시아', '주식회사 김송류', 'jeonghyi35'),\n",
              " ('그리스', '주식회사 김', 'heojeongsig'),\n",
              " ('불가리아', '김김', 'seunghyeon84'),\n",
              " ('스웨덴', '주식회사 이', 'yeongceolgo'),\n",
              " ('모리셔스', '(주) 안이김', 'ii'),\n",
              " ('방글라데시', '유한회사 이', 'seojun00'),\n",
              " ('나미비아', '유한회사 박이서', 'sgim'),\n",
              " ('덴마크', '(주) 이', 'jangseongjin'),\n",
              " ('알바니아', '이오', 'hwangseoyeon'),\n",
              " ('이란', '(유) 김', 'hayun48'),\n",
              " ('도미니카 공화국', '유한회사 최허홍', 'boram49'),\n",
              " ('나우루', '진최', 'minseogyun')]"
            ]
          },
          "metadata": {},
          "execution_count": 12
        }
      ]
    },
    {
      "cell_type": "code",
      "source": [
        "# [모듈 만들기]\n",
        "\n",
        "theater_module.py 라는 파이썬 파일을 만들어서 이 파일에 사람수에 따른 영화표 가격을 계산하는 함수 3개를 정의하려고한다.\n",
        "코드는 다음과 같다. \n",
        "이 파일은 사람 수에 따른 영화표 가격을 계산하는 함수 3개입니다.\n",
        "첫번째 price는 1인당 영화표 1만원, 두번째는 학생할인으로 20% 할인, 세번째는 VIP석으로 1.5만원으로 출력합니다."
      ],
      "metadata": {
        "id": "RFPgq2RfQzUp"
      },
      "execution_count": null,
      "outputs": []
    },
    {
      "cell_type": "code",
      "source": [
        "#경로설정\n",
        "import os\n",
        "os.chdir(\"/content/\")"
      ],
      "metadata": {
        "id": "ztarmz75QzMB"
      },
      "execution_count": 13,
      "outputs": []
    },
    {
      "cell_type": "code",
      "source": [
        "import moviemodule_test as tmt"
      ],
      "metadata": {
        "id": "TWIpx9JVRzsu"
      },
      "execution_count": 15,
      "outputs": []
    },
    {
      "cell_type": "code",
      "source": [
        "tmt.price(1)"
      ],
      "metadata": {
        "colab": {
          "base_uri": "https://localhost:8080/"
        },
        "id": "D-Y9vmqRQy5Q",
        "outputId": "f91ac54a-7551-45d3-e4c1-8051646f6634"
      },
      "execution_count": 16,
      "outputs": [
        {
          "output_type": "stream",
          "name": "stdout",
          "text": [
            "영화표 가격은 10000 입니다.\n"
          ]
        }
      ]
    },
    {
      "cell_type": "code",
      "source": [
        "from moviemodule_test import *"
      ],
      "metadata": {
        "id": "3bkOduC1R91N"
      },
      "execution_count": 18,
      "outputs": []
    },
    {
      "cell_type": "code",
      "source": [
        "price(2)"
      ],
      "metadata": {
        "colab": {
          "base_uri": "https://localhost:8080/"
        },
        "id": "0dOhs6NVSTlx",
        "outputId": "d530d86b-2e97-4c2a-e30c-e663ad21160d"
      },
      "execution_count": 19,
      "outputs": [
        {
          "output_type": "stream",
          "name": "stdout",
          "text": [
            "영화표 가격은 20000 입니다.\n"
          ]
        }
      ]
    },
    {
      "cell_type": "code",
      "source": [
        "# 패키지 만들기"
      ],
      "metadata": {
        "id": "iaUHGUnkSUnM"
      },
      "execution_count": null,
      "outputs": []
    },
    {
      "cell_type": "code",
      "source": [
        "import os\n",
        "os.chdir(\"/content/\")"
      ],
      "metadata": {
        "id": "CAjD8F_rUt-M"
      },
      "execution_count": 20,
      "outputs": []
    },
    {
      "cell_type": "code",
      "source": [
        "import pkg_ex.seoul"
      ],
      "metadata": {
        "id": "QIhsjoPzUujC"
      },
      "execution_count": 21,
      "outputs": []
    },
    {
      "cell_type": "code",
      "source": [
        "trip = pkg_ex.seoul.SeoulPkg()\n",
        "trip.detail()"
      ],
      "metadata": {
        "id": "JLlky243U1Dc",
        "outputId": "0608519c-dda2-46a4-ccc6-00fb1c9f9c5a",
        "colab": {
          "base_uri": "https://localhost:8080/"
        }
      },
      "execution_count": 23,
      "outputs": [
        {
          "output_type": "stream",
          "name": "stdout",
          "text": [
            "[서울 도심 패키지] 호캉스 100만원\n"
          ]
        }
      ]
    },
    {
      "cell_type": "code",
      "source": [
        "# 주의 import문을 사용할때는 대상이 모듈이나 패키지여야하고, 클래스나 함수는 가져올수 없음\n",
        "import pkg_ex.seoul.SeoulPkg"
      ],
      "metadata": {
        "colab": {
          "base_uri": "https://localhost:8080/",
          "height": 331
        },
        "id": "oILEKveHVDH2",
        "outputId": "082f8c67-0dfa-4df3-eab9-4904855c84ac"
      },
      "execution_count": null,
      "outputs": [
        {
          "output_type": "error",
          "ename": "ModuleNotFoundError",
          "evalue": "ignored",
          "traceback": [
            "\u001b[0;31m---------------------------------------------------------------------------\u001b[0m",
            "\u001b[0;31mModuleNotFoundError\u001b[0m                       Traceback (most recent call last)",
            "\u001b[0;32m<ipython-input-30-5a8943ae791d>\u001b[0m in \u001b[0;36m<cell line: 2>\u001b[0;34m()\u001b[0m\n\u001b[1;32m      1\u001b[0m \u001b[0;31m# 주의 import문을 사용할때는 대상이 모듈이나 패키지여야하고, 클래스나 함수는 가져올수 없음\u001b[0m\u001b[0;34m\u001b[0m\u001b[0;34m\u001b[0m\u001b[0m\n\u001b[0;32m----> 2\u001b[0;31m \u001b[0;32mimport\u001b[0m \u001b[0mpkg_ex\u001b[0m\u001b[0;34m.\u001b[0m\u001b[0mseoul\u001b[0m\u001b[0;34m.\u001b[0m\u001b[0mSeoulPkg\u001b[0m\u001b[0;34m\u001b[0m\u001b[0;34m\u001b[0m\u001b[0m\n\u001b[0m",
            "\u001b[0;31mModuleNotFoundError\u001b[0m: No module named 'pkg_ex.seoul.SeoulPkg'; 'pkg_ex.seoul' is not a package",
            "",
            "\u001b[0;31m---------------------------------------------------------------------------\u001b[0;32m\nNOTE: If your import is failing due to a missing package, you can\nmanually install dependencies using either !pip or !apt.\n\nTo view examples of installing some common dependencies, click the\n\"Open Examples\" button below.\n\u001b[0;31m---------------------------------------------------------------------------\u001b[0m\n"
          ],
          "errorDetails": {
            "actions": [
              {
                "action": "open_url",
                "actionText": "Open Examples",
                "url": "/notebooks/snippets/importing_libraries.ipynb"
              }
            ]
          }
        }
      ]
    },
    {
      "cell_type": "code",
      "source": [
        "# 만약 from import 문을 사용하면 함수, 클래스, 모듈, 패키지 모두 가져올수 있음\n",
        "from pkg_ex.seoul import SeoulPkg\n",
        "\n",
        "trip_n = SeoulPkg()\n",
        "trip_n.detail()"
      ],
      "metadata": {
        "id": "dVe9Fed9VFxg"
      },
      "execution_count": null,
      "outputs": []
    },
    {
      "cell_type": "code",
      "source": [
        "from pkg_ex import japan\n",
        "trip_n2 = japan.OsakaPkg()\n",
        "trip_n2.detail()"
      ],
      "metadata": {
        "id": "KT6yQjgyVPZZ",
        "outputId": "e6eb60e7-3778-4929-943a-101eae163706",
        "colab": {
          "base_uri": "https://localhost:8080/"
        }
      },
      "execution_count": 26,
      "outputs": [
        {
          "output_type": "stream",
          "name": "stdout",
          "text": [
            "[오사카] 유니버셜 패키지 100만원\n"
          ]
        }
      ]
    },
    {
      "cell_type": "markdown",
      "source": [
        "#모듈 공개 설정"
      ],
      "metadata": {
        "id": "mamc-HSeVwvB"
      }
    },
    {
      "cell_type": "code",
      "source": [
        "# 우리는 보통 모든 패키지를 불러올때 다음과 같이 사용하죠\n",
        "from random import *"
      ],
      "metadata": {
        "id": "xk1SadA7VyAk"
      },
      "execution_count": 27,
      "outputs": []
    },
    {
      "cell_type": "code",
      "source": [
        "# 우리는 보통 모든 패키지를 불러올때 다음과 같이 사용하죠\n",
        "from pkg_ex import *"
      ],
      "metadata": {
        "id": "voZ8BSA6WDZm"
      },
      "execution_count": 1,
      "outputs": []
    },
    {
      "cell_type": "code",
      "source": [
        "trip_ex = seoul.SeoulPkg() #서울의 서울 패키지\n",
        "trip_ex.detail()"
      ],
      "metadata": {
        "colab": {
          "base_uri": "https://localhost:8080/"
        },
        "id": "zSH7bThiV8Kj",
        "outputId": "29a80105-8ba4-47f9-d390-843bb8a8f8f1"
      },
      "execution_count": 3,
      "outputs": [
        {
          "output_type": "stream",
          "name": "stdout",
          "text": [
            "[서울 도심 패키지] 호캉스 100만원\n"
          ]
        }
      ]
    },
    {
      "cell_type": "markdown",
      "source": [
        "* 아까와 같이 실행했는데 다음과 같이 오류가 뜨게 됩니다. import 할때 *로 표시한다는 것은\n",
        "* pkg_ex에 있는 모든 기능을 가져다 쓴다는 뜻인데 왜 실행이 안됐을까요? \n",
        "* 아직 공개설정이 안되서 그렇습니다.\n",
        "* 패키지는 공개범위를 설정할 수 있습니다.\n",
        "* 여러분께서도 공개하고 싶지 않은 것에 대해서는 사용할 수 없게 비공개로 둘수도 있어요 \n",
        "* 앞서 아무 기능을 하지 않았던 __init__.py를 기억할텐데 다음과 같이 설정하면 공개설정을 할 수 있어요"
      ],
      "metadata": {
        "id": "wMmU0Ir2WK9h"
      }
    },
    {
      "cell_type": "code",
      "source": [
        "# 아까와 같이 실행했는데 다음과 같이 오류가 뜨게 됩니다. import 할때 *로 표시한다는 것은\n",
        "# pkg_ex에 있는 모든 기능을 가져다 쓴다는 뜻인데 왜 실행이 안됐을까요?\n",
        "\n",
        "# 아직 공개설정이 안되서 그렇습니다.\n",
        "# 패키지는 공개범위를 설정할 수 있습니다.\n",
        "# 여러분께서도 공개하고 싶지 않은 것에 대해서는 사용할 수 없게 비공개로 둘수도 있어요\n",
        "\n",
        "# 앞서 아무 기능을 하지 않았던 __init__.py를 기억할텐데 다음과 같이 설정하면 공개설정을 할 수 있어요"
      ],
      "metadata": {
        "id": "LbT4Fbg4Xqwv"
      },
      "execution_count": null,
      "outputs": []
    },
    {
      "cell_type": "code",
      "source": [
        "# 재정의 후 다시 실행\n",
        "\n",
        "from pkg_ex import *\n",
        "\n",
        "trip_ex2 = japan.OsakaPkg() #일본의 오사카 패키지\n",
        "trip_ex2.detail()"
      ],
      "metadata": {
        "colab": {
          "base_uri": "https://localhost:8080/"
        },
        "id": "BB4-0VPEXAUJ",
        "outputId": "bfd6360c-6d32-42c7-f359-a94e51e7fefb"
      },
      "execution_count": 4,
      "outputs": [
        {
          "output_type": "stream",
          "name": "stdout",
          "text": [
            "[오사카] 유니버셜 패키지 100만원\n"
          ]
        }
      ]
    },
    {
      "cell_type": "code",
      "source": [
        "if __name__ == \"__main__\":\n",
        "  pass\n",
        "else:\n",
        "  pass"
      ],
      "metadata": {
        "id": "J9eIpA8BXCtH"
      },
      "execution_count": 5,
      "outputs": []
    },
    {
      "cell_type": "code",
      "source": [
        "__name__은 현재 모듈의 이름을 값으로 가지는 내장 변수입니다. \n",
        "그래서 앞의 코드와 같이 작성하면 파일이 실행될때 if문이 실행되게 되고, \n",
        "__main__이 아닌 그 모듈의 이름을 가져오게 됩니다."
      ],
      "metadata": {
        "id": "iY_Qc2T9XXvA"
      },
      "execution_count": null,
      "outputs": []
    },
    {
      "cell_type": "code",
      "source": [
        "# pkg_ex 패키지의 seoul.py에서 SeoulPkg() 클래스 정의 아래에 다음과 같이 코드를 쓰면\n",
        "# __name__변수가 __main__일때 \n",
        "# 모듈을 직접 실행하는 경우에는 if문에서 출력문과 함께 detail() 메서드를 호출하고\n",
        "# 그렇지 않으면 else문으로 호출 안내 문구를 넣어봅시다."
      ],
      "metadata": {
        "id": "pkwIGJJdXgWt"
      },
      "execution_count": 8,
      "outputs": []
    },
    {
      "cell_type": "code",
      "source": [
        "# 다음과 같이 실행하면 else문이 출력될것입니다.\n",
        "# 런타임 초기화\n",
        "\n",
        "import pkg_ex.seoul_new"
      ],
      "metadata": {
        "colab": {
          "base_uri": "https://localhost:8080/"
        },
        "id": "-nqdFVyHYdT9",
        "outputId": "4813d50d-fd17-42d1-b85d-f94ffe7abc37"
      },
      "execution_count": 1,
      "outputs": [
        {
          "output_type": "stream",
          "name": "stdout",
          "text": [
            "외부에서 seoul 모듈 실행되었습니다.\n"
          ]
        }
      ]
    },
    {
      "cell_type": "code",
      "source": [
        "#파일명 seoul_new.py\n",
        "\n",
        "class SeoulPkg:\n",
        "  def detail(self):\n",
        "    print(\"[서울 도심 패키지] 호캉스 100만원\")\n",
        "\n",
        "if __name__ == \"__main__\":\n",
        "  print(\"seoul 모듈 직접 실행되었습니다.\")\n",
        "  trip_seoul = SeoulPkg()\n",
        "  trip_seoul.detail()\n",
        "else:\n",
        "  print(\"외부에서 seoul 모듈 실행되었습니다.\")"
      ],
      "metadata": {
        "id": "gtH_Z5jkXtdb"
      },
      "execution_count": null,
      "outputs": []
    }
  ]
}