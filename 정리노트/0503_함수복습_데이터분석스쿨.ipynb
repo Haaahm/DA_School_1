{
  "nbformat": 4,
  "nbformat_minor": 0,
  "metadata": {
    "colab": {
      "provenance": []
    },
    "kernelspec": {
      "name": "python3",
      "display_name": "Python 3"
    },
    "language_info": {
      "name": "python"
    }
  },
  "cells": [
    {
      "cell_type": "markdown",
      "source": [
        "# 1. 함수 복습\n",
        "\n",
        "함수를 복습해봅시다. \n",
        "\n",
        "함수부터는 데이터 분석, 특히 머신러닝과 딥러닝을 활용할때에 많이 사용되므로 다시 복습해보면서 제대로 배워 나가도록 하겠습니다. \n",
        " \n",
        " * 코드의 재사용\n",
        " * 코드의 용도 구분\n",
        " * 실수 최소화\n"
      ],
      "metadata": {
        "id": "c70bScff2wMA"
      }
    },
    {
      "cell_type": "code",
      "execution_count": 4,
      "metadata": {
        "id": "InD-IOdt2aRC"
      },
      "outputs": [],
      "source": [
        "# 함수 예제 1 - 함수 생성\n",
        "\n",
        "def print_coin():\n",
        "  print(\"비트코인\")"
      ]
    },
    {
      "cell_type": "code",
      "source": [
        "# 함수 예제 1 - 함수 호출\n",
        "\n",
        "print_coin()"
      ],
      "metadata": {
        "id": "SFcQa6r43XSn",
        "colab": {
          "base_uri": "https://localhost:8080/"
        },
        "outputId": "1f78027b-6734-4826-9228-711b3983b088"
      },
      "execution_count": 3,
      "outputs": [
        {
          "output_type": "stream",
          "name": "stdout",
          "text": [
            "비트코인\n"
          ]
        }
      ]
    },
    {
      "cell_type": "code",
      "source": [
        "# 함수 예제 2 - 함수 반복\n",
        "\n",
        "for i in range(100):\n",
        "  print_coin()"
      ],
      "metadata": {
        "colab": {
          "base_uri": "https://localhost:8080/"
        },
        "id": "LIF8NoPf3h7J",
        "outputId": "1d42ddda-7824-4ccc-f11c-0372eb2daa54"
      },
      "execution_count": null,
      "outputs": [
        {
          "output_type": "stream",
          "name": "stdout",
          "text": [
            "비트코인\n",
            "비트코인\n",
            "비트코인\n",
            "비트코인\n",
            "비트코인\n",
            "비트코인\n",
            "비트코인\n",
            "비트코인\n",
            "비트코인\n",
            "비트코인\n",
            "비트코인\n",
            "비트코인\n",
            "비트코인\n",
            "비트코인\n",
            "비트코인\n",
            "비트코인\n",
            "비트코인\n",
            "비트코인\n",
            "비트코인\n",
            "비트코인\n",
            "비트코인\n",
            "비트코인\n",
            "비트코인\n",
            "비트코인\n",
            "비트코인\n",
            "비트코인\n",
            "비트코인\n",
            "비트코인\n",
            "비트코인\n",
            "비트코인\n",
            "비트코인\n",
            "비트코인\n",
            "비트코인\n",
            "비트코인\n",
            "비트코인\n",
            "비트코인\n",
            "비트코인\n",
            "비트코인\n",
            "비트코인\n",
            "비트코인\n",
            "비트코인\n",
            "비트코인\n",
            "비트코인\n",
            "비트코인\n",
            "비트코인\n",
            "비트코인\n",
            "비트코인\n",
            "비트코인\n",
            "비트코인\n",
            "비트코인\n",
            "비트코인\n",
            "비트코인\n",
            "비트코인\n",
            "비트코인\n",
            "비트코인\n",
            "비트코인\n",
            "비트코인\n",
            "비트코인\n",
            "비트코인\n",
            "비트코인\n",
            "비트코인\n",
            "비트코인\n",
            "비트코인\n",
            "비트코인\n",
            "비트코인\n",
            "비트코인\n",
            "비트코인\n",
            "비트코인\n",
            "비트코인\n",
            "비트코인\n",
            "비트코인\n",
            "비트코인\n",
            "비트코인\n",
            "비트코인\n",
            "비트코인\n",
            "비트코인\n",
            "비트코인\n",
            "비트코인\n",
            "비트코인\n",
            "비트코인\n",
            "비트코인\n",
            "비트코인\n",
            "비트코인\n",
            "비트코인\n",
            "비트코인\n",
            "비트코인\n",
            "비트코인\n",
            "비트코인\n",
            "비트코인\n",
            "비트코인\n",
            "비트코인\n",
            "비트코인\n",
            "비트코인\n",
            "비트코인\n",
            "비트코인\n",
            "비트코인\n",
            "비트코인\n",
            "비트코인\n",
            "비트코인\n",
            "비트코인\n"
          ]
        }
      ]
    },
    {
      "cell_type": "code",
      "source": [
        "# 함수 예제 3 - 함수를 호출할때 위치\n",
        "\n",
        "print_coin_2()\n",
        "\n",
        "def print_coin_2():\n",
        "  print(\"비트코인 2개\")"
      ],
      "metadata": {
        "colab": {
          "base_uri": "https://localhost:8080/",
          "height": 243
        },
        "id": "I0u3zs7C31Nz",
        "outputId": "b48617e9-83ce-472a-9a1d-067ec67436d4"
      },
      "execution_count": null,
      "outputs": [
        {
          "output_type": "error",
          "ename": "NameError",
          "evalue": "ignored",
          "traceback": [
            "\u001b[0;31m---------------------------------------------------------------------------\u001b[0m",
            "\u001b[0;31mNameError\u001b[0m                                 Traceback (most recent call last)",
            "\u001b[0;32m<ipython-input-6-413e3661ac83>\u001b[0m in \u001b[0;36m<cell line: 3>\u001b[0;34m()\u001b[0m\n\u001b[1;32m      1\u001b[0m \u001b[0;31m# 함수 예제 3 - 함수를 호출할때 위치\u001b[0m\u001b[0;34m\u001b[0m\u001b[0;34m\u001b[0m\u001b[0m\n\u001b[1;32m      2\u001b[0m \u001b[0;34m\u001b[0m\u001b[0m\n\u001b[0;32m----> 3\u001b[0;31m \u001b[0mprint_coin_2\u001b[0m\u001b[0;34m(\u001b[0m\u001b[0;34m)\u001b[0m\u001b[0;34m\u001b[0m\u001b[0;34m\u001b[0m\u001b[0m\n\u001b[0m\u001b[1;32m      4\u001b[0m \u001b[0;34m\u001b[0m\u001b[0m\n\u001b[1;32m      5\u001b[0m \u001b[0;32mdef\u001b[0m \u001b[0mprint_coin_2\u001b[0m\u001b[0;34m(\u001b[0m\u001b[0;34m)\u001b[0m\u001b[0;34m:\u001b[0m\u001b[0;34m\u001b[0m\u001b[0;34m\u001b[0m\u001b[0m\n",
            "\u001b[0;31mNameError\u001b[0m: name 'print_coin_2' is not defined"
          ]
        }
      ]
    },
    {
      "cell_type": "code",
      "source": [
        "# 함수 예제 4 - 연습 문제 1\n",
        "\n",
        "\n",
        "def message():\n",
        "  print('A')\n",
        "  print('B')\n",
        "\n",
        "message()\n",
        "print('C')\n",
        "message()"
      ],
      "metadata": {
        "id": "F15Vu4Px4RjM",
        "colab": {
          "base_uri": "https://localhost:8080/"
        },
        "outputId": "24511ad1-00d0-47bb-cb52-55faf351a0f1"
      },
      "execution_count": 5,
      "outputs": [
        {
          "output_type": "stream",
          "name": "stdout",
          "text": [
            "A\n",
            "B\n",
            "C\n",
            "A\n",
            "B\n"
          ]
        }
      ]
    },
    {
      "cell_type": "code",
      "source": [
        "# 함수 예제 5 - 연습 문제 2\n",
        "# 이렇게 사용하면 함수가 헷갈리게 됨\n",
        "\n",
        "print('A')\n",
        "\n",
        "def message():\n",
        "  print(\"B\")\n",
        "\n",
        "print('C')\n",
        "\n",
        "message()"
      ],
      "metadata": {
        "colab": {
          "base_uri": "https://localhost:8080/"
        },
        "id": "r0T0vcV05Yp7",
        "outputId": "1b401c11-4040-4062-c88c-66fc6b471b67"
      },
      "execution_count": 6,
      "outputs": [
        {
          "output_type": "stream",
          "name": "stdout",
          "text": [
            "A\n",
            "C\n",
            "B\n"
          ]
        }
      ]
    },
    {
      "cell_type": "code",
      "source": [
        "# 함수 예제 6 - 연습 문제 3\n",
        "\n",
        "print('A')\n",
        "\n",
        "def message1():\n",
        "  print('B')\n",
        "\n",
        "print('C')\n",
        "\n",
        "def message2():\n",
        "  print(\"D\")\n",
        "\n",
        "message1()\n",
        "print('E')\n",
        "message2()"
      ],
      "metadata": {
        "colab": {
          "base_uri": "https://localhost:8080/"
        },
        "id": "6fxw4-rZ5sF5",
        "outputId": "d6eb6be3-6cf3-4a46-b90d-0db1f87020d0"
      },
      "execution_count": 7,
      "outputs": [
        {
          "output_type": "stream",
          "name": "stdout",
          "text": [
            "A\n",
            "C\n",
            "B\n",
            "E\n",
            "D\n"
          ]
        }
      ]
    },
    {
      "cell_type": "code",
      "source": [
        "# 함수 예제 7 - 연습 문제 4\n",
        "\n",
        "def message1():\n",
        "  print('A')\n",
        "\n",
        "def message2():\n",
        "  print('B')\n",
        "  message1() # -> print('A')\n",
        "\n",
        "message2()"
      ],
      "metadata": {
        "colab": {
          "base_uri": "https://localhost:8080/"
        },
        "id": "-oUP-Oo_6Or8",
        "outputId": "07713638-0f8d-4429-d056-8024ea79a7b7"
      },
      "execution_count": null,
      "outputs": [
        {
          "output_type": "stream",
          "name": "stdout",
          "text": [
            "B\n",
            "A\n"
          ]
        }
      ]
    },
    {
      "cell_type": "code",
      "source": [
        "# 함수 예제 8 - 연습 문제 5\n",
        "\n",
        "def message1():\n",
        "  print('A')\n",
        "\n",
        "def message2():\n",
        "  print('B')\n",
        "\n",
        "def message3():\n",
        "  for i in range(3):\n",
        "    message2() # print('B')\n",
        "    print('C')\n",
        "  message1() # print('A')\n",
        "\n",
        "message3()"
      ],
      "metadata": {
        "id": "5pm8wNO46znB",
        "colab": {
          "base_uri": "https://localhost:8080/"
        },
        "outputId": "296f020d-d086-457a-aa4a-5641fdb3e2fa"
      },
      "execution_count": 9,
      "outputs": [
        {
          "output_type": "stream",
          "name": "stdout",
          "text": [
            "B\n",
            "C\n",
            "B\n",
            "C\n",
            "B\n",
            "C\n",
            "A\n"
          ]
        }
      ]
    },
    {
      "cell_type": "code",
      "source": [
        "# 함수 예제 9 - 숫자형 연습\n",
        "# 함수안에 있는 변수는 바깥에서 사용할 수가 없다!!!\n",
        "\n",
        "def num(a, b): # a, b를 활용하는 함수 num\n",
        "  print(a + b) # 위에서 언급한 a, b는 밑에서 사용해 주셔야 합니다."
      ],
      "metadata": {
        "id": "YhtoK78h77h_"
      },
      "execution_count": null,
      "outputs": []
    },
    {
      "cell_type": "code",
      "source": [
        "def num(a, b):\n",
        "  print(a + b)"
      ],
      "metadata": {
        "id": "haMyYOFY8XHd"
      },
      "execution_count": 10,
      "outputs": []
    },
    {
      "cell_type": "code",
      "source": [
        "#num(a, b)\n",
        "num(3, 4)"
      ],
      "metadata": {
        "colab": {
          "base_uri": "https://localhost:8080/"
        },
        "outputId": "d7124c25-5026-4015-8e05-33b6afe823f8",
        "id": "9qA-Qaq5AauE"
      },
      "execution_count": 11,
      "outputs": [
        {
          "output_type": "stream",
          "name": "stdout",
          "text": [
            "7\n"
          ]
        }
      ]
    },
    {
      "cell_type": "code",
      "source": [
        "# 함수 예제 10 - 숫자형과 문자열 \n",
        "# 함수안에 있는 변수는 바깥에서 사용할 수가 없다는 것을 !!!\n",
        "def num_str(a, b):\n",
        "  print(a + b)\n",
        "\n",
        "num_str(\"안녕\", 3)"
      ],
      "metadata": {
        "id": "SzLPz0vu8QbV",
        "colab": {
          "base_uri": "https://localhost:8080/",
          "height": 340
        },
        "outputId": "e56ae4d1-4880-47d2-e96c-5cf5edc90bc4"
      },
      "execution_count": 12,
      "outputs": [
        {
          "output_type": "error",
          "ename": "TypeError",
          "evalue": "ignored",
          "traceback": [
            "\u001b[0;31m---------------------------------------------------------------------------\u001b[0m",
            "\u001b[0;31mTypeError\u001b[0m                                 Traceback (most recent call last)",
            "\u001b[0;32m<ipython-input-12-1b17df4a9c13>\u001b[0m in \u001b[0;36m<cell line: 6>\u001b[0;34m()\u001b[0m\n\u001b[1;32m      4\u001b[0m   \u001b[0mprint\u001b[0m\u001b[0;34m(\u001b[0m\u001b[0ma\u001b[0m \u001b[0;34m+\u001b[0m \u001b[0mb\u001b[0m\u001b[0;34m)\u001b[0m\u001b[0;34m\u001b[0m\u001b[0;34m\u001b[0m\u001b[0m\n\u001b[1;32m      5\u001b[0m \u001b[0;34m\u001b[0m\u001b[0m\n\u001b[0;32m----> 6\u001b[0;31m \u001b[0mnum_str\u001b[0m\u001b[0;34m(\u001b[0m\u001b[0;34m\"안녕\"\u001b[0m\u001b[0;34m,\u001b[0m \u001b[0;36m3\u001b[0m\u001b[0;34m)\u001b[0m\u001b[0;34m\u001b[0m\u001b[0;34m\u001b[0m\u001b[0m\n\u001b[0m",
            "\u001b[0;32m<ipython-input-12-1b17df4a9c13>\u001b[0m in \u001b[0;36mnum_str\u001b[0;34m(a, b)\u001b[0m\n\u001b[1;32m      2\u001b[0m \u001b[0;31m# 함수안에 있는 변수는 바깥에서 사용할 수가 없다는 것을 !!!\u001b[0m\u001b[0;34m\u001b[0m\u001b[0;34m\u001b[0m\u001b[0m\n\u001b[1;32m      3\u001b[0m \u001b[0;32mdef\u001b[0m \u001b[0mnum_str\u001b[0m\u001b[0;34m(\u001b[0m\u001b[0ma\u001b[0m\u001b[0;34m,\u001b[0m \u001b[0mb\u001b[0m\u001b[0;34m)\u001b[0m\u001b[0;34m:\u001b[0m\u001b[0;34m\u001b[0m\u001b[0;34m\u001b[0m\u001b[0m\n\u001b[0;32m----> 4\u001b[0;31m   \u001b[0mprint\u001b[0m\u001b[0;34m(\u001b[0m\u001b[0ma\u001b[0m \u001b[0;34m+\u001b[0m \u001b[0mb\u001b[0m\u001b[0;34m)\u001b[0m\u001b[0;34m\u001b[0m\u001b[0;34m\u001b[0m\u001b[0m\n\u001b[0m\u001b[1;32m      5\u001b[0m \u001b[0;34m\u001b[0m\u001b[0m\n\u001b[1;32m      6\u001b[0m \u001b[0mnum_str\u001b[0m\u001b[0;34m(\u001b[0m\u001b[0;34m\"안녕\"\u001b[0m\u001b[0;34m,\u001b[0m \u001b[0;36m3\u001b[0m\u001b[0;34m)\u001b[0m\u001b[0;34m\u001b[0m\u001b[0;34m\u001b[0m\u001b[0m\n",
            "\u001b[0;31mTypeError\u001b[0m: can only concatenate str (not \"int\") to str"
          ]
        }
      ]
    },
    {
      "cell_type": "code",
      "source": [
        "# 함수 예제 12 - 덧셈 \n",
        "def print_upper_price(price):\n",
        "  print(price * 1.3)\n",
        "\n",
        "print_upper_price(300)"
      ],
      "metadata": {
        "colab": {
          "base_uri": "https://localhost:8080/"
        },
        "id": "R0NfvUjJA1WJ",
        "outputId": "f7c1cc02-1863-4efb-cc67-9ce2d84a6a2b"
      },
      "execution_count": null,
      "outputs": [
        {
          "output_type": "stream",
          "name": "stdout",
          "text": [
            "390.0\n"
          ]
        }
      ]
    },
    {
      "cell_type": "code",
      "source": [
        "# 함수 예제 13 - 두수의 합/차이/곱셈/나눗셈 을 출력하는 함수\n",
        "def cal(a,b):\n",
        "  print('a + b ', a + b)\n",
        "  print('a - b ', a - b)\n",
        "  print('a * b ', a * b)\n",
        "  print('a / b ', a / b)\n",
        "cal(2, 4)"
      ],
      "metadata": {
        "id": "aFmSUhV9BCe9",
        "colab": {
          "base_uri": "https://localhost:8080/"
        },
        "outputId": "d315aa4b-5613-4f36-88f8-e42b845b38e1"
      },
      "execution_count": 17,
      "outputs": [
        {
          "output_type": "stream",
          "name": "stdout",
          "text": [
            "a + b  6\n",
            "a - b  -2\n",
            "a * b  8\n",
            "a / b  0.5\n"
          ]
        }
      ]
    },
    {
      "cell_type": "code",
      "source": [
        "# 함수 예제 14 - 세 개의 숫자를 입력받아 가장 큰 수를 출력하는 print_max 함수를 정의하라. \n",
        "# 단, if문을 사용해서 수를 비교하시오\n",
        "\n",
        "def print_max(a, b, c):\n",
        "    if a > b and a > c:\n",
        "        print(a)\n",
        "    elif b > a and b > c:\n",
        "        print(b)\n",
        "    else:\n",
        "        print(c)\n",
        "\n",
        "print_max(10, 11, 4)\n"
      ],
      "metadata": {
        "id": "QsuBg9w7B0SO",
        "colab": {
          "base_uri": "https://localhost:8080/"
        },
        "outputId": "410fcf6c-16ed-4ec4-bc56-75ca249594a9"
      },
      "execution_count": 20,
      "outputs": [
        {
          "output_type": "stream",
          "name": "stdout",
          "text": [
            "11\n"
          ]
        }
      ]
    },
    {
      "cell_type": "code",
      "source": [
        "# 함수 예제 14_2 - 세 개의 숫자를 입력받아 가장 큰 수를 출력하는 print_max 함수를 정의하라. \n",
        "# 단, if문을 사용해서 수를 비교하시오\n",
        "\n",
        "def print_max(a,b,c):\n",
        "  max_val = 0\n",
        "\n",
        "  if a > max_val: # 0보다 큰 값을 받기를 원함\n",
        "    max_val = a\n",
        "\n",
        "  if b > max_val: # max_val = a\n",
        "    max_val = b\n",
        "\n",
        "  if c > max_val:\n",
        "    max_val = c\n",
        "\n",
        "  print(max_val)"
      ],
      "metadata": {
        "id": "1mXAyTlNE9e_"
      },
      "execution_count": null,
      "outputs": []
    },
    {
      "cell_type": "code",
      "source": [
        "# 함수 예제 15 - 입력된 문자열을 역순으로 출력하는 reverse 함수\n",
        "\n",
        "def print_reverse(string_a):\n",
        "  print(string_a[::-1])\n",
        "\n",
        "print_reverse('python')"
      ],
      "metadata": {
        "colab": {
          "base_uri": "https://localhost:8080/"
        },
        "id": "rku5YeqEEWh6",
        "outputId": "8740dd53-decc-46c0-fbbd-f12c7216a3a2"
      },
      "execution_count": null,
      "outputs": [
        {
          "output_type": "stream",
          "name": "stdout",
          "text": [
            "nohtyp\n"
          ]
        }
      ]
    },
    {
      "cell_type": "code",
      "source": [
        "# 함수 예제 16 - 평균을 출력하는 함수\n",
        "\n",
        "def print_score(score_list):\n",
        "  print(sum(score_list) / len(score_list))"
      ],
      "metadata": {
        "id": "5uiro4b1EYT3"
      },
      "execution_count": 21,
      "outputs": []
    },
    {
      "cell_type": "code",
      "source": [
        "print_score([1,2,3])"
      ],
      "metadata": {
        "id": "I9iQhsgGFFhS",
        "colab": {
          "base_uri": "https://localhost:8080/"
        },
        "outputId": "4f23341c-fce6-424a-cbd3-e9b48017a369"
      },
      "execution_count": 25,
      "outputs": [
        {
          "output_type": "stream",
          "name": "stdout",
          "text": [
            "2.0\n"
          ]
        }
      ]
    },
    {
      "cell_type": "code",
      "source": [
        "# 함수 예제 17 - 하나의 리스트를 입력받아서 짝수만 출력하는 함수를 만들어 보세요.\n",
        "\n",
        "def print_even(even_list):\n",
        "    for i in even_list:\n",
        "        if i % 2 == 0:\n",
        "            print(i)\n",
        "        else:\n",
        "            pass\n",
        "            \n",
        "print_even([1, 3, 2, 10, 12, 11, 15])\n"
      ],
      "metadata": {
        "colab": {
          "base_uri": "https://localhost:8080/"
        },
        "id": "BoQMWhwFFs53",
        "outputId": "3d88fede-bb22-4568-ad56-e23602124a5f"
      },
      "execution_count": 29,
      "outputs": [
        {
          "output_type": "stream",
          "name": "stdout",
          "text": [
            "2\n",
            "10\n",
            "12\n"
          ]
        }
      ]
    },
    {
      "cell_type": "code",
      "source": [
        "# 함수 예제 18\n",
        "def print_dic(my_dict):\n",
        "  print(my_dict)"
      ],
      "metadata": {
        "id": "aBGLp-dBHOnX"
      },
      "execution_count": 35,
      "outputs": []
    },
    {
      "cell_type": "code",
      "source": [
        "print_dic({\"이름\" : \"홍길동\", \"나이\" : 30, \"직업\" : \"의적\"})"
      ],
      "metadata": {
        "colab": {
          "base_uri": "https://localhost:8080/"
        },
        "id": "g6_GJgXTHcyQ",
        "outputId": "bb245a85-02d2-44d5-9648-da027d4d90a9"
      },
      "execution_count": 36,
      "outputs": [
        {
          "output_type": "stream",
          "name": "stdout",
          "text": [
            "{'이름': '홍길동', '나이': 30, '직업': '의적'}\n"
          ]
        }
      ]
    },
    {
      "cell_type": "code",
      "source": [
        "# 함수 예제 19 - 함수 내부의 결과는 접근이 불가합니다.\n",
        "\n",
        "def n_plus(n):\n",
        "  result = n + 1\n",
        "  return result\n",
        "\n",
        "result_new = n_plus(3)\n",
        "\n"
      ],
      "metadata": {
        "id": "0EtSktYDHmp5"
      },
      "execution_count": null,
      "outputs": []
    },
    {
      "cell_type": "code",
      "source": [
        "result_new"
      ],
      "metadata": {
        "colab": {
          "base_uri": "https://localhost:8080/"
        },
        "id": "0vptZql6IMn4",
        "outputId": "87a67412-b46f-4db6-cca9-3fed377e4e23"
      },
      "execution_count": null,
      "outputs": [
        {
          "output_type": "execute_result",
          "data": {
            "text/plain": [
              "4"
            ]
          },
          "metadata": {},
          "execution_count": 41
        }
      ]
    },
    {
      "cell_type": "code",
      "source": [
        "# 함수 예제 20 - 문자열 하나를 입력받아서 인터넷 주소를 반환하는 함수를 만들어라\n",
        "def make_url(string):\n",
        "  url = \"www.\" + string + \".com\"\n",
        "  return url\n",
        "\n",
        "make_url(\"naver\")"
      ],
      "metadata": {
        "colab": {
          "base_uri": "https://localhost:8080/",
          "height": 36
        },
        "id": "AmcKrGtGI1Ps",
        "outputId": "a80358e9-c9cc-4557-beab-a1997a7b3e5a"
      },
      "execution_count": null,
      "outputs": [
        {
          "output_type": "execute_result",
          "data": {
            "text/plain": [
              "'www.naver.com'"
            ],
            "application/vnd.google.colaboratory.intrinsic+json": {
              "type": "string"
            }
          },
          "metadata": {},
          "execution_count": 42
        }
      ]
    },
    {
      "cell_type": "code",
      "source": [
        "# 함수 예제 21 - 문자열 하나씩 입력받아서 리스트 화\n",
        "\n",
        "def make_list(string):\n",
        "  my_list = []\n",
        "  for i in string:\n",
        "    my_list.append(i)\n",
        "  return my_list\n",
        "\n",
        "make_list(\"abcd\")"
      ],
      "metadata": {
        "colab": {
          "base_uri": "https://localhost:8080/"
        },
        "id": "q70xiOoSJoLH",
        "outputId": "cb417c3b-2fa0-4bad-f0a2-be7343aa7d76"
      },
      "execution_count": 37,
      "outputs": [
        {
          "output_type": "execute_result",
          "data": {
            "text/plain": [
              "['a', 'b', 'c', 'd']"
            ]
          },
          "metadata": {},
          "execution_count": 37
        }
      ]
    },
    {
      "cell_type": "code",
      "source": [
        "# 함수 예제 22 - 문자열 대체\n",
        "\n",
        "def convert_int(string):\n",
        "  return int(string.replace(',',''))\n",
        "\n",
        "# replace ',' -> '' 으로 변경\n",
        "\n",
        "convert_int('123,456')"
      ],
      "metadata": {
        "colab": {
          "base_uri": "https://localhost:8080/"
        },
        "id": "m2peLP6OJvJ2",
        "outputId": "6bec4dba-7881-4cff-c2df-826beffe3c89"
      },
      "execution_count": null,
      "outputs": [
        {
          "output_type": "execute_result",
          "data": {
            "text/plain": [
              "123456"
            ]
          },
          "metadata": {},
          "execution_count": 44
        }
      ]
    },
    {
      "cell_type": "code",
      "source": [
        "# 함수 예제 23\n",
        "\n",
        "def number_1(num):\n",
        "  return num + 4\n",
        "\n",
        "a = number_1(10)\n",
        "b = number_1(a)\n",
        "c = number_1(b)\n",
        "\n",
        "print(c)"
      ],
      "metadata": {
        "colab": {
          "base_uri": "https://localhost:8080/"
        },
        "id": "XObabJ-5JrnA",
        "outputId": "876b4ffc-a3c6-4d2b-99b6-699998c2cadb"
      },
      "execution_count": 39,
      "outputs": [
        {
          "output_type": "stream",
          "name": "stdout",
          "text": [
            "22\n"
          ]
        }
      ]
    },
    {
      "cell_type": "code",
      "source": [
        "# 함수 예제 24\n",
        "\n",
        "def def_1(num):\n",
        "  return num + 4\n",
        "\n",
        "def def_2(num):\n",
        "  num = num + 2\n",
        "  return def_1(num)\n",
        "\n",
        "c = def_2(10)\n",
        "print(c)"
      ],
      "metadata": {
        "colab": {
          "base_uri": "https://localhost:8080/"
        },
        "id": "dhOUZGAUOSQE",
        "outputId": "942255ed-4a13-447c-cc84-6c143864f6d5"
      },
      "execution_count": 38,
      "outputs": [
        {
          "output_type": "stream",
          "name": "stdout",
          "text": [
            "16\n"
          ]
        }
      ]
    },
    {
      "cell_type": "code",
      "source": [
        "# 함수 예제 25\n",
        "def def_1(num):\n",
        "  return num * 2\n",
        "\n",
        "def def_2(num):\n",
        "  return def_1(num + 2)\n",
        "\n",
        "def def_3(num):\n",
        "  num = num + 10\n",
        "  return def_2(num)\n",
        "\n",
        "c = def_3(2)\n",
        "print(c)"
      ],
      "metadata": {
        "id": "1ZHIzefSOjAh"
      },
      "execution_count": null,
      "outputs": []
    },
    {
      "cell_type": "code",
      "source": [
        "# 함수 예제 26\n",
        "def double(x):\n",
        "  y = x\n",
        "  x = 10\n",
        "  return y * y\n",
        "\n",
        "x = 3\n",
        "\n",
        "#1번\n",
        "print(double(x))\n",
        "#2번\n",
        "print(x)"
      ],
      "metadata": {
        "colab": {
          "base_uri": "https://localhost:8080/"
        },
        "id": "m8XY9Tt0Psau",
        "outputId": "af3d078c-8b13-4fa0-a83c-160db71d9a35"
      },
      "execution_count": 40,
      "outputs": [
        {
          "output_type": "stream",
          "name": "stdout",
          "text": [
            "9\n",
            "3\n"
          ]
        }
      ]
    },
    {
      "cell_type": "code",
      "source": [
        "# 함수 예제 27\n",
        "# return에 매개변수 없이 출력이 되면 함수 내 문장과 상관없이 그 값을 빠져나옵니다. \n",
        "\n",
        "def test_01(a):\n",
        "  if a == 10:\n",
        "    return # 아무것도 실행되지 않는다. == pass\n",
        "  else:\n",
        "    print(\"10이 아닙니다.\")\n",
        "  \n",
        "test_01(10)\n",
        "test_01(1)"
      ],
      "metadata": {
        "colab": {
          "base_uri": "https://localhost:8080/"
        },
        "id": "j-WXNlk7QDek",
        "outputId": "2f236cad-bbdd-4673-9fd8-ca660320f7dc"
      },
      "execution_count": 41,
      "outputs": [
        {
          "output_type": "stream",
          "name": "stdout",
          "text": [
            "10이 아닙니다.\n"
          ]
        }
      ]
    },
    {
      "cell_type": "code",
      "source": [
        "# 함수 예제 28 - 함수의 호출 과정(키워드 인수)\n",
        "# 위치인수는 호출할때 함수의 정의와 인수 순서가 같은 순서로 지정!!\n",
        "# 위치가 틀어지면 값이 완전히 바뀔수 있다.\n",
        "\n",
        "def billing(unit_prices, units, fees, tax_rate):\n",
        "  return (unit_prices * units + fees) * tax_rate\n",
        "  \n",
        "x = billing(1000, 10, 500, 1.1)\n",
        "print(x)"
      ],
      "metadata": {
        "colab": {
          "base_uri": "https://localhost:8080/"
        },
        "id": "x7RD7zz0QVmS",
        "outputId": "0d6ff3c3-5c6c-4a1f-a744-c34cd3a2b6d4"
      },
      "execution_count": null,
      "outputs": [
        {
          "output_type": "stream",
          "name": "stdout",
          "text": [
            "11550.000000000002\n"
          ]
        }
      ]
    },
    {
      "cell_type": "code",
      "source": [
        "y = billing(10, 1000, 1.1, 500)\n",
        "print(y)"
      ],
      "metadata": {
        "colab": {
          "base_uri": "https://localhost:8080/"
        },
        "id": "RfTOnuU5Q7SP",
        "outputId": "03628b5a-9415-4b1f-ed54-e7c89173d2b2"
      },
      "execution_count": null,
      "outputs": [
        {
          "output_type": "stream",
          "name": "stdout",
          "text": [
            "5000550.0\n"
          ]
        }
      ]
    },
    {
      "cell_type": "code",
      "source": [
        "def billing(unit_prices, units, fees, tax_rate):\n",
        "  return (unit_prices * units + fees) * tax_rate\n",
        "\n",
        "x = billing(unit_prices = 1000, units = 10, fees = 500, tax_rate = 1.1)"
      ],
      "metadata": {
        "id": "glid9eCTRdfC"
      },
      "execution_count": null,
      "outputs": []
    },
    {
      "cell_type": "code",
      "source": [
        "print(x)"
      ],
      "metadata": {
        "colab": {
          "base_uri": "https://localhost:8080/"
        },
        "id": "fmR9hDNkRw1d",
        "outputId": "74d09be1-9a20-46b1-910f-8820749bd5b9"
      },
      "execution_count": null,
      "outputs": [
        {
          "output_type": "stream",
          "name": "stdout",
          "text": [
            "11550.000000000002\n"
          ]
        }
      ]
    },
    {
      "cell_type": "code",
      "source": [
        "y = billing(units = 10, unit_prices = 1000, tax_rate = 1.1, fees = 500)"
      ],
      "metadata": {
        "id": "vOV9xLZtRx82"
      },
      "execution_count": null,
      "outputs": []
    },
    {
      "cell_type": "code",
      "source": [
        "print(y)"
      ],
      "metadata": {
        "id": "NK5_uiIyR3ZP",
        "outputId": "bb689bbd-bfe1-4747-ee75-0be6b53a1d3e",
        "colab": {
          "base_uri": "https://localhost:8080/"
        }
      },
      "execution_count": null,
      "outputs": [
        {
          "output_type": "stream",
          "name": "stdout",
          "text": [
            "11550.000000000002\n"
          ]
        }
      ]
    },
    {
      "cell_type": "code",
      "source": [
        "# 연습문제 1. 출력 결과를 말씀해주세요\n",
        "\n",
        "def print_hi():\n",
        "  print(\"Hi\")\n",
        "\n",
        "# 1. Hi\n",
        "# 2. NameError\n",
        "# 3. print_hi()\n",
        "# 4. ValueError\n",
        "# 5. 출력값 없음 == 답"
      ],
      "metadata": {
        "id": "KV3y55tlSTM2"
      },
      "execution_count": 43,
      "outputs": []
    },
    {
      "cell_type": "code",
      "source": [
        "# 연습문제 2. 출력 결과를 말씀해주세요\n",
        "\n",
        "def test(k):\n",
        "  print(f\"Input is {k}\")\n",
        "\n",
        "k = 1000\n",
        "test(k)\n",
        "\n",
        "#1 Input is 100\n",
        "#2 NameError\n",
        "#3 IndexError\n",
        "#4 ValueError\n",
        "#5 None"
      ],
      "metadata": {
        "id": "qmAwDkquS0o5",
        "colab": {
          "base_uri": "https://localhost:8080/"
        },
        "outputId": "c80b3de0-dc4e-445a-abe3-998a75b13b8a"
      },
      "execution_count": 42,
      "outputs": [
        {
          "output_type": "stream",
          "name": "stdout",
          "text": [
            "Input is 1000\n"
          ]
        }
      ]
    },
    {
      "cell_type": "code",
      "source": [
        "# 연습문제 3 - 출력 결과를 말씀해주세요\n",
        "def f(x):\n",
        "  y = x\n",
        "  x = 7\n",
        "  return y * x\n",
        "\n",
        "x = 4\n",
        "print(f(3))\n",
        "print(x)\n",
        "\n",
        "# 1. 21\n",
        "#    4\n",
        "# 2. 9\n",
        "#    3\n",
        "# 3. 21\n",
        "#    3\n",
        "# 4. 49\n",
        "#    3\n",
        "# 5. 21\n",
        "#    7"
      ],
      "metadata": {
        "colab": {
          "base_uri": "https://localhost:8080/"
        },
        "id": "ktFYcS4oTwY2",
        "outputId": "7d86101f-5c54-4c06-eb95-dc3f517a512b"
      },
      "execution_count": 44,
      "outputs": [
        {
          "output_type": "stream",
          "name": "stdout",
          "text": [
            "21\n",
            "4\n"
          ]
        }
      ]
    },
    {
      "cell_type": "code",
      "source": [
        "# 연습문제 4\n",
        "name = 'jinho'\n",
        "def call_my_name():\n",
        "  print(name)\n",
        "  name = 'sehoon'\n",
        "\n",
        "call_my_name()\n",
        "\n",
        "# 1. 'Jinho'\n",
        "# 2. 'sehoon'\n",
        "# 3. None\n",
        "# 4. error\n",
        "# 5. 'call_my_name'"
      ],
      "metadata": {
        "colab": {
          "base_uri": "https://localhost:8080/",
          "height": 377
        },
        "id": "jdgO64gIT5HT",
        "outputId": "d53bd9bd-4c64-4121-ecc1-689d12a95537"
      },
      "execution_count": 45,
      "outputs": [
        {
          "output_type": "error",
          "ename": "UnboundLocalError",
          "evalue": "ignored",
          "traceback": [
            "\u001b[0;31m---------------------------------------------------------------------------\u001b[0m",
            "\u001b[0;31mUnboundLocalError\u001b[0m                         Traceback (most recent call last)",
            "\u001b[0;32m<ipython-input-45-86b99eca282f>\u001b[0m in \u001b[0;36m<cell line: 7>\u001b[0;34m()\u001b[0m\n\u001b[1;32m      5\u001b[0m   \u001b[0mname\u001b[0m \u001b[0;34m=\u001b[0m \u001b[0;34m'sehoon'\u001b[0m\u001b[0;34m\u001b[0m\u001b[0;34m\u001b[0m\u001b[0m\n\u001b[1;32m      6\u001b[0m \u001b[0;34m\u001b[0m\u001b[0m\n\u001b[0;32m----> 7\u001b[0;31m \u001b[0mcall_my_name\u001b[0m\u001b[0;34m(\u001b[0m\u001b[0;34m)\u001b[0m\u001b[0;34m\u001b[0m\u001b[0;34m\u001b[0m\u001b[0m\n\u001b[0m\u001b[1;32m      8\u001b[0m \u001b[0;34m\u001b[0m\u001b[0m\n\u001b[1;32m      9\u001b[0m \u001b[0;31m# 1. 'Jinho'\u001b[0m\u001b[0;34m\u001b[0m\u001b[0;34m\u001b[0m\u001b[0m\n",
            "\u001b[0;32m<ipython-input-45-86b99eca282f>\u001b[0m in \u001b[0;36mcall_my_name\u001b[0;34m()\u001b[0m\n\u001b[1;32m      2\u001b[0m \u001b[0mname\u001b[0m \u001b[0;34m=\u001b[0m \u001b[0;34m'jinho'\u001b[0m\u001b[0;34m\u001b[0m\u001b[0;34m\u001b[0m\u001b[0m\n\u001b[1;32m      3\u001b[0m \u001b[0;32mdef\u001b[0m \u001b[0mcall_my_name\u001b[0m\u001b[0;34m(\u001b[0m\u001b[0;34m)\u001b[0m\u001b[0;34m:\u001b[0m\u001b[0;34m\u001b[0m\u001b[0;34m\u001b[0m\u001b[0m\n\u001b[0;32m----> 4\u001b[0;31m   \u001b[0mprint\u001b[0m\u001b[0;34m(\u001b[0m\u001b[0mname\u001b[0m\u001b[0;34m)\u001b[0m\u001b[0;34m\u001b[0m\u001b[0;34m\u001b[0m\u001b[0m\n\u001b[0m\u001b[1;32m      5\u001b[0m   \u001b[0mname\u001b[0m \u001b[0;34m=\u001b[0m \u001b[0;34m'sehoon'\u001b[0m\u001b[0;34m\u001b[0m\u001b[0;34m\u001b[0m\u001b[0m\n\u001b[1;32m      6\u001b[0m \u001b[0;34m\u001b[0m\u001b[0m\n",
            "\u001b[0;31mUnboundLocalError\u001b[0m: local variable 'name' referenced before assignment"
          ]
        }
      ]
    },
    {
      "cell_type": "code",
      "source": [
        "# 연습문제 5\n",
        "def say_myself(name, old, woman = True):\n",
        "  print(f\"나의 이름은 {name}입니다.\")\n",
        "  print(f\"나의 나이는 {old}입니다.\")\n",
        "  if woman:\n",
        "    print(\"여성입니다.\")\n",
        "  else:\n",
        "    print(\"남성입니다.\")\n",
        "\n",
        "say_myself(\"최주영\", \"35\")\n",
        "\n",
        "#1. 나의 이름은 최주영입니다.\n",
        "#   나의 나이는 35입니다.\n",
        "#   여성입니다.\n",
        "#2. 나의 이름은 최주영입니다.\n",
        "#   남성입니다.\n",
        "#   나이는 35살 입니다.\n",
        "#3. 나의 이름은 최주영입니다.\n",
        "#   여성입니다.\n",
        "#   나이는 35살 입니다.\n",
        "\n",
        "#4. 나의 이름은 최주영입니다.\n",
        "#   나의 나이는 35입니다.\n",
        "#   남자입니다.\n",
        "\n",
        "#5. 나의 이름은 최주영입니다.\n",
        "#   여성입니다."
      ],
      "metadata": {
        "colab": {
          "base_uri": "https://localhost:8080/"
        },
        "id": "BkS-lKUZUxRM",
        "outputId": "cc49edc6-c444-463b-ff2e-b155bbaccef5"
      },
      "execution_count": 46,
      "outputs": [
        {
          "output_type": "stream",
          "name": "stdout",
          "text": [
            "나의 이름은 최주영입니다.\n",
            "나의 나이는 35입니다.\n",
            "여성입니다.\n"
          ]
        }
      ]
    },
    {
      "cell_type": "code",
      "source": [
        "# 연습문제 6\n",
        "\n",
        "\n",
        "def exam_func():\n",
        "  x = 10\n",
        "  print(f\"Value: {x}\")\n",
        "\n",
        "x = 20\n",
        "exam_func()\n",
        "print(f\"Value: {x}\")"
      ],
      "metadata": {
        "colab": {
          "base_uri": "https://localhost:8080/"
        },
        "id": "7JNLx5o-VR87",
        "outputId": "94cefa3f-70a4-4a14-c508-2c1ce2253250"
      },
      "execution_count": 47,
      "outputs": [
        {
          "output_type": "stream",
          "name": "stdout",
          "text": [
            "Value: 10\n",
            "Value: 20\n"
          ]
        }
      ]
    },
    {
      "cell_type": "code",
      "source": [
        "# 연습문제 7 실행된 함수가 어떤값을 가질지 맞춰주세요\n",
        "\n",
        "def get_abbr(data_list):\n",
        "  result = []\n",
        "\n",
        "  for x in data_list:\n",
        "    result.append(x[:3])\n",
        "\n",
        "  return result\n",
        "\n",
        "get_abbr(['Seoul', 'Anyang', 'Incheon', 'Jeju'])\n",
        "\n",
        "#1. ['Seoul', 'Anyang', 'Incheon', 'Jeju']\n",
        "#2. ['Seoul', 'Anyang', 'Incheon']\n",
        "#3. ['Seo', 'Any', 'Inc', 'Jej']\n",
        "#4. ['Seo']\n",
        "#5. error"
      ],
      "metadata": {
        "colab": {
          "base_uri": "https://localhost:8080/"
        },
        "id": "XFOlpvQnWNCX",
        "outputId": "356a7e02-feb1-4c59-a1ff-cac9fefdf33a"
      },
      "execution_count": 48,
      "outputs": [
        {
          "output_type": "execute_result",
          "data": {
            "text/plain": [
              "['Seo', 'Any', 'Inc', 'Jej']"
            ]
          },
          "metadata": {},
          "execution_count": 48
        }
      ]
    },
    {
      "cell_type": "code",
      "source": [
        "# 연습문제 8 \n",
        "\n",
        "test_data = 3\n",
        "def hi(a):\n",
        "  b = a*3\n",
        "  return b\n",
        "\n",
        "print(hi(test_data))\n",
        "\n",
        "#1. TypeError\n",
        "#2. 9\n",
        "#3. 3\n",
        "#4. None\n",
        "#5. ValueError"
      ],
      "metadata": {
        "id": "QjfocPzzWdZX",
        "colab": {
          "base_uri": "https://localhost:8080/"
        },
        "outputId": "1559bd9b-a2d8-4259-c4bc-475fee2a2332"
      },
      "execution_count": 49,
      "outputs": [
        {
          "output_type": "stream",
          "name": "stdout",
          "text": [
            "9\n"
          ]
        }
      ]
    },
    {
      "cell_type": "code",
      "source": [
        "# 연습문제 9\n",
        "a = 111\n",
        "b = 222\n",
        "\n",
        "def function_1():\n",
        "  print(a)\n",
        "  print(b)\n",
        "\n",
        "def function_2():\n",
        "  a = 333\n",
        "  print(b)\n",
        "  print(a)\n",
        "\n",
        "function_1()\n",
        "function_2()\n",
        "\n",
        "#1. 111 222 222 333\n",
        "#2. 222 333 111 222\n",
        "#3. 222 111 222 333\n",
        "#4. 111 222 333 444\n",
        "#5. 333 222 222 111"
      ],
      "metadata": {
        "colab": {
          "base_uri": "https://localhost:8080/"
        },
        "id": "3kVeUJINXO7l",
        "outputId": "0f6c9799-8055-4f85-dc69-c651d71ba9af"
      },
      "execution_count": 50,
      "outputs": [
        {
          "output_type": "stream",
          "name": "stdout",
          "text": [
            "111\n",
            "222\n",
            "222\n",
            "333\n"
          ]
        }
      ]
    }
  ]
}