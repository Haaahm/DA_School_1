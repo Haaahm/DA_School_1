{
  "nbformat": 4,
  "nbformat_minor": 0,
  "metadata": {
    "colab": {
      "provenance": []
    },
    "kernelspec": {
      "name": "python3",
      "display_name": "Python 3"
    },
    "language_info": {
      "name": "python"
    }
  },
  "cells": [
    {
      "cell_type": "markdown",
      "source": [
        "# 반복문\n",
        "\n"
      ],
      "metadata": {
        "id": "Z5f1p8yUr2td"
      }
    },
    {
      "cell_type": "markdown",
      "source": [
        "* 반복문을 사용하는 이유 -> 업무의 최소화, 빠른 퇴근, 나의 체력 안배\n",
        "\n",
        "특히 데이터 분석에서는 \n",
        "* 월별/분기별/연도별 산출할 게 있을 경우\n",
        "* 컬럼별 데이터 검사 및 특이값 이상치 발견\n",
        "* Rule Base 최적 상품 추천\n",
        "* ML/DL모델을 파라미터를 바꿔서 반복 시행할때\n",
        "* 기타 3번 이상 반복 작업 해야하는 반복되는 일들\n",
        "\n",
        "에서 사용되게 됩니다.\n"
      ],
      "metadata": {
        "id": "qvXrkWRisUhf"
      }
    },
    {
      "cell_type": "code",
      "source": [
        "# For 반복문 기초 1\n",
        "\n",
        "for x in (1,2,3,4,5):\n",
        "\tprint(f'{x}번째 입니다.')"
      ],
      "metadata": {
        "colab": {
          "base_uri": "https://localhost:8080/"
        },
        "id": "z_BcNth7sPVy",
        "outputId": "b69a2175-7b84-47c0-ad78-f0c315e5a7c1"
      },
      "execution_count": null,
      "outputs": [
        {
          "output_type": "stream",
          "name": "stdout",
          "text": [
            "1번째 입니다.\n",
            "2번째 입니다.\n",
            "3번째 입니다.\n",
            "4번째 입니다.\n",
            "5번째 입니다.\n"
          ]
        }
      ]
    },
    {
      "cell_type": "code",
      "source": [
        "#for 문의 구조\n",
        "for (변수명) in (순회 가능한 객체) :\n",
        "    수행할 문장1\n",
        "\t수행할 문장2"
      ],
      "metadata": {
        "id": "IvvwiFfytm6J"
      },
      "execution_count": null,
      "outputs": []
    },
    {
      "cell_type": "code",
      "source": [
        "# For 반복문 기초 2\n",
        "문자열 = 'hello world'\n",
        "for a in 문자열 :\n",
        "    print(a)"
      ],
      "metadata": {
        "colab": {
          "base_uri": "https://localhost:8080/"
        },
        "id": "RIZblXVBuTAn",
        "outputId": "4508366b-8a0a-4137-cd8b-0e1d581ee419"
      },
      "execution_count": null,
      "outputs": [
        {
          "output_type": "stream",
          "name": "stdout",
          "text": [
            "h\n",
            "e\n",
            "l\n",
            "l\n",
            "o\n",
            " \n",
            "w\n",
            "o\n",
            "r\n",
            "l\n",
            "d\n"
          ]
        }
      ]
    },
    {
      "cell_type": "code",
      "source": [
        "# 리스트를 범위로 지정한 예시\n",
        "\n",
        "list_a = ['하나','둘','셋','넷','다섯']\n",
        "\n",
        "for a in list_a:\n",
        "  print(a)"
      ],
      "metadata": {
        "colab": {
          "base_uri": "https://localhost:8080/"
        },
        "id": "GYD8vIpxuONw",
        "outputId": "e0e2a4de-2222-441b-fdec-89d15666f1a8"
      },
      "execution_count": null,
      "outputs": [
        {
          "output_type": "stream",
          "name": "stdout",
          "text": [
            "하나\n",
            "둘\n",
            "셋\n",
            "넷\n",
            "다섯\n"
          ]
        }
      ]
    },
    {
      "cell_type": "code",
      "source": [
        "# 딕셔너리를 이용한 반복문\n",
        "dic_a = {\n",
        "    '하나': 'one',\n",
        "    '둘' : 'two',\n",
        "    '셋' : 'three',\n",
        "}\n",
        "\n",
        "for a in dic_a:\n",
        "  print(a)"
      ],
      "metadata": {
        "colab": {
          "base_uri": "https://localhost:8080/"
        },
        "id": "8NtN2dREueDr",
        "outputId": "e95fecaf-52ec-44c0-9f9a-5efeefdc0669"
      },
      "execution_count": null,
      "outputs": [
        {
          "output_type": "stream",
          "name": "stdout",
          "text": [
            "하나\n",
            "둘\n",
            "셋\n"
          ]
        }
      ]
    },
    {
      "cell_type": "code",
      "source": [
        "for a in dic_a.values():\n",
        "  print(a)"
      ],
      "metadata": {
        "id": "8smuVLhevQtj",
        "outputId": "35999a33-a897-4229-f44d-b97d7b126de7",
        "colab": {
          "base_uri": "https://localhost:8080/"
        }
      },
      "execution_count": null,
      "outputs": [
        {
          "output_type": "stream",
          "name": "stdout",
          "text": [
            "one\n",
            "two\n",
            "three\n"
          ]
        }
      ]
    },
    {
      "cell_type": "code",
      "source": [
        "# range 1번 예제\n",
        "\n",
        "for a in range(0, 5, 1):\n",
        "  print(a)"
      ],
      "metadata": {
        "colab": {
          "base_uri": "https://localhost:8080/"
        },
        "id": "o_DfiKC8vS8W",
        "outputId": "30582ce6-59ba-43c3-b7a6-8b002a825cd6"
      },
      "execution_count": null,
      "outputs": [
        {
          "output_type": "stream",
          "name": "stdout",
          "text": [
            "0\n",
            "1\n",
            "2\n",
            "3\n",
            "4\n"
          ]
        }
      ]
    },
    {
      "cell_type": "code",
      "source": [
        "# range 2번 예제\n",
        "\n",
        "for a in range(0, 10, 2):\n",
        "  print(a)"
      ],
      "metadata": {
        "colab": {
          "base_uri": "https://localhost:8080/"
        },
        "id": "W-q07yWtveHa",
        "outputId": "7baf2459-a46e-4b08-ede7-57dd93c7ac17"
      },
      "execution_count": null,
      "outputs": [
        {
          "output_type": "stream",
          "name": "stdout",
          "text": [
            "0\n",
            "2\n",
            "4\n",
            "6\n",
            "8\n"
          ]
        }
      ]
    },
    {
      "cell_type": "code",
      "source": [
        "# range 3번 예제\n",
        "\n",
        "for a in range(10, 0, -1):\n",
        "    print(a)"
      ],
      "metadata": {
        "colab": {
          "base_uri": "https://localhost:8080/"
        },
        "id": "z4VLsOhHvvTr",
        "outputId": "ff8dd707-9a0a-436c-e6e1-e1b2210ba068"
      },
      "execution_count": null,
      "outputs": [
        {
          "output_type": "stream",
          "name": "stdout",
          "text": [
            "10\n",
            "9\n",
            "8\n",
            "7\n",
            "6\n",
            "5\n",
            "4\n",
            "3\n",
            "2\n",
            "1\n"
          ]
        }
      ]
    },
    {
      "cell_type": "code",
      "source": [
        "# 반복문 기초 1\n",
        "for i in [1,3,5,7,9]:\n",
        "  print(\"홀수를 출력합니다.\")"
      ],
      "metadata": {
        "colab": {
          "base_uri": "https://localhost:8080/"
        },
        "id": "DdTB8i4ovr39",
        "outputId": "f8c684d2-d6eb-48a4-9eda-40026b7643fa"
      },
      "execution_count": null,
      "outputs": [
        {
          "output_type": "stream",
          "name": "stdout",
          "text": [
            "홀수를 출력합니다.\n",
            "홀수를 출력합니다.\n",
            "홀수를 출력합니다.\n",
            "홀수를 출력합니다.\n",
            "홀수를 출력합니다.\n"
          ]
        }
      ]
    },
    {
      "cell_type": "code",
      "source": [
        "# 반복문 기초 2\n",
        "for i in [1,3,5,7,9]:\n",
        "  print(f'홀수를 출력합니다. {i}')"
      ],
      "metadata": {
        "colab": {
          "base_uri": "https://localhost:8080/"
        },
        "id": "CQo947IDv60G",
        "outputId": "96980c19-0556-461f-94e4-53ab44eca4a2"
      },
      "execution_count": null,
      "outputs": [
        {
          "output_type": "stream",
          "name": "stdout",
          "text": [
            "홀수를 출력합니다. 1\n",
            "홀수를 출력합니다. 3\n",
            "홀수를 출력합니다. 5\n",
            "홀수를 출력합니다. 7\n",
            "홀수를 출력합니다. 9\n"
          ]
        }
      ]
    },
    {
      "cell_type": "code",
      "source": [
        "# 반복문 기초 3\n",
        "from time import process_time\n",
        "\n",
        "start = process_time()\n",
        "\n",
        "for i in range(1, 100):\n",
        "  print(f'숫자를 출력합니다. {i}')\n",
        "\n",
        "end = process_time()\n",
        "print(f'프로그램을 수행하는데 {end - start}초가 걸렸습니다.')"
      ],
      "metadata": {
        "colab": {
          "base_uri": "https://localhost:8080/"
        },
        "id": "jpv71ipQv7bk",
        "outputId": "b64d5bec-f5ae-4699-e693-dfded4e8bd77"
      },
      "execution_count": null,
      "outputs": [
        {
          "output_type": "stream",
          "name": "stdout",
          "text": [
            "숫자를 출력합니다. 1\n",
            "숫자를 출력합니다. 2\n",
            "숫자를 출력합니다. 3\n",
            "숫자를 출력합니다. 4\n",
            "숫자를 출력합니다. 5\n",
            "숫자를 출력합니다. 6\n",
            "숫자를 출력합니다. 7\n",
            "숫자를 출력합니다. 8\n",
            "숫자를 출력합니다. 9\n",
            "숫자를 출력합니다. 10\n",
            "숫자를 출력합니다. 11\n",
            "숫자를 출력합니다. 12\n",
            "숫자를 출력합니다. 13\n",
            "숫자를 출력합니다. 14\n",
            "숫자를 출력합니다. 15\n",
            "숫자를 출력합니다. 16\n",
            "숫자를 출력합니다. 17\n",
            "숫자를 출력합니다. 18\n",
            "숫자를 출력합니다. 19\n",
            "숫자를 출력합니다. 20\n",
            "숫자를 출력합니다. 21\n",
            "숫자를 출력합니다. 22\n",
            "숫자를 출력합니다. 23\n",
            "숫자를 출력합니다. 24\n",
            "숫자를 출력합니다. 25\n",
            "숫자를 출력합니다. 26\n",
            "숫자를 출력합니다. 27\n",
            "숫자를 출력합니다. 28\n",
            "숫자를 출력합니다. 29\n",
            "숫자를 출력합니다. 30\n",
            "숫자를 출력합니다. 31\n",
            "숫자를 출력합니다. 32\n",
            "숫자를 출력합니다. 33\n",
            "숫자를 출력합니다. 34\n",
            "숫자를 출력합니다. 35\n",
            "숫자를 출력합니다. 36\n",
            "숫자를 출력합니다. 37\n",
            "숫자를 출력합니다. 38\n",
            "숫자를 출력합니다. 39\n",
            "숫자를 출력합니다. 40\n",
            "숫자를 출력합니다. 41\n",
            "숫자를 출력합니다. 42\n",
            "숫자를 출력합니다. 43\n",
            "숫자를 출력합니다. 44\n",
            "숫자를 출력합니다. 45\n",
            "숫자를 출력합니다. 46\n",
            "숫자를 출력합니다. 47\n",
            "숫자를 출력합니다. 48\n",
            "숫자를 출력합니다. 49\n",
            "숫자를 출력합니다. 50\n",
            "숫자를 출력합니다. 51\n",
            "숫자를 출력합니다. 52\n",
            "숫자를 출력합니다. 53\n",
            "숫자를 출력합니다. 54\n",
            "숫자를 출력합니다. 55\n",
            "숫자를 출력합니다. 56\n",
            "숫자를 출력합니다. 57\n",
            "숫자를 출력합니다. 58\n",
            "숫자를 출력합니다. 59\n",
            "숫자를 출력합니다. 60\n",
            "숫자를 출력합니다. 61\n",
            "숫자를 출력합니다. 62\n",
            "숫자를 출력합니다. 63\n",
            "숫자를 출력합니다. 64\n",
            "숫자를 출력합니다. 65\n",
            "숫자를 출력합니다. 66\n",
            "숫자를 출력합니다. 67\n",
            "숫자를 출력합니다. 68\n",
            "숫자를 출력합니다. 69\n",
            "숫자를 출력합니다. 70\n",
            "숫자를 출력합니다. 71\n",
            "숫자를 출력합니다. 72\n",
            "숫자를 출력합니다. 73\n",
            "숫자를 출력합니다. 74\n",
            "숫자를 출력합니다. 75\n",
            "숫자를 출력합니다. 76\n",
            "숫자를 출력합니다. 77\n",
            "숫자를 출력합니다. 78\n",
            "숫자를 출력합니다. 79\n",
            "숫자를 출력합니다. 80\n",
            "숫자를 출력합니다. 81\n",
            "숫자를 출력합니다. 82\n",
            "숫자를 출력합니다. 83\n",
            "숫자를 출력합니다. 84\n",
            "숫자를 출력합니다. 85\n",
            "숫자를 출력합니다. 86\n",
            "숫자를 출력합니다. 87\n",
            "숫자를 출력합니다. 88\n",
            "숫자를 출력합니다. 89\n",
            "숫자를 출력합니다. 90\n",
            "숫자를 출력합니다. 91\n",
            "숫자를 출력합니다. 92\n",
            "숫자를 출력합니다. 93\n",
            "숫자를 출력합니다. 94\n",
            "숫자를 출력합니다. 95\n",
            "숫자를 출력합니다. 96\n",
            "숫자를 출력합니다. 97\n",
            "숫자를 출력합니다. 98\n",
            "숫자를 출력합니다. 99\n",
            "프로그램을 수행하는데 0.005332537000000137초가 걸렸습니다.\n"
          ]
        }
      ]
    },
    {
      "cell_type": "code",
      "source": [
        "# 반복문 기초 - 문자열\n",
        "\n",
        "for i in 'python':\n",
        "  print(i)"
      ],
      "metadata": {
        "colab": {
          "base_uri": "https://localhost:8080/"
        },
        "id": "w3U4JH1hxB47",
        "outputId": "2ab98ffd-ac22-4a6c-fdd0-95174c362836"
      },
      "execution_count": null,
      "outputs": [
        {
          "output_type": "stream",
          "name": "stdout",
          "text": [
            "p\n",
            "y\n",
            "t\n",
            "h\n",
            "o\n",
            "n\n"
          ]
        }
      ]
    },
    {
      "cell_type": "code",
      "source": [
        "for i in ['python','numpy','pandas']:\n",
        "  print(i)"
      ],
      "metadata": {
        "colab": {
          "base_uri": "https://localhost:8080/"
        },
        "id": "34jnN1XQwaAw",
        "outputId": "8e8b4e12-a30c-4427-a84c-33f84a66dd9a"
      },
      "execution_count": null,
      "outputs": [
        {
          "output_type": "stream",
          "name": "stdout",
          "text": [
            "python\n",
            "numpy\n",
            "pandas\n"
          ]
        }
      ]
    },
    {
      "cell_type": "code",
      "source": [
        "# 반복문 기초 7 - 딕셔너리\n",
        "\n",
        "d = {\"key1\" : 1000 , \"key2\" : 2000, \"key3\" : 3000}\n",
        "for i in d.keys():\n",
        "  print(\"출력된 문자는\", i, \"입니다.\")\n",
        "\n",
        "print()\n",
        "\n",
        "# 반복문 기초 7 - 딕셔너리\n",
        "\n",
        "d = {\"key1\" : 1000 , \"key2\" : 2000, \"key3\" : 3000}\n",
        "for i in d.values():\n",
        "  print(\"출력된 문자는\", i, \"입니다.\")\n",
        "\n",
        "print()\n",
        "# 반복문 기초 7 - 딕셔너리\n",
        "\n",
        "d = {\"key1\" : 1000 , \"key2\" : 2000, \"key3\" : 3000}\n",
        "for i in d.items():\n",
        "  print(\"출력된 문자는\", i, \"입니다.\")"
      ],
      "metadata": {
        "colab": {
          "base_uri": "https://localhost:8080/"
        },
        "id": "VPGk-9m_xBVD",
        "outputId": "c7f0c549-3cc3-416b-bd50-7a5e510e41d5"
      },
      "execution_count": null,
      "outputs": [
        {
          "output_type": "stream",
          "name": "stdout",
          "text": [
            "출력된 문자는 key1 입니다.\n",
            "출력된 문자는 key2 입니다.\n",
            "출력된 문자는 key3 입니다.\n",
            "\n",
            "출력된 문자는 1000 입니다.\n",
            "출력된 문자는 2000 입니다.\n",
            "출력된 문자는 3000 입니다.\n",
            "\n",
            "출력된 문자는 ('key1', 1000) 입니다.\n",
            "출력된 문자는 ('key2', 2000) 입니다.\n",
            "출력된 문자는 ('key3', 3000) 입니다.\n"
          ]
        }
      ]
    },
    {
      "cell_type": "code",
      "source": [
        "#for, else 예제\n",
        "\n",
        "for i in range(100):\n",
        "    print(f'{i}마리의 물고기를 잡았습니다.')\n",
        "    if i == 5:\n",
        "        print('만선입니다. 물고기를 다 잡았습니다!')\n",
        "        break\n",
        "else:\n",
        "    print('아직 여유가 좀 있지만, 물고기 그만잡고 돌아갑시다.')\n",
        "print('수고하셨습니다.')"
      ],
      "metadata": {
        "colab": {
          "base_uri": "https://localhost:8080/"
        },
        "id": "XSINnG8Oxubu",
        "outputId": "bd4c8422-ce2b-4fa6-dc7a-8887068f6bbc"
      },
      "execution_count": null,
      "outputs": [
        {
          "output_type": "stream",
          "name": "stdout",
          "text": [
            "0마리의 물고기를 잡았습니다.\n",
            "1마리의 물고기를 잡았습니다.\n",
            "2마리의 물고기를 잡았습니다.\n",
            "3마리의 물고기를 잡았습니다.\n",
            "4마리의 물고기를 잡았습니다.\n",
            "5마리의 물고기를 잡았습니다.\n",
            "만선입니다. 물고기를 다 잡았습니다!\n",
            "수고하셨습니다.\n"
          ]
        }
      ]
    },
    {
      "cell_type": "code",
      "source": [
        "l = [0, 3, -1, 10]\n",
        "\n",
        "for x in l:\n",
        "  if x < 0:\n",
        "    print(\"음수가 발견되었습니다. 프로그램을 종료합니다.\")\n",
        "    break\n",
        "else:\n",
        "  print('음수를 발견하지 못했습니다.')\n"
      ],
      "metadata": {
        "colab": {
          "base_uri": "https://localhost:8080/"
        },
        "id": "5_W6qTrSyV2s",
        "outputId": "0cfdd137-d8d7-469a-b68a-7cd438eae411"
      },
      "execution_count": null,
      "outputs": [
        {
          "output_type": "stream",
          "name": "stdout",
          "text": [
            "음수가 발견되었습니다. 프로그램을 종료합니다.\n"
          ]
        }
      ]
    },
    {
      "cell_type": "code",
      "source": [
        "# 반복문 기초 break - coutinue\n",
        "\n",
        "# 반복 출력\n",
        "\n",
        "for i in range(10):\n",
        "\n",
        "  if i == 3:\n",
        "    break \n",
        "\n",
        "  if i == 1:\n",
        "    continue\n",
        "  \n",
        "print(i) #3"
      ],
      "metadata": {
        "colab": {
          "base_uri": "https://localhost:8080/"
        },
        "id": "4QJV5Sg6y1XN",
        "outputId": "bb524466-d1d0-4903-f050-c99dfe7c6104"
      },
      "execution_count": null,
      "outputs": [
        {
          "output_type": "stream",
          "name": "stdout",
          "text": [
            "3\n"
          ]
        }
      ]
    },
    {
      "cell_type": "code",
      "source": [
        "# 0 \n",
        "# 1\n",
        "# 2\n",
        "# 3\n",
        "# 4\n",
        "\n",
        "for i in range(10): #[0,2,3,4,5,6,7,8,9]\n",
        "\n",
        "  if i == 3:\n",
        "    break \n",
        "\n",
        "  if i == 1: \n",
        "    continue\n",
        "  \n",
        "  print(i) #0,2 "
      ],
      "metadata": {
        "colab": {
          "base_uri": "https://localhost:8080/"
        },
        "id": "UVCKq0qf4XU1",
        "outputId": "94f5fe9e-bf57-488c-e9e3-32b3d1d62226"
      },
      "execution_count": null,
      "outputs": [
        {
          "output_type": "stream",
          "name": "stdout",
          "text": [
            "0\n",
            "2\n"
          ]
        }
      ]
    },
    {
      "cell_type": "code",
      "source": [
        "# 이중 반복문\n",
        "\n",
        "# 구구단 만들기\n",
        "\n",
        "for i in range(2, 10): #[2,3,4,5,6,7,8,9]\n",
        "  for j in range(1, 10): #[1,2,3,4,5,6,7,8,9]\n",
        "    print(i,\"x\", j,\"=\", i*j)"
      ],
      "metadata": {
        "colab": {
          "base_uri": "https://localhost:8080/"
        },
        "id": "e5eL0Xf-6LM8",
        "outputId": "3e75eaf4-7e56-406f-9217-86ef9fc1eb71"
      },
      "execution_count": null,
      "outputs": [
        {
          "output_type": "stream",
          "name": "stdout",
          "text": [
            "2 x 1 = 2\n",
            "2 x 2 = 4\n",
            "2 x 3 = 6\n",
            "2 x 4 = 8\n",
            "2 x 5 = 10\n",
            "2 x 6 = 12\n",
            "2 x 7 = 14\n",
            "2 x 8 = 16\n",
            "2 x 9 = 18\n",
            "3 x 1 = 3\n",
            "3 x 2 = 6\n",
            "3 x 3 = 9\n",
            "3 x 4 = 12\n",
            "3 x 5 = 15\n",
            "3 x 6 = 18\n",
            "3 x 7 = 21\n",
            "3 x 8 = 24\n",
            "3 x 9 = 27\n",
            "4 x 1 = 4\n",
            "4 x 2 = 8\n",
            "4 x 3 = 12\n",
            "4 x 4 = 16\n",
            "4 x 5 = 20\n",
            "4 x 6 = 24\n",
            "4 x 7 = 28\n",
            "4 x 8 = 32\n",
            "4 x 9 = 36\n",
            "5 x 1 = 5\n",
            "5 x 2 = 10\n",
            "5 x 3 = 15\n",
            "5 x 4 = 20\n",
            "5 x 5 = 25\n",
            "5 x 6 = 30\n",
            "5 x 7 = 35\n",
            "5 x 8 = 40\n",
            "5 x 9 = 45\n",
            "6 x 1 = 6\n",
            "6 x 2 = 12\n",
            "6 x 3 = 18\n",
            "6 x 4 = 24\n",
            "6 x 5 = 30\n",
            "6 x 6 = 36\n",
            "6 x 7 = 42\n",
            "6 x 8 = 48\n",
            "6 x 9 = 54\n",
            "7 x 1 = 7\n",
            "7 x 2 = 14\n",
            "7 x 3 = 21\n",
            "7 x 4 = 28\n",
            "7 x 5 = 35\n",
            "7 x 6 = 42\n",
            "7 x 7 = 49\n",
            "7 x 8 = 56\n",
            "7 x 9 = 63\n",
            "8 x 1 = 8\n",
            "8 x 2 = 16\n",
            "8 x 3 = 24\n",
            "8 x 4 = 32\n",
            "8 x 5 = 40\n",
            "8 x 6 = 48\n",
            "8 x 7 = 56\n",
            "8 x 8 = 64\n",
            "8 x 9 = 72\n",
            "9 x 1 = 9\n",
            "9 x 2 = 18\n",
            "9 x 3 = 27\n",
            "9 x 4 = 36\n",
            "9 x 5 = 45\n",
            "9 x 6 = 54\n",
            "9 x 7 = 63\n",
            "9 x 8 = 72\n",
            "9 x 9 = 81\n"
          ]
        }
      ]
    },
    {
      "cell_type": "code",
      "source": [
        "# 리스트 컴프리핸션\n",
        "\n",
        "# 예제1)\n",
        "\n",
        "# list_i = []\n",
        "# for i in range(1,10):\n",
        "#   list_i.append(i)\n",
        "\n",
        "# print(list_i)\n",
        "\n",
        "x = [i for i in range(1,10)]\n",
        "\n",
        "print(x)"
      ],
      "metadata": {
        "id": "pJQua-oU6CQd"
      },
      "execution_count": null,
      "outputs": []
    },
    {
      "cell_type": "code",
      "source": [
        "# 리스트 예제 2\n",
        "\n",
        "y = [f'{i} x {j} = {i*j}' for i in range(2,10) for j in range(1,10)] \n",
        "print(y)"
      ],
      "metadata": {
        "colab": {
          "base_uri": "https://localhost:8080/"
        },
        "id": "HUZIodWu746q",
        "outputId": "b0a2e5b0-6549-48b3-d3af-fd9e1321dcb0"
      },
      "execution_count": null,
      "outputs": [
        {
          "output_type": "stream",
          "name": "stdout",
          "text": [
            "['2 x 1 = 2', '2 x 2 = 4', '2 x 3 = 6', '2 x 4 = 8', '2 x 5 = 10', '2 x 6 = 12', '2 x 7 = 14', '2 x 8 = 16', '2 x 9 = 18', '3 x 1 = 3', '3 x 2 = 6', '3 x 3 = 9', '3 x 4 = 12', '3 x 5 = 15', '3 x 6 = 18', '3 x 7 = 21', '3 x 8 = 24', '3 x 9 = 27', '4 x 1 = 4', '4 x 2 = 8', '4 x 3 = 12', '4 x 4 = 16', '4 x 5 = 20', '4 x 6 = 24', '4 x 7 = 28', '4 x 8 = 32', '4 x 9 = 36', '5 x 1 = 5', '5 x 2 = 10', '5 x 3 = 15', '5 x 4 = 20', '5 x 5 = 25', '5 x 6 = 30', '5 x 7 = 35', '5 x 8 = 40', '5 x 9 = 45', '6 x 1 = 6', '6 x 2 = 12', '6 x 3 = 18', '6 x 4 = 24', '6 x 5 = 30', '6 x 6 = 36', '6 x 7 = 42', '6 x 8 = 48', '6 x 9 = 54', '7 x 1 = 7', '7 x 2 = 14', '7 x 3 = 21', '7 x 4 = 28', '7 x 5 = 35', '7 x 6 = 42', '7 x 7 = 49', '7 x 8 = 56', '7 x 9 = 63', '8 x 1 = 8', '8 x 2 = 16', '8 x 3 = 24', '8 x 4 = 32', '8 x 5 = 40', '8 x 6 = 48', '8 x 7 = 56', '8 x 8 = 64', '8 x 9 = 72', '9 x 1 = 9', '9 x 2 = 18', '9 x 3 = 27', '9 x 4 = 36', '9 x 5 = 45', '9 x 6 = 54', '9 x 7 = 63', '9 x 8 = 72', '9 x 9 = 81']\n"
          ]
        }
      ]
    },
    {
      "cell_type": "code",
      "source": [
        "# 반복문 예제 3\n",
        "\n",
        "def sumthingFuncthing(i):\n",
        "  if i % 100 == 0:\n",
        "    return i\n",
        "  else:\n",
        "    return 0\n"
      ],
      "metadata": {
        "id": "ZhLCbMLs602d"
      },
      "execution_count": null,
      "outputs": []
    },
    {
      "cell_type": "code",
      "source": [
        "old_list = [100,200,300,101,202,303]\n",
        "new_list = [sumthingFuncthing(i) for i in old_list]\n",
        "print(sum(new_list))"
      ],
      "metadata": {
        "id": "cI_3Phk_6671",
        "colab": {
          "base_uri": "https://localhost:8080/"
        },
        "outputId": "6b4cbf7d-a746-4ab9-ef13-fe7598b3d00a"
      },
      "execution_count": null,
      "outputs": [
        {
          "output_type": "stream",
          "name": "stdout",
          "text": [
            "600\n"
          ]
        }
      ]
    },
    {
      "cell_type": "code",
      "source": [
        "# 다중인자 리스트 순회\n",
        "\n",
        "#다중 리스트 for문\n",
        "skill = [\n",
        "        ('고기잡이', 100, 300),\n",
        "        ('고기팔기', 120, 400),\n",
        "        ('낚시', 5, 500),\n",
        "        ('통발', 5, 600),\n",
        "        ('큰그물', 5, 700)\n",
        "]\n",
        "\n",
        "for i,j,z in skill:\n",
        "    print(i,j,z)"
      ],
      "metadata": {
        "colab": {
          "base_uri": "https://localhost:8080/"
        },
        "id": "pCk6RjrV876k",
        "outputId": "0295b9f3-04ba-4e80-bc74-bec04bcf5f4d"
      },
      "execution_count": null,
      "outputs": [
        {
          "output_type": "stream",
          "name": "stdout",
          "text": [
            "고기잡이 100 300\n",
            "고기팔기 120 400\n",
            "낚시 5 500\n",
            "통발 5 600\n",
            "큰그물 5 700\n"
          ]
        }
      ]
    },
    {
      "cell_type": "code",
      "source": [
        "#[In]\n",
        "\n",
        "# enumerate\n",
        "\n",
        "skill = [\n",
        "        ('고기잡이', 100, 'SS'),\n",
        "        ('고기팔기', 120, 'SSS'),\n",
        "        ('낚시', 5, 'C'),\n",
        "        ('통발', 5, 'C'),\n",
        "        ('큰그물', 5, 'C')\n",
        "]\n",
        "\n",
        "for i, (skillName, skillLevel, skillGrade) in enumerate(skill):\n",
        "    print(i, skillName, skillLevel, skillGrade)\n",
        "\n",
        "for i, j in enumerate(skill, 100):\n",
        "    print(i, j)"
      ],
      "metadata": {
        "id": "cJCFm67m9UrO",
        "colab": {
          "base_uri": "https://localhost:8080/"
        },
        "outputId": "a7623344-e5cb-4060-d4dd-eaf3a31eafb0"
      },
      "execution_count": null,
      "outputs": [
        {
          "output_type": "stream",
          "name": "stdout",
          "text": [
            "0 고기잡이 100 SS\n",
            "1 고기팔기 120 SSS\n",
            "2 낚시 5 C\n",
            "3 통발 5 C\n",
            "4 큰그물 5 C\n",
            "100 ('고기잡이', 100, 'SS')\n",
            "101 ('고기팔기', 120, 'SSS')\n",
            "102 ('낚시', 5, 'C')\n",
            "103 ('통발', 5, 'C')\n",
            "104 ('큰그물', 5, 'C')\n"
          ]
        }
      ]
    },
    {
      "cell_type": "code",
      "source": [
        "# 반복문 연습문제 1\n",
        "\n",
        "for a in range(8):\n",
        "  a += 1\n",
        "print(a)\n",
        "\n",
        "# 1. 6\n",
        "# 2. 7\n",
        "# 3. 8\n",
        "# 4. 9\n",
        "# 5. None"
      ],
      "metadata": {
        "id": "1WxstALy93Pe",
        "colab": {
          "base_uri": "https://localhost:8080/"
        },
        "outputId": "b16f46e1-eb24-4e5b-b389-87d00cd7c6ce"
      },
      "execution_count": null,
      "outputs": [
        {
          "output_type": "stream",
          "name": "stdout",
          "text": [
            "8\n"
          ]
        }
      ]
    },
    {
      "cell_type": "code",
      "source": [
        "for a in range(8):\n",
        "  a *= (a-1)\n",
        "print(a)\n",
        "\n",
        "# 1. 5040\n",
        "# 2. 0\n",
        "# 3. 42\n",
        "# 4. 1024\n",
        "# 5. None"
      ],
      "metadata": {
        "id": "2knzqDIM-pV_",
        "colab": {
          "base_uri": "https://localhost:8080/"
        },
        "outputId": "cf52255a-98a2-4e24-959b-5b26c4fff63e"
      },
      "execution_count": null,
      "outputs": [
        {
          "output_type": "stream",
          "name": "stdout",
          "text": [
            "42\n"
          ]
        }
      ]
    },
    {
      "cell_type": "code",
      "source": [
        "for a in range(8):\n",
        "  a += a # a = a + a\n",
        "print(a)\n",
        "\n",
        "# 1. 6\n",
        "# 2. 7\n",
        "# 3. 8\n",
        "# 4. 9\n",
        "# 5. 답없음"
      ],
      "metadata": {
        "id": "IHQIQ9UK_sJs",
        "colab": {
          "base_uri": "https://localhost:8080/"
        },
        "outputId": "a6224176-8d7e-4b08-91ba-425222ea8d40"
      },
      "execution_count": null,
      "outputs": [
        {
          "output_type": "stream",
          "name": "stdout",
          "text": [
            "14\n"
          ]
        }
      ]
    },
    {
      "cell_type": "code",
      "source": [
        "for a in range(8):\n",
        "  a *= 1 \n",
        "print(a)\n",
        "\n",
        "# 1. 5040\n",
        "# 2. 0\n",
        "# 3. 42\n",
        "# 4. 1024\n",
        "# 5. 7"
      ],
      "metadata": {
        "colab": {
          "base_uri": "https://localhost:8080/"
        },
        "id": "9rhf_UCN_Q5O",
        "outputId": "eed0d7c7-7ea9-4478-e62b-daad17ab2215"
      },
      "execution_count": null,
      "outputs": [
        {
          "output_type": "stream",
          "name": "stdout",
          "text": [
            "7\n"
          ]
        }
      ]
    },
    {
      "cell_type": "code",
      "source": [
        "# 반복문 문제 5\n",
        "# 변수 age의 자료형이 정수형일때 숫자 문자형일때 문자가 출력되는 코드\n",
        "\n",
        "ages = ['one', 8, 'twenty', 40]\n",
        "\n",
        "for age in ages:\n",
        "  if type(age) == int:\n",
        "    print(age, '숫자')\n",
        "  else:\n",
        "    print(age, '문자')\n",
        "\n",
        "# 1. type(age) == 'int'\n",
        "# 2. type(age) ==  int \n",
        "# 3. type(age) == 'str'\n",
        "# 4. type(age) == int\n",
        "# 5. type(age) == str"
      ],
      "metadata": {
        "id": "zTgkncPDAonN"
      },
      "execution_count": null,
      "outputs": []
    },
    {
      "cell_type": "code",
      "source": [
        "# while문 예제 2\n",
        "숫자 = 0\n",
        "while True:\n",
        "\tprint(\"현재 숫자는 \", 숫자, \"입니다.\")\n",
        "\t숫자 += 1\n",
        "\tif 숫자 > 5:\n",
        "\t\tprint(\"반복문을 종료합니다.\")\n",
        "\t\tbreak"
      ],
      "metadata": {
        "colab": {
          "base_uri": "https://localhost:8080/"
        },
        "id": "Fl_CyuklDxlv",
        "outputId": "3fbccada-cfbd-49ca-f1d7-71528a3bbc01"
      },
      "execution_count": null,
      "outputs": [
        {
          "output_type": "stream",
          "name": "stdout",
          "text": [
            "현재 숫자는  0 입니다.\n",
            "현재 숫자는  1 입니다.\n",
            "현재 숫자는  2 입니다.\n",
            "현재 숫자는  3 입니다.\n",
            "현재 숫자는  4 입니다.\n",
            "현재 숫자는  5 입니다.\n",
            "반복문을 종료합니다.\n"
          ]
        }
      ]
    },
    {
      "cell_type": "code",
      "source": [
        "# while else\n",
        "\n",
        "숫자 = 0\n",
        "while 숫자 < 5:\n",
        "  print(\"현재 숫자는 \", 숫자, \"입니다.\")\n",
        "  숫자 += 1\n",
        "else:\n",
        "  print(\"반복문을 종료합니다.\")"
      ],
      "metadata": {
        "colab": {
          "base_uri": "https://localhost:8080/"
        },
        "id": "WTXhgd8BFDXK",
        "outputId": "1100d978-d537-4435-bc7f-53f6e26b390a"
      },
      "execution_count": null,
      "outputs": [
        {
          "output_type": "stream",
          "name": "stdout",
          "text": [
            "현재 숫자는  0 입니다.\n",
            "현재 숫자는  1 입니다.\n",
            "현재 숫자는  2 입니다.\n",
            "현재 숫자는  3 입니다.\n",
            "현재 숫자는  4 입니다.\n",
            "반복문을 종료합니다.\n"
          ]
        }
      ]
    },
    {
      "cell_type": "code",
      "source": [
        "시간 = 0\n",
        "현재시간 = int(input(\"시를 입력해주세요\"))\n",
        "종료시간 = 18\n",
        "if 현재시간 >= 종료시간:\n",
        "    print('수업이 끝났기 때문에 Q&A시간을 가지겠습니다.')\n",
        "else:\n",
        "    while True:\n",
        "        시간 += 1\n",
        "        현재시간 += 1\n",
        "        print(f'{시간}시간이 지나 {현재시간}시가 되었습니다.')\n",
        "        if 현재시간 == 종료시간:\n",
        "            print('수업 종료시간이 되었기 때문에 Q&A시간을 가지겠습니다.')\n",
        "        break"
      ],
      "metadata": {
        "colab": {
          "base_uri": "https://localhost:8080/"
        },
        "id": "b2_KWI0zFS46",
        "outputId": "52340f30-609e-4b81-f000-d182159b9cb8"
      },
      "execution_count": null,
      "outputs": [
        {
          "output_type": "stream",
          "name": "stdout",
          "text": [
            "시를 입력해주세요17\n",
            "1시간이 지나 18시가 되었습니다.\n",
            "수업 종료시간이 되었기 때문에 Q&A시간을 가지겠습니다.\n"
          ]
        }
      ]
    },
    {
      "cell_type": "code",
      "source": [
        "# 구구단 5단까지 출력하기\n",
        "\n",
        "for i in range(2, 10):\n",
        "  for j in range(1, 10):\n",
        "    if j > 5:\n",
        "      break\n",
        "    print(f'{i} * {j} = {i*j}')"
      ],
      "metadata": {
        "colab": {
          "base_uri": "https://localhost:8080/"
        },
        "id": "8nxMva_RGr-K",
        "outputId": "09ef39bd-b717-436f-9cfb-6538012f111f"
      },
      "execution_count": null,
      "outputs": [
        {
          "output_type": "stream",
          "name": "stdout",
          "text": [
            "2 * 1 = 2\n",
            "2 * 2 = 4\n",
            "2 * 3 = 6\n",
            "2 * 4 = 8\n",
            "2 * 5 = 10\n",
            "3 * 1 = 3\n",
            "3 * 2 = 6\n",
            "3 * 3 = 9\n",
            "3 * 4 = 12\n",
            "3 * 5 = 15\n",
            "4 * 1 = 4\n",
            "4 * 2 = 8\n",
            "4 * 3 = 12\n",
            "4 * 4 = 16\n",
            "4 * 5 = 20\n",
            "5 * 1 = 5\n",
            "5 * 2 = 10\n",
            "5 * 3 = 15\n",
            "5 * 4 = 20\n",
            "5 * 5 = 25\n",
            "6 * 1 = 6\n",
            "6 * 2 = 12\n",
            "6 * 3 = 18\n",
            "6 * 4 = 24\n",
            "6 * 5 = 30\n",
            "7 * 1 = 7\n",
            "7 * 2 = 14\n",
            "7 * 3 = 21\n",
            "7 * 4 = 28\n",
            "7 * 5 = 35\n",
            "8 * 1 = 8\n",
            "8 * 2 = 16\n",
            "8 * 3 = 24\n",
            "8 * 4 = 32\n",
            "8 * 5 = 40\n",
            "9 * 1 = 9\n",
            "9 * 2 = 18\n",
            "9 * 3 = 27\n",
            "9 * 4 = 36\n",
            "9 * 5 = 45\n"
          ]
        }
      ]
    },
    {
      "cell_type": "code",
      "source": [
        "# continue\n",
        "\n",
        "count_amount= [\n",
        "    (3, 15000),\n",
        "    (5, 25000),\n",
        "    (1, 5000),\n",
        "    (8, 40000),\n",
        "    (0, 0),\n",
        "    (2, 10000)\n",
        "]\n",
        "\n",
        "for count, amount in count_amount:\n",
        "  if count < 1:\n",
        "    continue\n",
        "  print(f'구매개수는 {count}, 구매가격은 {amount}')"
      ],
      "metadata": {
        "colab": {
          "base_uri": "https://localhost:8080/"
        },
        "id": "Cf7--FqsHenl",
        "outputId": "8da6481a-c119-4fd6-ce3b-c143fdb70230"
      },
      "execution_count": null,
      "outputs": [
        {
          "output_type": "stream",
          "name": "stdout",
          "text": [
            "구매개수는 3, 구매가격은 15000\n",
            "구매개수는 5, 구매가격은 25000\n",
            "구매개수는 1, 구매가격은 5000\n",
            "구매개수는 8, 구매가격은 40000\n",
            "구매개수는 2, 구매가격은 10000\n"
          ]
        }
      ]
    },
    {
      "cell_type": "code",
      "source": [
        "#pass\n",
        "구매개수_총가격= [\n",
        "    (3, 15000),\n",
        "    (5, 25000),\n",
        "    (1, 5000),\n",
        "    (8, 40000),\n",
        "    (0, 0),\n",
        "    (2, 10000)\n",
        "    ]\n",
        "for 구매개수, 총가격 in 구매개수_총가격:\n",
        "    if 구매개수 < 1:\n",
        "        pass\n",
        "    print('구매개수는 {}개이며 {}원입니다.'.format(구매개수, 총가격))"
      ],
      "metadata": {
        "colab": {
          "base_uri": "https://localhost:8080/"
        },
        "id": "ufFK3SZgIYUR",
        "outputId": "4adeb35a-de7e-41d2-905e-51d0925d14ce"
      },
      "execution_count": null,
      "outputs": [
        {
          "output_type": "stream",
          "name": "stdout",
          "text": [
            "구매개수는 3개이며 15000원입니다.\n",
            "구매개수는 5개이며 25000원입니다.\n",
            "구매개수는 1개이며 5000원입니다.\n",
            "구매개수는 8개이며 40000원입니다.\n",
            "구매개수는 0개이며 0원입니다.\n",
            "구매개수는 2개이며 10000원입니다.\n"
          ]
        }
      ]
    },
    {
      "cell_type": "code",
      "source": [
        "# while문으로 구구단 만들기\n",
        "\n",
        "i = 2\n",
        "while i < 10 :\n",
        "    k = 1\n",
        "    while k < 10:\n",
        "        print(i, \" * \", k, \" = \", i * k)\n",
        "        k += 1\n",
        "    i += 1"
      ],
      "metadata": {
        "colab": {
          "base_uri": "https://localhost:8080/"
        },
        "id": "ZODvPwRDImiU",
        "outputId": "0269e7f6-5169-4865-8960-ed4e43966aa5"
      },
      "execution_count": null,
      "outputs": [
        {
          "output_type": "stream",
          "name": "stdout",
          "text": [
            "2  *  1  =  2\n",
            "2  *  2  =  4\n",
            "2  *  3  =  6\n",
            "2  *  4  =  8\n",
            "2  *  5  =  10\n",
            "2  *  6  =  12\n",
            "2  *  7  =  14\n",
            "2  *  8  =  16\n",
            "2  *  9  =  18\n",
            "3  *  1  =  3\n",
            "3  *  2  =  6\n",
            "3  *  3  =  9\n",
            "3  *  4  =  12\n",
            "3  *  5  =  15\n",
            "3  *  6  =  18\n",
            "3  *  7  =  21\n",
            "3  *  8  =  24\n",
            "3  *  9  =  27\n",
            "4  *  1  =  4\n",
            "4  *  2  =  8\n",
            "4  *  3  =  12\n",
            "4  *  4  =  16\n",
            "4  *  5  =  20\n",
            "4  *  6  =  24\n",
            "4  *  7  =  28\n",
            "4  *  8  =  32\n",
            "4  *  9  =  36\n",
            "5  *  1  =  5\n",
            "5  *  2  =  10\n",
            "5  *  3  =  15\n",
            "5  *  4  =  20\n",
            "5  *  5  =  25\n",
            "5  *  6  =  30\n",
            "5  *  7  =  35\n",
            "5  *  8  =  40\n",
            "5  *  9  =  45\n",
            "6  *  1  =  6\n",
            "6  *  2  =  12\n",
            "6  *  3  =  18\n",
            "6  *  4  =  24\n",
            "6  *  5  =  30\n",
            "6  *  6  =  36\n",
            "6  *  7  =  42\n",
            "6  *  8  =  48\n",
            "6  *  9  =  54\n",
            "7  *  1  =  7\n",
            "7  *  2  =  14\n",
            "7  *  3  =  21\n",
            "7  *  4  =  28\n",
            "7  *  5  =  35\n",
            "7  *  6  =  42\n",
            "7  *  7  =  49\n",
            "7  *  8  =  56\n",
            "7  *  9  =  63\n",
            "8  *  1  =  8\n",
            "8  *  2  =  16\n",
            "8  *  3  =  24\n",
            "8  *  4  =  32\n",
            "8  *  5  =  40\n",
            "8  *  6  =  48\n",
            "8  *  7  =  56\n",
            "8  *  8  =  64\n",
            "8  *  9  =  72\n",
            "9  *  1  =  9\n",
            "9  *  2  =  18\n",
            "9  *  3  =  27\n",
            "9  *  4  =  36\n",
            "9  *  5  =  45\n",
            "9  *  6  =  54\n",
            "9  *  7  =  63\n",
            "9  *  8  =  72\n",
            "9  *  9  =  81\n"
          ]
        }
      ]
    },
    {
      "cell_type": "code",
      "source": [
        "#조건문 문제\n",
        "#1부터 10까지 짝수를 뽑으려면 어떤 코드를 작성해야할까요?\n",
        "\n",
        "a = 1\n",
        "\n",
        "while a < 11:\n",
        "    if a % 2 == 0:\n",
        "      print(a)\n",
        "      a += 1\n",
        "    else:\n",
        "      a += 1\n",
        "\n",
        "    if a == 0:\n",
        "      break\n",
        "\n",
        "#1. a == 10\n",
        "#2. a != 10\n",
        "#3. a < 10\n",
        "#4. a >= 10\n",
        "#5. a < 11"
      ],
      "metadata": {
        "id": "509dJxTvJu_g",
        "colab": {
          "base_uri": "https://localhost:8080/"
        },
        "outputId": "19fdcd4d-9ebf-4785-8d39-f189ca3f7b44"
      },
      "execution_count": null,
      "outputs": [
        {
          "output_type": "stream",
          "name": "stdout",
          "text": [
            "2\n",
            "4\n",
            "6\n",
            "8\n",
            "10\n"
          ]
        }
      ]
    },
    {
      "cell_type": "code",
      "source": [
        "# 조건문 문제\n",
        "# 실행결과가 0인 코드를 작성하고 싶을때 어떻게 작성해야하는가?\n",
        "\n",
        "money = 2000\n",
        "snack = 500\n",
        "water = 1000\n",
        "while money !=0:\n",
        "    if money > 1000:\n",
        "      money -= water\n",
        "    elif 0 < money <= 1000:\n",
        "      money -= snack * 2\n",
        "\n",
        "print(money)\n",
        "  \n",
        "# 1. money - 1500\n",
        "# 2. money - 1000\n",
        "# 3. money - 2000\n",
        "# 4. money + 500\n",
        "# 5. money - 500\n",
        "# 6. 답 없음 =>> else문이 필요없다!!"
      ],
      "metadata": {
        "colab": {
          "base_uri": "https://localhost:8080/"
        },
        "id": "Z0Ccn3VgK65P",
        "outputId": "751940a7-def8-4298-f8b4-6fce8752c618"
      },
      "execution_count": null,
      "outputs": [
        {
          "output_type": "stream",
          "name": "stdout",
          "text": [
            "0\n"
          ]
        }
      ]
    },
    {
      "cell_type": "code",
      "source": [
        "#While문 예제 2 - 입력하는 값 만큼 반복\n",
        "count = int(input('반복할 횟수를 입력하세요: '))\n",
        " \n",
        "i = 0\n",
        "while i < 30:     # i가 count보다 작을 때 반복\n",
        "    print(i, '번째 출력')\n",
        "    i += 1\n",
        "    # 감소는 i -= 1"
      ],
      "metadata": {
        "colab": {
          "base_uri": "https://localhost:8080/"
        },
        "id": "kG4L7m2mMMaI",
        "outputId": "9a03a498-6091-48a5-dd92-a9d6493c62e2"
      },
      "execution_count": null,
      "outputs": [
        {
          "output_type": "stream",
          "name": "stdout",
          "text": [
            "반복할 횟수를 입력하세요: 50\n",
            "0 번째 출력\n",
            "1 번째 출력\n",
            "2 번째 출력\n",
            "3 번째 출력\n",
            "4 번째 출력\n",
            "5 번째 출력\n",
            "6 번째 출력\n",
            "7 번째 출력\n",
            "8 번째 출력\n",
            "9 번째 출력\n",
            "10 번째 출력\n",
            "11 번째 출력\n",
            "12 번째 출력\n",
            "13 번째 출력\n",
            "14 번째 출력\n",
            "15 번째 출력\n",
            "16 번째 출력\n",
            "17 번째 출력\n",
            "18 번째 출력\n",
            "19 번째 출력\n",
            "20 번째 출력\n",
            "21 번째 출력\n",
            "22 번째 출력\n",
            "23 번째 출력\n",
            "24 번째 출력\n",
            "25 번째 출력\n",
            "26 번째 출력\n",
            "27 번째 출력\n",
            "28 번째 출력\n",
            "29 번째 출력\n"
          ]
        }
      ]
    },
    {
      "cell_type": "code",
      "source": [
        "#while문 예제 3 - 맞을 때까지 반복\n",
        "\n",
        "import random    # random 모듈을 가져옴\n",
        " \n",
        "i = 0\n",
        "while i != 3:    # 주사위 숫자가 3이 아닐 때 계속 반복\n",
        "    i = random.randint(1, 6)    # randint를 사용하여 가상 주사위를 만듬\n",
        "    print(i)"
      ],
      "metadata": {
        "colab": {
          "base_uri": "https://localhost:8080/"
        },
        "id": "xKjXnVxUMZAF",
        "outputId": "ebdcec3b-a76a-4ba2-f516-5c8c04219295"
      },
      "execution_count": null,
      "outputs": [
        {
          "output_type": "stream",
          "name": "stdout",
          "text": [
            "6\n",
            "2\n",
            "1\n",
            "1\n",
            "2\n",
            "5\n",
            "1\n",
            "5\n",
            "2\n",
            "2\n",
            "1\n",
            "1\n",
            "1\n",
            "2\n",
            "1\n",
            "5\n",
            "1\n",
            "4\n",
            "2\n",
            "2\n",
            "3\n"
          ]
        }
      ]
    },
    {
      "cell_type": "code",
      "source": [
        "#while문 예제 4 - 효율적으로 특정 데이터 제거\n",
        "\n",
        "cust_all = [1,2,1,2]\n",
        "value = 1\n",
        "\n",
        "print(cust_all)\n",
        "\n",
        "while value in cust_all:\n",
        "    cust_all.remove(value)\n",
        "\n",
        "print(cust_all)"
      ],
      "metadata": {
        "colab": {
          "base_uri": "https://localhost:8080/"
        },
        "id": "vEAwMhyUNAuF",
        "outputId": "27db5873-6501-4d65-9a2c-6b1b6a4e979e"
      },
      "execution_count": null,
      "outputs": [
        {
          "output_type": "stream",
          "name": "stdout",
          "text": [
            "[1, 2, 1, 2]\n",
            "[2, 2]\n"
          ]
        }
      ]
    },
    {
      "cell_type": "markdown",
      "source": [
        "* 컴퓨터랑 대결(?)하기"
      ],
      "metadata": {
        "id": "RKqe3hNAQ3b7"
      }
    },
    {
      "cell_type": "code",
      "source": [
        "# 실습1. 1~100사이의 숫자를 맞출때까지 반복하는 while문을 작성해주시면 됩니다.\n",
        "# 내가 입력한 숫자가 컴퓨터 숫자보다 작으면 \"값이 작다\"\n",
        "# 내가 입력한 숫자가 컴퓨터 숫자보다 크면 \"값이 크다\"\n",
        "# 답이 맞음\n",
        "\n",
        "import random\n",
        "guess_number = random.randint(1,100)\n",
        "user_input = int(input(\"컴퓨터씨 숫자를 입력해서 값을 맞춰보세요! 내 답 : \"))\n",
        "\n",
        "while guess_number != user_input:   \n",
        "    guess_number = random.randint(1, 100)    # 1~100사이의 숫자\n",
        "    print(guess_number)"
      ],
      "metadata": {
        "colab": {
          "base_uri": "https://localhost:8080/"
        },
        "id": "d8CKBlZpNp95",
        "outputId": "f09dd520-aa8a-472b-bda6-865e973e749c"
      },
      "execution_count": null,
      "outputs": [
        {
          "output_type": "stream",
          "name": "stdout",
          "text": [
            "컴퓨터씨 숫자를 입력해서 값을 맞춰보세요! 내 답 : 55\n",
            "61\n",
            "30\n",
            "54\n",
            "14\n",
            "48\n",
            "36\n",
            "87\n",
            "28\n",
            "63\n",
            "90\n",
            "71\n",
            "53\n",
            "74\n",
            "59\n",
            "99\n",
            "3\n",
            "97\n",
            "74\n",
            "19\n",
            "20\n",
            "41\n",
            "59\n",
            "54\n",
            "6\n",
            "53\n",
            "26\n",
            "89\n",
            "2\n",
            "8\n",
            "86\n",
            "6\n",
            "42\n",
            "38\n",
            "84\n",
            "80\n",
            "15\n",
            "22\n",
            "48\n",
            "17\n",
            "98\n",
            "63\n",
            "88\n",
            "10\n",
            "29\n",
            "39\n",
            "36\n",
            "87\n",
            "49\n",
            "56\n",
            "94\n",
            "64\n",
            "92\n",
            "24\n",
            "39\n",
            "58\n",
            "66\n",
            "3\n",
            "53\n",
            "8\n",
            "92\n",
            "39\n",
            "44\n",
            "57\n",
            "76\n",
            "29\n",
            "7\n",
            "93\n",
            "1\n",
            "15\n",
            "87\n",
            "30\n",
            "29\n",
            "1\n",
            "57\n",
            "6\n",
            "42\n",
            "22\n",
            "25\n",
            "76\n",
            "33\n",
            "10\n",
            "71\n",
            "50\n",
            "48\n",
            "21\n",
            "24\n",
            "50\n",
            "89\n",
            "66\n",
            "94\n",
            "32\n",
            "78\n",
            "63\n",
            "69\n",
            "71\n",
            "14\n",
            "44\n",
            "99\n",
            "13\n",
            "9\n",
            "28\n",
            "52\n",
            "28\n",
            "71\n",
            "63\n",
            "66\n",
            "7\n",
            "69\n",
            "30\n",
            "50\n",
            "74\n",
            "61\n",
            "35\n",
            "28\n",
            "68\n",
            "4\n",
            "41\n",
            "29\n",
            "81\n",
            "64\n",
            "41\n",
            "75\n",
            "76\n",
            "70\n",
            "64\n",
            "12\n",
            "45\n",
            "75\n",
            "96\n",
            "93\n",
            "46\n",
            "28\n",
            "70\n",
            "33\n",
            "69\n",
            "25\n",
            "18\n",
            "89\n",
            "11\n",
            "34\n",
            "67\n",
            "24\n",
            "28\n",
            "47\n",
            "97\n",
            "82\n",
            "100\n",
            "51\n",
            "22\n",
            "27\n",
            "57\n",
            "76\n",
            "1\n",
            "83\n",
            "89\n",
            "54\n",
            "62\n",
            "42\n",
            "38\n",
            "76\n",
            "15\n",
            "28\n",
            "84\n",
            "13\n",
            "3\n",
            "42\n",
            "42\n",
            "99\n",
            "45\n",
            "65\n",
            "88\n",
            "97\n",
            "57\n",
            "80\n",
            "67\n",
            "87\n",
            "68\n",
            "74\n",
            "47\n",
            "40\n",
            "96\n",
            "31\n",
            "78\n",
            "81\n",
            "48\n",
            "8\n",
            "89\n",
            "27\n",
            "35\n",
            "25\n",
            "48\n",
            "78\n",
            "44\n",
            "51\n",
            "90\n",
            "20\n",
            "13\n",
            "10\n",
            "29\n",
            "82\n",
            "97\n",
            "40\n",
            "30\n",
            "16\n",
            "74\n",
            "39\n",
            "7\n",
            "100\n",
            "100\n",
            "31\n",
            "54\n",
            "32\n",
            "4\n",
            "31\n",
            "23\n",
            "42\n",
            "39\n",
            "10\n",
            "72\n",
            "77\n",
            "18\n",
            "93\n",
            "46\n",
            "80\n",
            "25\n",
            "100\n",
            "46\n",
            "10\n",
            "11\n",
            "28\n",
            "68\n",
            "95\n",
            "95\n",
            "52\n",
            "96\n",
            "61\n",
            "28\n",
            "60\n",
            "28\n",
            "33\n",
            "4\n",
            "97\n",
            "19\n",
            "91\n",
            "5\n",
            "83\n",
            "29\n",
            "28\n",
            "1\n",
            "80\n",
            "94\n",
            "78\n",
            "27\n",
            "30\n",
            "1\n",
            "74\n",
            "2\n",
            "66\n",
            "47\n",
            "25\n",
            "46\n",
            "100\n",
            "95\n",
            "72\n",
            "40\n",
            "26\n",
            "29\n",
            "8\n",
            "81\n",
            "25\n",
            "63\n",
            "92\n",
            "85\n",
            "3\n",
            "93\n",
            "98\n",
            "2\n",
            "18\n",
            "65\n",
            "85\n",
            "94\n",
            "47\n",
            "42\n",
            "90\n",
            "28\n",
            "54\n",
            "41\n",
            "52\n",
            "95\n",
            "21\n",
            "78\n",
            "66\n",
            "70\n",
            "6\n",
            "16\n",
            "70\n",
            "72\n",
            "60\n",
            "79\n",
            "24\n",
            "91\n",
            "67\n",
            "71\n",
            "62\n",
            "51\n",
            "16\n",
            "7\n",
            "84\n",
            "64\n",
            "35\n",
            "21\n",
            "86\n",
            "39\n",
            "46\n",
            "82\n",
            "46\n",
            "69\n",
            "13\n",
            "67\n",
            "59\n",
            "35\n",
            "91\n",
            "5\n",
            "6\n",
            "63\n",
            "12\n",
            "8\n",
            "62\n",
            "92\n",
            "100\n",
            "40\n",
            "4\n",
            "6\n",
            "3\n",
            "66\n",
            "75\n",
            "71\n",
            "53\n",
            "55\n"
          ]
        }
      ]
    },
    {
      "cell_type": "code",
      "source": [
        "# 실습1. 1~100사이의 숫자를 맞출때까지 반복하는 while문을 작성해주시면 됩니다.\n",
        "# 내가 입력한 숫자가 컴퓨터 숫자보다 작으면 \"값이 작다\"\n",
        "# 내가 입력한 숫자가 컴퓨터 숫자보다 크면 \"값이 크다\"\n",
        "# 답이 맞으면 맞았습니다. \n",
        "\n",
        "import random\n",
        "guess_number = random.randint(1,100)\n",
        "user_input = int(input(\"숫자를 입력해서 값을 맞춰보세요\"))\n",
        "\n",
        "while (user_input != guess_number):\n",
        "  if user_input > guess_number:\n",
        "    print(\"숫자가 큽니다.\")\n",
        "  else:\n",
        "    print(\"숫자가 작습니다.\")\n",
        "  user_input = int(input(\"숫자를 입력해서 값을 다시 맞춰보세요\"))\n",
        "else:\n",
        "  print(\"정답입니다.\")"
      ],
      "metadata": {
        "colab": {
          "base_uri": "https://localhost:8080/"
        },
        "id": "KeiPrvjmPdns",
        "outputId": "f46c40ff-0e6f-4213-d30a-aa3c8623104f"
      },
      "execution_count": null,
      "outputs": [
        {
          "output_type": "stream",
          "name": "stdout",
          "text": [
            "숫자를 입력해서 값을 맞춰보세요50\n",
            "숫자가 작습니다.\n",
            "숫자를 입력해서 값을 다시 맞춰보세요60\n",
            "숫자가 작습니다.\n",
            "숫자를 입력해서 값을 다시 맞춰보세요80\n",
            "정답입니다.\n"
          ]
        }
      ]
    },
    {
      "cell_type": "code",
      "execution_count": null,
      "metadata": {
        "id": "oR2CU-5XNF7K",
        "colab": {
          "base_uri": "https://localhost:8080/"
        },
        "outputId": "bed528d9-0b9f-4b77-a910-445ce2824635"
      },
      "outputs": [
        {
          "output_type": "stream",
          "name": "stdout",
          "text": [
            "16\n"
          ]
        }
      ],
      "source": [
        "# 제코베 문제 1.\n",
        "\n",
        "a = 10\n",
        "b = 2\n",
        "for i in range(1, 5, 2):\n",
        "  a += i\n",
        "\n",
        "print(a+b) \n",
        "\n",
        "#1)  10\n",
        "#2)  12\n",
        "#3)  14\n",
        "#4)  16"
      ]
    },
    {
      "cell_type": "code",
      "source": [
        "# 제코베 문제 2.\n",
        "\n",
        "# 2-gram이란 문자열에서 2개의 연속된 요소를 출력하는 방법입니다. \n",
        "# 예를 들어 'Python'을 2-gram으로 반복해 본다면 다음과 같은 결과가 나옵니다.\n",
        "\n",
        "# Py\n",
        "# yt\n",
        "# th\n",
        "# ho\n",
        "# on\n",
        "\n",
        "a = 'Python'\n",
        "\n",
        "for i in range(5):\n",
        "\n",
        "    print(a[i:i+2])"
      ],
      "metadata": {
        "colab": {
          "base_uri": "https://localhost:8080/"
        },
        "id": "Yr88R2Bx9-aT",
        "outputId": "453a9c66-3400-4d25-9d3e-c2778719cb32"
      },
      "execution_count": null,
      "outputs": [
        {
          "output_type": "stream",
          "name": "stdout",
          "text": [
            "Py\n",
            "yt\n",
            "th\n",
            "ho\n",
            "on\n"
          ]
        }
      ]
    },
    {
      "cell_type": "code",
      "source": [
        "s = 'python'\n",
        "for i, v in enumerate(s):\n",
        "    if v != s[-1]:\n",
        "        print(s[i:i+2])"
      ],
      "metadata": {
        "colab": {
          "base_uri": "https://localhost:8080/"
        },
        "id": "VPpNAgZSAEmL",
        "outputId": "607a5695-cecd-4fb6-d45e-928a85e18fa5"
      },
      "execution_count": null,
      "outputs": [
        {
          "output_type": "stream",
          "name": "stdout",
          "text": [
            "py\n",
            "yt\n",
            "th\n",
            "ho\n",
            "on\n"
          ]
        }
      ]
    },
    {
      "cell_type": "code",
      "source": [
        "# 제코베 문제 3. 반장선거\n",
        "\n",
        "#입력\n",
        "# input(\"원범 원범 혜원 혜원 혜원 혜원 유진 유진\")\n",
        "\n",
        "#1) 투표결과를 받아와서\n",
        "#2) 해당 결과를 알맞는 자료구조료 변환해서\n",
        "#3) 가장 많이 받은 표를 계산 후 출력\n",
        "\n",
        "#결과\n",
        "# 혜원이 4표를 받아서 반장이 되었습니다.\n"
      ],
      "metadata": {
        "id": "stsyWyYDAtNj"
      },
      "execution_count": null,
      "outputs": []
    },
    {
      "cell_type": "code",
      "source": [
        "# 1. 데이터 입력받기\n",
        "data = input(\"투표 결과를 입력해주세요\").split()"
      ],
      "metadata": {
        "colab": {
          "base_uri": "https://localhost:8080/"
        },
        "id": "cVGe58peAwp1",
        "outputId": "b0ba5b1e-9e65-4dab-c1d8-166c7adc6b81"
      },
      "execution_count": null,
      "outputs": [
        {
          "name": "stdout",
          "output_type": "stream",
          "text": [
            "투표 결과를 입력해주세요원범 원범 혜원 혜원 혜원 혜원 유진 유진\n"
          ]
        }
      ]
    },
    {
      "cell_type": "code",
      "source": [
        "# 2. 적절한 데이터셋으로 변환\n",
        "data_set = set(data) # 중복을 포함하지 않는 자료구조"
      ],
      "metadata": {
        "id": "LXiXpNy_DBbH"
      },
      "execution_count": null,
      "outputs": []
    },
    {
      "cell_type": "code",
      "source": [
        "# 3. dict 형태로 가져오기\n",
        "data_dict = {}\n",
        "for key in data_set:\n",
        "  data_dict[key] = data.count(key)"
      ],
      "metadata": {
        "id": "8pLzs-2FDEY7"
      },
      "execution_count": null,
      "outputs": []
    },
    {
      "cell_type": "code",
      "source": [
        "data_dict"
      ],
      "metadata": {
        "colab": {
          "base_uri": "https://localhost:8080/"
        },
        "id": "CRcRdKkyDPkK",
        "outputId": "8b52dc51-0567-46c3-ca9a-8bd6fbb1f1b4"
      },
      "execution_count": null,
      "outputs": [
        {
          "output_type": "execute_result",
          "data": {
            "text/plain": [
              "{'혜원': 4, '원범': 2, '유진': 2}"
            ]
          },
          "metadata": {},
          "execution_count": 11
        }
      ]
    },
    {
      "cell_type": "code",
      "source": [
        "# 4. 최대값을 출력 max()\n",
        "print(f'{max(data_dict.keys())}이가 반장이 되었습니다. {max(data_dict.values())} 표를 받았습니다.')"
      ],
      "metadata": {
        "colab": {
          "base_uri": "https://localhost:8080/"
        },
        "id": "vyPMGZBDDnWe",
        "outputId": "2faa92fd-3843-43eb-b8a0-4a2ad4346475"
      },
      "execution_count": null,
      "outputs": [
        {
          "output_type": "stream",
          "name": "stdout",
          "text": [
            "혜원이가 반장이 되었습니다. 4 표를 받았습니다.\n"
          ]
        }
      ]
    },
    {
      "cell_type": "code",
      "source": [
        "# 2+1 상품 집계\n",
        "price = 1000\n",
        "goods = 3\n",
        "total = 0\n",
        "\n",
        "for i in range(1, goods + 1):\n",
        "  print(\"2+1 상품입니다.\")\n",
        "  if i % 3 == 0:\n",
        "    continue\n",
        "  total += price\n",
        "\n",
        "print(f\"총 가격은 {total}원 입니다\")"
      ],
      "metadata": {
        "id": "19tsSqelD34L"
      },
      "execution_count": null,
      "outputs": []
    },
    {
      "cell_type": "markdown",
      "source": [
        "# 제코베 문제 4. 놀이동산에 가자\n",
        "\n",
        "테마파크에 온 원범이와 친구들은 놀이기구를 타려고 합니다. 모든 놀이기구는 한번에 타는 인원수에는 제한이 없지만 제한 무게를 넘으면 무조건 다음 기구를 타야 합니다. \n",
        "\n",
        "**원범이와 친구들이 총 몇 명 탈 수 있는지 알 수 있는 프로그램을 작성해 주세요.**\n",
        "\n",
        "첫번째 줄에서 제한 무게가 주어지고 두번째 줄에서는 함께한 친구들의 수 n이 주어집니다. \n",
        "그 다음 차례대로 탑승할 친구들의 몸무게가 주어집니다. 몸무게는 무작위로 주어집니다.\n",
        "\n",
        "- 단, 놀이기구는 선착순으로만 탈 수 있습니다.\n",
        "- 두 명 이상의 인원이 항상 탑승합니다."
      ],
      "metadata": {
        "id": "LNEUs1S0ER0G"
      }
    },
    {
      "cell_type": "code",
      "source": [
        "import random    \n",
        "\n",
        "limit = int(input('제한 무게를 입력해주세요.'))\n",
        "man = int(input('탑승을 원하는 인원을 입력해주세요.'))\n",
        "weights = []\n",
        "\n",
        "weight =  int(random.randint(30, 100))\n",
        "weights.append(weight)\n",
        "\n",
        "total_weight = 0\n",
        "total_people = 2\n",
        "\n",
        "for weight in weights:\n",
        "    if total_weight + weight <= limit:\n",
        "        total_weight += weight\n",
        "        total_people += 1\n",
        "    else:\n",
        "        break\n",
        "\n",
        "print(f'원범이와 친구들은 총 {total_people}명이 탑승할 수 있습니다.')\n",
        "\n",
        "# 스스로 코드 리뷰하기\n",
        "# 두명 이상이 무조건 탑승해야한다는 전제조건이 빠진 코드가 작성되었다."
      ],
      "metadata": {
        "colab": {
          "base_uri": "https://localhost:8080/"
        },
        "id": "HiJrv1i8C-61",
        "outputId": "5a07cb50-b2b6-4d6c-a39a-e926d09943d7"
      },
      "execution_count": null,
      "outputs": [
        {
          "output_type": "stream",
          "name": "stdout",
          "text": [
            "제한 무게를 입력해주세요.500\n",
            "탑승을 원하는 인원을 입력해주세요.466\n",
            "원범이와 친구들은 총 3명이 탑승할 수 있습니다.\n"
          ]
        }
      ]
    },
    {
      "cell_type": "code",
      "source": [
        "# 1. input 가져오기\n",
        "\n",
        "제한무게 = float(input(\"제한 무게를 입력하세요\"))\n",
        "친구수 = int(input(\"친구 수를 입력해 주세요\"))\n",
        "친구몸무게 = []\n",
        "전체몸무게 = 0\n",
        "제한인원 = 0\n",
        "비교 = True\n",
        "\n",
        "# 친구 2명의 전체몸무게가 105kg 제한몸무게가 100Kg 1명밖에 타지 못함\n",
        "\n",
        "for i in range(친구수):\n",
        "  친구몸무게.append(float(input(\"친구 몸무게를 입력해주세요\")))\n",
        "  전체몸무게 += 친구몸무게[i]\n",
        "  # 친구 2명의 전체몸무게가 105kg 제한몸무게가 100Kg 1명밖에 타지 못함\n",
        "  if 전체몸무게 > 제한무게:\n",
        "    if 비교:\n",
        "      비교 = False\n",
        "      제한인원 = i\n",
        "\n",
        "if 제한인원 == 0 and 친구몸무게[0] <= 제한무게:\n",
        "  print(len(친구몸무게))\n",
        "else:\n",
        "  print(f'{제한인원}가 몇명입니다.')"
      ],
      "metadata": {
        "colab": {
          "base_uri": "https://localhost:8080/"
        },
        "id": "aA-7GtWSMlNo",
        "outputId": "ab0a0c0f-4d67-4c13-d15b-739c747b7178"
      },
      "execution_count": null,
      "outputs": [
        {
          "output_type": "stream",
          "name": "stdout",
          "text": [
            "제한 무게를 입력하세요400\n",
            "친구 수를 입력해 주세요5\n",
            "친구 몸무게를 입력해주세요66\n",
            "친구 몸무게를 입력해주세요55\n",
            "친구 몸무게를 입력해주세요77\n",
            "친구 몸무게를 입력해주세요44\n",
            "친구 몸무게를 입력해주세요50\n",
            "5\n"
          ]
        }
      ]
    },
    {
      "cell_type": "markdown",
      "source": [
        "# 최종 실습\n",
        "\n",
        "1. 택시 기사의 하루 일당 구하기\n",
        "\n",
        "법인에 소속된 택시기사들의 평균 사납금(영업을 하게 하는  댓가로 지불하는 비용(기름값, 차량렌트비 등)은 기본 13만 5천원입니다. 하루 매출이 13만 5천원을 벌지 못하면 그날은 수입이 마이너스가 되는겁니다. \n",
        "\n",
        "오늘도 바쁘게 손님을 맞이하는 A기사님은 매출이 30만원이 되길 바라고 있습니다. \n",
        "\n",
        "1. A기사님은 오늘 매출 30만원을 채우기를 원합니다. (30만원 이상일 경우 운행 종료)\n",
        "2. 손님별 운행시간은 5 ~ 20분으로 정합니다.\n",
        "3. 그 중 5 ~ 15분인 고객의 콜을 받습니다.\n",
        "4. 기본요금은 기본 5분일 경우 5,000원으로 1분이 추가될때마다 1,000원을 더 추가합니다.\n",
        "5. 1) 오늘 콜을 받은 횟수와 2) 승객의 탑승횟수, 3) 30만원을 채우기까지 총 소요시간 그리고 4) 승객에게 받은 요금을 최종 산출하세요"
      ],
      "metadata": {
        "id": "s5OLfvyzMTrZ"
      }
    },
    {
      "cell_type": "code",
      "source": [
        "1이 탑승했습니다. 소요시간은 7이 걸립니다. 금액은 7000 입니다.\n",
        "2이 탑승했습니다. 소요시간은 15이 걸립니다. 금액은 15000 입니다.\n",
        "3이 탑승했습니다. 소요시간은 8이 걸립니다. 금액은 8000 입니다.\n",
        "4이 탑승했습니다. 소요시간은 6이 걸립니다. 금액은 6000 입니다.\n",
        "5이 탑승했습니다. 소요시간은 10이 걸립니다. 금액은 10000 입니다.\n",
        "6이 탑승했습니다. 소요시간은 5이 걸립니다. 금액은 5000 입니다.\n",
        "매칭에 실패했습니다.\n",
        "오늘 매칭 횟수는 39번 이고, 탑승손님은 32명 이고, 소요시간은 311분 이고, 총 수익은 311000원 입니다."
      ],
      "metadata": {
        "id": "yzPjw-2jLo4N"
      },
      "execution_count": null,
      "outputs": []
    },
    {
      "cell_type": "code",
      "source": [
        "import random \n",
        "\n",
        "total_time = 0\n",
        "call_count = 0\n",
        "fare = 0\n",
        "\n",
        "# 오늘 콜 받기\n",
        "while fare < 300000:\n",
        "    call_time = random.randint(5, 20)\n",
        "    if call_time >= 5 and call_time <= 15:\n",
        "        call_count += 1\n",
        "        total_time += call_time\n",
        "\n",
        "        # 승객 요금 계산\n",
        "        basic_fare = 5000\n",
        "        additional_fare = (call_time - 5) * 1000\n",
        "        fare += basic_fare + additional_fare\n",
        "\n",
        "print(\"총 콜 받은 횟수:\", call_count)\n",
        "print(\"총 탑승 횟수:\", call_count)\n",
        "print(\"총 소요시간:\", total_time)\n",
        "print(\"오늘의 수입:\", fare)"
      ],
      "metadata": {
        "colab": {
          "base_uri": "https://localhost:8080/"
        },
        "id": "MLbg9u3KNoBi",
        "outputId": "4830402b-48b4-416d-d900-f0814c736045"
      },
      "execution_count": 3,
      "outputs": [
        {
          "output_type": "stream",
          "name": "stdout",
          "text": [
            "총 콜 받은 횟수: 31\n",
            "총 탑승 횟수: 31\n",
            "총 소요시간: 309\n",
            "오늘의 수입: 309000\n"
          ]
        }
      ]
    },
    {
      "cell_type": "code",
      "source": [
        "from random import randrange\n",
        "\n",
        "# 매칭횟수(콜 받은 횟수)\n",
        "matching = 0\n",
        "# 실제로 탄 고객(탑승횟수)\n",
        "people = 0\n",
        "# 택시 이용요금(승객에게 받은 요금)\n",
        "money = 0\n",
        "# 총 운행 시간(총 소요시간)\n",
        "all_time = 0\n",
        "\n",
        "# 운행은 30만원 이상일때 종료\n",
        "while money < 300000:\n",
        "  matching += 1\n",
        "  time = randrange(5, 21)\n",
        "\n",
        "  if 5 <= time <= 15:\n",
        "    people += 1\n",
        "    each_money = time * 1000\n",
        "    print(f'손님 {people}이(가) 탑승했습니다. 소요시간은 {time}분이 걸립니다. 택시요금은 {each_money}원 입니다')\n",
        "    money += each_money\n",
        "    all_time += time\n",
        "  else:\n",
        "    print(\"매칭에 실패했습니다.\")\n",
        "  \n",
        "print(f\"오늘 매칭 횟수는 총 {matching}번 이고, 탑승손님 {people}명 이고, 소요시간은 {all_time}분 이고, 총 매출은 {money}원 입니다.\")"
      ],
      "metadata": {
        "colab": {
          "base_uri": "https://localhost:8080/"
        },
        "id": "jvtnflLTRsXZ",
        "outputId": "382694ee-87e3-474c-c57e-eca0c043024a"
      },
      "execution_count": 1,
      "outputs": [
        {
          "output_type": "stream",
          "name": "stdout",
          "text": [
            "손님 1이(가) 탑승했습니다. 소요시간은 7분이 걸립니다. 택시요금은 7000원 입니다\n",
            "손님 2이(가) 탑승했습니다. 소요시간은 8분이 걸립니다. 택시요금은 8000원 입니다\n",
            "매칭에 실패했습니다.\n",
            "손님 3이(가) 탑승했습니다. 소요시간은 5분이 걸립니다. 택시요금은 5000원 입니다\n",
            "손님 4이(가) 탑승했습니다. 소요시간은 7분이 걸립니다. 택시요금은 7000원 입니다\n",
            "손님 5이(가) 탑승했습니다. 소요시간은 6분이 걸립니다. 택시요금은 6000원 입니다\n",
            "손님 6이(가) 탑승했습니다. 소요시간은 14분이 걸립니다. 택시요금은 14000원 입니다\n",
            "매칭에 실패했습니다.\n",
            "손님 7이(가) 탑승했습니다. 소요시간은 11분이 걸립니다. 택시요금은 11000원 입니다\n",
            "손님 8이(가) 탑승했습니다. 소요시간은 15분이 걸립니다. 택시요금은 15000원 입니다\n",
            "손님 9이(가) 탑승했습니다. 소요시간은 15분이 걸립니다. 택시요금은 15000원 입니다\n",
            "매칭에 실패했습니다.\n",
            "손님 10이(가) 탑승했습니다. 소요시간은 5분이 걸립니다. 택시요금은 5000원 입니다\n",
            "손님 11이(가) 탑승했습니다. 소요시간은 9분이 걸립니다. 택시요금은 9000원 입니다\n",
            "손님 12이(가) 탑승했습니다. 소요시간은 7분이 걸립니다. 택시요금은 7000원 입니다\n",
            "손님 13이(가) 탑승했습니다. 소요시간은 13분이 걸립니다. 택시요금은 13000원 입니다\n",
            "매칭에 실패했습니다.\n",
            "손님 14이(가) 탑승했습니다. 소요시간은 9분이 걸립니다. 택시요금은 9000원 입니다\n",
            "손님 15이(가) 탑승했습니다. 소요시간은 9분이 걸립니다. 택시요금은 9000원 입니다\n",
            "손님 16이(가) 탑승했습니다. 소요시간은 15분이 걸립니다. 택시요금은 15000원 입니다\n",
            "손님 17이(가) 탑승했습니다. 소요시간은 14분이 걸립니다. 택시요금은 14000원 입니다\n",
            "손님 18이(가) 탑승했습니다. 소요시간은 14분이 걸립니다. 택시요금은 14000원 입니다\n",
            "손님 19이(가) 탑승했습니다. 소요시간은 11분이 걸립니다. 택시요금은 11000원 입니다\n",
            "손님 20이(가) 탑승했습니다. 소요시간은 10분이 걸립니다. 택시요금은 10000원 입니다\n",
            "손님 21이(가) 탑승했습니다. 소요시간은 14분이 걸립니다. 택시요금은 14000원 입니다\n",
            "손님 22이(가) 탑승했습니다. 소요시간은 7분이 걸립니다. 택시요금은 7000원 입니다\n",
            "손님 23이(가) 탑승했습니다. 소요시간은 11분이 걸립니다. 택시요금은 11000원 입니다\n",
            "매칭에 실패했습니다.\n",
            "손님 24이(가) 탑승했습니다. 소요시간은 11분이 걸립니다. 택시요금은 11000원 입니다\n",
            "매칭에 실패했습니다.\n",
            "손님 25이(가) 탑승했습니다. 소요시간은 7분이 걸립니다. 택시요금은 7000원 입니다\n",
            "손님 26이(가) 탑승했습니다. 소요시간은 14분이 걸립니다. 택시요금은 14000원 입니다\n",
            "손님 27이(가) 탑승했습니다. 소요시간은 5분이 걸립니다. 택시요금은 5000원 입니다\n",
            "손님 28이(가) 탑승했습니다. 소요시간은 7분이 걸립니다. 택시요금은 7000원 입니다\n",
            "손님 29이(가) 탑승했습니다. 소요시간은 12분이 걸립니다. 택시요금은 12000원 입니다\n",
            "손님 30이(가) 탑승했습니다. 소요시간은 8분이 걸립니다. 택시요금은 8000원 입니다\n",
            "오늘 매칭 횟수는 총 36번 이고, 탑승손님 30명 이고, 소요시간은 300분 이고, 총 매출은 300000원 입니다.\n"
          ]
        }
      ]
    },
    {
      "cell_type": "markdown",
      "source": [
        "[randrange 와 randint 차이점이 뭔가요?]\n",
        "\n",
        "* randint(start, stop) : start와 stop 사이의 랜덤 정수를 리턴 (stop도 포함)\n",
        "\n",
        "* randrange(start, stop, step) : start, stop 사이의 정수 중 step 간격의 랜덤 정수 리턴\n",
        "\n",
        "* randint 가 아닌 randrange 를 사용하면 원하는 배수값을 (ex. 3의 배수) 리턴 받을 수 있습니다.\n",
        "\n",
        "* randint(a, b)는 a 이상 b이하의 범위 내 랜덤정수를 반환(b를 포함)하고 \n",
        "* randrange(a, b)는 a이상 b '미만'의 범위 내 랜덤정수를 반환(b를 포함하지 않음)하는 점도 차이점입니다.\n",
        "* 예를 들어, print(random.randint(1, 2)) 하면 1 또는 2가 나오지만 print(random.randrange(1, 2, 1))하면 1만 나옵니다!"
      ],
      "metadata": {
        "id": "YfO6h2ivkP9b"
      }
    },
    {
      "cell_type": "code",
      "source": [
        "매출 = 0\n",
        "#소요시간 = randint(5,20)\n",
        "# 요금 = 소요시간 * 1000\n",
        "콜횟수 = 0\n",
        "\n",
        "while 매출 < 300000:\n",
        "  소요시간 = random.randint(5,20)\n",
        "  if 소요시간 > 15:\n",
        "    print('매칭이 실패했습니다')\n",
        "  else:\n",
        "    요금 = 소요시간 * 1000\n",
        "    매출 = 매출 + 요금\n",
        "    콜횟수 = 콜횟수 + 1\n",
        "    print(f'{콜횟수}번 손님이 탑승했습니다. 소요시간은 {소요시간}분이 걸립니다 금액은 {요금}원입니다')\n",
        "else:\n",
        "  print(f'{매출}원을 도달했습니다 운영을 종료합니다')"
      ],
      "metadata": {
        "id": "dSkZPPCXUgQo",
        "colab": {
          "base_uri": "https://localhost:8080/"
        },
        "outputId": "62e00443-0fd0-4de5-e9e4-15879eb0fd2c"
      },
      "execution_count": 5,
      "outputs": [
        {
          "output_type": "stream",
          "name": "stdout",
          "text": [
            "1번 손님이 탑승했습니다. 소요시간은 14분이 걸립니다 금액은 14000원입니다\n",
            "매칭이 실패했습니다\n",
            "2번 손님이 탑승했습니다. 소요시간은 7분이 걸립니다 금액은 7000원입니다\n",
            "3번 손님이 탑승했습니다. 소요시간은 15분이 걸립니다 금액은 15000원입니다\n",
            "4번 손님이 탑승했습니다. 소요시간은 8분이 걸립니다 금액은 8000원입니다\n",
            "5번 손님이 탑승했습니다. 소요시간은 12분이 걸립니다 금액은 12000원입니다\n",
            "6번 손님이 탑승했습니다. 소요시간은 7분이 걸립니다 금액은 7000원입니다\n",
            "7번 손님이 탑승했습니다. 소요시간은 12분이 걸립니다 금액은 12000원입니다\n",
            "매칭이 실패했습니다\n",
            "8번 손님이 탑승했습니다. 소요시간은 5분이 걸립니다 금액은 5000원입니다\n",
            "매칭이 실패했습니다\n",
            "9번 손님이 탑승했습니다. 소요시간은 15분이 걸립니다 금액은 15000원입니다\n",
            "10번 손님이 탑승했습니다. 소요시간은 9분이 걸립니다 금액은 9000원입니다\n",
            "11번 손님이 탑승했습니다. 소요시간은 13분이 걸립니다 금액은 13000원입니다\n",
            "매칭이 실패했습니다\n",
            "12번 손님이 탑승했습니다. 소요시간은 9분이 걸립니다 금액은 9000원입니다\n",
            "매칭이 실패했습니다\n",
            "13번 손님이 탑승했습니다. 소요시간은 15분이 걸립니다 금액은 15000원입니다\n",
            "매칭이 실패했습니다\n",
            "14번 손님이 탑승했습니다. 소요시간은 10분이 걸립니다 금액은 10000원입니다\n",
            "15번 손님이 탑승했습니다. 소요시간은 14분이 걸립니다 금액은 14000원입니다\n",
            "16번 손님이 탑승했습니다. 소요시간은 15분이 걸립니다 금액은 15000원입니다\n",
            "매칭이 실패했습니다\n",
            "17번 손님이 탑승했습니다. 소요시간은 14분이 걸립니다 금액은 14000원입니다\n",
            "18번 손님이 탑승했습니다. 소요시간은 12분이 걸립니다 금액은 12000원입니다\n",
            "매칭이 실패했습니다\n",
            "19번 손님이 탑승했습니다. 소요시간은 15분이 걸립니다 금액은 15000원입니다\n",
            "매칭이 실패했습니다\n",
            "20번 손님이 탑승했습니다. 소요시간은 8분이 걸립니다 금액은 8000원입니다\n",
            "21번 손님이 탑승했습니다. 소요시간은 12분이 걸립니다 금액은 12000원입니다\n",
            "22번 손님이 탑승했습니다. 소요시간은 6분이 걸립니다 금액은 6000원입니다\n",
            "23번 손님이 탑승했습니다. 소요시간은 15분이 걸립니다 금액은 15000원입니다\n",
            "매칭이 실패했습니다\n",
            "매칭이 실패했습니다\n",
            "매칭이 실패했습니다\n",
            "24번 손님이 탑승했습니다. 소요시간은 11분이 걸립니다 금액은 11000원입니다\n",
            "25번 손님이 탑승했습니다. 소요시간은 7분이 걸립니다 금액은 7000원입니다\n",
            "26번 손님이 탑승했습니다. 소요시간은 11분이 걸립니다 금액은 11000원입니다\n",
            "27번 손님이 탑승했습니다. 소요시간은 5분이 걸립니다 금액은 5000원입니다\n",
            "28번 손님이 탑승했습니다. 소요시간은 5분이 걸립니다 금액은 5000원입니다\n",
            "301000원을 도달했습니다 운영을 종료합니다\n"
          ]
        }
      ]
    },
    {
      "cell_type": "code",
      "source": [
        "import random\n",
        "total_income = -135000\n",
        "customer_num = 0\n",
        "call = 0\n",
        "time = 0\n",
        "\n",
        "while total_income < 300000:\n",
        "    customer = random.randint(1,21)\n",
        "    if 0 < customer < 6:\n",
        "        total_income += 5000\n",
        "        fee = 5000\n",
        "        customer_num += 1\n",
        "        call += 1\n",
        "        time += customer\n",
        "        print(f'{customer_num}번 손님이 탑승했습니다. 소요시간은 {customer}분이 걸립니다. 금액은 {fee}원입니다.')\n",
        "    elif 6 <= customer < 16:\n",
        "        total_income += 5000 + (customer - 5) * 1000\n",
        "        fee = 5000 + (customer - 5) * 1000\n",
        "        customer_num += 1\n",
        "        call += 1\n",
        "        time += customer\n",
        "        print(f'{customer_num}번 손님이 탑승했습니다. 소요시간은 {customer}분이 걸립니다. 금액은 {fee}원입니다.')\n",
        "    else:\n",
        "        print('매칭에 실패했습니다.')\n",
        "        call += 1\n",
        "print(f'Today call: {call}, Matcing call: {customer_num}, Total Time: {time}분,Today income: {total_income}')"
      ],
      "metadata": {
        "colab": {
          "base_uri": "https://localhost:8080/"
        },
        "id": "KI4IB5g2UiKZ",
        "outputId": "a42882b6-d5ce-4995-d944-d1bf275b7c07"
      },
      "execution_count": 6,
      "outputs": [
        {
          "output_type": "stream",
          "name": "stdout",
          "text": [
            "1번 손님이 탑승했습니다. 소요시간은 12분이 걸립니다. 금액은 12000원입니다.\n",
            "2번 손님이 탑승했습니다. 소요시간은 6분이 걸립니다. 금액은 6000원입니다.\n",
            "3번 손님이 탑승했습니다. 소요시간은 13분이 걸립니다. 금액은 13000원입니다.\n",
            "4번 손님이 탑승했습니다. 소요시간은 8분이 걸립니다. 금액은 8000원입니다.\n",
            "5번 손님이 탑승했습니다. 소요시간은 8분이 걸립니다. 금액은 8000원입니다.\n",
            "6번 손님이 탑승했습니다. 소요시간은 8분이 걸립니다. 금액은 8000원입니다.\n",
            "7번 손님이 탑승했습니다. 소요시간은 8분이 걸립니다. 금액은 8000원입니다.\n",
            "8번 손님이 탑승했습니다. 소요시간은 14분이 걸립니다. 금액은 14000원입니다.\n",
            "매칭에 실패했습니다.\n",
            "9번 손님이 탑승했습니다. 소요시간은 7분이 걸립니다. 금액은 7000원입니다.\n",
            "매칭에 실패했습니다.\n",
            "매칭에 실패했습니다.\n",
            "매칭에 실패했습니다.\n",
            "10번 손님이 탑승했습니다. 소요시간은 3분이 걸립니다. 금액은 5000원입니다.\n",
            "11번 손님이 탑승했습니다. 소요시간은 6분이 걸립니다. 금액은 6000원입니다.\n",
            "매칭에 실패했습니다.\n",
            "12번 손님이 탑승했습니다. 소요시간은 14분이 걸립니다. 금액은 14000원입니다.\n",
            "13번 손님이 탑승했습니다. 소요시간은 7분이 걸립니다. 금액은 7000원입니다.\n",
            "14번 손님이 탑승했습니다. 소요시간은 10분이 걸립니다. 금액은 10000원입니다.\n",
            "매칭에 실패했습니다.\n",
            "매칭에 실패했습니다.\n",
            "15번 손님이 탑승했습니다. 소요시간은 6분이 걸립니다. 금액은 6000원입니다.\n",
            "16번 손님이 탑승했습니다. 소요시간은 13분이 걸립니다. 금액은 13000원입니다.\n",
            "17번 손님이 탑승했습니다. 소요시간은 15분이 걸립니다. 금액은 15000원입니다.\n",
            "매칭에 실패했습니다.\n",
            "매칭에 실패했습니다.\n",
            "18번 손님이 탑승했습니다. 소요시간은 14분이 걸립니다. 금액은 14000원입니다.\n",
            "19번 손님이 탑승했습니다. 소요시간은 2분이 걸립니다. 금액은 5000원입니다.\n",
            "20번 손님이 탑승했습니다. 소요시간은 7분이 걸립니다. 금액은 7000원입니다.\n",
            "21번 손님이 탑승했습니다. 소요시간은 12분이 걸립니다. 금액은 12000원입니다.\n",
            "22번 손님이 탑승했습니다. 소요시간은 7분이 걸립니다. 금액은 7000원입니다.\n",
            "매칭에 실패했습니다.\n",
            "23번 손님이 탑승했습니다. 소요시간은 3분이 걸립니다. 금액은 5000원입니다.\n",
            "24번 손님이 탑승했습니다. 소요시간은 9분이 걸립니다. 금액은 9000원입니다.\n",
            "매칭에 실패했습니다.\n",
            "25번 손님이 탑승했습니다. 소요시간은 9분이 걸립니다. 금액은 9000원입니다.\n",
            "26번 손님이 탑승했습니다. 소요시간은 5분이 걸립니다. 금액은 5000원입니다.\n",
            "매칭에 실패했습니다.\n",
            "매칭에 실패했습니다.\n",
            "27번 손님이 탑승했습니다. 소요시간은 7분이 걸립니다. 금액은 7000원입니다.\n",
            "매칭에 실패했습니다.\n",
            "매칭에 실패했습니다.\n",
            "매칭에 실패했습니다.\n",
            "28번 손님이 탑승했습니다. 소요시간은 9분이 걸립니다. 금액은 9000원입니다.\n",
            "29번 손님이 탑승했습니다. 소요시간은 13분이 걸립니다. 금액은 13000원입니다.\n",
            "30번 손님이 탑승했습니다. 소요시간은 11분이 걸립니다. 금액은 11000원입니다.\n",
            "31번 손님이 탑승했습니다. 소요시간은 4분이 걸립니다. 금액은 5000원입니다.\n",
            "32번 손님이 탑승했습니다. 소요시간은 6분이 걸립니다. 금액은 6000원입니다.\n",
            "매칭에 실패했습니다.\n",
            "매칭에 실패했습니다.\n",
            "매칭에 실패했습니다.\n",
            "매칭에 실패했습니다.\n",
            "매칭에 실패했습니다.\n",
            "매칭에 실패했습니다.\n",
            "33번 손님이 탑승했습니다. 소요시간은 1분이 걸립니다. 금액은 5000원입니다.\n",
            "34번 손님이 탑승했습니다. 소요시간은 3분이 걸립니다. 금액은 5000원입니다.\n",
            "35번 손님이 탑승했습니다. 소요시간은 14분이 걸립니다. 금액은 14000원입니다.\n",
            "매칭에 실패했습니다.\n",
            "36번 손님이 탑승했습니다. 소요시간은 13분이 걸립니다. 금액은 13000원입니다.\n",
            "37번 손님이 탑승했습니다. 소요시간은 11분이 걸립니다. 금액은 11000원입니다.\n",
            "매칭에 실패했습니다.\n",
            "38번 손님이 탑승했습니다. 소요시간은 14분이 걸립니다. 금액은 14000원입니다.\n",
            "39번 손님이 탑승했습니다. 소요시간은 9분이 걸립니다. 금액은 9000원입니다.\n",
            "매칭에 실패했습니다.\n",
            "40번 손님이 탑승했습니다. 소요시간은 10분이 걸립니다. 금액은 10000원입니다.\n",
            "41번 손님이 탑승했습니다. 소요시간은 5분이 걸립니다. 금액은 5000원입니다.\n",
            "42번 손님이 탑승했습니다. 소요시간은 12분이 걸립니다. 금액은 12000원입니다.\n",
            "43번 손님이 탑승했습니다. 소요시간은 6분이 걸립니다. 금액은 6000원입니다.\n",
            "44번 손님이 탑승했습니다. 소요시간은 2분이 걸립니다. 금액은 5000원입니다.\n",
            "매칭에 실패했습니다.\n",
            "45번 손님이 탑승했습니다. 소요시간은 15분이 걸립니다. 금액은 15000원입니다.\n",
            "46번 손님이 탑승했습니다. 소요시간은 11분이 걸립니다. 금액은 11000원입니다.\n",
            "47번 손님이 탑승했습니다. 소요시간은 7분이 걸립니다. 금액은 7000원입니다.\n",
            "매칭에 실패했습니다.\n",
            "48번 손님이 탑승했습니다. 소요시간은 3분이 걸립니다. 금액은 5000원입니다.\n",
            "49번 손님이 탑승했습니다. 소요시간은 10분이 걸립니다. 금액은 10000원입니다.\n",
            "Today call: 76, Matcing call: 49, Total Time: 422분,Today income: 306000\n"
          ]
        }
      ]
    },
    {
      "cell_type": "code",
      "source": [
        "import random\n",
        "num = 0 \n",
        "total_num = 0\n",
        "fee = 0\n",
        "total_fee = 0\n",
        "\n",
        "while total_fee < 300000:\n",
        "    time = random.randint(5, 20)\n",
        "    if 5 <= time <= 15:\n",
        "        fee = 5000 + (time-5) * 1000\n",
        "        total_fee += fee\n",
        "        num += 1\n",
        "        print(f'{num}이 탑승했습니다. 소요시간은 {time}이 걸립니다. 금액은 {fee}입니다.')\n",
        "    else:\n",
        "        print('매칭에 실패했습니다.')\n",
        "    total_num += 1\n",
        "    \n",
        "else: \n",
        "    print(f'오늘 매칭 횟수는 {total_num}번 이고, 탑승손님은 {num}명 이고, 소요시간은 {time}분 이고, \\\n",
        "총 수익은 {total_fee}원 입니다.')"
      ],
      "metadata": {
        "colab": {
          "base_uri": "https://localhost:8080/"
        },
        "id": "Nr6EfFHVUoDa",
        "outputId": "3f2d0163-09d7-455f-baa3-099eae6eb394"
      },
      "execution_count": null,
      "outputs": [
        {
          "output_type": "stream",
          "name": "stdout",
          "text": [
            "1이 탑승했습니다. 소요시간은 14이 걸립니다. 금액은 14000입니다.\n",
            "2이 탑승했습니다. 소요시간은 12이 걸립니다. 금액은 12000입니다.\n",
            "매칭에 실패했습니다.\n",
            "3이 탑승했습니다. 소요시간은 8이 걸립니다. 금액은 8000입니다.\n",
            "4이 탑승했습니다. 소요시간은 14이 걸립니다. 금액은 14000입니다.\n",
            "매칭에 실패했습니다.\n",
            "매칭에 실패했습니다.\n",
            "매칭에 실패했습니다.\n",
            "5이 탑승했습니다. 소요시간은 5이 걸립니다. 금액은 5000입니다.\n",
            "6이 탑승했습니다. 소요시간은 8이 걸립니다. 금액은 8000입니다.\n",
            "매칭에 실패했습니다.\n",
            "매칭에 실패했습니다.\n",
            "7이 탑승했습니다. 소요시간은 11이 걸립니다. 금액은 11000입니다.\n",
            "8이 탑승했습니다. 소요시간은 13이 걸립니다. 금액은 13000입니다.\n",
            "9이 탑승했습니다. 소요시간은 15이 걸립니다. 금액은 15000입니다.\n",
            "10이 탑승했습니다. 소요시간은 8이 걸립니다. 금액은 8000입니다.\n",
            "11이 탑승했습니다. 소요시간은 14이 걸립니다. 금액은 14000입니다.\n",
            "12이 탑승했습니다. 소요시간은 7이 걸립니다. 금액은 7000입니다.\n",
            "매칭에 실패했습니다.\n",
            "13이 탑승했습니다. 소요시간은 11이 걸립니다. 금액은 11000입니다.\n",
            "14이 탑승했습니다. 소요시간은 8이 걸립니다. 금액은 8000입니다.\n",
            "매칭에 실패했습니다.\n",
            "15이 탑승했습니다. 소요시간은 12이 걸립니다. 금액은 12000입니다.\n",
            "16이 탑승했습니다. 소요시간은 11이 걸립니다. 금액은 11000입니다.\n",
            "17이 탑승했습니다. 소요시간은 9이 걸립니다. 금액은 9000입니다.\n",
            "매칭에 실패했습니다.\n",
            "매칭에 실패했습니다.\n",
            "매칭에 실패했습니다.\n",
            "18이 탑승했습니다. 소요시간은 5이 걸립니다. 금액은 5000입니다.\n",
            "19이 탑승했습니다. 소요시간은 7이 걸립니다. 금액은 7000입니다.\n",
            "매칭에 실패했습니다.\n",
            "20이 탑승했습니다. 소요시간은 5이 걸립니다. 금액은 5000입니다.\n",
            "21이 탑승했습니다. 소요시간은 9이 걸립니다. 금액은 9000입니다.\n",
            "22이 탑승했습니다. 소요시간은 8이 걸립니다. 금액은 8000입니다.\n",
            "매칭에 실패했습니다.\n",
            "23이 탑승했습니다. 소요시간은 10이 걸립니다. 금액은 10000입니다.\n",
            "24이 탑승했습니다. 소요시간은 13이 걸립니다. 금액은 13000입니다.\n",
            "25이 탑승했습니다. 소요시간은 5이 걸립니다. 금액은 5000입니다.\n",
            "26이 탑승했습니다. 소요시간은 12이 걸립니다. 금액은 12000입니다.\n",
            "27이 탑승했습니다. 소요시간은 13이 걸립니다. 금액은 13000입니다.\n",
            "28이 탑승했습니다. 소요시간은 12이 걸립니다. 금액은 12000입니다.\n",
            "29이 탑승했습니다. 소요시간은 6이 걸립니다. 금액은 6000입니다.\n",
            "30이 탑승했습니다. 소요시간은 13이 걸립니다. 금액은 13000입니다.\n",
            "31이 탑승했습니다. 소요시간은 14이 걸립니다. 금액은 14000입니다.\n",
            "오늘 매칭 횟수는 44번 이고, 탑승손님은 31명 이고, 소요시간은 14분 이고, 총 수익은 312000원 입니다.\n"
          ]
        }
      ]
    }
  ]
}