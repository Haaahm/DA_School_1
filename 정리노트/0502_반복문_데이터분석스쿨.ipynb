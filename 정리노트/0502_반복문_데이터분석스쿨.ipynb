{
  "nbformat": 4,
  "nbformat_minor": 0,
  "metadata": {
    "colab": {
      "provenance": []
    },
    "kernelspec": {
      "name": "python3",
      "display_name": "Python 3"
    },
    "language_info": {
      "name": "python"
    }
  },
  "cells": [
    {
      "cell_type": "markdown",
      "source": [
        "# 반복문\n",
        "\n"
      ],
      "metadata": {
        "id": "Z5f1p8yUr2td"
      }
    },
    {
      "cell_type": "markdown",
      "source": [
        "* 반복문을 사용하는 이유 -> 업무의 최소화, 빠른 퇴근, 나의 체력 안배\n",
        "\n",
        "특히 데이터 분석에서는 \n",
        "* 월별/분기별/연도별 산출할 게 있을 경우\n",
        "* 컬럼별 데이터 검사 및 특이값 이상치 발견\n",
        "* Rule Base 최적 상품 추천\n",
        "* ML/DL모델을 파라미터를 바꿔서 반복 시행할때\n",
        "* 기타 3번 이상 반복 작업 해야하는 반복되는 일들\n",
        "\n",
        "에서 사용되게 됩니다.\n"
      ],
      "metadata": {
        "id": "qvXrkWRisUhf"
      }
    },
    {
      "cell_type": "code",
      "source": [
        "# For 반복문 기초 1\n",
        "\n",
        "for x in (1,2,3,4,5):\n",
        "\tprint(f'{x}번째 입니다.')"
      ],
      "metadata": {
        "colab": {
          "base_uri": "https://localhost:8080/"
        },
        "id": "z_BcNth7sPVy",
        "outputId": "b69a2175-7b84-47c0-ad78-f0c315e5a7c1"
      },
      "execution_count": null,
      "outputs": [
        {
          "output_type": "stream",
          "name": "stdout",
          "text": [
            "1번째 입니다.\n",
            "2번째 입니다.\n",
            "3번째 입니다.\n",
            "4번째 입니다.\n",
            "5번째 입니다.\n"
          ]
        }
      ]
    },
    {
      "cell_type": "code",
      "source": [
        "#for 문의 구조\n",
        "for (변수명) in (순회 가능한 객체) :\n",
        "    수행할 문장1\n",
        "\t수행할 문장2"
      ],
      "metadata": {
        "id": "IvvwiFfytm6J"
      },
      "execution_count": null,
      "outputs": []
    },
    {
      "cell_type": "code",
      "source": [
        "# For 반복문 기초 2\n",
        "문자열 = 'hello world'\n",
        "for a in 문자열 :\n",
        "    print(a)"
      ],
      "metadata": {
        "colab": {
          "base_uri": "https://localhost:8080/"
        },
        "id": "RIZblXVBuTAn",
        "outputId": "4508366b-8a0a-4137-cd8b-0e1d581ee419"
      },
      "execution_count": 1,
      "outputs": [
        {
          "output_type": "stream",
          "name": "stdout",
          "text": [
            "h\n",
            "e\n",
            "l\n",
            "l\n",
            "o\n",
            " \n",
            "w\n",
            "o\n",
            "r\n",
            "l\n",
            "d\n"
          ]
        }
      ]
    },
    {
      "cell_type": "code",
      "source": [
        "# 리스트를 범위로 지정한 예시\n",
        "\n",
        "list_a = ['하나','둘','셋','넷','다섯']\n",
        "\n",
        "for a in list_a:\n",
        "  print(a)"
      ],
      "metadata": {
        "colab": {
          "base_uri": "https://localhost:8080/"
        },
        "id": "GYD8vIpxuONw",
        "outputId": "e0e2a4de-2222-441b-fdec-89d15666f1a8"
      },
      "execution_count": 2,
      "outputs": [
        {
          "output_type": "stream",
          "name": "stdout",
          "text": [
            "하나\n",
            "둘\n",
            "셋\n",
            "넷\n",
            "다섯\n"
          ]
        }
      ]
    },
    {
      "cell_type": "code",
      "source": [
        "# 딕셔너리를 이용한 반복문\n",
        "dic_a = {\n",
        "    '하나': 'one',\n",
        "    '둘' : 'two',\n",
        "    '셋' : 'three',\n",
        "}\n",
        "\n",
        "for a in dic_a:\n",
        "  print(a)"
      ],
      "metadata": {
        "colab": {
          "base_uri": "https://localhost:8080/"
        },
        "id": "8NtN2dREueDr",
        "outputId": "e95fecaf-52ec-44c0-9f9a-5efeefdc0669"
      },
      "execution_count": 3,
      "outputs": [
        {
          "output_type": "stream",
          "name": "stdout",
          "text": [
            "하나\n",
            "둘\n",
            "셋\n"
          ]
        }
      ]
    },
    {
      "cell_type": "code",
      "source": [
        "for a in dic_a.values():\n",
        "  print(a)"
      ],
      "metadata": {
        "id": "8smuVLhevQtj",
        "outputId": "35999a33-a897-4229-f44d-b97d7b126de7",
        "colab": {
          "base_uri": "https://localhost:8080/"
        }
      },
      "execution_count": 4,
      "outputs": [
        {
          "output_type": "stream",
          "name": "stdout",
          "text": [
            "one\n",
            "two\n",
            "three\n"
          ]
        }
      ]
    },
    {
      "cell_type": "code",
      "source": [
        "# range 1번 예제\n",
        "\n",
        "for a in range(0, 5, 1):\n",
        "  print(a)"
      ],
      "metadata": {
        "colab": {
          "base_uri": "https://localhost:8080/"
        },
        "id": "o_DfiKC8vS8W",
        "outputId": "30582ce6-59ba-43c3-b7a6-8b002a825cd6"
      },
      "execution_count": 9,
      "outputs": [
        {
          "output_type": "stream",
          "name": "stdout",
          "text": [
            "0\n",
            "1\n",
            "2\n",
            "3\n",
            "4\n"
          ]
        }
      ]
    },
    {
      "cell_type": "code",
      "source": [
        "# range 2번 예제\n",
        "\n",
        "for a in range(0, 10, 2):\n",
        "  print(a)"
      ],
      "metadata": {
        "colab": {
          "base_uri": "https://localhost:8080/"
        },
        "id": "W-q07yWtveHa",
        "outputId": "7baf2459-a46e-4b08-ede7-57dd93c7ac17"
      },
      "execution_count": 10,
      "outputs": [
        {
          "output_type": "stream",
          "name": "stdout",
          "text": [
            "0\n",
            "2\n",
            "4\n",
            "6\n",
            "8\n"
          ]
        }
      ]
    },
    {
      "cell_type": "code",
      "source": [
        "# range 3번 예제\n",
        "\n",
        "for a in range(10, 0, -1):\n",
        "    print(a)"
      ],
      "metadata": {
        "colab": {
          "base_uri": "https://localhost:8080/"
        },
        "id": "z4VLsOhHvvTr",
        "outputId": "ff8dd707-9a0a-436c-e6e1-e1b2210ba068"
      },
      "execution_count": 12,
      "outputs": [
        {
          "output_type": "stream",
          "name": "stdout",
          "text": [
            "10\n",
            "9\n",
            "8\n",
            "7\n",
            "6\n",
            "5\n",
            "4\n",
            "3\n",
            "2\n",
            "1\n"
          ]
        }
      ]
    },
    {
      "cell_type": "code",
      "source": [
        "# 반복문 기초 1\n",
        "for i in [1,3,5,7,9]:\n",
        "  print(\"홀수를 출력합니다.\")"
      ],
      "metadata": {
        "colab": {
          "base_uri": "https://localhost:8080/"
        },
        "id": "DdTB8i4ovr39",
        "outputId": "f8c684d2-d6eb-48a4-9eda-40026b7643fa"
      },
      "execution_count": null,
      "outputs": [
        {
          "output_type": "stream",
          "name": "stdout",
          "text": [
            "홀수를 출력합니다.\n",
            "홀수를 출력합니다.\n",
            "홀수를 출력합니다.\n",
            "홀수를 출력합니다.\n",
            "홀수를 출력합니다.\n"
          ]
        }
      ]
    },
    {
      "cell_type": "code",
      "source": [
        "# 반복문 기초 2\n",
        "for i in [1,3,5,7,9]:\n",
        "  print(f'홀수를 출력합니다. {i}')"
      ],
      "metadata": {
        "colab": {
          "base_uri": "https://localhost:8080/"
        },
        "id": "CQo947IDv60G",
        "outputId": "96980c19-0556-461f-94e4-53ab44eca4a2"
      },
      "execution_count": 14,
      "outputs": [
        {
          "output_type": "stream",
          "name": "stdout",
          "text": [
            "홀수를 출력합니다. 1\n",
            "홀수를 출력합니다. 3\n",
            "홀수를 출력합니다. 5\n",
            "홀수를 출력합니다. 7\n",
            "홀수를 출력합니다. 9\n"
          ]
        }
      ]
    },
    {
      "cell_type": "code",
      "source": [
        "# 반복문 기초 3\n",
        "from time import process_time\n",
        "\n",
        "start = process_time()\n",
        "\n",
        "for i in range(1, 100):\n",
        "  print(f'숫자를 출력합니다. {i}')\n",
        "\n",
        "end = process_time()\n",
        "print(f'프로그램을 수행하는데 {end - start}초가 걸렸습니다.')"
      ],
      "metadata": {
        "colab": {
          "base_uri": "https://localhost:8080/"
        },
        "id": "jpv71ipQv7bk",
        "outputId": "b64d5bec-f5ae-4699-e693-dfded4e8bd77"
      },
      "execution_count": 15,
      "outputs": [
        {
          "output_type": "stream",
          "name": "stdout",
          "text": [
            "숫자를 출력합니다. 1\n",
            "숫자를 출력합니다. 2\n",
            "숫자를 출력합니다. 3\n",
            "숫자를 출력합니다. 4\n",
            "숫자를 출력합니다. 5\n",
            "숫자를 출력합니다. 6\n",
            "숫자를 출력합니다. 7\n",
            "숫자를 출력합니다. 8\n",
            "숫자를 출력합니다. 9\n",
            "숫자를 출력합니다. 10\n",
            "숫자를 출력합니다. 11\n",
            "숫자를 출력합니다. 12\n",
            "숫자를 출력합니다. 13\n",
            "숫자를 출력합니다. 14\n",
            "숫자를 출력합니다. 15\n",
            "숫자를 출력합니다. 16\n",
            "숫자를 출력합니다. 17\n",
            "숫자를 출력합니다. 18\n",
            "숫자를 출력합니다. 19\n",
            "숫자를 출력합니다. 20\n",
            "숫자를 출력합니다. 21\n",
            "숫자를 출력합니다. 22\n",
            "숫자를 출력합니다. 23\n",
            "숫자를 출력합니다. 24\n",
            "숫자를 출력합니다. 25\n",
            "숫자를 출력합니다. 26\n",
            "숫자를 출력합니다. 27\n",
            "숫자를 출력합니다. 28\n",
            "숫자를 출력합니다. 29\n",
            "숫자를 출력합니다. 30\n",
            "숫자를 출력합니다. 31\n",
            "숫자를 출력합니다. 32\n",
            "숫자를 출력합니다. 33\n",
            "숫자를 출력합니다. 34\n",
            "숫자를 출력합니다. 35\n",
            "숫자를 출력합니다. 36\n",
            "숫자를 출력합니다. 37\n",
            "숫자를 출력합니다. 38\n",
            "숫자를 출력합니다. 39\n",
            "숫자를 출력합니다. 40\n",
            "숫자를 출력합니다. 41\n",
            "숫자를 출력합니다. 42\n",
            "숫자를 출력합니다. 43\n",
            "숫자를 출력합니다. 44\n",
            "숫자를 출력합니다. 45\n",
            "숫자를 출력합니다. 46\n",
            "숫자를 출력합니다. 47\n",
            "숫자를 출력합니다. 48\n",
            "숫자를 출력합니다. 49\n",
            "숫자를 출력합니다. 50\n",
            "숫자를 출력합니다. 51\n",
            "숫자를 출력합니다. 52\n",
            "숫자를 출력합니다. 53\n",
            "숫자를 출력합니다. 54\n",
            "숫자를 출력합니다. 55\n",
            "숫자를 출력합니다. 56\n",
            "숫자를 출력합니다. 57\n",
            "숫자를 출력합니다. 58\n",
            "숫자를 출력합니다. 59\n",
            "숫자를 출력합니다. 60\n",
            "숫자를 출력합니다. 61\n",
            "숫자를 출력합니다. 62\n",
            "숫자를 출력합니다. 63\n",
            "숫자를 출력합니다. 64\n",
            "숫자를 출력합니다. 65\n",
            "숫자를 출력합니다. 66\n",
            "숫자를 출력합니다. 67\n",
            "숫자를 출력합니다. 68\n",
            "숫자를 출력합니다. 69\n",
            "숫자를 출력합니다. 70\n",
            "숫자를 출력합니다. 71\n",
            "숫자를 출력합니다. 72\n",
            "숫자를 출력합니다. 73\n",
            "숫자를 출력합니다. 74\n",
            "숫자를 출력합니다. 75\n",
            "숫자를 출력합니다. 76\n",
            "숫자를 출력합니다. 77\n",
            "숫자를 출력합니다. 78\n",
            "숫자를 출력합니다. 79\n",
            "숫자를 출력합니다. 80\n",
            "숫자를 출력합니다. 81\n",
            "숫자를 출력합니다. 82\n",
            "숫자를 출력합니다. 83\n",
            "숫자를 출력합니다. 84\n",
            "숫자를 출력합니다. 85\n",
            "숫자를 출력합니다. 86\n",
            "숫자를 출력합니다. 87\n",
            "숫자를 출력합니다. 88\n",
            "숫자를 출력합니다. 89\n",
            "숫자를 출력합니다. 90\n",
            "숫자를 출력합니다. 91\n",
            "숫자를 출력합니다. 92\n",
            "숫자를 출력합니다. 93\n",
            "숫자를 출력합니다. 94\n",
            "숫자를 출력합니다. 95\n",
            "숫자를 출력합니다. 96\n",
            "숫자를 출력합니다. 97\n",
            "숫자를 출력합니다. 98\n",
            "숫자를 출력합니다. 99\n",
            "프로그램을 수행하는데 0.005332537000000137초가 걸렸습니다.\n"
          ]
        }
      ]
    },
    {
      "cell_type": "code",
      "source": [
        "# 반복문 기초 - 문자열\n",
        "\n",
        "for i in 'python':\n",
        "  print(i)"
      ],
      "metadata": {
        "colab": {
          "base_uri": "https://localhost:8080/"
        },
        "id": "w3U4JH1hxB47",
        "outputId": "2ab98ffd-ac22-4a6c-fdd0-95174c362836"
      },
      "execution_count": null,
      "outputs": [
        {
          "output_type": "stream",
          "name": "stdout",
          "text": [
            "p\n",
            "y\n",
            "t\n",
            "h\n",
            "o\n",
            "n\n"
          ]
        }
      ]
    },
    {
      "cell_type": "code",
      "source": [
        "for i in ['python','numpy','pandas']:\n",
        "  print(i)"
      ],
      "metadata": {
        "colab": {
          "base_uri": "https://localhost:8080/"
        },
        "id": "34jnN1XQwaAw",
        "outputId": "8e8b4e12-a30c-4427-a84c-33f84a66dd9a"
      },
      "execution_count": null,
      "outputs": [
        {
          "output_type": "stream",
          "name": "stdout",
          "text": [
            "python\n",
            "numpy\n",
            "pandas\n"
          ]
        }
      ]
    },
    {
      "cell_type": "code",
      "source": [
        "# 반복문 기초 7 - 딕셔너리\n",
        "\n",
        "d = {\"key1\" : 1000 , \"key2\" : 2000, \"key3\" : 3000}\n",
        "for i in d.keys():\n",
        "  print(\"출력된 문자는\", i, \"입니다.\")\n",
        "\n",
        "print()\n",
        "\n",
        "# 반복문 기초 7 - 딕셔너리\n",
        "\n",
        "d = {\"key1\" : 1000 , \"key2\" : 2000, \"key3\" : 3000}\n",
        "for i in d.values():\n",
        "  print(\"출력된 문자는\", i, \"입니다.\")\n",
        "\n",
        "print()\n",
        "# 반복문 기초 7 - 딕셔너리\n",
        "\n",
        "d = {\"key1\" : 1000 , \"key2\" : 2000, \"key3\" : 3000}\n",
        "for i in d.items():\n",
        "  print(\"출력된 문자는\", i, \"입니다.\")"
      ],
      "metadata": {
        "colab": {
          "base_uri": "https://localhost:8080/"
        },
        "id": "VPGk-9m_xBVD",
        "outputId": "c7f0c549-3cc3-416b-bd50-7a5e510e41d5"
      },
      "execution_count": null,
      "outputs": [
        {
          "output_type": "stream",
          "name": "stdout",
          "text": [
            "출력된 문자는 key1 입니다.\n",
            "출력된 문자는 key2 입니다.\n",
            "출력된 문자는 key3 입니다.\n",
            "\n",
            "출력된 문자는 1000 입니다.\n",
            "출력된 문자는 2000 입니다.\n",
            "출력된 문자는 3000 입니다.\n",
            "\n",
            "출력된 문자는 ('key1', 1000) 입니다.\n",
            "출력된 문자는 ('key2', 2000) 입니다.\n",
            "출력된 문자는 ('key3', 3000) 입니다.\n"
          ]
        }
      ]
    },
    {
      "cell_type": "code",
      "source": [
        "#for, else 예제\n",
        "\n",
        "for i in range(100):\n",
        "    print(f'{i}마리의 물고기를 잡았습니다.')\n",
        "    if i == 5:\n",
        "        print('만선입니다. 물고기를 다 잡았습니다!')\n",
        "        break\n",
        "else:\n",
        "    print('아직 여유가 좀 있지만, 물고기 그만잡고 돌아갑시다.')\n",
        "print('수고하셨습니다.')"
      ],
      "metadata": {
        "colab": {
          "base_uri": "https://localhost:8080/"
        },
        "id": "XSINnG8Oxubu",
        "outputId": "bd4c8422-ce2b-4fa6-dc7a-8887068f6bbc"
      },
      "execution_count": 16,
      "outputs": [
        {
          "output_type": "stream",
          "name": "stdout",
          "text": [
            "0마리의 물고기를 잡았습니다.\n",
            "1마리의 물고기를 잡았습니다.\n",
            "2마리의 물고기를 잡았습니다.\n",
            "3마리의 물고기를 잡았습니다.\n",
            "4마리의 물고기를 잡았습니다.\n",
            "5마리의 물고기를 잡았습니다.\n",
            "만선입니다. 물고기를 다 잡았습니다!\n",
            "수고하셨습니다.\n"
          ]
        }
      ]
    },
    {
      "cell_type": "code",
      "source": [
        "l = [0, 3, -1, 10]\n",
        "\n",
        "for x in l:\n",
        "  if x < 0:\n",
        "    print(\"음수가 발견되었습니다. 프로그램을 종료합니다.\")\n",
        "    break\n",
        "else:\n",
        "  print('음수를 발견하지 못했습니다.')\n"
      ],
      "metadata": {
        "colab": {
          "base_uri": "https://localhost:8080/"
        },
        "id": "5_W6qTrSyV2s",
        "outputId": "0cfdd137-d8d7-469a-b68a-7cd438eae411"
      },
      "execution_count": 18,
      "outputs": [
        {
          "output_type": "stream",
          "name": "stdout",
          "text": [
            "음수가 발견되었습니다. 프로그램을 종료합니다.\n"
          ]
        }
      ]
    },
    {
      "cell_type": "code",
      "source": [
        "# 반복문 기초 break - coutinue\n",
        "\n",
        "# 반복 출력\n",
        "\n",
        "for i in range(10):\n",
        "\n",
        "  if i == 3:\n",
        "    break \n",
        "\n",
        "  if i == 1:\n",
        "    continue\n",
        "  \n",
        "print(i) #3"
      ],
      "metadata": {
        "colab": {
          "base_uri": "https://localhost:8080/"
        },
        "id": "4QJV5Sg6y1XN",
        "outputId": "bb524466-d1d0-4903-f050-c99dfe7c6104"
      },
      "execution_count": 21,
      "outputs": [
        {
          "output_type": "stream",
          "name": "stdout",
          "text": [
            "3\n"
          ]
        }
      ]
    },
    {
      "cell_type": "code",
      "source": [
        "# 0 \n",
        "# 1\n",
        "# 2\n",
        "# 3\n",
        "# 4\n",
        "\n",
        "for i in range(10): #[0,2,3,4,5,6,7,8,9]\n",
        "\n",
        "  if i == 3:\n",
        "    break \n",
        "\n",
        "  if i == 1: \n",
        "    continue\n",
        "  \n",
        "  print(i) #0,2 "
      ],
      "metadata": {
        "colab": {
          "base_uri": "https://localhost:8080/"
        },
        "id": "UVCKq0qf4XU1",
        "outputId": "94f5fe9e-bf57-488c-e9e3-32b3d1d62226"
      },
      "execution_count": 22,
      "outputs": [
        {
          "output_type": "stream",
          "name": "stdout",
          "text": [
            "0\n",
            "2\n"
          ]
        }
      ]
    },
    {
      "cell_type": "code",
      "source": [
        "# 이중 반복문\n",
        "\n",
        "# 구구단 만들기\n",
        "\n",
        "for i in range(2, 10): #[2,3,4,5,6,7,8,9]\n",
        "  for j in range(1, 10): #[1,2,3,4,5,6,7,8,9]\n",
        "    print(i,\"x\", j,\"=\", i*j)"
      ],
      "metadata": {
        "colab": {
          "base_uri": "https://localhost:8080/"
        },
        "id": "e5eL0Xf-6LM8",
        "outputId": "3e75eaf4-7e56-406f-9217-86ef9fc1eb71"
      },
      "execution_count": 29,
      "outputs": [
        {
          "output_type": "stream",
          "name": "stdout",
          "text": [
            "2 x 1 = 2\n",
            "2 x 2 = 4\n",
            "2 x 3 = 6\n",
            "2 x 4 = 8\n",
            "2 x 5 = 10\n",
            "2 x 6 = 12\n",
            "2 x 7 = 14\n",
            "2 x 8 = 16\n",
            "2 x 9 = 18\n",
            "3 x 1 = 3\n",
            "3 x 2 = 6\n",
            "3 x 3 = 9\n",
            "3 x 4 = 12\n",
            "3 x 5 = 15\n",
            "3 x 6 = 18\n",
            "3 x 7 = 21\n",
            "3 x 8 = 24\n",
            "3 x 9 = 27\n",
            "4 x 1 = 4\n",
            "4 x 2 = 8\n",
            "4 x 3 = 12\n",
            "4 x 4 = 16\n",
            "4 x 5 = 20\n",
            "4 x 6 = 24\n",
            "4 x 7 = 28\n",
            "4 x 8 = 32\n",
            "4 x 9 = 36\n",
            "5 x 1 = 5\n",
            "5 x 2 = 10\n",
            "5 x 3 = 15\n",
            "5 x 4 = 20\n",
            "5 x 5 = 25\n",
            "5 x 6 = 30\n",
            "5 x 7 = 35\n",
            "5 x 8 = 40\n",
            "5 x 9 = 45\n",
            "6 x 1 = 6\n",
            "6 x 2 = 12\n",
            "6 x 3 = 18\n",
            "6 x 4 = 24\n",
            "6 x 5 = 30\n",
            "6 x 6 = 36\n",
            "6 x 7 = 42\n",
            "6 x 8 = 48\n",
            "6 x 9 = 54\n",
            "7 x 1 = 7\n",
            "7 x 2 = 14\n",
            "7 x 3 = 21\n",
            "7 x 4 = 28\n",
            "7 x 5 = 35\n",
            "7 x 6 = 42\n",
            "7 x 7 = 49\n",
            "7 x 8 = 56\n",
            "7 x 9 = 63\n",
            "8 x 1 = 8\n",
            "8 x 2 = 16\n",
            "8 x 3 = 24\n",
            "8 x 4 = 32\n",
            "8 x 5 = 40\n",
            "8 x 6 = 48\n",
            "8 x 7 = 56\n",
            "8 x 8 = 64\n",
            "8 x 9 = 72\n",
            "9 x 1 = 9\n",
            "9 x 2 = 18\n",
            "9 x 3 = 27\n",
            "9 x 4 = 36\n",
            "9 x 5 = 45\n",
            "9 x 6 = 54\n",
            "9 x 7 = 63\n",
            "9 x 8 = 72\n",
            "9 x 9 = 81\n"
          ]
        }
      ]
    },
    {
      "cell_type": "code",
      "source": [
        "# 리스트 컴프리핸션\n",
        "\n",
        "# 예제1)\n",
        "\n",
        "# list_i = []\n",
        "# for i in range(1,10):\n",
        "#   list_i.append(i)\n",
        "\n",
        "# print(list_i)\n",
        "\n",
        "x = [i for i in range(1,10)]\n",
        "\n",
        "print(x)"
      ],
      "metadata": {
        "id": "pJQua-oU6CQd"
      },
      "execution_count": null,
      "outputs": []
    },
    {
      "cell_type": "code",
      "source": [
        "# 리스트 예제 2\n",
        "\n",
        "y = [f'{i} x {j} = {i*j}' for i in range(2,10) for j in range(1,10)] \n",
        "print(y)"
      ],
      "metadata": {
        "colab": {
          "base_uri": "https://localhost:8080/"
        },
        "id": "HUZIodWu746q",
        "outputId": "b0a2e5b0-6549-48b3-d3af-fd9e1321dcb0"
      },
      "execution_count": 33,
      "outputs": [
        {
          "output_type": "stream",
          "name": "stdout",
          "text": [
            "['2 x 1 = 2', '2 x 2 = 4', '2 x 3 = 6', '2 x 4 = 8', '2 x 5 = 10', '2 x 6 = 12', '2 x 7 = 14', '2 x 8 = 16', '2 x 9 = 18', '3 x 1 = 3', '3 x 2 = 6', '3 x 3 = 9', '3 x 4 = 12', '3 x 5 = 15', '3 x 6 = 18', '3 x 7 = 21', '3 x 8 = 24', '3 x 9 = 27', '4 x 1 = 4', '4 x 2 = 8', '4 x 3 = 12', '4 x 4 = 16', '4 x 5 = 20', '4 x 6 = 24', '4 x 7 = 28', '4 x 8 = 32', '4 x 9 = 36', '5 x 1 = 5', '5 x 2 = 10', '5 x 3 = 15', '5 x 4 = 20', '5 x 5 = 25', '5 x 6 = 30', '5 x 7 = 35', '5 x 8 = 40', '5 x 9 = 45', '6 x 1 = 6', '6 x 2 = 12', '6 x 3 = 18', '6 x 4 = 24', '6 x 5 = 30', '6 x 6 = 36', '6 x 7 = 42', '6 x 8 = 48', '6 x 9 = 54', '7 x 1 = 7', '7 x 2 = 14', '7 x 3 = 21', '7 x 4 = 28', '7 x 5 = 35', '7 x 6 = 42', '7 x 7 = 49', '7 x 8 = 56', '7 x 9 = 63', '8 x 1 = 8', '8 x 2 = 16', '8 x 3 = 24', '8 x 4 = 32', '8 x 5 = 40', '8 x 6 = 48', '8 x 7 = 56', '8 x 8 = 64', '8 x 9 = 72', '9 x 1 = 9', '9 x 2 = 18', '9 x 3 = 27', '9 x 4 = 36', '9 x 5 = 45', '9 x 6 = 54', '9 x 7 = 63', '9 x 8 = 72', '9 x 9 = 81']\n"
          ]
        }
      ]
    },
    {
      "cell_type": "code",
      "source": [
        "# 반복문 예제 3\n",
        "\n",
        "def sumthingFuncthing(i):\n",
        "  if i % 100 == 0:\n",
        "    return i\n",
        "  else:\n",
        "    return 0\n"
      ],
      "metadata": {
        "id": "ZhLCbMLs602d"
      },
      "execution_count": 37,
      "outputs": []
    },
    {
      "cell_type": "code",
      "source": [
        "old_list = [100,200,300,101,202,303]\n",
        "new_list = [sumthingFuncthing(i) for i in old_list]\n",
        "print(sum(new_list))"
      ],
      "metadata": {
        "id": "cI_3Phk_6671",
        "colab": {
          "base_uri": "https://localhost:8080/"
        },
        "outputId": "6b4cbf7d-a746-4ab9-ef13-fe7598b3d00a"
      },
      "execution_count": 39,
      "outputs": [
        {
          "output_type": "stream",
          "name": "stdout",
          "text": [
            "600\n"
          ]
        }
      ]
    },
    {
      "cell_type": "code",
      "source": [
        "# 다중인자 리스트 순회\n",
        "\n",
        "#다중 리스트 for문\n",
        "skill = [\n",
        "        ('고기잡이', 100, 300),\n",
        "        ('고기팔기', 120, 400),\n",
        "        ('낚시', 5, 500),\n",
        "        ('통발', 5, 600),\n",
        "        ('큰그물', 5, 700)\n",
        "]\n",
        "\n",
        "for i,j,z in skill:\n",
        "    print(i,j,z)"
      ],
      "metadata": {
        "colab": {
          "base_uri": "https://localhost:8080/"
        },
        "id": "pCk6RjrV876k",
        "outputId": "0295b9f3-04ba-4e80-bc74-bec04bcf5f4d"
      },
      "execution_count": 40,
      "outputs": [
        {
          "output_type": "stream",
          "name": "stdout",
          "text": [
            "고기잡이 100 300\n",
            "고기팔기 120 400\n",
            "낚시 5 500\n",
            "통발 5 600\n",
            "큰그물 5 700\n"
          ]
        }
      ]
    },
    {
      "cell_type": "code",
      "source": [
        "#[In]\n",
        "\n",
        "# enumerate\n",
        "\n",
        "skill = [\n",
        "        ('고기잡이', 100, 'SS'),\n",
        "        ('고기팔기', 120, 'SSS'),\n",
        "        ('낚시', 5, 'C'),\n",
        "        ('통발', 5, 'C'),\n",
        "        ('큰그물', 5, 'C')\n",
        "]\n",
        "\n",
        "for i, (skillName, skillLevel, skillGrade) in enumerate(skill):\n",
        "    print(i, skillName, skillLevel, skillGrade)\n",
        "\n",
        "for i, j in enumerate(skill, 100):\n",
        "    print(i, j)"
      ],
      "metadata": {
        "id": "cJCFm67m9UrO",
        "colab": {
          "base_uri": "https://localhost:8080/"
        },
        "outputId": "a7623344-e5cb-4060-d4dd-eaf3a31eafb0"
      },
      "execution_count": 41,
      "outputs": [
        {
          "output_type": "stream",
          "name": "stdout",
          "text": [
            "0 고기잡이 100 SS\n",
            "1 고기팔기 120 SSS\n",
            "2 낚시 5 C\n",
            "3 통발 5 C\n",
            "4 큰그물 5 C\n",
            "100 ('고기잡이', 100, 'SS')\n",
            "101 ('고기팔기', 120, 'SSS')\n",
            "102 ('낚시', 5, 'C')\n",
            "103 ('통발', 5, 'C')\n",
            "104 ('큰그물', 5, 'C')\n"
          ]
        }
      ]
    },
    {
      "cell_type": "code",
      "source": [
        "# 반복문 연습문제 1\n",
        "\n",
        "for a in range(8):\n",
        "  a += 1\n",
        "print(a)\n",
        "\n",
        "# 1. 6\n",
        "# 2. 7\n",
        "# 3. 8\n",
        "# 4. 9\n",
        "# 5. None"
      ],
      "metadata": {
        "id": "1WxstALy93Pe",
        "colab": {
          "base_uri": "https://localhost:8080/"
        },
        "outputId": "b16f46e1-eb24-4e5b-b389-87d00cd7c6ce"
      },
      "execution_count": 43,
      "outputs": [
        {
          "output_type": "stream",
          "name": "stdout",
          "text": [
            "8\n"
          ]
        }
      ]
    },
    {
      "cell_type": "code",
      "source": [
        "for a in range(8):\n",
        "  a *= (a-1)\n",
        "print(a)\n",
        "\n",
        "# 1. 5040\n",
        "# 2. 0\n",
        "# 3. 42\n",
        "# 4. 1024\n",
        "# 5. None"
      ],
      "metadata": {
        "id": "2knzqDIM-pV_",
        "colab": {
          "base_uri": "https://localhost:8080/"
        },
        "outputId": "cf52255a-98a2-4e24-959b-5b26c4fff63e"
      },
      "execution_count": 45,
      "outputs": [
        {
          "output_type": "stream",
          "name": "stdout",
          "text": [
            "42\n"
          ]
        }
      ]
    },
    {
      "cell_type": "code",
      "source": [
        "for a in range(8):\n",
        "  a += a # a = a + a\n",
        "print(a)\n",
        "\n",
        "# 1. 6\n",
        "# 2. 7\n",
        "# 3. 8\n",
        "# 4. 9\n",
        "# 5. 답없음"
      ],
      "metadata": {
        "id": "IHQIQ9UK_sJs",
        "colab": {
          "base_uri": "https://localhost:8080/"
        },
        "outputId": "a6224176-8d7e-4b08-91ba-425222ea8d40"
      },
      "execution_count": 46,
      "outputs": [
        {
          "output_type": "stream",
          "name": "stdout",
          "text": [
            "14\n"
          ]
        }
      ]
    },
    {
      "cell_type": "code",
      "source": [
        "for a in range(8):\n",
        "  a *= 1 \n",
        "print(a)\n",
        "\n",
        "# 1. 5040\n",
        "# 2. 0\n",
        "# 3. 42\n",
        "# 4. 1024\n",
        "# 5. 7"
      ],
      "metadata": {
        "colab": {
          "base_uri": "https://localhost:8080/"
        },
        "id": "9rhf_UCN_Q5O",
        "outputId": "eed0d7c7-7ea9-4478-e62b-daad17ab2215"
      },
      "execution_count": 47,
      "outputs": [
        {
          "output_type": "stream",
          "name": "stdout",
          "text": [
            "7\n"
          ]
        }
      ]
    },
    {
      "cell_type": "code",
      "source": [
        "# 반복문 문제 5\n",
        "# 변수 age의 자료형이 정수형일때 숫자 문자형일때 문자가 출력되는 코드\n",
        "\n",
        "ages = ['one', 8, 'twenty', 40]\n",
        "\n",
        "for age in ages:\n",
        "  if type(age) == int:\n",
        "    print(age, '숫자')\n",
        "  else:\n",
        "    print(age, '문자')\n",
        "\n",
        "# 1. type(age) == 'int'\n",
        "# 2. type(age) ==  int \n",
        "# 3. type(age) == 'str'\n",
        "# 4. type(age) == int\n",
        "# 5. type(age) == str"
      ],
      "metadata": {
        "id": "zTgkncPDAonN"
      },
      "execution_count": null,
      "outputs": []
    },
    {
      "cell_type": "code",
      "source": [
        "# while문 예제 2\n",
        "숫자 = 0\n",
        "while True:\n",
        "\tprint(\"현재 숫자는 \", 숫자, \"입니다.\")\n",
        "\t숫자 += 1\n",
        "\tif 숫자 > 5:\n",
        "\t\tprint(\"반복문을 종료합니다.\")\n",
        "\t\tbreak"
      ],
      "metadata": {
        "colab": {
          "base_uri": "https://localhost:8080/"
        },
        "id": "Fl_CyuklDxlv",
        "outputId": "3fbccada-cfbd-49ca-f1d7-71528a3bbc01"
      },
      "execution_count": null,
      "outputs": [
        {
          "output_type": "stream",
          "name": "stdout",
          "text": [
            "현재 숫자는  0 입니다.\n",
            "현재 숫자는  1 입니다.\n",
            "현재 숫자는  2 입니다.\n",
            "현재 숫자는  3 입니다.\n",
            "현재 숫자는  4 입니다.\n",
            "현재 숫자는  5 입니다.\n",
            "반복문을 종료합니다.\n"
          ]
        }
      ]
    },
    {
      "cell_type": "code",
      "source": [
        "# while else\n",
        "\n",
        "숫자 = 0\n",
        "while 숫자 < 5:\n",
        "  print(\"현재 숫자는 \", 숫자, \"입니다.\")\n",
        "  숫자 += 1\n",
        "else:\n",
        "  print(\"반복문을 종료합니다.\")"
      ],
      "metadata": {
        "colab": {
          "base_uri": "https://localhost:8080/"
        },
        "id": "WTXhgd8BFDXK",
        "outputId": "1100d978-d537-4435-bc7f-53f6e26b390a"
      },
      "execution_count": null,
      "outputs": [
        {
          "output_type": "stream",
          "name": "stdout",
          "text": [
            "현재 숫자는  0 입니다.\n",
            "현재 숫자는  1 입니다.\n",
            "현재 숫자는  2 입니다.\n",
            "현재 숫자는  3 입니다.\n",
            "현재 숫자는  4 입니다.\n",
            "반복문을 종료합니다.\n"
          ]
        }
      ]
    },
    {
      "cell_type": "code",
      "source": [
        "시간 = 0\n",
        "현재시간 = int(input(\"시를 입력해주세요\"))\n",
        "종료시간 = 18\n",
        "if 현재시간 >= 종료시간:\n",
        "    print('수업이 끝났기 때문에 Q&A시간을 가지겠습니다.')\n",
        "else:\n",
        "    while True:\n",
        "        시간 += 1\n",
        "        현재시간 += 1\n",
        "        print(f'{시간}시간이 지나 {현재시간}시가 되었습니다.')\n",
        "        if 현재시간 == 종료시간:\n",
        "            print('수업 종료시간이 되었기 때문에 Q&A시간을 가지겠습니다.')\n",
        "        break"
      ],
      "metadata": {
        "colab": {
          "base_uri": "https://localhost:8080/"
        },
        "id": "b2_KWI0zFS46",
        "outputId": "52340f30-609e-4b81-f000-d182159b9cb8"
      },
      "execution_count": 71,
      "outputs": [
        {
          "output_type": "stream",
          "name": "stdout",
          "text": [
            "시를 입력해주세요17\n",
            "1시간이 지나 18시가 되었습니다.\n",
            "수업 종료시간이 되었기 때문에 Q&A시간을 가지겠습니다.\n"
          ]
        }
      ]
    },
    {
      "cell_type": "code",
      "source": [
        "# 구구단 5단까지 출력하기\n",
        "\n",
        "for i in range(2, 10):\n",
        "  for j in range(1, 10):\n",
        "    if j > 5:\n",
        "      break\n",
        "    print(f'{i} * {j} = {i*j}')"
      ],
      "metadata": {
        "colab": {
          "base_uri": "https://localhost:8080/"
        },
        "id": "8nxMva_RGr-K",
        "outputId": "09ef39bd-b717-436f-9cfb-6538012f111f"
      },
      "execution_count": 64,
      "outputs": [
        {
          "output_type": "stream",
          "name": "stdout",
          "text": [
            "2 * 1 = 2\n",
            "2 * 2 = 4\n",
            "2 * 3 = 6\n",
            "2 * 4 = 8\n",
            "2 * 5 = 10\n",
            "3 * 1 = 3\n",
            "3 * 2 = 6\n",
            "3 * 3 = 9\n",
            "3 * 4 = 12\n",
            "3 * 5 = 15\n",
            "4 * 1 = 4\n",
            "4 * 2 = 8\n",
            "4 * 3 = 12\n",
            "4 * 4 = 16\n",
            "4 * 5 = 20\n",
            "5 * 1 = 5\n",
            "5 * 2 = 10\n",
            "5 * 3 = 15\n",
            "5 * 4 = 20\n",
            "5 * 5 = 25\n",
            "6 * 1 = 6\n",
            "6 * 2 = 12\n",
            "6 * 3 = 18\n",
            "6 * 4 = 24\n",
            "6 * 5 = 30\n",
            "7 * 1 = 7\n",
            "7 * 2 = 14\n",
            "7 * 3 = 21\n",
            "7 * 4 = 28\n",
            "7 * 5 = 35\n",
            "8 * 1 = 8\n",
            "8 * 2 = 16\n",
            "8 * 3 = 24\n",
            "8 * 4 = 32\n",
            "8 * 5 = 40\n",
            "9 * 1 = 9\n",
            "9 * 2 = 18\n",
            "9 * 3 = 27\n",
            "9 * 4 = 36\n",
            "9 * 5 = 45\n"
          ]
        }
      ]
    },
    {
      "cell_type": "code",
      "source": [
        "# continue\n",
        "\n",
        "count_amount= [\n",
        "    (3, 15000),\n",
        "    (5, 25000),\n",
        "    (1, 5000),\n",
        "    (8, 40000),\n",
        "    (0, 0),\n",
        "    (2, 10000)\n",
        "]\n",
        "\n",
        "for count, amount in count_amount:\n",
        "  if count < 1:\n",
        "    continue\n",
        "  print(f'구매개수는 {count}, 구매가격은 {amount}')"
      ],
      "metadata": {
        "colab": {
          "base_uri": "https://localhost:8080/"
        },
        "id": "Cf7--FqsHenl",
        "outputId": "8da6481a-c119-4fd6-ce3b-c143fdb70230"
      },
      "execution_count": 72,
      "outputs": [
        {
          "output_type": "stream",
          "name": "stdout",
          "text": [
            "구매개수는 3, 구매가격은 15000\n",
            "구매개수는 5, 구매가격은 25000\n",
            "구매개수는 1, 구매가격은 5000\n",
            "구매개수는 8, 구매가격은 40000\n",
            "구매개수는 2, 구매가격은 10000\n"
          ]
        }
      ]
    },
    {
      "cell_type": "code",
      "source": [
        "#pass\n",
        "구매개수_총가격= [\n",
        "    (3, 15000),\n",
        "    (5, 25000),\n",
        "    (1, 5000),\n",
        "    (8, 40000),\n",
        "    (0, 0),\n",
        "    (2, 10000)\n",
        "    ]\n",
        "for 구매개수, 총가격 in 구매개수_총가격:\n",
        "    if 구매개수 < 1:\n",
        "        pass\n",
        "    print('구매개수는 {}개이며 {}원입니다.'.format(구매개수, 총가격))"
      ],
      "metadata": {
        "colab": {
          "base_uri": "https://localhost:8080/"
        },
        "id": "ufFK3SZgIYUR",
        "outputId": "4adeb35a-de7e-41d2-905e-51d0925d14ce"
      },
      "execution_count": 73,
      "outputs": [
        {
          "output_type": "stream",
          "name": "stdout",
          "text": [
            "구매개수는 3개이며 15000원입니다.\n",
            "구매개수는 5개이며 25000원입니다.\n",
            "구매개수는 1개이며 5000원입니다.\n",
            "구매개수는 8개이며 40000원입니다.\n",
            "구매개수는 0개이며 0원입니다.\n",
            "구매개수는 2개이며 10000원입니다.\n"
          ]
        }
      ]
    },
    {
      "cell_type": "code",
      "source": [
        "# while문으로 구구단 만들기\n",
        "\n",
        "i = 2\n",
        "while i < 10 :\n",
        "    k = 1\n",
        "    while k < 10:\n",
        "        print(i, \" * \", k, \" = \", i * k)\n",
        "        k += 1\n",
        "    i += 1"
      ],
      "metadata": {
        "colab": {
          "base_uri": "https://localhost:8080/"
        },
        "id": "ZODvPwRDImiU",
        "outputId": "0269e7f6-5169-4865-8960-ed4e43966aa5"
      },
      "execution_count": null,
      "outputs": [
        {
          "output_type": "stream",
          "name": "stdout",
          "text": [
            "2  *  1  =  2\n",
            "2  *  2  =  4\n",
            "2  *  3  =  6\n",
            "2  *  4  =  8\n",
            "2  *  5  =  10\n",
            "2  *  6  =  12\n",
            "2  *  7  =  14\n",
            "2  *  8  =  16\n",
            "2  *  9  =  18\n",
            "3  *  1  =  3\n",
            "3  *  2  =  6\n",
            "3  *  3  =  9\n",
            "3  *  4  =  12\n",
            "3  *  5  =  15\n",
            "3  *  6  =  18\n",
            "3  *  7  =  21\n",
            "3  *  8  =  24\n",
            "3  *  9  =  27\n",
            "4  *  1  =  4\n",
            "4  *  2  =  8\n",
            "4  *  3  =  12\n",
            "4  *  4  =  16\n",
            "4  *  5  =  20\n",
            "4  *  6  =  24\n",
            "4  *  7  =  28\n",
            "4  *  8  =  32\n",
            "4  *  9  =  36\n",
            "5  *  1  =  5\n",
            "5  *  2  =  10\n",
            "5  *  3  =  15\n",
            "5  *  4  =  20\n",
            "5  *  5  =  25\n",
            "5  *  6  =  30\n",
            "5  *  7  =  35\n",
            "5  *  8  =  40\n",
            "5  *  9  =  45\n",
            "6  *  1  =  6\n",
            "6  *  2  =  12\n",
            "6  *  3  =  18\n",
            "6  *  4  =  24\n",
            "6  *  5  =  30\n",
            "6  *  6  =  36\n",
            "6  *  7  =  42\n",
            "6  *  8  =  48\n",
            "6  *  9  =  54\n",
            "7  *  1  =  7\n",
            "7  *  2  =  14\n",
            "7  *  3  =  21\n",
            "7  *  4  =  28\n",
            "7  *  5  =  35\n",
            "7  *  6  =  42\n",
            "7  *  7  =  49\n",
            "7  *  8  =  56\n",
            "7  *  9  =  63\n",
            "8  *  1  =  8\n",
            "8  *  2  =  16\n",
            "8  *  3  =  24\n",
            "8  *  4  =  32\n",
            "8  *  5  =  40\n",
            "8  *  6  =  48\n",
            "8  *  7  =  56\n",
            "8  *  8  =  64\n",
            "8  *  9  =  72\n",
            "9  *  1  =  9\n",
            "9  *  2  =  18\n",
            "9  *  3  =  27\n",
            "9  *  4  =  36\n",
            "9  *  5  =  45\n",
            "9  *  6  =  54\n",
            "9  *  7  =  63\n",
            "9  *  8  =  72\n",
            "9  *  9  =  81\n"
          ]
        }
      ]
    },
    {
      "cell_type": "code",
      "source": [
        "#조건문 문제\n",
        "#1부터 10까지 짝수를 뽑으려면 어떤 코드를 작성해야할까요?\n",
        "\n",
        "a = 1\n",
        "\n",
        "while a < 11:\n",
        "    if a % 2 == 0:\n",
        "      print(a)\n",
        "      a += 1\n",
        "    else:\n",
        "      a += 1\n",
        "\n",
        "    if a == 0:\n",
        "      break\n",
        "\n",
        "#1. a == 10\n",
        "#2. a != 10\n",
        "#3. a < 10\n",
        "#4. a >= 10\n",
        "#5. a < 11"
      ],
      "metadata": {
        "id": "509dJxTvJu_g",
        "colab": {
          "base_uri": "https://localhost:8080/"
        },
        "outputId": "19fdcd4d-9ebf-4785-8d39-f189ca3f7b44"
      },
      "execution_count": 91,
      "outputs": [
        {
          "output_type": "stream",
          "name": "stdout",
          "text": [
            "2\n",
            "4\n",
            "6\n",
            "8\n",
            "10\n"
          ]
        }
      ]
    },
    {
      "cell_type": "code",
      "source": [
        "# 조건문 문제\n",
        "# 실행결과가 0인 코드를 작성하고 싶을때 어떻게 작성해야하는가?\n",
        "\n",
        "money = 2000\n",
        "snack = 500\n",
        "water = 1000\n",
        "while money !=0:\n",
        "    if money > 1000:\n",
        "      money -= water\n",
        "    elif 0 < money <= 1000:\n",
        "      money -= snack * 2\n",
        "\n",
        "print(money)\n",
        "  \n",
        "# 1. money - 1500\n",
        "# 2. money - 1000\n",
        "# 3. money - 2000\n",
        "# 4. money + 500\n",
        "# 5. money - 500\n",
        "# 6. 답 없음 =>> else문이 필요없다!!"
      ],
      "metadata": {
        "colab": {
          "base_uri": "https://localhost:8080/"
        },
        "id": "Z0Ccn3VgK65P",
        "outputId": "751940a7-def8-4298-f8b4-6fce8752c618"
      },
      "execution_count": 88,
      "outputs": [
        {
          "output_type": "stream",
          "name": "stdout",
          "text": [
            "0\n"
          ]
        }
      ]
    },
    {
      "cell_type": "code",
      "source": [
        "#While문 예제 2 - 입력하는 값 만큼 반복\n",
        "count = int(input('반복할 횟수를 입력하세요: '))\n",
        " \n",
        "i = 0\n",
        "while i < 30:     # i가 count보다 작을 때 반복\n",
        "    print(i, '번째 출력')\n",
        "    i += 1\n",
        "    # 감소는 i -= 1"
      ],
      "metadata": {
        "colab": {
          "base_uri": "https://localhost:8080/"
        },
        "id": "kG4L7m2mMMaI",
        "outputId": "9a03a498-6091-48a5-dd92-a9d6493c62e2"
      },
      "execution_count": 84,
      "outputs": [
        {
          "output_type": "stream",
          "name": "stdout",
          "text": [
            "반복할 횟수를 입력하세요: 50\n",
            "0 번째 출력\n",
            "1 번째 출력\n",
            "2 번째 출력\n",
            "3 번째 출력\n",
            "4 번째 출력\n",
            "5 번째 출력\n",
            "6 번째 출력\n",
            "7 번째 출력\n",
            "8 번째 출력\n",
            "9 번째 출력\n",
            "10 번째 출력\n",
            "11 번째 출력\n",
            "12 번째 출력\n",
            "13 번째 출력\n",
            "14 번째 출력\n",
            "15 번째 출력\n",
            "16 번째 출력\n",
            "17 번째 출력\n",
            "18 번째 출력\n",
            "19 번째 출력\n",
            "20 번째 출력\n",
            "21 번째 출력\n",
            "22 번째 출력\n",
            "23 번째 출력\n",
            "24 번째 출력\n",
            "25 번째 출력\n",
            "26 번째 출력\n",
            "27 번째 출력\n",
            "28 번째 출력\n",
            "29 번째 출력\n"
          ]
        }
      ]
    },
    {
      "cell_type": "code",
      "source": [
        "#while문 예제 3 - 맞을 때까지 반복\n",
        "\n",
        "import random    # random 모듈을 가져옴\n",
        " \n",
        "i = 0\n",
        "while i != 3:    # 주사위 숫자가 3이 아닐 때 계속 반복\n",
        "    i = random.randint(1, 6)    # randint를 사용하여 가상 주사위를 만듬\n",
        "    print(i)"
      ],
      "metadata": {
        "colab": {
          "base_uri": "https://localhost:8080/"
        },
        "id": "xKjXnVxUMZAF",
        "outputId": "ebdcec3b-a76a-4ba2-f516-5c8c04219295"
      },
      "execution_count": 87,
      "outputs": [
        {
          "output_type": "stream",
          "name": "stdout",
          "text": [
            "6\n",
            "2\n",
            "1\n",
            "1\n",
            "2\n",
            "5\n",
            "1\n",
            "5\n",
            "2\n",
            "2\n",
            "1\n",
            "1\n",
            "1\n",
            "2\n",
            "1\n",
            "5\n",
            "1\n",
            "4\n",
            "2\n",
            "2\n",
            "3\n"
          ]
        }
      ]
    },
    {
      "cell_type": "code",
      "source": [
        "#while문 예제 4 - 효율적으로 특정 데이터 제거\n",
        "\n",
        "cust_all = [1,2,1,2]\n",
        "value = 1\n",
        "\n",
        "print(cust_all)\n",
        "\n",
        "while value in cust_all:\n",
        "    cust_all.remove(value)\n",
        "\n",
        "print(cust_all)"
      ],
      "metadata": {
        "colab": {
          "base_uri": "https://localhost:8080/"
        },
        "id": "vEAwMhyUNAuF",
        "outputId": "27db5873-6501-4d65-9a2c-6b1b6a4e979e"
      },
      "execution_count": 92,
      "outputs": [
        {
          "output_type": "stream",
          "name": "stdout",
          "text": [
            "[1, 2, 1, 2]\n",
            "[2, 2]\n"
          ]
        }
      ]
    },
    {
      "cell_type": "markdown",
      "source": [
        "* 컴퓨터랑 대결(?)하기"
      ],
      "metadata": {
        "id": "RKqe3hNAQ3b7"
      }
    },
    {
      "cell_type": "code",
      "source": [
        "# 실습1. 1~100사이의 숫자를 맞출때까지 반복하는 while문을 작성해주시면 됩니다.\n",
        "# 내가 입력한 숫자가 컴퓨터 숫자보다 작으면 \"값이 작다\"\n",
        "# 내가 입력한 숫자가 컴퓨터 숫자보다 크면 \"값이 크다\"\n",
        "# 답이 맞음\n",
        "\n",
        "import random\n",
        "guess_number = random.randint(1,100)\n",
        "user_input = int(input(\"컴퓨터씨 숫자를 입력해서 값을 맞춰보세요! 내 답 : \"))\n",
        "\n",
        "while guess_number != user_input:   \n",
        "    guess_number = random.randint(1, 100)    # 1~100사이의 숫자\n",
        "    print(guess_number)"
      ],
      "metadata": {
        "colab": {
          "base_uri": "https://localhost:8080/"
        },
        "id": "d8CKBlZpNp95",
        "outputId": "f09dd520-aa8a-472b-bda6-865e973e749c"
      },
      "execution_count": 102,
      "outputs": [
        {
          "output_type": "stream",
          "name": "stdout",
          "text": [
            "컴퓨터씨 숫자를 입력해서 값을 맞춰보세요! 내 답 : 55\n",
            "61\n",
            "30\n",
            "54\n",
            "14\n",
            "48\n",
            "36\n",
            "87\n",
            "28\n",
            "63\n",
            "90\n",
            "71\n",
            "53\n",
            "74\n",
            "59\n",
            "99\n",
            "3\n",
            "97\n",
            "74\n",
            "19\n",
            "20\n",
            "41\n",
            "59\n",
            "54\n",
            "6\n",
            "53\n",
            "26\n",
            "89\n",
            "2\n",
            "8\n",
            "86\n",
            "6\n",
            "42\n",
            "38\n",
            "84\n",
            "80\n",
            "15\n",
            "22\n",
            "48\n",
            "17\n",
            "98\n",
            "63\n",
            "88\n",
            "10\n",
            "29\n",
            "39\n",
            "36\n",
            "87\n",
            "49\n",
            "56\n",
            "94\n",
            "64\n",
            "92\n",
            "24\n",
            "39\n",
            "58\n",
            "66\n",
            "3\n",
            "53\n",
            "8\n",
            "92\n",
            "39\n",
            "44\n",
            "57\n",
            "76\n",
            "29\n",
            "7\n",
            "93\n",
            "1\n",
            "15\n",
            "87\n",
            "30\n",
            "29\n",
            "1\n",
            "57\n",
            "6\n",
            "42\n",
            "22\n",
            "25\n",
            "76\n",
            "33\n",
            "10\n",
            "71\n",
            "50\n",
            "48\n",
            "21\n",
            "24\n",
            "50\n",
            "89\n",
            "66\n",
            "94\n",
            "32\n",
            "78\n",
            "63\n",
            "69\n",
            "71\n",
            "14\n",
            "44\n",
            "99\n",
            "13\n",
            "9\n",
            "28\n",
            "52\n",
            "28\n",
            "71\n",
            "63\n",
            "66\n",
            "7\n",
            "69\n",
            "30\n",
            "50\n",
            "74\n",
            "61\n",
            "35\n",
            "28\n",
            "68\n",
            "4\n",
            "41\n",
            "29\n",
            "81\n",
            "64\n",
            "41\n",
            "75\n",
            "76\n",
            "70\n",
            "64\n",
            "12\n",
            "45\n",
            "75\n",
            "96\n",
            "93\n",
            "46\n",
            "28\n",
            "70\n",
            "33\n",
            "69\n",
            "25\n",
            "18\n",
            "89\n",
            "11\n",
            "34\n",
            "67\n",
            "24\n",
            "28\n",
            "47\n",
            "97\n",
            "82\n",
            "100\n",
            "51\n",
            "22\n",
            "27\n",
            "57\n",
            "76\n",
            "1\n",
            "83\n",
            "89\n",
            "54\n",
            "62\n",
            "42\n",
            "38\n",
            "76\n",
            "15\n",
            "28\n",
            "84\n",
            "13\n",
            "3\n",
            "42\n",
            "42\n",
            "99\n",
            "45\n",
            "65\n",
            "88\n",
            "97\n",
            "57\n",
            "80\n",
            "67\n",
            "87\n",
            "68\n",
            "74\n",
            "47\n",
            "40\n",
            "96\n",
            "31\n",
            "78\n",
            "81\n",
            "48\n",
            "8\n",
            "89\n",
            "27\n",
            "35\n",
            "25\n",
            "48\n",
            "78\n",
            "44\n",
            "51\n",
            "90\n",
            "20\n",
            "13\n",
            "10\n",
            "29\n",
            "82\n",
            "97\n",
            "40\n",
            "30\n",
            "16\n",
            "74\n",
            "39\n",
            "7\n",
            "100\n",
            "100\n",
            "31\n",
            "54\n",
            "32\n",
            "4\n",
            "31\n",
            "23\n",
            "42\n",
            "39\n",
            "10\n",
            "72\n",
            "77\n",
            "18\n",
            "93\n",
            "46\n",
            "80\n",
            "25\n",
            "100\n",
            "46\n",
            "10\n",
            "11\n",
            "28\n",
            "68\n",
            "95\n",
            "95\n",
            "52\n",
            "96\n",
            "61\n",
            "28\n",
            "60\n",
            "28\n",
            "33\n",
            "4\n",
            "97\n",
            "19\n",
            "91\n",
            "5\n",
            "83\n",
            "29\n",
            "28\n",
            "1\n",
            "80\n",
            "94\n",
            "78\n",
            "27\n",
            "30\n",
            "1\n",
            "74\n",
            "2\n",
            "66\n",
            "47\n",
            "25\n",
            "46\n",
            "100\n",
            "95\n",
            "72\n",
            "40\n",
            "26\n",
            "29\n",
            "8\n",
            "81\n",
            "25\n",
            "63\n",
            "92\n",
            "85\n",
            "3\n",
            "93\n",
            "98\n",
            "2\n",
            "18\n",
            "65\n",
            "85\n",
            "94\n",
            "47\n",
            "42\n",
            "90\n",
            "28\n",
            "54\n",
            "41\n",
            "52\n",
            "95\n",
            "21\n",
            "78\n",
            "66\n",
            "70\n",
            "6\n",
            "16\n",
            "70\n",
            "72\n",
            "60\n",
            "79\n",
            "24\n",
            "91\n",
            "67\n",
            "71\n",
            "62\n",
            "51\n",
            "16\n",
            "7\n",
            "84\n",
            "64\n",
            "35\n",
            "21\n",
            "86\n",
            "39\n",
            "46\n",
            "82\n",
            "46\n",
            "69\n",
            "13\n",
            "67\n",
            "59\n",
            "35\n",
            "91\n",
            "5\n",
            "6\n",
            "63\n",
            "12\n",
            "8\n",
            "62\n",
            "92\n",
            "100\n",
            "40\n",
            "4\n",
            "6\n",
            "3\n",
            "66\n",
            "75\n",
            "71\n",
            "53\n",
            "55\n"
          ]
        }
      ]
    },
    {
      "cell_type": "code",
      "source": [
        "# 실습1. 1~100사이의 숫자를 맞출때까지 반복하는 while문을 작성해주시면 됩니다.\n",
        "# 내가 입력한 숫자가 컴퓨터 숫자보다 작으면 \"값이 작다\"\n",
        "# 내가 입력한 숫자가 컴퓨터 숫자보다 크면 \"값이 크다\"\n",
        "# 답이 맞으면 맞았습니다. \n",
        "\n",
        "import random\n",
        "guess_number = random.randint(1,100)\n",
        "user_input = int(input(\"숫자를 입력해서 값을 맞춰보세요\"))\n",
        "\n",
        "while (user_input != guess_number):\n",
        "  if user_input > guess_number:\n",
        "    print(\"숫자가 큽니다.\")\n",
        "  else:\n",
        "    print(\"숫자가 작습니다.\")\n",
        "  user_input = int(input(\"숫자를 입력해서 값을 다시 맞춰보세요\"))\n",
        "else:\n",
        "  print(\"정답입니다.\")"
      ],
      "metadata": {
        "colab": {
          "base_uri": "https://localhost:8080/"
        },
        "id": "KeiPrvjmPdns",
        "outputId": "f46c40ff-0e6f-4213-d30a-aa3c8623104f"
      },
      "execution_count": 99,
      "outputs": [
        {
          "output_type": "stream",
          "name": "stdout",
          "text": [
            "숫자를 입력해서 값을 맞춰보세요50\n",
            "숫자가 작습니다.\n",
            "숫자를 입력해서 값을 다시 맞춰보세요60\n",
            "숫자가 작습니다.\n",
            "숫자를 입력해서 값을 다시 맞춰보세요80\n",
            "정답입니다.\n"
          ]
        }
      ]
    }
  ]
}